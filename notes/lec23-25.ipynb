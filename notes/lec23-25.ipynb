{
 "cells": [
  {
   "cell_type": "markdown",
   "id": "967744f6-c270-4c4e-a616-58b21079f84b",
   "metadata": {},
   "source": [
    "# Lec 23-25: Meta and Aspect Oriented Programming"
   ]
  },
  {
   "cell_type": "markdown",
   "id": "de3b1ad3-4d37-45d0-b33e-c32a05265a11",
   "metadata": {},
   "source": [
    "## Agenda\n",
    "\n",
    "* Meta Programming\n",
    "* Decorators\n",
    "* Aspect-oriented Programming\n",
    "\n",
    "We have seen how one can *declare* classes with the leading \"class\" keyword to support object-oriented programming. \n",
    "\n",
    "We have also seen that \"everything in python is an object\", and we can visualize all objects in Python with three mini-worlds: the Meta Class world, where \"type\" lives; the class world, where regular classes live; and the instance world, where instances of a class live. They objects can be created when Python compiler parse the code you write, as long as you follow the Python syntax, just like other programming languages. \n",
    "\n",
    "Today we are going to introduct some *super power* so to speak, which gives programmer similar power of a compiler, which *dynamically* create language constructs, as if you wrote them. This capability is called \"meta-programming\", and modern programming language has such capabilities with various degrees. \n",
    "\n",
    "One example of meta programming that you all have *USED* without realizing is the C Macros. With macros, you can actually define complex functions, and when applied, these functions will be expanded, sometimes recursively, into program text. This expansion is done by a tool called the C Preprocessor, but to the C compiler, the expanded text is as if you wrote it yourself. \n",
    "\n",
    "The macro approach however, is a \"poorman\"'s approach, as it is error prone and has to go through another tool. The native meta-programming capability that comes with the language itself is better. We will explore what is available in Python and hopefully increase your awareness in this aspect of langauge expressive power. \n"
   ]
  },
  {
   "cell_type": "markdown",
   "id": "bc445228-ec6d-401d-a861-d39559176f84",
   "metadata": {},
   "source": [
    "## Class Factory\n",
    "\n",
    "We will first look at how to create a class *without* actually writing them.\n",
    "  \n",
    "### Old fashioned way: Declaration"
   ]
  },
  {
   "cell_type": "code",
   "execution_count": null,
   "id": "9fff5f26-3df7-415c-919b-2041de8e010c",
   "metadata": {},
   "outputs": [],
   "source": [
    "class Foo() : \n",
    "    def say_foo( self ) :\n",
    "        print( 'foo' )\n",
    "\n",
    "Foo().say_foo()\n",
    "hasattr( Foo, 'say_foo' )"
   ]
  },
  {
   "cell_type": "markdown",
   "id": "ae8c777f-facd-4253-88fb-6634372507e4",
   "metadata": {},
   "source": [
    "## Using a Function"
   ]
  },
  {
   "cell_type": "code",
   "execution_count": null,
   "id": "3a19f2ac-4c8e-47e1-8cd7-e54b0f715b27",
   "metadata": {},
   "outputs": [],
   "source": [
    "def class_with_method( func ) :\n",
    "   class klass: pass    # this is just an empty class \n",
    "      \n",
    "   setattr( klass, func.__name__, func )    # this is a back door!\n",
    "   return klass                             # klass is an class, and class is object\n",
    "\n",
    "def say_foo(self): \n",
    "   print( 'foo' )\n",
    "\n",
    "Foo = class_with_method( say_foo )\n",
    "Foo().say_foo()\n",
    "hasattr( Foo, 'say_foo' )"
   ]
  },
  {
   "cell_type": "markdown",
   "id": "81e179b9-2557-4e20-8e9e-cee8966350c2",
   "metadata": {},
   "source": [
    "So what has happened in the stranage code above? \n",
    "\n",
    "We see that Foo just behave like a regular class in that:\n",
    "\n",
    "1. You can create an instance \"foo = Foo()\"\n",
    "2. You can call a method on the instance \"foo.say_foo()\"\n",
    "\n",
    "It seems that we  have written:\n",
    "\n",
    "~~~\n",
    "class Foo() :\n",
    "    def say_foo( self ) :\n",
    "        print( 'foo' )\n",
    "~~~\n",
    "\n",
    "Except we didn't!\n",
    "\n",
    "So who did this? It is the function \"class_with_method\". We just\n",
    "assembled a class dynamically by calling \"class_with_method\". But \n",
    "this time it is not the compiler/parser, but YOU, the programmer.\n",
    "Are you convinced that OO is nothing but a glorified dictionary with predefined syntactial sugar/convention? \n",
    "\n",
    "### Another way: Using 'type' meta class.\n",
    "\n",
    "Recall one of the *root object*, 'type'? It is called a *meta class*, because it is the default type of all other classes, which in turn are types of their instances?\n",
    "\n",
    "Since a class is an instance of 'type', we can create class by instantiation!\n",
    "And 'type' is equipped with a constructor, so during instantiation, you can pass parameters to the constructor. \n"
   ]
  },
  {
   "cell_type": "code",
   "execution_count": null,
   "id": "3d3ace86-1f72-4814-b74f-3d2e59370ea0",
   "metadata": {},
   "outputs": [],
   "source": [
    "X = type( 'X', (), { 'foo' : lambda self:'foo' } )\n",
    "X"
   ]
  },
  {
   "cell_type": "code",
   "execution_count": null,
   "id": "fcaa412c-a5b8-4560-880d-f652302d9a7c",
   "metadata": {},
   "outputs": [],
   "source": [
    "X().foo()\n",
    "hasattr( X, 'foo' )"
   ]
  },
  {
   "cell_type": "markdown",
   "id": "a0c90db3-fce2-4ee9-ae40-0dd27ebf75b0",
   "metadata": {},
   "source": [
    "Look at what we passed into the constructor\n",
    "\n",
    "1. The name 'X': This is as if you say \"class X\";\n",
    "2. A tuple, although it is empty here, for the set of base classes of X;\n",
    "3. A dictionary of key value pairs, in this case we defined the method 'foo';\n",
    "\n",
    "It is interesting to know the value for 'foo' is supposed to be a function, here we pass an *annonymous function* using the lambda expression, which we will dive into more detail when we talk about functional programming. For now just remember that it is an *expression* with a function value. This is equivalent to: \n",
    "\n",
    "~~~\n",
    "def foo( self ) : \n",
    "    return 'foo'\n",
    "foo\n",
    "~~~\n",
    "\n",
    "With one instantiation of the meta class 'type', we manage to create\n",
    "a class (since it is an instance of a meta class), without actually write *textually* the following: \n",
    "\n",
    "~~~\n",
    "class foo() :\n",
    "    def foo( self ) : \n",
    "        return 'foo'\n",
    "~~~\n",
    "\n",
    "Or maybe this is exactly what Python does as it is parsing your textual code above?!\n",
    "\n",
    "### Another Way: Define your Own Meta Class\n",
    "\n",
    "One can personalize the behavior of a 'type' simply by *inheriting* from 'type', just the *the same way* as you would personalize the behavior of a regular class by inheriting from it. "
   ]
  },
  {
   "cell_type": "code",
   "execution_count": null,
   "id": "14125f4e-7a1f-4025-9c15-9bbe0dfc193d",
   "metadata": {},
   "outputs": [],
   "source": [
    "class ChattyType( type ) :\n",
    "    def __new__(cls, name, bases, dct):\n",
    "        print( \"Allocating memory for class\", name )\n",
    "        return type.__new__( cls, name, bases, dct )\n",
    "    \n",
    "    def __init__(cls, name, bases, dct):\n",
    "        print( \"Init'ing (configuring) class\", name )\n",
    "        super( ChattyType, cls ).__init__(name, bases, dct)\n",
    "\n",
    "X = ChattyType( 'X',(), {'foo':lambda self:'foo'} )"
   ]
  },
  {
   "cell_type": "code",
   "execution_count": null,
   "id": "0eb15a9c-f89e-4495-bb13-dadf0a7a85d9",
   "metadata": {},
   "outputs": [],
   "source": [
    "X, X().foo()"
   ]
  },
  {
   "cell_type": "markdown",
   "id": "8cbb7c4a-3788-4ee3-ab63-2e4013cecb9e",
   "metadata": {},
   "source": [
    "The typical behavior of a meta class includes how to \"new\" an object, that is, how to allocate memory for it; and  how to \"construct\" an object, that is, how to initialize the object content after its memory is allocated and available. We usually do not worry about it, since the system built-in 'type' \n",
    "has already taken care of it. \n",
    "\n",
    "But what if you need to change this behavior. See the code above. \n",
    "But when will you ever be wanting to do this? Well, you will know when you actually need it! I am just planting a seed in your head.\n",
    "\n",
    "But with your own meta class, you can manufacture a class, the same way as we use the 'type' meta class.\n",
    "\n",
    "Note that for the methods we add to the meta classes, the first parameter is \"cls\", which takes the usual place of \"self\", since it represents an instance of the meta class, which is a class. The method itself is nothing but a function, but since it is applied on a class, this is equivlanet to the C++ static method (those without object instance)! \n",
    "\n",
    "We can see from the next example as well. Here we can call \"whoami\" directly on the 'Foo' class, not on its instance. Calling it on 'Printable' will not make sense."
   ]
  },
  {
   "cell_type": "code",
   "execution_count": null,
   "id": "688c6b5b-27cf-435f-87b2-7f2e44fdb3b1",
   "metadata": {},
   "outputs": [],
   "source": [
    "class Printable( type ):\n",
    "    def whoami( cls ) : \n",
    "        print( \"I am a\", cls.__name__ )\n",
    "    \n",
    "Foo = Printable( 'Foo', (), {} )\n",
    "Foo.whoami()"
   ]
  },
  {
   "cell_type": "code",
   "execution_count": null,
   "id": "bab2380a-d096-40ee-ab7e-cc963b2f47e8",
   "metadata": {},
   "outputs": [],
   "source": [
    " Printable.whoami()"
   ]
  },
  {
   "cell_type": "markdown",
   "id": "27a55856-60ec-4f37-8856-96c97b587fe7",
   "metadata": {},
   "source": [
    "### More Meta-fu\n",
    "\n",
    "We can *declare* the meta class of a regular class, by passing a keyword parameter as shoen in the following example. "
   ]
  },
  {
   "cell_type": "code",
   "execution_count": null,
   "id": "9f6526f1-21c4-4317-871e-ba4236c985a6",
   "metadata": {},
   "outputs": [],
   "source": [
    "class Bar( object, metaclass=Printable ):\n",
    "    def foo_method(self): print( 'foo' )"
   ]
  },
  {
   "cell_type": "code",
   "execution_count": null,
   "id": "6318a546-e5d7-4187-a194-536416787545",
   "metadata": {},
   "outputs": [],
   "source": [
    "Bar.whoami()"
   ]
  },
  {
   "cell_type": "code",
   "execution_count": null,
   "id": "b82419ac-435b-4d11-8fb3-deef2b12eb37",
   "metadata": {},
   "outputs": [],
   "source": [
    "Bar().foo_method()"
   ]
  },
  {
   "cell_type": "markdown",
   "id": "2f1c0834-7635-491a-8d70-95c1c7a13e74",
   "metadata": {},
   "source": [
    "Note that difference of the two method calls. One is on the class object, the other is on an (regular) instance object!"
   ]
  },
  {
   "cell_type": "markdown",
   "id": "d0320a4a-9091-4f73-b117-fe211f6b4a96",
   "metadata": {},
   "source": [
    "## Decorator\n",
    "\n",
    "* You have seen it!\n",
    "\n",
    "~~~\n",
    "@route('/:name')\n",
    "def index(name='World'):\n",
    "    return '<b>Hello %s!</b>' % name\n",
    "~~~\n",
    "\n",
    "* Ever wonder what they are?\n",
    "  - modify the function that is defined immediately after\n",
    "  \n",
    "* Disclaimer: you can do it without them -- syntactic sugar\n",
    "  - but life is a lot easier with them"
   ]
  },
  {
   "cell_type": "code",
   "execution_count": null,
   "id": "db9b71a5-3328-4625-b86d-fe29b68ff8f9",
   "metadata": {},
   "outputs": [],
   "source": [
    "class C:\n",
    "    def foo(cls, y):\n",
    "        print( \"classmethod\", cls, y )\n",
    "    foo = classmethod(foo)\n",
    "\n",
    "C.foo('hey')"
   ]
  },
  {
   "cell_type": "markdown",
   "id": "692d5c3e-b8aa-4c56-a515-e6de2d033d7f",
   "metadata": {},
   "source": [
    "Note what has happend in the above code:\n",
    "\n",
    "1. The original foo() is an instance method within the class C scope.\n",
    "2. We called a builtin function \"classmethod\", which takes a function as an argument, and a function.\n",
    "3. That returned function replace the original 'foo' attribute.\n",
    "4. Now you can call foo() on the class C, not an instance of C.\n",
    "\n",
    "The builtin classmethod() function seems like a \"operator\", or function on function that returns a function!\n",
    "\n",
    "Let's see if we can build our own."
   ]
  },
  {
   "cell_type": "code",
   "execution_count": null,
   "id": "e9c83dc1-eb2b-43d0-8142-239fc95d4340",
   "metadata": {},
   "outputs": [],
   "source": [
    "def enhanced(method):\n",
    "    def new(self, y):\n",
    "        print( \"I am enhanced\" )\n",
    "        return method(self, y)\n",
    "    return new\n",
    "    \n",
    "class C:\n",
    "    def bar(self, x):\n",
    "        print( \"some method says:\", x )\n",
    "    bar = enhanced(bar)\n",
    "\n",
    "C().bar( 'hey' )"
   ]
  },
  {
   "cell_type": "markdown",
   "id": "fa125f8d-42a3-482b-b3f6-e6d2e88e3cc3",
   "metadata": {},
   "source": [
    "* Recurring pattern: Let's invent some syntactical sugar:\n",
    "     - avoid repeating the method name,\n",
    "     - put it near the first mention of the method"
   ]
  },
  {
   "cell_type": "code",
   "execution_count": null,
   "id": "79b251f2-47a7-4ef6-876f-9bea03d64508",
   "metadata": {},
   "outputs": [],
   "source": [
    "class C:\n",
    "    @classmethod\n",
    "    def foo(cls, y):\n",
    "        print( \"classmethod\", cls, y )\n",
    "        \n",
    "    @enhanced\n",
    "    def bar(self, x):\n",
    "        print( \"some method says:\", x )\n"
   ]
  },
  {
   "cell_type": "markdown",
   "id": "041fb48d-4194-418a-b70d-57620abb6073",
   "metadata": {},
   "source": [
    "This is called a *decorator*! Essentially better syntax for what we have done earlier. But now you, as a programmer, is *extending* the language as if you are introducing a new *keyword* with user-defined behavior.\n",
    "\n",
    "* Work for regular functions too\n",
    "\n",
    "* Can be chained\n",
    "\n",
    "~~~\n",
    "@synchronized\n",
    "@logging\n",
    "def myfunc(arg1, arg2, ...):\n",
    "      # ...do something\n",
    "      # decorators are equivalent to ending with:\n",
    "      #    myfunc = synchronized(logging(myfunc))\n",
    "      # Nested in that declaration order\n",
    "~~~\n",
    "\n",
    "### Misuse of Decorators\n",
    "\n",
    "* Not returning a function\n",
    "\n"
   ]
  },
  {
   "cell_type": "code",
   "execution_count": null,
   "id": "08f92c2e-ff48-4b03-beb5-2539153e8528",
   "metadata": {},
   "outputs": [],
   "source": [
    "def spamdef(fn):\n",
    "    print( \"spam, spam, spam\" )\n",
    "\n",
    "@spamdef\n",
    "def useful(a, b):\n",
    "    print( a**2 + b**2 )\n"
   ]
  },
  {
   "cell_type": "code",
   "execution_count": null,
   "id": "da21c2c2-e377-4839-b972-9f51aa0ce729",
   "metadata": {},
   "outputs": [],
   "source": [
    "useful(3, 4)"
   ]
  },
  {
   "cell_type": "markdown",
   "id": "5543b90e-31fb-48f2-a895-684c5117efe4",
   "metadata": {},
   "source": [
    "* Not returning a *meaningful* function\n"
   ]
  },
  {
   "cell_type": "code",
   "execution_count": null,
   "id": "add0b897-a57e-40e1-a4f4-ce8630aed066",
   "metadata": {},
   "outputs": [],
   "source": [
    "def spamrun(fn):\n",
    "    def sayspam(*args):\n",
    "        print( \"spam, spam, spam\" )\n",
    "    return sayspam\n",
    "\n",
    "@spamrun\n",
    "def useful(a, b):\n",
    "    print( a**2 + b**2 )\n",
    "\n",
    "useful( 3, 4 )"
   ]
  },
  {
   "cell_type": "markdown",
   "id": "9395e86b-12bb-45fd-93b9-e3bc83ae2afe",
   "metadata": {},
   "source": [
    "* Correct one"
   ]
  },
  {
   "cell_type": "code",
   "execution_count": null,
   "id": "45087ad4-8590-4e08-ac3c-46d82e4eb6c1",
   "metadata": {},
   "outputs": [],
   "source": [
    "def addspam(fn):\n",
    "    def new(*args):\n",
    "        print( \"spam, spam, spam\" )\n",
    "        return fn( *args )\n",
    "    return new\n",
    "\n",
    "@addspam\n",
    "def useful(a, b):\n",
    "    print( a**2 + b**2 )\n",
    "\n",
    "useful( 3, 4 )"
   ]
  },
  {
   "cell_type": "markdown",
   "id": "bb94d5e7-4b7a-4035-861b-b16e37a471f8",
   "metadata": {},
   "source": [
    "### Using Decorators"
   ]
  },
  {
   "cell_type": "code",
   "execution_count": null,
   "id": "79970245-8955-4035-9f81-f8de83438751",
   "metadata": {},
   "outputs": [],
   "source": [
    "def elementwise(fn):\n",
    "    def newfn(arg):\n",
    "        if hasattr(arg,'__getitem__'):  # is a Sequence\n",
    "            return type(arg)(map(fn, arg))\n",
    "        else:\n",
    "            return fn(arg)\n",
    "    return newfn\n",
    "\n",
    "@elementwise\n",
    "def compute(x):\n",
    "    return x**3 - 1"
   ]
  },
  {
   "cell_type": "code",
   "execution_count": null,
   "id": "6ec4f1a6-c7b6-4f3d-a8d5-3ace011bb2a4",
   "metadata": {},
   "outputs": [],
   "source": [
    "compute( 5 )"
   ]
  },
  {
   "cell_type": "code",
   "execution_count": null,
   "id": "d51ec63b-e2e7-447f-9b82-87b77ff88917",
   "metadata": {},
   "outputs": [],
   "source": [
    "compute([1,2,3])"
   ]
  },
  {
   "cell_type": "code",
   "execution_count": null,
   "id": "f486f436-5805-4c4c-b0d2-4aa9ba59de0a",
   "metadata": {},
   "outputs": [],
   "source": [
    "compute((1,2,3))"
   ]
  },
  {
   "cell_type": "markdown",
   "id": "d88e0593-a377-4b9b-83d0-d9829187de83",
   "metadata": {},
   "source": [
    "## Aspect Oriented Programming\n",
    "\n",
    " * Seperatating cross-cutting concerns\n",
    "   - Common across a number of classes, methods and functions\n",
    "\n",
    " * Category of aspects\n",
    "   - Debugging: logging function argments, entry and exit\n",
    "   - Type safty checks\n",
    "   - Deprecation warnings\n",
    "   - Database transactions\n",
    "   - Authorization\n",
    "   - Profiling"
   ]
  },
  {
   "cell_type": "code",
   "execution_count": null,
   "id": "041ab6c3-1edb-4b9c-8797-d505098c8482",
   "metadata": {},
   "outputs": [],
   "source": [
    "def trace( aFunc ):\n",
    "    \"\"\"Trace entry, exit and exceptions.\"\"\"\n",
    "    def loggedFunc( *args, **kw ):\n",
    "        print( \"enter\", aFunc.__name__ )\n",
    "        try:\n",
    "            result= aFunc( *args, **kw )\n",
    "        except Exception as e:\n",
    "            print( \"exception\", aFunc.__name__, e )\n",
    "            raise\n",
    "        print( \"exit\" ), aFunc.__name__\n",
    "        return result\n",
    "    loggedFunc.__name__= aFunc.__name__\n",
    "    loggedFunc.__doc__= aFunc.__doc__\n",
    "    return loggedFunc"
   ]
  },
  {
   "cell_type": "code",
   "execution_count": null,
   "id": "581ef820-d1ed-4482-8905-4023990a322e",
   "metadata": {},
   "outputs": [],
   "source": [
    "class MyClass( object ):\n",
    "    @trace\n",
    "    def __init__( self, someValue ):\n",
    "        \"\"\"Create a MyClass instance.\"\"\"\n",
    "        self.value= someValue\n",
    "    @trace\n",
    "    def doSomething( self, anotherValue ):\n",
    "        \"\"\"Update a value.\"\"\"\n",
    "        self.value += anotherValue\n",
    "        return self.value\n",
    "\n",
    "a = MyClass( 0 )\n",
    "a.doSomething(1)\n",
    "a.doSomething(2)\n",
    "a.doSomething(10)"
   ]
  },
  {
   "cell_type": "markdown",
   "id": "bd6f2c42-396d-48aa-bd6d-4e95f4ef8c2d",
   "metadata": {},
   "source": [
    "### Decorator Tool"
   ]
  },
  {
   "cell_type": "code",
   "execution_count": null,
   "id": "d3f72843-f64e-4a25-97d5-4aef3b88ecc2",
   "metadata": {},
   "outputs": [],
   "source": [
    "from decorator import decorator\n",
    "\n",
    "@decorator\n",
    "def addspam(f, *args, **kws):\n",
    "    print( \"spam, spam, spam\" )\n",
    "    return f(*args, **kws)\n",
    "\n",
    "@addspam\n",
    "def useful(a, b): return( a**2 + b**2 )"
   ]
  },
  {
   "cell_type": "code",
   "execution_count": null,
   "id": "4a1d0e6e-21a8-492c-b973-feb3908a1204",
   "metadata": {},
   "outputs": [],
   "source": [
    "useful.__name__"
   ]
  },
  {
   "cell_type": "code",
   "execution_count": null,
   "id": "47cdba1c-dbfb-48d4-a3cf-2a40a5a7cc9e",
   "metadata": {},
   "outputs": [],
   "source": [
    "useful( 2, 3 )"
   ]
  },
  {
   "cell_type": "markdown",
   "id": "ef05d21d-0481-4803-8d88-0fca08c28e68",
   "metadata": {
    "jp-MarkdownHeadingCollapsed": true
   },
   "source": [
    "### Usage in Bottle\n",
    "\n",
    "~~~\n",
    "from bottle import route, run\n",
    "\n",
    "@route('/:name')\n",
    "def index(name='World'):\n",
    "    return '<b>Hello %s!</b>' % name\n",
    "\n",
    "run(host='localhost', port=8080)\n",
    "~~~"
   ]
  },
  {
   "cell_type": "markdown",
   "id": "f28e1f64-3a9d-4468-abd4-34404a957f0d",
   "metadata": {},
   "source": [
    "## Recap\n",
    "\n",
    " * Everything is an object, but objects are different\n",
    "   - Meta classes\n",
    "   - classes\n",
    "   - non-type instances\n",
    "   - relations\n",
    "       - instanceof\n",
    "       - typeof\n",
    "\n",
    " * Meta Programming\n",
    "   - Build your own \"class factory\" with meta classes\n",
    "   - Build your own \"keyword\" with decorators\n",
    "   - Aspect-oriented programming by identifying & defining cross-cutting behavior \n"
   ]
  }
 ],
 "metadata": {
  "kernelspec": {
   "display_name": "Python 3 (ipykernel)",
   "language": "python",
   "name": "python3"
  },
  "language_info": {
   "codemirror_mode": {
    "name": "ipython",
    "version": 3
   },
   "file_extension": ".py",
   "mimetype": "text/x-python",
   "name": "python",
   "nbconvert_exporter": "python",
   "pygments_lexer": "ipython3",
   "version": "3.11.6"
  }
 },
 "nbformat": 4,
 "nbformat_minor": 5
}
