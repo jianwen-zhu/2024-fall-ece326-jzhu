{
 "cells": [
  {
   "cell_type": "markdown",
   "id": "348edbe4-57ed-4ee9-a895-e0eecbda020a",
   "metadata": {
    "editable": true,
    "slideshow": {
     "slide_type": ""
    },
    "tags": []
   },
   "source": [
    "# Lec 29-31: Iterators, Generators, and Coroutines, or Stream Paradigm\n",
    "\n",
    "Jianwen Zhu <jzhu@eecg.toronto.edu>\n",
    "v2.0, 2024-09"
   ]
  },
  {
   "cell_type": "markdown",
   "id": "d697f4b1-808c-44f8-8e50-388344533aae",
   "metadata": {},
   "source": [
    "## Agenda\n",
    "\n",
    "* Python Iterators\n",
    "* Python Generators\n",
    "* Python Coroutine\n",
    "* Writing Coroutine in C\n",
    "* Stream Processing\n",
    "\n",
    "Disclaimer: Much material of this lecture is based on code samples from https://github.com/cl0ne/dabeaz-coroutines,\n",
    "originally by David Beazley."
   ]
  },
  {
   "cell_type": "markdown",
   "id": "820b37a6-de10-4afc-b6e5-ff3c7a34728b",
   "metadata": {},
   "source": [
    "## Python Iterators \n",
    "\n",
    "* As you know, Python has a \"for\" statement • You use it to loop over a collection of items"
   ]
  },
  {
   "cell_type": "code",
   "execution_count": 1,
   "id": "9ae73380-43a7-41a8-ab2b-356f7b56bc08",
   "metadata": {},
   "outputs": [
    {
     "name": "stdout",
     "output_type": "stream",
     "text": [
      "1\n",
      "2\n",
      "3\n",
      "4\n",
      "5\n"
     ]
    }
   ],
   "source": [
    "for x in [1, 2, 3, 4, 5]:\n",
    "    print( x )"
   ]
  },
  {
   "cell_type": "markdown",
   "id": "20faf5cb-f6b4-4ef0-969d-c39f57437ab9",
   "metadata": {},
   "source": [
    "* We have seen that you can iterate over any sequences (not just lists)\n",
    "* If you loop over a dictionary you get keys"
   ]
  },
  {
   "cell_type": "code",
   "execution_count": 2,
   "id": "ccc9e53c-eba1-4e3b-a45b-79f45c76e3b4",
   "metadata": {},
   "outputs": [
    {
     "name": "stdout",
     "output_type": "stream",
     "text": [
      "GOOG\n",
      "AAPL\n",
      "YHOO\n"
     ]
    }
   ],
   "source": [
    "prices = { 'GOOG' : 490.10, 'AAPL' : 145.23, 'YHOO' : 21.71 }\n",
    "\n",
    "for key in prices:\n",
    "    print( key ) "
   ]
  },
  {
   "cell_type": "markdown",
   "id": "10849db0-521d-4ff7-b7db-9a97096f1700",
   "metadata": {},
   "source": [
    "• If you loop over a string, you get characters"
   ]
  },
  {
   "cell_type": "code",
   "execution_count": 3,
   "id": "fe920573-28a8-4a0c-8acf-b40a36194a83",
   "metadata": {},
   "outputs": [
    {
     "name": "stdout",
     "output_type": "stream",
     "text": [
      "H\n",
      "e\n",
      "l\n",
      "l\n",
      "o\n",
      ",\n",
      " \n",
      "W\n",
      "o\n",
      "r\n",
      "l\n",
      "d\n"
     ]
    }
   ],
   "source": [
    "s = \"Hello, World\" \n",
    "for c in s: \n",
    "    print( c )"
   ]
  },
  {
   "cell_type": "markdown",
   "id": "2e487852-4e66-4a69-8852-80e7fb330de6",
   "metadata": {},
   "source": [
    "* If you loop over a file you get lines\n",
    "```\n",
    "  for line in open(\"real.txt\"):\n",
    "    print( line )\n",
    "```"
   ]
  },
  {
   "cell_type": "markdown",
   "id": "55a498a8-94ff-4e01-a7a1-69749f8df26d",
   "metadata": {},
   "source": [
    "* Many functions consume an \"iterable\" object, for example, reductions:\n",
    "             sum(s), min(s), max(s)\n",
    "* Constructors: convert iterables into concrete data structures\n",
    "             list(s), tuple(s), set(s), dict(s)\n",
    "* in operator\n",
    "```\n",
    "   item in s\n",
    "```\n",
    "* Many others in the library"
   ]
  },
  {
   "cell_type": "markdown",
   "id": "6c0521b4-e91a-48fe-b768-1eeda155b160",
   "metadata": {},
   "source": [
    "### Iteration Protocol\n",
    "\n",
    "The reason why you can iterate over different objects is that there is a specific protocol between the builtin API and the iterable object class.\n"
   ]
  },
  {
   "cell_type": "code",
   "execution_count": 4,
   "id": "5609b9ca-5a12-48b7-9985-b3927892e98e",
   "metadata": {},
   "outputs": [
    {
     "data": {
      "text/plain": [
       "1"
      ]
     },
     "execution_count": 4,
     "metadata": {},
     "output_type": "execute_result"
    }
   ],
   "source": [
    "items = [1, 4, 5]\n",
    "it = iter(items) \n",
    "next(it)"
   ]
  },
  {
   "cell_type": "code",
   "execution_count": 5,
   "id": "4cc90d03-eb90-400b-9387-13b1058aa1bc",
   "metadata": {},
   "outputs": [
    {
     "data": {
      "text/plain": [
       "4"
      ]
     },
     "execution_count": 5,
     "metadata": {},
     "output_type": "execute_result"
    }
   ],
   "source": [
    "next(it)"
   ]
  },
  {
   "cell_type": "code",
   "execution_count": 6,
   "id": "e33db052-154a-455c-afdb-f14955d57ae2",
   "metadata": {},
   "outputs": [
    {
     "data": {
      "text/plain": [
       "5"
      ]
     },
     "execution_count": 6,
     "metadata": {},
     "output_type": "execute_result"
    }
   ],
   "source": [
    "next(it)"
   ]
  },
  {
   "cell_type": "code",
   "execution_count": 7,
   "id": "a56d9154-8d04-4386-b647-94ccc460893d",
   "metadata": {},
   "outputs": [
    {
     "ename": "StopIteration",
     "evalue": "",
     "output_type": "error",
     "traceback": [
      "\u001b[0;31m---------------------------------------------------------------------------\u001b[0m",
      "\u001b[0;31mStopIteration\u001b[0m                             Traceback (most recent call last)",
      "Cell \u001b[0;32mIn[7], line 1\u001b[0m\n\u001b[0;32m----> 1\u001b[0m \u001b[38;5;28;43mnext\u001b[39;49m\u001b[43m(\u001b[49m\u001b[43mit\u001b[49m\u001b[43m)\u001b[49m\n",
      "\u001b[0;31mStopIteration\u001b[0m: "
     ]
    }
   ],
   "source": [
    "next(it)"
   ]
  },
  {
   "cell_type": "markdown",
   "id": "1e4fb0a0-75ca-4fa5-b11d-d4176a6e1140",
   "metadata": {},
   "source": [
    "* An inside look at the for statement\n",
    "\n",
    "```\n",
    "for x in obj:\n",
    "    # statements\n",
    "\n",
    "```\n",
    "\n",
    "* Underneath the covers:\n",
    "```\n",
    "_iter = obj.__iter__()\n",
    "while 1:\n",
    "    try:\n",
    "        x = _iter.__next__()\n",
    "    except StopIteration:\n",
    "        break\n",
    "    # statements\n",
    "```\n",
    "\n",
    "* Any object that supports:\n",
    "```\n",
    "   - __iter__() # iter(it) is equivalent to it.__iter__() \n",
    "   - __next__() # next(it) is equivalent to it.__next__()\n",
    "```\n",
    "  is said to be \"iterable.\""
   ]
  },
  {
   "cell_type": "code",
   "execution_count": null,
   "id": "3e01378e-618c-4ea5-9463-4d7332755d55",
   "metadata": {},
   "outputs": [],
   "source": [
    "next(it)"
   ]
  },
  {
   "cell_type": "markdown",
   "id": "1f75afe5-63e6-4a1a-96c4-b49210fe47d2",
   "metadata": {},
   "source": [
    "## Writing Your Own Iterable\n",
    "\n",
    "You just need to support the iteration protocol"
   ]
  },
  {
   "cell_type": "code",
   "execution_count": null,
   "id": "40b040d7-65cc-42a5-9e97-acccf11f66a8",
   "metadata": {},
   "outputs": [],
   "source": [
    "class countdown(object):\n",
    "    def __init__(self,start):\n",
    "        self.count = start\n",
    "    def __iter__(self):\n",
    "        return self\n",
    "    def __next__(self):\n",
    "        if self.count <= 0:\n",
    "            raise StopIteration\n",
    "        r = self.count\n",
    "        self.count -= 1\n",
    "        return r"
   ]
  },
  {
   "cell_type": "markdown",
   "id": "3e00a886-dbea-4eff-8c26-fee951fcccd6",
   "metadata": {},
   "source": [
    "Now you can use countdown just like list, string and dictionary!"
   ]
  },
  {
   "cell_type": "code",
   "execution_count": null,
   "id": "3d4cec02-fa90-45a7-b59f-2d7569d1fc5e",
   "metadata": {},
   "outputs": [],
   "source": [
    "for x in countdown(10):\n",
    "    print( x )"
   ]
  },
  {
   "cell_type": "markdown",
   "id": "2275cb0c-ab9d-420b-870f-83aaed96ec73",
   "metadata": {},
   "source": [
    "## Python Generators\n",
    "\n",
    "Now let's look at something that behaves like an iterable but is actually much more expressive. \n",
    "\n",
    "A generator is a function that produces a sequence of results instead of a single value."
   ]
  },
  {
   "cell_type": "code",
   "execution_count": null,
   "id": "ac7799bc-5386-4b8e-858d-de2d1a757fd6",
   "metadata": {},
   "outputs": [],
   "source": [
    "def countdown(n):\n",
    "    while n > 0:\n",
    "        yield n\n",
    "        n -= 1\n",
    "    # here we raise StopIteration except if reach here"
   ]
  },
  {
   "cell_type": "code",
   "execution_count": null,
   "id": "c7778040-1d64-48a7-927d-cb0f125f15d5",
   "metadata": {},
   "outputs": [],
   "source": [
    "for i in countdown(5): \n",
    "    print( i )"
   ]
  },
  {
   "cell_type": "markdown",
   "id": "037cf27b-06e8-4d41-95b1-d79622dce6f1",
   "metadata": {},
   "source": [
    "Instead of returning a value, you generate a series of values (using the yield statement). Typically, you hook it up to a for-loop.\n",
    "\n",
    "* Behavior is quite different than normal function\n",
    "* Calling a generator function creates an generator object. However, it does not start running the function."
   ]
  },
  {
   "cell_type": "code",
   "execution_count": null,
   "id": "cff3f40d-dedd-4224-9f08-fba28b6ab9ab",
   "metadata": {},
   "outputs": [],
   "source": [
    "x = countdown(5)\n",
    "x"
   ]
  },
  {
   "cell_type": "code",
   "execution_count": null,
   "id": "359dd2c3-52a9-4d9e-8478-d44d54ca1e5d",
   "metadata": {},
   "outputs": [],
   "source": [
    "next(x)"
   ]
  },
  {
   "cell_type": "markdown",
   "id": "5ceb28f8-b35d-4cde-a195-2429f7a9bea1",
   "metadata": {},
   "source": [
    "Curiously, yield produces a value, but simultaneously suspend the function. But it can be executed again starting from where it stopped, next time you call next()!"
   ]
  },
  {
   "cell_type": "code",
   "execution_count": null,
   "id": "b3142dfb-f468-46fc-814d-231a345d3a47",
   "metadata": {},
   "outputs": [],
   "source": [
    "next(x)"
   ]
  },
  {
   "cell_type": "code",
   "execution_count": null,
   "id": "0bc5b6b6-0220-419d-b327-1bbebdea160a",
   "metadata": {},
   "outputs": [],
   "source": [
    "next(x)"
   ]
  },
  {
   "cell_type": "code",
   "execution_count": null,
   "id": "75525ea9-dfbe-4cc1-8dde-4b5d694e80c5",
   "metadata": {},
   "outputs": [],
   "source": [
    "next(x)\n",
    "next(x)\n",
    "next(x)"
   ]
  },
  {
   "cell_type": "markdown",
   "id": "5f235904-4f32-4618-a1c2-7a7ae7835e41",
   "metadata": {},
   "source": [
    "When the generator returns, iteration stops!"
   ]
  },
  {
   "cell_type": "markdown",
   "id": "1c65fb8f-1c23-4020-a9bd-2ee7e3a29582",
   "metadata": {},
   "source": [
    "### Practical Example\n",
    "\n",
    "* A Python version of Unix 'tail -f'"
   ]
  },
  {
   "cell_type": "code",
   "execution_count": null,
   "id": "355e43b0-8c9e-4ae7-a2c6-e5e58aeeb3de",
   "metadata": {},
   "outputs": [],
   "source": [
    "import time\n",
    "\n",
    "def follow(thefile):\n",
    "#    thefile.seek(0,2)      # Go to the end of the file\n",
    "#    while True:\n",
    "    for i in range(10) :    # modified to replace \"while True\" only to run in Jupyter finite number of times\n",
    "        line = thefile.readline()\n",
    "        if not line:\n",
    "            time.sleep(0.1)    # Sleep briefly\n",
    "            continue\n",
    "        yield line"
   ]
  },
  {
   "cell_type": "markdown",
   "id": "d596715b-8950-4f53-a38e-165f7dcc144c",
   "metadata": {},
   "source": [
    "* Example use : Watch a web-server log file\n",
    "\n",
    "```\n",
    "logfile  = open(\"access-log\")\n",
    "for line in follow(logfile):\n",
    "    print( line )\n",
    "```"
   ]
  },
  {
   "cell_type": "code",
   "execution_count": null,
   "id": "96362968-a2c6-45c0-bacc-5eeb24beefaf",
   "metadata": {},
   "outputs": [],
   "source": [
    "logfile  = open(\"access-log\")\n",
    "for line in follow(logfile):\n",
    "    print( line )"
   ]
  },
  {
   "cell_type": "markdown",
   "id": "b5237173-18fb-4bf6-90b3-79a777227390",
   "metadata": {},
   "source": [
    "### Generator as Stream pipelines\n",
    "\n",
    "* Each generator process and generate a stream of data\n",
    "* Stream processing pipeline: similar to shell pipes in Unix\n",
    "* Idea: You can stack a series of generator functions together into a pipe and pull items through it with a for-loop"
   ]
  },
  {
   "cell_type": "code",
   "execution_count": null,
   "id": "10392431-aeb1-4f51-b1f1-d0ed748c26bc",
   "metadata": {},
   "outputs": [],
   "source": [
    "def grep(pattern,lines):\n",
    "    for line in lines:\n",
    "        if pattern in line:\n",
    "            yield line"
   ]
  },
  {
   "cell_type": "code",
   "execution_count": null,
   "id": "08f955de-ab25-4e58-adc0-e2392e9e8f21",
   "metadata": {},
   "outputs": [],
   "source": [
    "# Set up a processing pipe : tail -f | grep python\n",
    "logfile  = open(\"access-log\")\n",
    "loglines = follow(logfile)\n",
    "pylines  = grep(\"python\",loglines)\n",
    "\n",
    "# Pull results out of the processing pipeline\n",
    "for line in pylines:\n",
    "    print( line )"
   ]
  },
  {
   "cell_type": "markdown",
   "id": "9cb1a867-5c46-467e-b8f5-d7f2b21f4f28",
   "metadata": {},
   "source": [
    "It is instructive to compare the execution of the above pipeline with ordinary function call.\n",
    "\n",
    "1. Here we have a chain of function calls as well, but they are just *constructing* the pipeline, not executing the pipeline\n",
    "2. Actual execution of a pipeline happens during the for loop\n",
    "3. The pipeline stages execute one piece at a time, each producing one item of data (via yield);\n",
    "4. The intermediate data is *VERY SMALL*, this is in contrast to the case where each each stage execute and accumulate lots of data and then pass to the next stage.\n",
    "\n",
    "This style of programming is called streaming processing. It is very memory efficient!\n",
    "\n",
    "You might as well just write it as the following and enjoy the elegance of expression."
   ]
  },
  {
   "cell_type": "code",
   "execution_count": null,
   "id": "d312097b-dde9-41da-8ad6-e2ea4998c338",
   "metadata": {},
   "outputs": [],
   "source": [
    "for line in grep( \"python\", follow( open(\"access-log\") ) ) :\n",
    "    print( line )"
   ]
  },
  {
   "cell_type": "markdown",
   "id": "debdf40b-9010-4514-b9ce-eda1cbf0690d",
   "metadata": {},
   "source": [
    "## Python Coroutines\n",
    "\n",
    "You could also use yield as an expression, which evaluate to a value, for example, on the right side of an assignment."
   ]
  },
  {
   "cell_type": "code",
   "execution_count": null,
   "id": "eef1b058-bf89-4414-b241-96b7f2ddabe0",
   "metadata": {},
   "outputs": [],
   "source": [
    "def grep(pattern):\n",
    "    print( \"Looking for %s\" % pattern )\n",
    "    while True:\n",
    "        line = yield\n",
    "        if pattern in line:\n",
    "            print( line )"
   ]
  },
  {
   "cell_type": "markdown",
   "id": "fba88b39-7d7d-4ff8-96a4-ef554534934a",
   "metadata": {},
   "source": [
    "If you use yield more generally, you get a coroutine. These do more than just generate values. Instead, functions can consume values sent to it."
   ]
  },
  {
   "cell_type": "code",
   "execution_count": null,
   "id": "7f8ba8cb-47aa-460b-a290-e3c0c120d084",
   "metadata": {},
   "outputs": [],
   "source": [
    "g = grep(\"python\")\n",
    "next(g)"
   ]
  },
  {
   "cell_type": "markdown",
   "id": "bd94fa0e-1934-44be-86b5-8d2584d085a0",
   "metadata": {},
   "source": [
    "First time calling next() to \"prime it\"."
   ]
  },
  {
   "cell_type": "code",
   "execution_count": null,
   "id": "cefb9052-415f-491a-ab3f-bd7d73f167fc",
   "metadata": {},
   "outputs": [],
   "source": [
    "g.send(\"Yeah, but no, but yeah, but no\")\n",
    "g.send(\"A series of tubes\")\n",
    "g.send(\"python coroutine rock!\")"
   ]
  },
  {
   "cell_type": "markdown",
   "id": "3d94feff-6b43-4856-b905-ed177707e516",
   "metadata": {},
   "source": [
    "Sent values are returned by (yield)!"
   ]
  },
  {
   "cell_type": "markdown",
   "id": "cf301b1e-b77b-4cee-b74d-a97b1961e28a",
   "metadata": {},
   "source": [
    "* Execution is the same as for a generator\n",
    "* When you call a coroutine, nothing happens\n",
    "* They only run in response to next() and send() methods\n",
    "* All coroutines must be \"primed\" by first calling next() (or send(None))\n",
    "* This advances execution to the location of the first yield expression.\n",
    "* At this point, it's ready to receive a value."
   ]
  },
  {
   "cell_type": "markdown",
   "id": "03a33caf-f42c-48c3-a76a-bbcf91442dfd",
   "metadata": {},
   "source": [
    "* It is easy to forget the prime process. So let's write a decorator for this."
   ]
  },
  {
   "cell_type": "code",
   "execution_count": null,
   "id": "61da224c-92b3-4522-ba3c-ce2e566d95b3",
   "metadata": {},
   "outputs": [],
   "source": [
    "def coroutine(func):\n",
    "    def start(*args,**kwargs):\n",
    "        cr = func(*args,**kwargs)\n",
    "        next(cr)\n",
    "        return cr\n",
    "    return start"
   ]
  },
  {
   "cell_type": "code",
   "execution_count": null,
   "id": "a970213f-5b8d-4593-adf0-dfe21fe3c0c2",
   "metadata": {},
   "outputs": [],
   "source": [
    "@coroutine\n",
    "def grep(pattern):\n",
    "    print( \"Looking for %s\" % pattern )\n",
    "    while True:\n",
    "        line = yield\n",
    "        if pattern in line:\n",
    "            print( line )"
   ]
  },
  {
   "cell_type": "markdown",
   "id": "d5f01ffb-a7f5-42ee-a11f-839db02c01c8",
   "metadata": {},
   "source": [
    "* A coroutine might run indefinitely\n",
    "* Use .close() to shut it down"
   ]
  },
  {
   "cell_type": "code",
   "execution_count": null,
   "id": "c2d3012d-4048-4405-ae81-1b099db7a07f",
   "metadata": {},
   "outputs": [],
   "source": [
    "g = grep(\"python\")\n",
    "g.send(\"Yeah, but no, but yeah, but no\")\n",
    "g.send(\"A series of tubes\")\n",
    "g.send(\"python generators rock!\")\n",
    "g.close()"
   ]
  },
  {
   "cell_type": "markdown",
   "id": "9646c9d1-c1c4-4de4-824f-1194c76e15c6",
   "metadata": {},
   "source": [
    "* close() can be caught as the exception GeneratorExit.\n",
    "  Let's try again: "
   ]
  },
  {
   "cell_type": "code",
   "execution_count": null,
   "id": "a03cad3d-2fea-4f62-8d63-c81eaae20e4b",
   "metadata": {},
   "outputs": [],
   "source": [
    "@coroutine\n",
    "def grep(pattern):\n",
    "    print( \"Looking for %s\" % pattern )\n",
    "    try:\n",
    "        while True:\n",
    "            line = yield\n",
    "            if pattern in line:\n",
    "                print( line )\n",
    "    except GeneratorExit:\n",
    "        print( \"Going away.  Goodbye\" )"
   ]
  },
  {
   "cell_type": "code",
   "execution_count": null,
   "id": "8da86e0d-bda0-4a5e-9191-9968a5837dab",
   "metadata": {},
   "outputs": [],
   "source": [
    "g = grep(\"python\")\n",
    "g.send(\"Yeah, but no, but yeah, but no\")\n",
    "g.send(\"A series of tubes\")\n",
    "g.send(\"python generators rock!\")\n",
    "g.close()"
   ]
  },
  {
   "cell_type": "markdown",
   "id": "62d46590-af6c-4326-8e89-7920df1f37ae",
   "metadata": {},
   "source": [
    "* You can inject an exception into a couroutine"
   ]
  },
  {
   "cell_type": "code",
   "execution_count": null,
   "id": "33b28caf-6b6c-4f4f-944f-210a7a51f7de",
   "metadata": {},
   "outputs": [],
   "source": [
    "g = grep(\"python\")\n",
    "g.send(\"python generators rock!\")\n",
    "g.throw(RuntimeError,\"You're hosed\")"
   ]
  },
  {
   "cell_type": "markdown",
   "id": "da9c6bdc-4264-4703-9dc7-79ffebe0b77f",
   "metadata": {},
   "source": [
    "How to handle the exception is left to you as an exercise."
   ]
  },
  {
   "cell_type": "markdown",
   "id": "d8c8128b-bd46-4209-b0da-0bf484490a33",
   "metadata": {},
   "source": [
    "## Coroutine in C\n",
    "\n",
    "The execution of generators and corouting looks magical. They look like a function but its behavior is different. Most shockingly, they can return in the middle and are re-entrant from where they stopped last time!\n",
    "\n",
    "Have you wondered how they actually worked? We are going to illustrate how it works in its raw form, that is, in our favorite C. "
   ]
  },
  {
   "cell_type": "markdown",
   "id": "b0d33afc-fe41-48e6-b021-2ff0dc95e645",
   "metadata": {},
   "source": [
    "### Motivational Example\n",
    "\n",
    "```\n",
    "----------------------------------------------\n",
    "    Example\n",
    "----------------------------------------------\n",
    "    /* Decompression code */\n",
    "    while (1) {\n",
    "        c = getchar();\n",
    "        if (c == EOF)\n",
    "            break;\n",
    "        if (c == 0xFF) {\n",
    "            len = getchar();\n",
    "            c = getchar();\n",
    "            while (len--)\n",
    "                emit(c);\n",
    "        } else\n",
    "            emit(c);\n",
    "    }\n",
    "    emit(EOF);\n",
    "    \n",
    "    /* Parser code */\n",
    "    while (1) {\n",
    "        c = getchar();\n",
    "        if (c == EOF)\n",
    "            break;\n",
    "        if (isalpha(c)) {\n",
    "            do {\n",
    "                add_to_token(c);\n",
    "                c = getchar();\n",
    "            } while (isalpha(c));\n",
    "            got_token(WORD);\n",
    "        }\n",
    "        add_to_token(c);\n",
    "        got_token(PUNCT);\n",
    "    }\n",
    "```"
   ]
  },
  {
   "cell_type": "markdown",
   "id": "84ad3c68-9d3d-4d1b-ba12-e0ae2078f8b7",
   "metadata": {},
   "source": [
    "### Rewriting\n",
    "\n",
    "The conventional answer is to rewrite one of the ends of the\n",
    "communication channel so that it's a function that can be\n",
    "called. Here's an example of what that might mean for each of the\n",
    "example fragments.\n",
    "\n",
    "```\n",
    "int decompressor(void) {\n",
    "    static int repchar;\n",
    "    static int replen;\n",
    "    if (replen > 0) {\n",
    "        replen--;\n",
    "        return repchar;\n",
    "    }\n",
    "    c = getchar();\n",
    "    if (c == EOF)\n",
    "        return EOF;\n",
    "    if (c == 0xFF) {\n",
    "        replen = getchar();\n",
    "        repchar = getchar();\n",
    "        replen--;\n",
    "        return repchar;\n",
    "    } else\n",
    "        return c;\n",
    "}\n",
    "void parser(int c) {\n",
    "    static enum {\n",
    "        START, IN_WORD\n",
    "    } state;\n",
    "    switch (state) {\n",
    "    case IN_WORD:\n",
    "        if (isalpha(c)) {\n",
    "            add_to_token(c);\n",
    "            return;\n",
    "        }\n",
    "        got_token(WORD);\n",
    "        state = START;\n",
    "        /* fall through */\n",
    "\n",
    "    case START:\n",
    "        add_to_token(c);\n",
    "        if (isalpha(c))\n",
    "            state = IN_WORD;\n",
    "        else\n",
    "            got_token(PUNCT);\n",
    "        break;\n",
    "    }\n",
    "}\n",
    "\n",
    "```\n",
    "\n",
    "\n",
    "Of course you don't have to rewrite both of them; just one will do. If\n",
    "you rewrite the decompressor in the form shown, so that it returns one\n",
    "character every time it's called, then the original parser code can\n",
    "replace calls to getchar() with calls to decompressor(), and the\n",
    "program will be happy. Conversely, if you rewrite the parser in the\n",
    "form shown, so that it is called once for every input character, then\n",
    "the original decompression code can call parser() instead of emit()\n",
    "with no problems. You would only want to rewrite both functions as\n",
    "callees if you were a glutton for punishment."
   ]
  },
  {
   "cell_type": "markdown",
   "id": "081f7cb1-90c1-4934-99a0-d289fa9ab9d8",
   "metadata": {},
   "source": [
    "### Knuth's Coroutines\n",
    "\n",
    "In The Art of Computer Programming, Donald Knuth presents a solution\n",
    "to this sort of problem. His answer is to throw away the stack concept\n",
    "completely. Stop thinking of one process as the caller and the other\n",
    "as the callee, and start thinking of them as cooperating equals.\n",
    "\n",
    "In practical terms: replace the traditional \"call\" primitive with a\n",
    "slightly different one. The new \"call\" will save the return value\n",
    "somewhere other than on the stack, and will then jump to a location\n",
    "specified in another saved return value. So each time the decompressor\n",
    "emits another character, it saves its program counter and jumps to the\n",
    "last known location within the parser - and each time the parser needs\n",
    "another character, it saves its own program counter and jumps to the\n",
    "location saved by the decompressor. Control shuttles back and forth\n",
    "between the two routines exactly as often as necessary.\n",
    "\n",
    "This is very nice in theory, but in practice you can only do it in\n",
    "assembly language, because no commonly used high level language\n",
    "supports the coroutine call primitive. Languages like C depend utterly\n",
    "on their stack-based structure, so whenever control passes from any\n",
    "function to any other, one must be the caller and the other must be\n",
    "the callee. So if you want to write portable code, this technique is\n",
    "at least as impractical as the Unix pipe solution.\n",
    "\n"
   ]
  },
  {
   "cell_type": "markdown",
   "id": "fa53e509-304b-4a75-a6d6-37d759688a7e",
   "metadata": {},
   "source": [
    "### First Attempt\n",
    "\n",
    "```\n",
    "/* First Attempt */\n",
    "int function(void) {\n",
    "    int i;\n",
    "    for (i = 0; i < 10; i++)\n",
    "        return i;   /* won't work, but wouldn't it be nice if it does! */\n",
    "}\n",
    "\n",
    "int function(void) {\n",
    "    static int i, state = 0;\n",
    "    switch (state) {\n",
    "        case 0: goto LABEL0;\n",
    "        case 1: goto LABEL1;\n",
    "    }\n",
    "    LABEL0: /* start of function */\n",
    "    for (i = 0; i < 10; i++) {\n",
    "        state = 1; /* so we will come back to LABEL1 */\n",
    "        return i;\n",
    "        LABEL1:; /* resume control straight after the return */\n",
    "    }\n",
    "}\n",
    "\n",
    "```"
   ]
  },
  {
   "cell_type": "markdown",
   "id": "cd57b59a-e6f0-4048-b1ff-2517ee25bb79",
   "metadata": {},
   "source": [
    "### Second Attempt using Duff's Device\n",
    "\n",
    "\n",
    "Does this piece of code event compile? Could you recognize what it actually do? \n",
    "\n",
    "```\n",
    "    switch (count % 8) {\n",
    "        case 0:        do {  *to = *from++;\n",
    "        case 7:              *to = *from++;\n",
    "        case 6:              *to = *from++;\n",
    "        case 5:              *to = *from++;\n",
    "        case 4:              *to = *from++;\n",
    "        case 3:              *to = *from++;\n",
    "        case 2:              *to = *from++;\n",
    "        case 1:              *to = *from++;\n",
    "                       } while ((count -= 8) > 0);\n",
    "    }\n",
    "\n",
    "```\n",
    "\n",
    "Strangely, the switch statement is *interleaved* with the do-while statement!\n",
    "But this is legal C and it works. To keep your brain sane, it is best to understand\n",
    "each case statement simply as a label for the evaluation of the switch statement to\n",
    "to jump to. (The above code fragment is actually part of loop unroll macro magic.\n",
    "\n",
    "This is named after its inventor. Let's see how we can use Duff's Device to implement coroutine.\n"
   ]
  },
  {
   "cell_type": "markdown",
   "id": "f6f937b6-e3ea-411e-ba5d-9fbce6d1e20c",
   "metadata": {},
   "source": [
    "```\n",
    "/* 2nd attempt with Duff's Device */\n",
    "\n",
    "int function(void) {\n",
    "    static int i, state = 0;\n",
    "    switch (state) {\n",
    "    case 0: /* start of function */\n",
    "        for (i = 0; i < 10; i++) {\n",
    "            state = 1; /* so we will come back to \"case 1\" */\n",
    "            return i;\n",
    "    case 1:; /* resume control straight after the return */\n",
    "        }\n",
    "    }\n",
    "}\n",
    "```\n",
    "\n",
    "Note that we turn variable i into \"static int i\", why?"
   ]
  },
  {
   "cell_type": "markdown",
   "id": "ef5304db-b9f9-407f-b8ea-55cb2539a610",
   "metadata": {},
   "source": [
    "### Third Attempt using Generalizing Macros\n",
    "\n",
    "```\n",
    "#define crBegin static int state=0; switch(state) { case 0:\n",
    "#define crYield(i,x) do { state=i; return x; case i:; } while (0)\n",
    "#define crFinish }\n",
    "int function(void) {\n",
    "    static int i;\n",
    "    crBegin;\n",
    "    for (i = 0; i < 10; i++)\n",
    "        crYield(1, i);\n",
    "    crFinish;\n",
    "}\n",
    "\n",
    "```"
   ]
  },
  {
   "cell_type": "markdown",
   "id": "5858edf4-a821-4a2d-8ab9-9c88c5623858",
   "metadata": {},
   "source": [
    "### Fourth Attempt with Better Macros\n",
    "\n",
    "```\n",
    "#define crBegin static int state=0; switch(state) { case 0:\n",
    "#define crYield(x) do { state=__LINE__; return x; \\\n",
    "                         case __LINE__:; } while (0)\n",
    "#define crFinish }\n",
    "\n",
    "int function(void) {\n",
    "    static int i;\n",
    "    crBegin;\n",
    "    for (i = 0; i < 10; i++)\n",
    "        crYield(i);\n",
    "    crFinish;\n",
    "}\n",
    "```\n"
   ]
  },
  {
   "cell_type": "markdown",
   "id": "3559597f-cee3-4f46-98c7-600e2b6971fd",
   "metadata": {},
   "source": [
    "### Back with Motivating Example\n",
    "\n",
    "```\n",
    "int decompressor(void) {\n",
    "    static int c, len;\n",
    "    crBegin;\n",
    "    while (1) {\n",
    "        c = getchar();\n",
    "        if (c == EOF)\n",
    "            break;\n",
    "        if (c == 0xFF) {\n",
    "            len = getchar();\n",
    "            c = getchar();\n",
    "            while (len--)\n",
    "\t        crYield(c);\n",
    "        } else\n",
    "\t    crYield(c);\n",
    "    }\n",
    "    crReturn(EOF);\n",
    "    crFinish;\n",
    "}\n",
    "\n",
    "void parser(int c) {\n",
    "    crBegin;\n",
    "    while (1) {\n",
    "        /* first char already in c */\n",
    "        if (c == EOF)\n",
    "            break;\n",
    "        if (isalpha(c)) {\n",
    "            do {\n",
    "                add_to_token(c);\n",
    "                crYield();\n",
    "            } while (isalpha(c));\n",
    "            got_token(WORD);\n",
    "        }\n",
    "        add_to_token(c);\n",
    "        got_token(PUNCT);\n",
    "\tcrYield( );\n",
    "    }\n",
    "    crFinish;\n",
    "}\n",
    "```"
   ]
  },
  {
   "cell_type": "markdown",
   "id": "9d54fe6d-3221-4bc5-93fd-4c2baaa95061",
   "metadata": {},
   "source": [
    "## Stream Processing\n",
    "\n",
    "### Streaming Processing Using Corutine\n",
    "We have seen how to build a pipeline using generators. We can do the same with coroutines.\n",
    "\n",
    "\n",
    "```\n",
    "send()              send()               send()\n",
    "------> |coroutine|-------> |coroutine| -------> |coroutine| ------> \n",
    "```\n",
    "\n",
    "We just chain them together and *push* data through the pipe with send() operations."
   ]
  },
  {
   "cell_type": "markdown",
   "id": "a86f7ee3-aaba-47c7-9775-eb9154986f06",
   "metadata": {},
   "source": [
    "* Pipeline Sources\n",
    "    - The pipeline needs an initial source (a producer)\n",
    "\n",
    "```\n",
    "def source(target):\n",
    "    while not done:\n",
    "        item = produce_an_item()\n",
    "        ...\n",
    "        target.send(item)\n",
    "        ...\n",
    "    target.close()\n",
    "```\n",
    "    - It is typically not a coroutine"
   ]
  },
  {
   "cell_type": "markdown",
   "id": "cebfa22a-8fea-46c3-8715-a5e6875f563b",
   "metadata": {},
   "source": [
    "* Pipeline Sinks\n",
    "    - The pipeline must have an end-point (sink)\n",
    "\n",
    "\n",
    "```\n",
    "send()              send()               \n",
    "------> |coroutine|-------> |sink| \n",
    "```\n",
    "\n",
    "    - Collects all data sent to it and processes it\n",
    "\n",
    "```\n",
    "@coroutine\n",
    "def sink():\n",
    "    try:\n",
    "        while True:\n",
    "            item = yield   # Receive an item\n",
    "            ...\n",
    "    except GeneratorExit:    # Handle .close()\n",
    "        # Done\n",
    "        ...\n",
    "```"
   ]
  },
  {
   "cell_type": "markdown",
   "id": "1416cb06-e0e0-40a9-b3be-d63bd8c5ac7f",
   "metadata": {},
   "source": [
    "* Back to Previous Example\n"
   ]
  },
  {
   "cell_type": "code",
   "execution_count": null,
   "id": "96be34e2-4f93-4ba2-9753-31e7fae071ec",
   "metadata": {},
   "outputs": [],
   "source": [
    "## A source that mimics Unix 'tail -f'\n",
    "import time\n",
    "def follow(thefile, target):\n",
    "#    thefile.seek(0,2)      # Go to the end of the file\n",
    "#    while True:\n",
    "     for i in range(10) :\n",
    "        line = thefile.readline()\n",
    "        if not line:\n",
    "            time.sleep(0.1)    # Sleep briefly\n",
    "            continue\n",
    "        target.send(line)"
   ]
  },
  {
   "cell_type": "code",
   "execution_count": null,
   "id": "6d379842-d984-4890-96df-d1f3d57695b3",
   "metadata": {},
   "outputs": [],
   "source": [
    "def coroutine(func):\n",
    "#    @wraps(func)\n",
    "    def start(*args, **kwargs):\n",
    "        cr = func(*args, **kwargs)\n",
    "        next(cr)\n",
    "        return cr\n",
    "\n",
    "    return start\n",
    " \n",
    "## A sink that just prints the lines\n",
    "@coroutine\n",
    "def printer():\n",
    "    while True:\n",
    "        line = yield\n",
    "        print( line )"
   ]
  },
  {
   "cell_type": "markdown",
   "id": "49577b01-6d45-40e2-b352-a86faa287045",
   "metadata": {},
   "source": [
    "* Hooking it Together\n",
    "\n",
    "Critical point : follow() is driving the entire computation by reading lines and pushing them into the printer() coroutine."
   ]
  },
  {
   "cell_type": "code",
   "execution_count": null,
   "id": "585be62b-5607-4413-ba43-15ff90cb214a",
   "metadata": {},
   "outputs": [],
   "source": [
    "f = open(\"access-log\")\n",
    "follow(f, printer())"
   ]
  },
  {
   "cell_type": "markdown",
   "id": "b5d14590-564b-4542-b8fc-053fd034023b",
   "metadata": {},
   "source": [
    "* Adding Pipeline Filters\n",
    "    - Intermediate stages both receive and send\n",
    "\n",
    "```\n",
    "send()              send()               \n",
    "------> |coroutine|-------> \n",
    "```\n",
    "\n",
    "Typically perform some kind of data transformation, filtering, routing, etc.\n",
    "\n",
    "```\n",
    "@coroutine\n",
    "def filter(target):\n",
    "while True:\n",
    "    item = (yield)    # Receive an item\n",
    "    # Transform/filter item\n",
    "    ...\n",
    "    # Send it along to the next stage\n",
    "    target.send(item)\n",
    "```\n",
    "\n",
    "Let's see the complete example below."
   ]
  },
  {
   "cell_type": "code",
   "execution_count": null,
   "id": "bc59c1e8-f168-4a95-a2f1-8fb7d4375337",
   "metadata": {},
   "outputs": [],
   "source": [
    "import time\n",
    "from functools import wraps\n",
    "\n",
    "   \n",
    "def follow(thefile, target):\n",
    "#    thefile.seek(0,2)      # Go to the end of the file\n",
    "#    while True:\n",
    "     for i in range(10) :\n",
    "        line = thefile.readline()\n",
    "        if not line:\n",
    "            time.sleep(0.1)    # Sleep briefly\n",
    "            continue\n",
    "        target.send(line)\n",
    "\n",
    "# A filter.\n",
    "@coroutine\n",
    "def grep(pattern, target):\n",
    "    while True:\n",
    "        line = yield  # Receive a line\n",
    "        if pattern in line:\n",
    "            target.send(line)  # Send to next stage\n",
    "\n",
    "\n",
    "# A sink.  A coroutine that receives data\n",
    "@coroutine\n",
    "def printer():\n",
    "    while True:\n",
    "        line = yield\n",
    "        print(line, end=\" \")"
   ]
  },
  {
   "cell_type": "code",
   "execution_count": null,
   "id": "16215588-3c35-491e-b382-e63e2ded3d77",
   "metadata": {},
   "outputs": [],
   "source": [
    "f = open(\"access-log\")\n",
    "follow(f, grep(\"python\", printer()))"
   ]
  },
  {
   "cell_type": "markdown",
   "id": "db2f5e91-d6d0-4684-9269-239ae950067f",
   "metadata": {},
   "source": [
    "### Generator-based Pipeline vs Coroutine-based Pipeline\n",
    "\n",
    "* Generator is pull-based: pull data through the pipe with \"for\" by the sink\n",
    "\n",
    "```\n",
    "input seq -----> |generator|-------> |generator| -------> |generator| ------> for x in s : \n",
    "```\n",
    "\n",
    "* Coroutine is push-based: push data through the pipe with send() by the source\n",
    "\n",
    "```\n",
    "         send()               send()\n",
    "|source|-------> |coroutine| -------> |coroutine sink| \n",
    "```\n",
    "\n",
    "* You could build an entire dataflow processing !\n",
    "  - With branch\n",
    "  - With broadcast\n",
    "  - In a graph structure"
   ]
  },
  {
   "cell_type": "markdown",
   "id": "e9302c5c-8a81-4d64-aca7-ccf7ebe61ccf",
   "metadata": {},
   "source": [
    "### XML Event Processing\n",
    "\n",
    "* Problem\n",
    "\n",
    "- Where is my bus?\n",
    "- Chicago Transit Authority (CTA) equips most of its buses with real-time GPS tracking\n",
    "- You can get current data on every bus on the street as a big XML document\n",
    "\n",
    "* Some XML\n",
    "\n",
    "```\n",
    "<?xml version=\"1.0\"?>\n",
    "  <buses>\n",
    "    <bus>\n",
    "        <id>7574</id>\n",
    "        <route>147</route>\n",
    "        <color>#3300ff</color>\n",
    "        <revenue>true</revenue>\n",
    "        <direction>North Bound</direction>\n",
    "        <latitude>41.925682067871094</latitude>\n",
    "        <longitude>-87.63092803955078</longitude>\n",
    "        <pattern>2499</pattern>\n",
    "        <patternDirection>North Bound</patternDirection>\n",
    "        <run>P675</run>\n",
    "        <finalStop><![CDATA[Paulina & Howard Terminal]]></finalStop>\n",
    "        <operator>42493</operator>\n",
    "    </bus>\n",
    "    <bus>\n",
    "       ...\n",
    "    </bus>\n",
    "  </buses>\n",
    "```"
   ]
  },
  {
   "cell_type": "markdown",
   "id": "a04a0e88-47d6-4665-a5a3-daea14ad60c7",
   "metadata": {},
   "source": [
    "* XML Parsing\n",
    "\n",
    "    - There are many possible ways to parse XML\n",
    "    - An old-school approach: SAX (Simple API for XML)\n",
    "    - SAX is an event driven interface\n",
    "\n",
    "```\n",
    "                 events\n",
    " | XML Parser | ---------> | Handler |\n",
    "```\n",
    "\n",
    "```\n",
    "class Handler:\n",
    "   def startElement():\n",
    "       ...\n",
    "   def endElement():\n",
    "       ...\n",
    "   def characters():\n",
    "```\n",
    "~~~"
   ]
  },
  {
   "cell_type": "markdown",
   "id": "731d39d7-30c8-406d-b72c-bba7f06372b0",
   "metadata": {},
   "source": [
    "* Minimal SAX Example"
   ]
  },
  {
   "cell_type": "code",
   "execution_count": null,
   "id": "a3d6d9fd-02f5-458a-a9f6-3ad18e41dc8a",
   "metadata": {},
   "outputs": [],
   "source": [
    "# basicsax.py\n",
    "#\n",
    "# A very simple example illustrating the SAX XML parsing interface\n",
    "\n",
    "import xml.sax\n",
    "\n",
    "\n",
    "class MyHandler(xml.sax.ContentHandler):\n",
    "    def startElement(self, name, attrs):\n",
    "        print(\"startElement\", name)\n",
    "\n",
    "    def endElement(self, name):\n",
    "        print(\"endElement\", name)\n",
    "\n",
    "    def characters(self, text):\n",
    "        print(\"characters\", repr(text)[:40])\n",
    "\n",
    "\n",
    "xml.sax.parse(\"allroutes.xml\", MyHandler())"
   ]
  },
  {
   "cell_type": "markdown",
   "id": "dec21923-890b-432f-ad63-bb4441195046",
   "metadata": {},
   "source": [
    "* Some Issues\n",
    "    - SAX is often used because it can be used to incrementally process huge XML files without a large memory footprint\n",
    "    - However, the event-driven nature of SAX parsing makes it rather awkward and low-level to deal with\n",
    "* From SAX to Coroutines\n",
    "    - You can dispatch SAX events into coroutines\n",
    "    - Consider this SAX handler: it does nothing, but send events to a target"
   ]
  },
  {
   "cell_type": "code",
   "execution_count": null,
   "id": "80a27edb-777d-46f8-a190-d482e500470d",
   "metadata": {},
   "outputs": [],
   "source": [
    "import xml.sax\n",
    "\n",
    "class EventHandler(xml.sax.ContentHandler):\n",
    "    def __init__(self, target):\n",
    "        self.target = target\n",
    "\n",
    "    def startElement(self, name, attrs):\n",
    "        self.target.send((\"start\", (name, attrs._attrs)))\n",
    "\n",
    "    def characters(self, text):\n",
    "        self.target.send((\"text\", text))\n",
    "\n",
    "    def endElement(self, name):\n",
    "        self.target.send((\"end\", name))\n"
   ]
  },
  {
   "cell_type": "code",
   "execution_count": null,
   "id": "618ee44a-9cc3-44a9-8443-f2e2ec459396",
   "metadata": {},
   "outputs": [],
   "source": [
    "@coroutine\n",
    "def printer():\n",
    "    while True:\n",
    "        event = yield\n",
    "        print(event)\n",
    "\n",
    "xml.sax.parse(\"allroutes.xml\", EventHandler(printer()))"
   ]
  },
  {
   "cell_type": "markdown",
   "id": "e595a837-9ca2-4c1f-9500-26a9b97cd71a",
   "metadata": {},
   "source": [
    "* An Event Stream\n",
    "    - The big picture\n",
    "\n",
    "```\n",
    "                 events                  send()\n",
    " | SAX Parser | ---------> | Handler |  --------->  (event,value)\n",
    "\n",
    "                                                 'start'      ('direction',{})\n",
    "                                                 'end'        'direction'\n",
    "                                                 'text'       'North Bound'\n",
    "\n",
    "```\n",
    "* Event Processing\n",
    "\n",
    "  - To do anything interesting, you have to process the event stream\n",
    "  - Example: Convert bus elements into dictionaries (XML sucks, dictionaries rock)\n",
    "  - From:\n",
    "\n",
    "```\n",
    "<bus>\n",
    "    <id>7574</id>\n",
    "    <route>147</route>\n",
    "    <revenue>true</revenue>\n",
    "    <direction>North Bound</direction>\n",
    "    ...\n",
    "</bus>\n",
    "```\n",
    "\n",
    "  - To:\n",
    "\n",
    "```\n",
    "{\n",
    "  'id' : '7574',\n",
    "  'route' : '147',\n",
    "  'revenue' : 'true',\n",
    "  'direction' : 'North Bou\n",
    "  ...\n",
    "}\n",
    "```"
   ]
  },
  {
   "cell_type": "code",
   "execution_count": null,
   "id": "9a122f98-d662-4428-8412-5f2d1afb1a52",
   "metadata": {},
   "outputs": [],
   "source": [
    "@coroutine\n",
    "def buses_to_dicts(target):\n",
    "    while True:\n",
    "        event, value = yield\n",
    "        # Look for the start of a <bus> element\n",
    "        if event == \"start\" and value[0] == \"bus\":\n",
    "            busdict = {}\n",
    "            fragments = []\n",
    "            # Capture text of inner elements in a dict\n",
    "            while True:\n",
    "                event, value = yield\n",
    "                if event == \"start\":\n",
    "                    fragments = []\n",
    "                elif event == \"text\":\n",
    "                    fragments.append(value)\n",
    "                elif event == \"end\":\n",
    "                    if value != \"bus\":\n",
    "                        busdict[value] = \"\".join(fragments)\n",
    "                    else:\n",
    "                        target.send(busdict)\n",
    "                        break\n"
   ]
  },
  {
   "cell_type": "code",
   "execution_count": null,
   "id": "53ddfb12-b74d-4668-b6ea-2e168a88fa95",
   "metadata": {},
   "outputs": [],
   "source": []
  },
  {
   "cell_type": "markdown",
   "id": "99d12fe3-c176-4cad-800e-f3aee42d905c",
   "metadata": {},
   "source": [
    "* State Machines\n",
    "    - The previous code works by implementing a simple state machine\n",
    "\n",
    "```\n",
    "             ('start',('bus',*))\n",
    "       <->   -------------------->   <->\n",
    "---> |  A  |                       |  B  | \n",
    "             <--------------------\n",
    "                 ('end','bus')\n",
    "```\n",
    "    - State A: Looking for a bus\n",
    "    - State B: Collecting bus attributes\n",
    "    - Comment : Coroutines are perfect for this\n"
   ]
  },
  {
   "cell_type": "markdown",
   "id": "ef2942be-be64-41a1-afa8-32ed24eaa608",
   "metadata": {},
   "source": [
    "* Buses to Dictionaries\n",
    "  - State A\n",
    "\n",
    "```\n",
    "    while True:\n",
    "        event, value = yield\n",
    "        # Look for the start of a <bus> element\n",
    "        if event == \"start\" and value[0] == \"bus\":\n",
    " \n",
    "```\n",
    "  - State B\n",
    "```\n",
    "            while True:\n",
    "                event, value = yield\n",
    "                if event == \"start\":\n",
    "                    fragments = []\n",
    "                elif event == \"text\":\n",
    "                    fragments.append(value)\n",
    "                elif event == \"end\":\n",
    "                    if value != \"bus\":\n",
    "                        busdict[value] = \"\".join(fragments)\n",
    "                    else:\n",
    "                        target.send(busdict)\n",
    "                        break\n",
    "\n",
    "```"
   ]
  },
  {
   "cell_type": "markdown",
   "id": "bf116a92-3772-4881-97ba-250c3cab467b",
   "metadata": {},
   "source": [
    "* Filtering Elements\n",
    "\n",
    "  - Let's filter on dictionary fields\n",
    "\n",
    "```\n",
    "  - Examples:\n",
    "```\n",
    "filter_on_field(\"route\",\"22\",target)\n",
    "filter_on_field(\"direction\",\"North Bound\",target)\n",
    "```"
   ]
  },
  {
   "cell_type": "code",
   "execution_count": null,
   "id": "6784c186-f084-43a2-a11d-6145f6c6acb3",
   "metadata": {},
   "outputs": [],
   "source": [
    "@coroutine\n",
    "def filter_on_field(fieldname, value, target):\n",
    "    while True:\n",
    "        d = yield\n",
    "        if d.get(fieldname) == value:\n",
    "            target.send(d)"
   ]
  },
  {
   "cell_type": "markdown",
   "id": "4b06ab3a-e1c4-4f5a-a028-d58f2130a71c",
   "metadata": {},
   "source": [
    "* Processing Elements\n",
    "  - Where's my bus?\n",
    "\n",
    "   - This receives dictionaries and prints a table\n",
    "\n",
    "```\n",
    "     22,1485,\"North Bound\",41.880481123924255,-87.62948191165924\n",
    "     22,1629,\"North Bound\",42.01851969751819,-87.6730209876751\n",
    "```"
   ]
  },
  {
   "cell_type": "code",
   "execution_count": null,
   "id": "8b55d6db-89ae-43d1-8973-ddff5ff6171d",
   "metadata": {},
   "outputs": [],
   "source": []
  },
  {
   "cell_type": "code",
   "execution_count": null,
   "id": "9e78ed63-3056-4626-a1fb-44fb953033a6",
   "metadata": {},
   "outputs": [],
   "source": [
    "@coroutine\n",
    "def bus_locations():\n",
    "    while True:\n",
    "        bus = yield\n",
    "        print('%(route)s,%(id)s,\"%(direction)s\",' \"%(latitude)s,%(longitude)s\" % bus)\n"
   ]
  },
  {
   "cell_type": "markdown",
   "id": "ec242c2a-ee99-467f-945e-8244067f2321",
   "metadata": {},
   "source": [
    "* Hooking it Together\n",
    "    - Find all locations of the North Bound #22 bus (the slowest moving object in the universe)\n",
    "    - This final step involves a bit of plumbing, but each of the parts is relatively simple"
   ]
  },
  {
   "cell_type": "code",
   "execution_count": null,
   "id": "0c443a7a-3f32-4869-9fc0-0993df3b67de",
   "metadata": {},
   "outputs": [],
   "source": [
    "xml.sax.parse(\n",
    "        \"allroutes.xml\",\n",
    "        EventHandler(\n",
    "            buses_to_dicts(\n",
    "                filter_on_field(\n",
    "                    \"route\",\n",
    "                    \"22\",\n",
    "                    filter_on_field(\"direction\", \"North Bound\", bus_locations()),\n",
    "                )\n",
    "            )\n",
    "        ),\n",
    ")"
   ]
  },
  {
   "cell_type": "markdown",
   "id": "e6e89cc6-0ec4-4801-a6fa-a4fe6f75fed8",
   "metadata": {},
   "source": [
    "## Recap\n",
    "\n",
    "* Iteration protocol allows user-defined *iterables* with sequence-like behavior\n",
    "* Generator allows development of \"dynamic\" iteratibles with reentrant execution\n",
    "* Couroutine (where yield appear at RHS) enables reentrant execution while receiving values at each execution\n",
    "* Both can be used for stream (event) processing\n",
    "  - pushed-based: coroutine\n",
    "  - pull-based: generator\n",
    "  - Write *state machines* WITHOUT explicit state management (simplified and intuitive programming!)\n",
    "  - Small footprint for intermediate data: keep everything in memory!"
   ]
  }
 ],
 "metadata": {
  "kernelspec": {
   "display_name": "Python 3 (ipykernel)",
   "language": "python",
   "name": "python3"
  },
  "language_info": {
   "codemirror_mode": {
    "name": "ipython",
    "version": 3
   },
   "file_extension": ".py",
   "mimetype": "text/x-python",
   "name": "python",
   "nbconvert_exporter": "python",
   "pygments_lexer": "ipython3",
   "version": "3.11.6"
  }
 },
 "nbformat": 4,
 "nbformat_minor": 5
}
