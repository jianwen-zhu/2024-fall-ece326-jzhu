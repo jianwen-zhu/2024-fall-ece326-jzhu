{
 "cells": [
  {
   "cell_type": "markdown",
   "id": "01b36cb2-d217-4e6f-bd26-af864be142f8",
   "metadata": {},
   "source": [
    "# Lecture 3: Python Sequences\n",
    "\n",
    "Jianwen Zhu <jzhu@eecg.toronto.edu>\n",
    "v2.0, 2024-09\n"
   ]
  },
  {
   "cell_type": "markdown",
   "id": "1dac00ef-f955-4511-b7e4-28ed7c1934cc",
   "metadata": {},
   "source": [
    "# Agenda\n",
    "\n",
    "* iteration construct\n",
    "* sequences\n",
    "  - string\n",
    "  - list\n",
    "  - dictionary\n",
    "  - tuple"
   ]
  },
  {
   "cell_type": "markdown",
   "id": "59c25c4a-6d85-4df3-904f-6beb47989cb8",
   "metadata": {},
   "source": [
    "# While Statement\n",
    "\n",
    "* recall recursive construction of countdown\n",
    "* cost of function calls\n",
    "* good old while loop\n"
   ]
  },
  {
   "cell_type": "code",
   "execution_count": null,
   "id": "12139c25-0b27-4baa-a617-ef9a883998bc",
   "metadata": {},
   "outputs": [],
   "source": [
    "def countdown( n ) :\n",
    "    while n > 0 : \n",
    "        print( n )\n",
    "        n = n - 1\n",
    "    print( 'Blastoff!' )\n",
    "countdown(10)"
   ]
  },
  {
   "cell_type": "markdown",
   "id": "344393d1-a03d-4e75-9b12-0054a0437325",
   "metadata": {},
   "source": [
    "## Forever loop"
   ]
  },
  {
   "cell_type": "code",
   "execution_count": null,
   "id": "e6dd17a5-c3e6-463e-9765-d69b5b3854db",
   "metadata": {},
   "outputs": [],
   "source": [
    "while True :\n",
    "    line = input( '> ' ) \n",
    "    if line == 'done' :\n",
    "        break\n",
    "    print( line )\n",
    "print( 'Done' )"
   ]
  },
  {
   "cell_type": "markdown",
   "id": "62afd8de-c950-4f2a-a53c-f48fabf9b6e7",
   "metadata": {},
   "source": [
    "## Square Root Approximation Algorithm\n",
    "\n",
    "- Newton's algorithm\n",
    "- A few caveats\n"
   ]
  },
  {
   "cell_type": "code",
   "execution_count": null,
   "id": "59ca9320-aaab-4bb5-92d3-5eed1cb3a510",
   "metadata": {},
   "outputs": [],
   "source": [
    "epsilon = 0.01\n",
    "def sra( a ) :\n",
    "    x = a / 2\n",
    "    while True:\n",
    "          print( x )\n",
    "          y = (x + a/x) / 2\n",
    "          if abs(y-x) < epsilon :\n",
    "             break\n",
    "          x = y\n",
    "    return x"
   ]
  },
  {
   "cell_type": "code",
   "execution_count": null,
   "id": "37ff952c-79e2-435d-a26e-d88ec1846c44",
   "metadata": {},
   "outputs": [],
   "source": [
    "sra( 16 )"
   ]
  },
  {
   "cell_type": "code",
   "execution_count": null,
   "id": "c6513e66-0d3a-483c-b77a-4610c81d87f6",
   "metadata": {},
   "outputs": [],
   "source": [
    "sra( 25 )"
   ]
  },
  {
   "cell_type": "markdown",
   "id": "45365b06-e695-447a-8102-9fa3b1aba0d9",
   "metadata": {},
   "source": [
    "* Recap\n",
    "   - Multiple assignment: vars are initialized and assigned more than once\n",
    "   - loop often has loop index, incremented by one each iteration\n",
    "   - conditional evaluation and branch forming cycle"
   ]
  },
  {
   "cell_type": "markdown",
   "id": "8fcc09d1-0612-4bd0-a7e3-3805d3857fa3",
   "metadata": {},
   "source": [
    "# Sequence Overview\n",
    "\n",
    "  * an ordered collection (set) of values w/t standard functions (methods)\n",
    "    - membership test\n",
    "    - subset\n",
    "    - eumeration\n",
    "    \n",
    "  * another angle: a mapping from an index to value\n",
    "    - lookup\n",
    "    - reverse lookup (searching, content address memory)\n",
    "    \n",
    "  * data structures in C\n",
    "  * native data types with native operators in Python\n",
    "    - make python enjoyable to read and write!\n",
    "      \n",
    "  * We should live and breathe with these built-in data structures\n"
   ]
  },
  {
   "cell_type": "markdown",
   "id": "3eb4c760-7e20-40ac-83d7-eb5d31dd7c1b",
   "metadata": {},
   "source": [
    "# String\n",
    "\n",
    "  * We have already seen one: string is a sequence!\n",
    "  * sequence of characters\n",
    "  * indexed lookup using []\n",
    "  * index has to be an integer"
   ]
  },
  {
   "cell_type": "code",
   "execution_count": null,
   "id": "53b3306d-b416-4505-b550-e6b1b3d00b2d",
   "metadata": {},
   "outputs": [],
   "source": [
    "fruit = 'banana'\n",
    "print( fruit[0] )\n",
    "print( fruit[1] )"
   ]
  },
  {
   "cell_type": "code",
   "execution_count": null,
   "id": "ca956659-0f93-49d6-b2f0-1f278cf5b72e",
   "metadata": {},
   "outputs": [],
   "source": [
    "print( fruit[1.5] )"
   ]
  },
  {
   "cell_type": "markdown",
   "id": "7c5e15d5-1b9c-42ab-b9f4-42ec3d045bbd",
   "metadata": {},
   "source": [
    "* Builtin function len"
   ]
  },
  {
   "cell_type": "code",
   "execution_count": null,
   "id": "9b174145-12b2-4a18-8db0-f0aaeb7d8014",
   "metadata": {},
   "outputs": [],
   "source": [
    "len( fruit )"
   ]
  },
  {
   "cell_type": "markdown",
   "id": "6b132d2c-68ce-4993-b0bd-6f1c0d8f251b",
   "metadata": {},
   "source": [
    "* Index has to be within range. "
   ]
  },
  {
   "cell_type": "code",
   "execution_count": null,
   "id": "d63f7d85-1211-4214-822a-f555346d0cb4",
   "metadata": {},
   "outputs": [],
   "source": [
    "fruit[len(fruit)]"
   ]
  },
  {
   "cell_type": "markdown",
   "id": "be936714-00a5-4f13-82ee-4229c116649b",
   "metadata": {},
   "source": [
    "* Enumeration (of every element)\n",
    "\n",
    "This is how you would do it in C: \n",
    "\n",
    "~~~\n",
    "for( i = 0; i < strlen(fruit); i ++ )\n",
    "     printf( \"%c\", fruit[i] );     \n",
    "~~~\n",
    "\n",
    "Here is the \"Pythonic\" way: "
   ]
  },
  {
   "cell_type": "code",
   "execution_count": null,
   "id": "7c97cfbd-477b-47ba-9e88-4a50cb3907ff",
   "metadata": {},
   "outputs": [],
   "source": [
    "for char in fruit :\n",
    "    print( char )"
   ]
  },
  {
   "cell_type": "markdown",
   "id": "971b9b04-10ef-4722-9848-341615a39fa8",
   "metadata": {},
   "source": [
    "Much like the mathematical notation $\\forall char \\in fruit$."
   ]
  },
  {
   "cell_type": "markdown",
   "id": "4926960a-6ed4-4d38-919d-68fdb6ea4caf",
   "metadata": {},
   "source": [
    "* Subsetting (Slicing)\n",
    "     - [first:last:step]: from first to last, excluding last, with step size of step.\n",
    "     - [first:]\n",
    "     - [:last]\n",
    "     - [:] ?\n",
    "\n",
    "  Like auto-completion to minimize work from programmer for the most common case."
   ]
  },
  {
   "cell_type": "markdown",
   "id": "0dcc01d9-8611-4da6-bbe6-f96f33b2ff85",
   "metadata": {},
   "source": [
    "The following means the same thing."
   ]
  },
  {
   "cell_type": "code",
   "execution_count": null,
   "id": "a3925ba5-a7f6-4ece-b435-c2f737dce37d",
   "metadata": {},
   "outputs": [],
   "source": [
    "print( fruit[0:3] )\n",
    "print( fruit[:3] )"
   ]
  },
  {
   "cell_type": "markdown",
   "id": "21c1ed8f-1c07-4fbc-9a1c-f9be2a561f5a",
   "metadata": {},
   "source": [
    "Try to predict the outputs:"
   ]
  },
  {
   "cell_type": "code",
   "execution_count": null,
   "id": "087a6e74-4e2f-48c1-a6c0-ff13c1a63c96",
   "metadata": {},
   "outputs": [],
   "source": [
    "print( fruit[:3] )\n",
    "print( fruit[3:3] )"
   ]
  },
  {
   "cell_type": "markdown",
   "id": "38231915-3746-448a-b1a9-7481c06d8ef9",
   "metadata": {},
   "source": [
    "Let's try something dangerous"
   ]
  },
  {
   "cell_type": "code",
   "execution_count": null,
   "id": "24cf3ed5-6989-4bcf-b978-0ade5051d16b",
   "metadata": {},
   "outputs": [],
   "source": [
    "print( fruit[::-1] )"
   ]
  },
  {
   "cell_type": "markdown",
   "id": "8302eba2-edeb-4aa0-a4d6-58bc08a0f2a2",
   "metadata": {},
   "source": [
    "* searching (reverse lookup)"
   ]
  },
  {
   "cell_type": "code",
   "execution_count": null,
   "id": "1068ccfb-04ce-404f-96c6-bf5bfcad9543",
   "metadata": {},
   "outputs": [],
   "source": [
    "def find( word, letter ) :\n",
    "    index = 0\n",
    "    while index < len(word) :\n",
    "           if word[index] == letter :\n",
    "               return index\n",
    "           index = index + 1\n",
    "    return -1"
   ]
  },
  {
   "cell_type": "markdown",
   "id": "b556aa83-8199-4aee-b200-9e638abd1011",
   "metadata": {},
   "source": [
    "* membership/subset test: in operator"
   ]
  },
  {
   "cell_type": "code",
   "execution_count": null,
   "id": "e4400df8-3694-405e-9a9f-8268b22149a8",
   "metadata": {},
   "outputs": [],
   "source": [
    "'a' in 'banana'"
   ]
  },
  {
   "cell_type": "code",
   "execution_count": null,
   "id": "a87d36b4-320d-4ac1-8c20-2e45b9c770f0",
   "metadata": {},
   "outputs": [],
   "source": [
    "'an' in 'banana'"
   ]
  },
  {
   "cell_type": "code",
   "execution_count": null,
   "id": "95fa5088-a566-4f28-9773-c3de74c5da72",
   "metadata": {},
   "outputs": [],
   "source": [
    "'seed' in 'banana'"
   ]
  },
  {
   "cell_type": "markdown",
   "id": "a1bfa650-62d3-4b4c-9b30-1eabcc3a27bc",
   "metadata": {},
   "source": [
    "Example: print all letters appearing in both word1 and word2"
   ]
  },
  {
   "cell_type": "code",
   "execution_count": null,
   "id": "33dc7967-22da-4fd0-896e-b1f5beec340b",
   "metadata": {},
   "outputs": [],
   "source": [
    "def in_both( word1, word2 ) :\n",
    "    for letter in word1 :\n",
    "        if letter in word2 :\n",
    "            print( letter )\n",
    "\n",
    "in_both( 'good', 'bad' )"
   ]
  },
  {
   "cell_type": "markdown",
   "id": "ef742aa4-71e0-4cc6-9a8c-997db22210e3",
   "metadata": {},
   "source": [
    "* Comparison operator =="
   ]
  },
  {
   "cell_type": "code",
   "execution_count": null,
   "id": "2d382caf-c842-4555-98ac-a5767d4c56e6",
   "metadata": {},
   "outputs": [],
   "source": [
    "string1 = 'hello'\n",
    "string2 = 'he' + 'llo'\n",
    "print( string1 == string2 )\n",
    "print( string1 is string2 )\n",
    "string1[0] = 'b'"
   ]
  },
  {
   "cell_type": "markdown",
   "id": "f083ad18-e40c-4746-9754-4c5f90b70aeb",
   "metadata": {},
   "source": [
    "# Lists\n",
    "\n",
    "* Strings are sequence of values of fixed type: characters\n",
    "* Lists are sequence of values (element, item) of arbitary types\n",
    "* Form:\n",
    "  - [ a, b, c, ... ]\n",
    "  - [] : empty list "
   ]
  },
  {
   "cell_type": "code",
   "execution_count": null,
   "id": "d3d4c96d-cbfe-4015-9de3-d4899191f04f",
   "metadata": {},
   "outputs": [],
   "source": [
    "[10, 20, 30, 40] #uniform types\n",
    "['spam', 2.0, 5, [10, 20]] #non-uniform types, even nested!"
   ]
  },
  {
   "cell_type": "markdown",
   "id": "89d1ac25-0f87-41a7-b4c0-99ba4d392c85",
   "metadata": {},
   "source": [
    "## Indexed Lookup"
   ]
  },
  {
   "cell_type": "code",
   "execution_count": null,
   "id": "fa3aed8e-9346-4822-896a-dc736847ba08",
   "metadata": {},
   "outputs": [],
   "source": [
    "fruits = ['apple', 'orange', 'lemon']\n",
    "print( fruits[0] )"
   ]
  },
  {
   "cell_type": "markdown",
   "id": "4459ac68-05a2-498d-abb6-6654d0457308",
   "metadata": {},
   "source": [
    "Index has to be within range. If negative value: counts back from the end."
   ]
  },
  {
   "cell_type": "code",
   "execution_count": null,
   "id": "4e9d7d47-1361-4a8e-a5b6-bd2a43336f0d",
   "metadata": {},
   "outputs": [],
   "source": [
    "fruits[-1]"
   ]
  },
  {
   "cell_type": "markdown",
   "id": "1f994036-8e74-4a49-b6f5-d0e23b44ff42",
   "metadata": {},
   "source": [
    "## Mutable (In contrast to String)"
   ]
  },
  {
   "cell_type": "code",
   "execution_count": null,
   "id": "ef62abd6-4504-4df9-8d5d-67917504e554",
   "metadata": {},
   "outputs": [],
   "source": [
    "fruits[0] = 'grape'"
   ]
  },
  {
   "cell_type": "code",
   "execution_count": null,
   "id": "f4cda44f-93e0-4fe0-8829-a9f95155689f",
   "metadata": {},
   "outputs": [],
   "source": [
    "fruits[0][0] = 'q'"
   ]
  },
  {
   "cell_type": "markdown",
   "id": "63ce2251-d709-4a3a-bd0f-b97def5a760f",
   "metadata": {},
   "source": [
    "## Enumeration"
   ]
  },
  {
   "cell_type": "code",
   "execution_count": null,
   "id": "00c16db2-b630-450b-b397-eb526acb812b",
   "metadata": {},
   "outputs": [],
   "source": [
    "for fruit in fruits :\n",
    "    print( fruit )"
   ]
  },
  {
   "cell_type": "markdown",
   "id": "e118c616-6f2b-474d-926d-25dc98b0b1ea",
   "metadata": {},
   "source": [
    "range() function produces an integer sequence from a scalar"
   ]
  },
  {
   "cell_type": "code",
   "execution_count": null,
   "id": "8d71660a-1098-4620-9363-390e2afcb7ea",
   "metadata": {},
   "outputs": [],
   "source": [
    "for i in range( len(fruits) ) :\n",
    "    print( fruits[i] )"
   ]
  },
  {
   "cell_type": "markdown",
   "id": "7edc2e31-1f57-4035-a380-d77cae363dec",
   "metadata": {},
   "source": [
    "## Concatenation and Repetion (Just like in strings)"
   ]
  },
  {
   "cell_type": "code",
   "execution_count": null,
   "id": "36655503-fcca-49c6-a629-d18d2855eacb",
   "metadata": {},
   "outputs": [],
   "source": [
    "print( [1, 2, 3] + [4, 5, 6] )\n",
    "print( [0] * 4 )\n",
    "print( [1, 2, 3] * 4 )"
   ]
  },
  {
   "cell_type": "markdown",
   "id": "6c354809-4a8b-489f-b4ca-04343d06ef33",
   "metadata": {},
   "source": [
    "## Slicing"
   ]
  },
  {
   "cell_type": "code",
   "execution_count": null,
   "id": "d33a9bd3-1a7b-4eac-a656-5049700d43be",
   "metadata": {},
   "outputs": [],
   "source": [
    "t = ['a', 'b', 'c', 'd']\n",
    "t[1:3] = ['x', 'y']\n",
    "print( t )\n",
    "t[0:5] = ['0', '1', '2', '3', '4']\n",
    "print( t )"
   ]
  },
  {
   "cell_type": "code",
   "execution_count": null,
   "id": "21c9f16c-9b96-4b51-b1ca-b96c9f582883",
   "metadata": {},
   "outputs": [],
   "source": [
    "t = 'abcd'\n",
    "t[1:3] = 'xy'"
   ]
  },
  {
   "cell_type": "markdown",
   "id": "1ba47e7d-c309-46be-9553-9681b0395b1b",
   "metadata": {},
   "source": [
    "## Comparison"
   ]
  },
  {
   "cell_type": "code",
   "execution_count": null,
   "id": "e32e9df9-886f-4bc4-bf65-e419df5916ed",
   "metadata": {},
   "outputs": [],
   "source": [
    "a = [1, 2, 3]\n",
    "b = [1, 2, 3]\n",
    "\n",
    "print( a==b )       # compare by value\n",
    "print( a is b )     # compare by reference"
   ]
  },
  {
   "cell_type": "code",
   "execution_count": null,
   "id": "30738b4c-1a78-4657-9c16-9e2bfcd3e8ee",
   "metadata": {},
   "outputs": [],
   "source": [
    "a = 'abc'\n",
    "b = 'abc'\n",
    "\n",
    "print( a == b )    #compare by value\n",
    "print( a is b )    #compare by reference"
   ]
  },
  {
   "cell_type": "markdown",
   "id": "479ace10-15d3-457a-b698-478f9fe8b80b",
   "metadata": {},
   "source": [
    "Because string is immutable, allowing Python to de-duplicate string values.\n",
    "That's why a and b are reusing the same object in memory.\n",
    "\n",
    "NOTE: Assignment is always by reference. Assignment effectively create an *alias* of the value at RHS."
   ]
  },
  {
   "cell_type": "markdown",
   "id": "aef4da81-56b2-45ae-b460-8519a0b6a85e",
   "metadata": {},
   "source": [
    "# Dictionary\n",
    "\n",
    "  * The index of list has to be integers\n",
    "  * The index of dictionary can be arbitary types\n",
    "  * Form:\n",
    "     - { key:val, key:val, ... }\n",
    "     - {}: empty dictionary\n",
    "     - dict(): empty dictionary\n",
    "\n"
   ]
  },
  {
   "cell_type": "code",
   "execution_count": 3,
   "id": "cc76c74c-c304-44ad-b6ba-d65430dc8c1d",
   "metadata": {},
   "outputs": [
    {
     "name": "stdout",
     "output_type": "stream",
     "text": [
      "{0: 2, 1: 3, 2: 5}\n",
      "<class 'dict'>\n",
      "{'one': 'uno', 'two': 'dos', 'three': 'tres'}\n"
     ]
    }
   ],
   "source": [
    "print( { 0: 2, 1: 3, 2: 5} )\n",
    "eng2sp = { 'one':'uno', 'two':'dos', 'three':'tres' }\n",
    "print( type(eng2sp) )\n",
    "print( eng2sp )\n"
   ]
  },
  {
   "cell_type": "markdown",
   "id": "572a93c3-db6a-4f29-bd44-708acde93d82",
   "metadata": {},
   "source": [
    "## Lookup"
   ]
  },
  {
   "cell_type": "markdown",
   "id": "89aa3eee-7f2b-4125-91de-ef3732b59f7f",
   "metadata": {},
   "source": [
    "Remember index can be any time. In this case index is a string."
   ]
  },
  {
   "cell_type": "code",
   "execution_count": 4,
   "id": "68214f21-e9b0-458f-9493-61fe86d29f54",
   "metadata": {},
   "outputs": [
    {
     "name": "stdout",
     "output_type": "stream",
     "text": [
      "uno\n"
     ]
    }
   ],
   "source": [
    "print( eng2sp['one'] )"
   ]
  },
  {
   "cell_type": "markdown",
   "id": "2d963c4e-8329-48d8-95a6-3c6c6ebc5c31",
   "metadata": {},
   "source": [
    "## Membership "
   ]
  },
  {
   "cell_type": "code",
   "execution_count": null,
   "id": "e5a93000-38d3-44f5-b883-748a35981635",
   "metadata": {},
   "outputs": [],
   "source": []
  },
  {
   "cell_type": "markdown",
   "id": "6f0028c5-1a51-4da8-a13c-310a189d4d50",
   "metadata": {},
   "source": [
    "Like usual, use the \"in\" operator. Also not a dictionary is mutable and therefore can show up at LHS."
   ]
  },
  {
   "cell_type": "markdown",
   "id": "47ef0d6f-7e4b-4a0d-b990-5343b80be94c",
   "metadata": {},
   "source": [
    "This example calculates a history, an account of number of occurrances of a charater in a string. (How does this relates to a probability density function (PDF)?)"
   ]
  },
  {
   "cell_type": "code",
   "execution_count": 9,
   "id": "64f2bd30-7c97-47cf-8f5f-753fdeffc0aa",
   "metadata": {},
   "outputs": [],
   "source": [
    "def histogram( s ) :\n",
    "   ## assert isinstance(s,str)\n",
    "   d = {}   # start with an empty dictionary \n",
    "   for c in s :\n",
    "       if c not in d :\n",
    "          d[c] = 1      #dictionary is mutable\n",
    "       else :\n",
    "          d[c] += 1\n",
    "   return d          \n"
   ]
  },
  {
   "cell_type": "code",
   "execution_count": 7,
   "id": "8f6397b7-31cb-4dcd-aa0a-1e74281c4c92",
   "metadata": {},
   "outputs": [
    {
     "data": {
      "text/plain": [
       "{'g': 1, 'o': 2, 'd': 1}"
      ]
     },
     "execution_count": 7,
     "metadata": {},
     "output_type": "execute_result"
    }
   ],
   "source": [
    "histogram( 'good' )"
   ]
  },
  {
   "cell_type": "code",
   "execution_count": null,
   "id": "8b1731d8-49ee-403c-99a2-53fe05182d04",
   "metadata": {},
   "outputs": [],
   "source": [
    "Did I just lied that this works only for string? Would the following work?"
   ]
  },
  {
   "cell_type": "code",
   "execution_count": 10,
   "id": "454edf8f-7782-471e-bc50-18b87b8772e5",
   "metadata": {},
   "outputs": [
    {
     "data": {
      "text/plain": [
       "{'good': 2, 'bad': 1}"
      ]
     },
     "execution_count": 10,
     "metadata": {},
     "output_type": "execute_result"
    }
   ],
   "source": [
    "histogram( ['good', 'good', 'bad'] )"
   ]
  },
  {
   "cell_type": "markdown",
   "id": "affcc68b-7f44-49a5-b00c-4a1d1bb75541",
   "metadata": {},
   "source": [
    "*Polymorphic* programing in Action! "
   ]
  },
  {
   "cell_type": "markdown",
   "id": "5cd4ed60-36a3-4746-a35e-30a0a721d64c",
   "metadata": {},
   "source": [
    "## Enumeration"
   ]
  },
  {
   "cell_type": "code",
   "execution_count": 11,
   "id": "1f946d9a-c8b2-4687-8b89-17908405a9ec",
   "metadata": {},
   "outputs": [
    {
     "name": "stdout",
     "output_type": "stream",
     "text": [
      "g 1\n",
      "o 2\n",
      "d 1\n"
     ]
    }
   ],
   "source": [
    "def print_histogram( h ) :\n",
    "   for c in h :\n",
    "       print( c, h[c] )\n",
    "\n",
    "print_histogram( histogram('good') )"
   ]
  },
  {
   "cell_type": "markdown",
   "id": "f26550fc-8eef-4b85-8786-2d1ac728890e",
   "metadata": {},
   "source": [
    "## Search"
   ]
  },
  {
   "cell_type": "code",
   "execution_count": null,
   "id": "ed41d926-6b1d-4472-bb0e-e19cc9983beb",
   "metadata": {},
   "outputs": [],
   "source": [
    "def reverse_lookup( h, v ) :\n",
    "   for k in h :\n",
    "       if( h[k] == v ) :\n",
    "           return k\n",
    "   return None"
   ]
  },
  {
   "cell_type": "markdown",
   "id": "32bb556d-8e6c-458e-b915-65c49ff40578",
   "metadata": {},
   "source": [
    "   * I lied that key can be arbitary types\n",
    "     - they have to be immutable!\n",
    "     - Why? (hint: think about hash table implementation)\n"
   ]
  },
  {
   "cell_type": "markdown",
   "id": "587ec8bf-474c-459c-9ea7-7b29d85fa5b7",
   "metadata": {},
   "source": [
    "## Example: \n",
    "     - We use divide/conquer to solve problem\n",
    "     - typically map well to recursion\n",
    "     - Recall fibonacci\n",
    "   "
   ]
  },
  {
   "cell_type": "code",
   "execution_count": 13,
   "id": "9c1659a5-8da3-4eb9-810d-03ddb9d3951c",
   "metadata": {},
   "outputs": [],
   "source": [
    "def fibonacci(n) :\n",
    "    if n in [0,1] :\n",
    "        result = n\n",
    "    else :\n",
    "        result = fibonacci(n-1) + fibonacci(n-2)\n",
    "    return result"
   ]
  },
  {
   "cell_type": "markdown",
   "id": "f66932c8-b04f-4ca7-9e99-1b3d17cb4885",
   "metadata": {},
   "source": [
    "This is all good except it is hugely inefficient. We engineers cannot settle for this! Could you identify where?"
   ]
  },
  {
   "cell_type": "code",
   "execution_count": null,
   "id": "5a535220-dd49-4145-a4e9-30ac51156385",
   "metadata": {},
   "outputs": [],
   "source": [
    "global cache\n",
    "cache = {}\n",
    "def enhanced_fibonacci(n) :\n",
    "    if( n in cache ) :\n",
    "        return cache[n]\n",
    "    if n in [0,1] :\n",
    "        result = n\n",
    "    else :\n",
    "        result = fibonacci(n-1) + fibonacci(n-2)\n",
    "    cache[n] = result\n",
    "    return result"
   ]
  },
  {
   "cell_type": "markdown",
   "id": "0404a52b-2286-41c6-a8b8-2319cb863b75",
   "metadata": {},
   "source": [
    "We can *refactor* it little bit better:"
   ]
  },
  {
   "cell_type": "code",
   "execution_count": 14,
   "id": "cc65ad22-6b87-44b3-bca0-64403e40e861",
   "metadata": {},
   "outputs": [],
   "source": [
    "global cache\n",
    "cache = { 0:0, 1:1 }\n",
    "def enhanced_fibonacci(n) :\n",
    "    if( n in cache ) :\n",
    "        return cache[n]\n",
    "    result = fibonacci(n-1) + fibonacci(n-2)\n",
    "    cache[n] = result\n",
    "    return result"
   ]
  },
  {
   "cell_type": "code",
   "execution_count": 15,
   "id": "dc37805b-be89-4565-a3db-dd929aea9804",
   "metadata": {},
   "outputs": [
    {
     "name": "stdout",
     "output_type": "stream",
     "text": [
      "5.72 μs ± 135 ns per loop (mean ± std. dev. of 7 runs, 100,000 loops each)\n"
     ]
    }
   ],
   "source": [
    "%%timeit \n",
    "fibonacci(10)"
   ]
  },
  {
   "cell_type": "code",
   "execution_count": 16,
   "id": "32889655-bbd4-4359-b9c5-e0ca739ff42c",
   "metadata": {},
   "outputs": [
    {
     "name": "stdout",
     "output_type": "stream",
     "text": [
      "32 ns ± 0.129 ns per loop (mean ± std. dev. of 7 runs, 10,000,000 loops each)\n"
     ]
    }
   ],
   "source": [
    "%%timeit\n",
    "\n",
    "enhanced_fibonacci(10)"
   ]
  },
  {
   "cell_type": "markdown",
   "id": "e9ae8228-78dc-46f7-9bdb-98720a777879",
   "metadata": {},
   "source": [
    "We have just re-discovered \"Dynamic Programming\"!\n",
    "So what is dynamic programming again?\n",
    "\n",
    "1. Solve complex task by solving a set of sub-tasks;\n",
    "2. Same subtasks could be encountered many times, so we *remember* and *reuse* the result of already computed sub-tasks;\n",
    "3. The data structure that \"memorizes\" the result is a \"table\" (this is what programming means in the original context of \"dynamic programming\" ).\n",
    "4. Guess what's the best data structure for memorization? "
   ]
  },
  {
   "cell_type": "markdown",
   "id": "2d9e7246-6e50-4f84-bfa8-a42827bfae06",
   "metadata": {},
   "source": [
    "Tuples\n",
    "------\n",
    "  * Sequence of values (just like list)\n",
    "  * Immutables!\n",
    "  * Forms\n",
    "    - a, b, c, ...\n",
    "    - (a, b, c, ... )\n",
    "    - ()\n",
    "    - tuple()\n",
    "\n",
    "  * Lookup(Index), Slicing, Enumeration (for) works as usual with the SAME syntax!\n",
    "\n",
    "Now let's look at some of the \"sugar candy\" Python gives to you."
   ]
  },
  {
   "cell_type": "markdown",
   "id": "10bee449-5034-4d82-99d2-0a07ea71c67e",
   "metadata": {},
   "source": [
    "## Tuple Variable Assignment\n",
    "\n",
    "Recall in C when we need to swap the value of two variables.\n",
    "\n",
    "~~~\n",
    "temp = a;\n",
    "a = b;\n",
    "b = temp;\n",
    "~~~\n",
    "\n",
    "We can simply do this in Python: "
   ]
  },
  {
   "cell_type": "code",
   "execution_count": null,
   "id": "ff9bbf78-b397-4320-aa7f-ffddfe4c6eae",
   "metadata": {},
   "outputs": [],
   "source": [
    "a, b = b, a"
   ]
  },
  {
   "cell_type": "markdown",
   "id": "d6d377e2-b71c-4203-8015-ac590b08ac3e",
   "metadata": {},
   "source": [
    "## Multiple Return Values\n",
    "\n",
    "Recall in C when we have to return two values by a function.\n",
    "\n",
    "~~~\n",
    "void divmod( int a, int b, int* quot, int* rem ) {\n",
    "    *quot = a / b;\n",
    "    *rem = a % b;\n",
    "}\n",
    "~~~\n",
    "\n",
    "This not only distasteful, but also forbid further functional call chaining.\n",
    "Look at the equivalent of Python:"
   ]
  },
  {
   "cell_type": "code",
   "execution_count": null,
   "id": "ab73a539-3f1b-49a0-9948-61595df17bd0",
   "metadata": {},
   "outputs": [],
   "source": [
    "quot, rem = divmod( 7, 3 )\n",
    "print( quot )\n",
    "print( rem )"
   ]
  },
  {
   "cell_type": "code",
   "execution_count": 17,
   "id": "ac2281d4-2e59-411c-ba1a-11566c805997",
   "metadata": {},
   "outputs": [
    {
     "name": "stdout",
     "output_type": "stream",
     "text": [
      "(1, 5)\n"
     ]
    }
   ],
   "source": [
    "def min_max( t ) :\n",
    "    return min(t), max(t)\n",
    "\n",
    "print( min_max([1, 1, 3, 5] ) )"
   ]
  },
  {
   "cell_type": "markdown",
   "id": "e02829c3-2e6f-4321-b880-066ba6e41535",
   "metadata": {},
   "source": [
    "## Function with Arbitart Number of Argments\n",
    "\n",
    "Recall the implementation of most-frequently used C function,\n",
    "the venarable \"printf\"! Do you notice it has arbitary number of\n",
    "arguments?\n",
    "\n",
    "~~~\n",
    "void printall( ... ) {\n",
    "    va_list    va;\n",
    "\n",
    "    va_start( va, ... );\n",
    "    for( ... ) {\n",
    "        arg = va_arg( va, int );\n",
    "        printf( \"%d \", arg );\n",
    "        }\n",
    "    va_end( va );\n",
    "    }\n",
    "    \n",
    "~~~"
   ]
  },
  {
   "cell_type": "markdown",
   "id": "46b1f9a6-0505-458d-9066-616f91790ca4",
   "metadata": {},
   "source": [
    "Recall we talked about Python function can take positional arguments, key-value arguments, and we *deferred* the discussion of taking arbitary number of arguments? No we can: the * operator that can *gather* all arguments into a tuple."
   ]
  },
  {
   "cell_type": "code",
   "execution_count": 18,
   "id": "3176212e-caae-443d-8136-4978d0e2ef95",
   "metadata": {},
   "outputs": [
    {
     "name": "stdout",
     "output_type": "stream",
     "text": [
      "(1, 2.0, '3')\n",
      "((1, 2.0, '3'),)\n"
     ]
    }
   ],
   "source": [
    "def printall( *args ) :\n",
    "    print( args )\n",
    "\n",
    "printall( 1, 2.0, '3' )\n",
    "printall( (1, 2.0, '3') )"
   ]
  },
  {
   "cell_type": "markdown",
   "id": "2c464c78-3c8b-4299-9fa1-b330025ae3e2",
   "metadata": {},
   "source": [
    "Do notice the way a single element tuple is printed in the above example.\n",
    "Try to see the difference between the following two:"
   ]
  },
  {
   "cell_type": "code",
   "execution_count": 19,
   "id": "86d4618c-5a1e-4e40-b88b-1b37c4a42f61",
   "metadata": {},
   "outputs": [
    {
     "data": {
      "text/plain": [
       "(1, 2.0, '3')"
      ]
     },
     "execution_count": 19,
     "metadata": {},
     "output_type": "execute_result"
    }
   ],
   "source": [
    "((1, 2.0, '3'))"
   ]
  },
  {
   "cell_type": "code",
   "execution_count": 20,
   "id": "98ccf32f-a2d5-4cdb-8039-782896d1d91a",
   "metadata": {},
   "outputs": [
    {
     "data": {
      "text/plain": [
       "((1, 2.0, '3'),)"
      ]
     },
     "execution_count": 20,
     "metadata": {},
     "output_type": "execute_result"
    }
   ],
   "source": [
    "((1, 2.0, '3'),)"
   ]
  },
  {
   "cell_type": "markdown",
   "id": "cf50be62-7a48-432b-aa4d-70af676e8200",
   "metadata": {},
   "source": [
    "Now let's see the opposite of gather operation:\n",
    "Scatter: expand tuple into arguments."
   ]
  },
  {
   "cell_type": "code",
   "execution_count": null,
   "id": "16d00ae3-9d7a-40de-a5e8-fe5b74e97731",
   "metadata": {},
   "outputs": [],
   "source": [
    "t = (7, 3)\n",
    "print( divmod( *t ) )"
   ]
  },
  {
   "cell_type": "markdown",
   "id": "d190de19-25f4-45af-a06d-3092aab7dc85",
   "metadata": {},
   "source": [
    "## Zip\n",
    "\n",
    "  - Builtin function (like len() function you have seen earlier)\n",
    "  - From: two or more sequences\n",
    "  - To:   a *list* of tuples, each element of tuple is taking from\n",
    "    respective element from sequence\n",
    "\n"
   ]
  },
  {
   "cell_type": "code",
   "execution_count": 22,
   "id": "ce9b503e-9099-4aa8-a512-e2998ff32f0d",
   "metadata": {},
   "outputs": [
    {
     "name": "stdout",
     "output_type": "stream",
     "text": [
      "<zip object at 0xffff980f5a80>\n",
      "[('a', 0), ('b', 1), ('c', 2)]\n"
     ]
    }
   ],
   "source": [
    "s = 'abc'                   # a string\n",
    "t = [0, 1, 2]               # a list\n",
    "z = zip( s, t )\n",
    "print( z )        # into a zipped object\n",
    "print( list(z) )  # convert a zipped object into a list"
   ]
  },
  {
   "cell_type": "markdown",
   "id": "9e3b60fa-b0ce-4c4d-be2f-88941667ec5d",
   "metadata": {},
   "source": [
    "Let's dicipher the following code."
   ]
  },
  {
   "cell_type": "code",
   "execution_count": 24,
   "id": "3a26b889-564d-493c-866a-7c2d0eba6eb1",
   "metadata": {},
   "outputs": [
    {
     "name": "stdout",
     "output_type": "stream",
     "text": [
      "<zip object at 0xffff983ef380>\n",
      "(1, 2, 3)\n",
      "('a', 'b', 'c')\n"
     ]
    }
   ],
   "source": [
    "zipped_list = [(1, 'a'), (2, 'b'), (3, 'c')]\n",
    "numbers, letters = zip(*zipped_list)\n",
    "print(numbers)\n",
    "print(letters)"
   ]
  },
  {
   "cell_type": "markdown",
   "id": "62db54e3-95e0-4bf0-a2c3-a8245ef20ade",
   "metadata": {},
   "source": [
    "## Enumeration"
   ]
  },
  {
   "cell_type": "code",
   "execution_count": 25,
   "id": "f39661b6-bd1d-422d-ad22-253a60ab5df1",
   "metadata": {},
   "outputs": [
    {
     "name": "stdout",
     "output_type": "stream",
     "text": [
      "(0, 'a')\n",
      "(1, 'b')\n",
      "(2, 'c')\n"
     ]
    }
   ],
   "source": [
    "t = zip( [0,1,2], 'abc' )\n",
    "for me in t :\n",
    "    print( me )\n"
   ]
  },
  {
   "cell_type": "code",
   "execution_count": 26,
   "id": "b11c70bf-5d85-47e6-a33e-60f9ac6f22b6",
   "metadata": {},
   "outputs": [
    {
     "name": "stdout",
     "output_type": "stream",
     "text": [
      "0 a\n",
      "1 b\n",
      "2 c\n"
     ]
    }
   ],
   "source": [
    "t = zip( [0,1,2], 'abc' )\n",
    "for number, letter in t :\n",
    "    print( number, letter )"
   ]
  },
  {
   "cell_type": "code",
   "execution_count": 27,
   "id": "2e35143e-6c13-4c74-81d7-b10ca50d4d28",
   "metadata": {},
   "outputs": [
    {
     "data": {
      "text/plain": [
       "True"
      ]
     },
     "execution_count": 27,
     "metadata": {},
     "output_type": "execute_result"
    }
   ],
   "source": [
    "def has_match( t1, t2 ) :\n",
    "    for x, y in zip( t1, t2 ) :\n",
    "        if x == y :\n",
    "            return True\n",
    "    return False\n",
    "\n",
    "has_match( 'aaa-pairwise', 'bbb-pairwise' )"
   ]
  },
  {
   "cell_type": "markdown",
   "id": "9c305e1e-21ed-4905-9863-da1284c0c353",
   "metadata": {},
   "source": [
    "Now we can have a fast way to create a dictionary!\n",
    "\n",
    "Let's use another new built-in function range(N) which\n",
    "create a list from 0 to N-1."
   ]
  },
  {
   "cell_type": "code",
   "execution_count": 29,
   "id": "f62ada23-10d0-4cd5-bf04-667e8e07b42b",
   "metadata": {},
   "outputs": [
    {
     "name": "stdout",
     "output_type": "stream",
     "text": [
      "[0, 1, 2]\n",
      "{'a': 0, 'b': 1, 'c': 2}\n"
     ]
    }
   ],
   "source": [
    "print( list(range(3)) )\n",
    "z = zip( 'abc', range(3) )\n",
    "d = dict( z )\n",
    "print( d )\n"
   ]
  },
  {
   "cell_type": "markdown",
   "id": "9155c9ac-e82f-49da-8b9b-786c63e97095",
   "metadata": {},
   "source": [
    "Tuple can be key for a dictionary. Why? Because it is immutable!"
   ]
  },
  {
   "cell_type": "markdown",
   "id": "29a326f8-0060-4940-a132-b0ffffaa0e25",
   "metadata": {},
   "source": [
    "# Sequence As Objects"
   ]
  },
  {
   "cell_type": "markdown",
   "id": "265f0c5e-076c-4f5c-80ca-b6267e17de85",
   "metadata": {},
   "source": [
    "* Constructors\n",
    "\n",
    "* string methods\n",
    "  - s.upper()\n",
    "  - s.find( 'a' )\n",
    "  - s.split()\n",
    "  \n",
    "* list methods  \n",
    "  - l.append( e )\n",
    "  - l.extend( l2 )\n",
    "  - l.sort()\n",
    "  - l.pop( index )\n",
    "  - l.pop(): remove last element\n",
    "  - l.remove( val )\n",
    "  - del l[index]\n"
   ]
  },
  {
   "cell_type": "markdown",
   "id": "08e99618-cf20-4a1d-a8a4-e9cde79a54f5",
   "metadata": {},
   "source": [
    "Example: Simple Stack"
   ]
  },
  {
   "cell_type": "code",
   "execution_count": null,
   "id": "27010012-b698-4361-94e8-8ba7eb83a17c",
   "metadata": {},
   "outputs": [],
   "source": [
    "def stack_init() :\n",
    "    return []\n",
    "def stack_push( s, e ) :\n",
    "    s.append( e )\n",
    "    return s\n",
    "def stack_pop( s ) :\n",
    "    e = s.pop()\n",
    "    return e"
   ]
  },
  {
   "cell_type": "markdown",
   "id": "5a12903d-f929-487a-8fdf-ca1349da5baf",
   "metadata": {},
   "source": [
    "Example: Simple FIFO"
   ]
  },
  {
   "cell_type": "code",
   "execution_count": null,
   "id": "8848469c-d05f-4b79-a31d-787e01ef49ce",
   "metadata": {},
   "outputs": [],
   "source": [
    "def fifo_init() :\n",
    "    return []\n",
    "def fifo_enqueue( s, e ) :\n",
    "    s.append( e )\n",
    "    return s\n",
    "def fifo_dequeue( s ) :\n",
    "    e = s.pop( 0 )\n",
    "    return e"
   ]
  },
  {
   "cell_type": "markdown",
   "id": "269971ba-72bc-4026-893e-8ed0255d0ab9",
   "metadata": {},
   "source": [
    "# List Comprehension\n",
    "\n",
    "* Common programming pattern for *deriving* one sequence from another.\n",
    "\n",
    "~~~\n",
    "l1 = range( 5 )\n",
    "l2 = []\n",
    "for i in l1\n",
    "    l2 = i * i\n",
    "~~~\n",
    "\n",
    "Again, distasteful...\n",
    "What if we could mimic the mathematical notation:\n",
    "$\\{ i^2 | \\forall i \\in N\\}$"
   ]
  },
  {
   "cell_type": "code",
   "execution_count": null,
   "id": "3300791b-5a6f-4c30-8697-d8c7e933c1e6",
   "metadata": {},
   "outputs": [],
   "source": [
    "l1 = range( 5 )\n",
    "l2 = [ i * i for i in l1 ]\n",
    "print( l2 )"
   ]
  },
  {
   "cell_type": "markdown",
   "id": "841f7afd-d64a-409f-9ae8-7717e9a6f0fa",
   "metadata": {},
   "source": [
    "Now let's translate this math notation into Python.\n",
    "Note that we are describing *what* we want (the values\n",
    "that satisfy a property), not *how* we compute it.\n",
    "\n",
    "$S = \\{ s**2 | \\forall s \\in [0..9]\\}$\n",
    "\n",
    "$M = \\{ m | \\forall m \\in S {\\rm \\ and \\ m \\ is \\ even} \\}$"
   ]
  },
  {
   "cell_type": "code",
   "execution_count": null,
   "id": "ab6a7ac3-9386-4d39-9da3-002cbbfeef43",
   "metadata": {},
   "outputs": [],
   "source": [
    "S = [s**2 for s in range(10)]\n",
    "M = [m for m in S if m % 2 == 0]\n",
    "print( S )\n",
    "print( M )"
   ]
  },
  {
   "cell_type": "markdown",
   "id": "73efebb2-d928-4a39-9304-e6a10339085e",
   "metadata": {},
   "source": [
    "Let's do something more complex in list comprehension, and think about the number line of code if you have to do it in other way. Note here we introduce a new string method, split(), that break a string into \"token\" of words. This comes handy when performing text processing."
   ]
  },
  {
   "cell_type": "code",
   "execution_count": null,
   "id": "5514bf2c-bbd4-443e-86af-094d603b3374",
   "metadata": {},
   "outputs": [],
   "source": [
    "words = 'The quick brown fox jumps over the lazy dog'.split()\n",
    "print( words )\n",
    "stuff = [[w.upper(), w.lower(), len(w)] for w in words]\n",
    "print( stuff )"
   ]
  },
  {
   "cell_type": "markdown",
   "id": "badd5090-45dd-47d9-a34a-8aa9930ac314",
   "metadata": {},
   "source": [
    " * General syntax\n",
    " \n",
    " L = [ F(x) for x in S if P(x)]\n",
    "\n",
    "   - Function F(x) is *mapped* to every x\n",
    "   - Function P(x) is the *filter*\n",
    "   - F(x) and P(x) are really just expressions\n",
    "   - Nested: there could be multiple for with its own predicte\n",
    "   \n",
    " * Big deal:\n",
    "  - Expression, not statement\n",
    "  - Almost like Math notation\n",
    "  "
   ]
  },
  {
   "cell_type": "markdown",
   "id": "ac23e3be-a053-43a6-b05a-798a7b445a0f",
   "metadata": {},
   "source": [
    "Example: Now we can do some brain twisting by trying to find\n",
    "the *cross product* of two sets."
   ]
  },
  {
   "cell_type": "code",
   "execution_count": null,
   "id": "ee27fa9e-1927-4a9f-a39b-d53173aa7627",
   "metadata": {},
   "outputs": [],
   "source": [
    "colours = [ \"red\", \"green\", \"yellow\", \"blue\" ]\n",
    "things = [ \"house\", \"car\", \"tree\" ]\n",
    "coloured_things = [ (x,y) for x in colours for y in things ]\n",
    "print( coloured_things )"
   ]
  },
  {
   "cell_type": "code",
   "execution_count": null,
   "id": "05d07858-9c61-4c4d-a009-b9ac85b51ed8",
   "metadata": {},
   "outputs": [],
   "source": [
    "Example: Finding columes of a matrix."
   ]
  },
  {
   "cell_type": "code",
   "execution_count": null,
   "id": "4650b02f-84b0-4689-9c69-287c8b05006c",
   "metadata": {},
   "outputs": [],
   "source": [
    "M1 = [[1, 2, 3],\n",
    "      [4, 5, 6],\n",
    "      [7, 8, 9]]\n",
    "M1[2]"
   ]
  },
  {
   "cell_type": "code",
   "execution_count": null,
   "id": "302f768e-5b44-43ee-8307-3d7eafee449c",
   "metadata": {},
   "outputs": [],
   "source": [
    "This gives us the last row. But what about last column?"
   ]
  },
  {
   "cell_type": "code",
   "execution_count": null,
   "id": "02ee4765-93e7-4a74-ab8f-3a10ae65fb1e",
   "metadata": {},
   "outputs": [],
   "source": [
    "[r[2] for r in M1]"
   ]
  },
  {
   "cell_type": "markdown",
   "id": "b741d82b-7cf0-42be-b8ca-91381e1ea6f8",
   "metadata": {},
   "source": [
    "Example: Prime Number "
   ]
  },
  {
   "cell_type": "code",
   "execution_count": null,
   "id": "4e4e4bcb-7cb9-49e2-bce3-6235c0dc46c6",
   "metadata": {},
   "outputs": [],
   "source": [
    "noprimes = [j for i in range(2, 8) for j in range(i*2, 50, i)]\n",
    "primes = [x for x in range(2, 50) if x not in noprimes]\n",
    "print( primes )\n"
   ]
  },
  {
   "cell_type": "markdown",
   "id": "54795f61-b654-41e4-a9d3-1a274b3d10af",
   "metadata": {},
   "source": [
    "Example: Quick Sort"
   ]
  },
  {
   "cell_type": "code",
   "execution_count": null,
   "id": "f1fbea4f-395e-433a-a733-482051ba1c41",
   "metadata": {},
   "outputs": [],
   "source": [
    "def qsort(s) :\n",
    "    if( len(s) < 2 ) : return s\n",
    "    pivot = s[0]\n",
    "    less = [e for e in s if e < pivot]\n",
    "    grt  = [e for e in s if e > pivot]\n",
    "    eq = [e for e in s if e == pivot]\n",
    "    result = [qsort(v) for v in [less, grt]]\n",
    "    return result[0] + eq + result[1]\n",
    "print( qsort( [2, 1, 5, 3, 4] ) )"
   ]
  },
  {
   "cell_type": "markdown",
   "id": "65878119-7892-4b79-a0ab-cd64ac020baa",
   "metadata": {},
   "source": [
    "# Recap\n",
    "\n",
    "* \"Collection\" data structures abstracted as native types\n",
    "* Common idioms with *suggestive* operators \n",
    "  - []\n",
    "  - [::]\n",
    "  - in\n",
    "  - for\n",
    "  - comprehension\n",
    "    \n",
    "* Polymorphic programming\n",
    "  - care what you can do, not who you are\n",
    "\n",
    "* Immutables vs Mutable\n"
   ]
  },
  {
   "cell_type": "code",
   "execution_count": null,
   "id": "c7076572-791e-4329-834e-170419ac78a5",
   "metadata": {},
   "outputs": [],
   "source": []
  }
 ],
 "metadata": {
  "kernelspec": {
   "display_name": "Python 3 (ipykernel)",
   "language": "python",
   "name": "python3"
  },
  "language_info": {
   "codemirror_mode": {
    "name": "ipython",
    "version": 3
   },
   "file_extension": ".py",
   "mimetype": "text/x-python",
   "name": "python",
   "nbconvert_exporter": "python",
   "pygments_lexer": "ipython3",
   "version": "3.11.6"
  }
 },
 "nbformat": 4,
 "nbformat_minor": 5
}
