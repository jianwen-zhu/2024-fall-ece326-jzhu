{
 "cells": [
  {
   "cell_type": "markdown",
   "id": "4988101d-2f78-4514-9bc2-c9dd957d8145",
   "metadata": {},
   "source": [
    "# Leceture 2: Python Imperative Core\n",
    "\n",
    "Jianwen Zhu <jzhu@eecg.toronto.edu>\n",
    "v2.0, 2024-09\n"
   ]
  },
  {
   "cell_type": "markdown",
   "id": "e4737107-a9fa-4932-9604-6e8030e22c41",
   "metadata": {},
   "source": [
    "# Agenda\n",
    "\n",
    "  - value, type, variable\n",
    "  - expression, statement\n",
    "  - function\n",
    "  - module"
   ]
  },
  {
   "cell_type": "markdown",
   "id": "cc59141f-7e4e-499a-8c12-7fac814a0af3",
   "metadata": {},
   "source": [
    "# Invoking Python\n",
    "\n",
    "* Interactive mode\n",
    "\n",
    "~~~\n",
    ">python3\n",
    "Python 3.11.6 (main, Apr 10 2024, 17:26:07) [GCC 13.2.0] on linux\n",
    "Type \"help\", \"copyright\", \"credits\" or \"license\" for more information.\n",
    ">>> \n",
    "~~~\n",
    "\n",
    "* Script mode\n",
    "~~~\n",
    ">python3 foo.py\n",
    "~~~\n",
    "\n",
    "Python3 and Python2.6 are not backward compatible. We will be using Python3 in this course.\n",
    "From now on all python code will be on Jupyter"
   ]
  },
  {
   "cell_type": "markdown",
   "id": "d31c44d3-d38c-4a57-9995-0c858b9b69b4",
   "metadata": {},
   "source": [
    "# Value, Type, Variable\n",
    "\n",
    "* Value: Basic unit of data program manipulates\n",
    "* Type:\n",
    "  - A category of values (or a set of values)\n",
    "  - A type itself is also a value!\n",
    "* Variable: name that refers to a value\n"
   ]
  },
  {
   "cell_type": "code",
   "execution_count": null,
   "id": "f6b9bd81-8522-40e8-99f2-207feb69ddaf",
   "metadata": {},
   "outputs": [],
   "source": [
    "print( 'Hello, World!' )"
   ]
  },
  {
   "cell_type": "code",
   "execution_count": null,
   "id": "819d6614-9f46-4488-9e88-10b531088a64",
   "metadata": {},
   "outputs": [],
   "source": [
    "print( 4 )"
   ]
  },
  {
   "cell_type": "code",
   "execution_count": null,
   "id": "92e929fa-9c4f-45bc-b23b-ba4bc95b393e",
   "metadata": {},
   "outputs": [],
   "source": [
    "type( 4 )"
   ]
  },
  {
   "cell_type": "code",
   "execution_count": null,
   "id": "f41070e8-2614-4814-b0e2-ecc57cb71032",
   "metadata": {},
   "outputs": [],
   "source": [
    "type( '4' )"
   ]
  },
  {
   "cell_type": "code",
   "execution_count": null,
   "id": "bdcc7a38-15b1-43e2-ad1e-04d1dfdb2a1f",
   "metadata": {},
   "outputs": [],
   "source": [
    "type( 3.2 )"
   ]
  },
  {
   "cell_type": "code",
   "execution_count": null,
   "id": "dbcf4fbb-d4de-4955-937f-1231d8657d5c",
   "metadata": {},
   "outputs": [],
   "source": [
    "message = 'hi'\n",
    "n = 17\n",
    "pi = 3.14\n",
    "print( n )\n",
    "print( pi )\n",
    "type(pi)"
   ]
  },
  {
   "cell_type": "markdown",
   "id": "08f1a90b-1116-4141-a187-9b09808726cf",
   "metadata": {},
   "source": [
    "NOTE: String could be single quoted and double quoted\n",
    "\n",
    "  To print \"hey\"\n",
    "  \n",
    "~~~C\n",
    "  printf (\"\\\"hey\\\"\" );\n",
    "~~~\n",
    "\n",
    "A bit cumbersome. Syntactically much nicer in Python. Also no need of \";\" after each statement."
   ]
  },
  {
   "cell_type": "code",
   "execution_count": null,
   "id": "23a57795-4389-4ce5-8b57-84028db820d1",
   "metadata": {},
   "outputs": [],
   "source": [
    "print( '\"hey\"' )"
   ]
  },
  {
   "cell_type": "markdown",
   "id": "fb5cbe0a-d832-4c88-9b94-737aea05ec59",
   "metadata": {},
   "source": [
    "Hex/Oct number representation the same as C."
   ]
  },
  {
   "cell_type": "code",
   "execution_count": null,
   "id": "765145b0-7de1-4bb5-954d-26245c73d50a",
   "metadata": {},
   "outputs": [],
   "source": [
    "zipcode = 0o2492"
   ]
  },
  {
   "cell_type": "markdown",
   "id": "dfba33bc-0770-43cb-a8aa-812ebee15f55",
   "metadata": {},
   "source": [
    "# Imperative Construct\n",
    "\n",
    "* Statement \n",
    "    - assignment (Key of Imperative Paradigm)\n",
    "    - control flow (Implicitly assignment to PC, more to come)\n",
    "\n",
    "* Expression\n",
    "    - Function Application: a(v1)\n",
    "    - Function Composition: b( a(v1) )\n",
    "    - Operators:\n",
    "      - Nothing but a function with special symbol as name\n",
    "      - Functional apply on operands (either unary or binary or ternary)\n",
    "      - Arithmetic operators:\n",
    "          - Just like C: + - * / ^ %\n",
    "          - Not in C: 5**2: Exponentiation\n",
    "      - Relational: == != > < >= <=\n",
    "      - Logical: and, or, not\n",
    "\n",
    "* Operator Precedence\n",
    "  - ()\n",
    "  - **\n",
    "  - \\* /\n",
    "  - ...\n",
    "\n",
    "* Operators valid for string w/t Natural/Intuitive interpretation\n",
    "    - +: Concatenation\n",
    "    - *: Repetition\n",
    "  "
   ]
  },
  {
   "cell_type": "code",
   "execution_count": null,
   "id": "46f99618-c85d-4782-9105-83fd4bb656c3",
   "metadata": {},
   "outputs": [],
   "source": [
    "print( 5**2 )\n",
    "print( 'hello' + ' ' + 'world' )"
   ]
  },
  {
   "cell_type": "code",
   "execution_count": null,
   "id": "c0133d8f-6148-471e-89a5-23a7bfd5a33b",
   "metadata": {},
   "outputs": [],
   "source": [
    "a = 'Spam'\n",
    "print( a*3 )\n",
    "print( 3*a )"
   ]
  },
  {
   "cell_type": "markdown",
   "id": "dd82fe01-1303-40fe-955f-1371e3111d2c",
   "metadata": {},
   "source": [
    "# Comment\n",
    "\n",
    "* Single line: # (// as in C++)\n",
    "\n",
    "~~~\n",
    "#here is a commented statement\n",
    "v = 5 #assign 4 to v\n",
    "~~~\n"
   ]
  },
  {
   "cell_type": "markdown",
   "id": "0cb0f821-8387-4ebf-8b91-22ada9f09d43",
   "metadata": {},
   "source": [
    "# Defining Functions\n",
    "* We saw how to use functions\n",
    "* Let's create our own"
   ]
  },
  {
   "cell_type": "code",
   "execution_count": null,
   "id": "8c203d70-9814-4ecb-8263-ec04f6db6f52",
   "metadata": {},
   "outputs": [],
   "source": [
    "def print_lyrics() :\n",
    "    print( \"I am a lumberjack, and I am OK.\" )\n",
    "    print( \"I sleep all night and I work all day.\" )\n"
   ]
  },
  {
   "cell_type": "markdown",
   "id": "36569ec6-e83a-43b8-8088-4d0165de28b0",
   "metadata": {},
   "source": [
    "## Note\n",
    "\n",
    " - def is a keyword\n",
    " - paranthesis enclose function parameters\n",
    " - header (first line end with colon)\n",
    " - body\n",
    " - end a function with empty line (if interactive mode)\n",
    " - function is nothing but a value\n"
   ]
  },
  {
   "cell_type": "markdown",
   "id": "1fddf902-ea8d-4eb0-a5e6-c8f0d4b9cd7d",
   "metadata": {},
   "source": [
    "## IMPORTANT\n",
    "\n",
    " - body has to be indented!\n",
    " - use space, not tab to avoid confusion\n",
    " - No curly braces! (if indented anyway for readibility, why the waste?)"
   ]
  },
  {
   "cell_type": "code",
   "execution_count": null,
   "id": "acd51194-a57a-4505-a866-ce868fc01b7a",
   "metadata": {},
   "outputs": [],
   "source": [
    "print( type(print_lyrics) )    #function has a type as all values"
   ]
  },
  {
   "cell_type": "code",
   "execution_count": null,
   "id": "d7f26772-9f55-49d1-927c-df19b6482a08",
   "metadata": {},
   "outputs": [],
   "source": [
    "print( print_lyrics )        #function is nothing but a value"
   ]
  },
  {
   "cell_type": "code",
   "execution_count": null,
   "id": "1a8d554b-c439-4ec3-a9b3-0176fe662039",
   "metadata": {},
   "outputs": [],
   "source": [
    "print_lyrics()               # let's actually call the function"
   ]
  },
  {
   "cell_type": "markdown",
   "id": "4e172eb6-ab26-415f-b5f0-d59c3bacabbe",
   "metadata": {},
   "source": [
    "## Function can call functions"
   ]
  },
  {
   "cell_type": "code",
   "execution_count": null,
   "id": "0599ced1-9c19-4188-8f1d-e1aa77019dd0",
   "metadata": {},
   "outputs": [],
   "source": [
    "def repeat_lyrics() :\n",
    "    print_lyrics()\n",
    "    print_lyrics()"
   ]
  },
  {
   "cell_type": "code",
   "execution_count": null,
   "id": "f273f11b-cb7f-4373-a8dc-64b6d3b9e5d4",
   "metadata": {},
   "outputs": [],
   "source": [
    "repeat_lyrics()"
   ]
  },
  {
   "cell_type": "markdown",
   "id": "3e76d661-8aa9-4f42-8344-50680e2863fc",
   "metadata": {},
   "source": [
    "## Function taking parameters "
   ]
  },
  {
   "cell_type": "code",
   "execution_count": 3,
   "id": "3f3c6566-03cc-4051-8db0-95ec7c0f81c4",
   "metadata": {},
   "outputs": [
    {
     "name": "stdout",
     "output_type": "stream",
     "text": [
      "alice\n",
      "alice\n"
     ]
    }
   ],
   "source": [
    "def print_twice( bruce ) :\n",
    "    print( bruce )\n",
    "    print( bruce )\n",
    "\n",
    "print_twice( 'alice' )"
   ]
  },
  {
   "cell_type": "code",
   "execution_count": null,
   "id": "cd08156d-15f2-487e-95e7-2432e0f58a00",
   "metadata": {},
   "outputs": [],
   "source": [
    "def print_twice( bruce ) :\n",
    "    print( bruce )\n",
    "    print( bruce )\n",
    "\n",
    "print_twice( 'alice' )"
   ]
  },
  {
   "cell_type": "markdown",
   "id": "52dc296f-d793-4714-a327-5879a4bf65a1",
   "metadata": {},
   "source": [
    "## Function taking optional parameters w/t default value"
   ]
  },
  {
   "cell_type": "code",
   "execution_count": null,
   "id": "f1bf24dd-f474-4108-b7ab-e043473a915b",
   "metadata": {},
   "outputs": [],
   "source": [
    "def Hello(name=\"everybody\"):\n",
    "    print( \"Hello \" + name + \"!\" )\n",
    "    \n",
    "Hello(\"Peter\")\n",
    "Hello()"
   ]
  },
  {
   "cell_type": "markdown",
   "id": "ba222105-896c-4c2f-8e11-4cf4ae7bdd90",
   "metadata": {},
   "source": [
    "## Function taking keyword parameters (in addition to positional parameters)"
   ]
  },
  {
   "cell_type": "code",
   "execution_count": null,
   "id": "d634c2c0-7209-4a89-9ca8-d8dda7ac41e3",
   "metadata": {},
   "outputs": [],
   "source": [
    "def sumsub(a, b, c=4, d=2):\n",
    "    return a - b + c - d\n",
    "\n",
    "print( sumsub(12,4) )\n",
    "print( sumsub(42,15,d=10) )\n",
    "print( sumsub( b=4, d=10, a=1, d=5, b=2 ) )"
   ]
  },
  {
   "cell_type": "markdown",
   "id": "c8a100f4-96ac-4816-a9f7-81324016aaa8",
   "metadata": {},
   "source": [
    "## Function Taking Arbitary Number of Parameters\n",
    "\n",
    "Deferred"
   ]
  },
  {
   "cell_type": "markdown",
   "id": "3add1670-65c5-4e89-b7e6-6538cc4e3882",
   "metadata": {},
   "source": [
    "## Function Return Values"
   ]
  },
  {
   "cell_type": "code",
   "execution_count": 1,
   "id": "dff24d36-27c9-4485-9c37-7d94e96b5dc8",
   "metadata": {},
   "outputs": [
    {
     "name": "stdout",
     "output_type": "stream",
     "text": [
      "71.6\n",
      "None\n",
      "None\n"
     ]
    }
   ],
   "source": [
    "def fahrenheit(T_in_celsius):\n",
    "    return (T_in_celsius * 9 / 5) + 32\n",
    "    \n",
    "print( fahrenheit(22) )\n",
    "    \n",
    "def no_return(x,y):\n",
    "    c = x + y\n",
    "    \n",
    "print( no_return( 4, 5 ) )\n",
    "\n",
    "def no_return(x,y):\n",
    "    c = x + y\n",
    "    return\n",
    "    \n",
    "print( no_return( 4, 5 ) )"
   ]
  },
  {
   "cell_type": "markdown",
   "id": "ccdfe11d-a39d-4e64-a7b5-b4d3035b2a05",
   "metadata": {},
   "source": [
    "## Local Variables in Function\n",
    "\n",
    " - variables do NOT need to be declared at all\n",
    " - variables types are inferred\n",
    " - However, has to be *DEFINED* (assigned a value) before *USED*\n",
    " - scoping rule applies (just like C)"
   ]
  },
  {
   "cell_type": "code",
   "execution_count": 6,
   "id": "d634f999-01f0-419b-99a2-e232713a73a0",
   "metadata": {},
   "outputs": [
    {
     "name": "stdout",
     "output_type": "stream",
     "text": [
      "helloworld\n",
      "helloworld\n"
     ]
    }
   ],
   "source": [
    "def cat_twice( part1, part2 ) :\n",
    "    cat = part1 + part2\n",
    "    print_twice( cat )\n",
    "\n",
    "cat_twice( 'hello', 'world' )"
   ]
  },
  {
   "cell_type": "markdown",
   "id": "84769a9c-f2e7-4236-ac31-cc06878285a9",
   "metadata": {},
   "source": [
    "## Functions with a DocString"
   ]
  },
  {
   "cell_type": "code",
   "execution_count": 4,
   "id": "70f4689c-f4a0-470e-a349-0bcee363e618",
   "metadata": {},
   "outputs": [
    {
     "name": "stdout",
     "output_type": "stream",
     "text": [
      "The docstring of the function Hello:  Greets a person \n"
     ]
    }
   ],
   "source": [
    "\"\"\"\n",
    "I am a multiline comment\n",
    "that can span multiple lines\n",
    "\"\"\"\n",
    "\n",
    "def Hello(name=\"everybody\"):\n",
    "    \"\"\" Greets a person \"\"\"\n",
    "    print(\"Hello \" + name + \"!\")\n",
    "\n",
    "print(\"The docstring of the function Hello: \" + Hello.__doc__)"
   ]
  },
  {
   "cell_type": "markdown",
   "id": "bbc721b1-a608-4c66-90e1-243163fec6c9",
   "metadata": {},
   "source": [
    "# Conditional Statement\n",
    "  - header followed by indented body\n",
    "  - at least ONE statements in body\n",
    "  - If you don't have one, or wants to come back later, use pass statement"
   ]
  },
  {
   "cell_type": "code",
   "execution_count": 7,
   "id": "7b8898a6-5487-46cc-82aa-ebfffd88b15f",
   "metadata": {},
   "outputs": [
    {
     "name": "stdout",
     "output_type": "stream",
     "text": [
      "x is positive\n"
     ]
    }
   ],
   "source": [
    "x = 100\n",
    "if x > 0 :\n",
    "   print( 'x is positive' )\n"
   ]
  },
  {
   "cell_type": "code",
   "execution_count": null,
   "id": "21afb034-7a8e-45e7-ba6e-6727d15960a6",
   "metadata": {},
   "outputs": [],
   "source": [
    "if x < 0 :\n",
    "   pass                 # does nothing!\n",
    "if 0 < x and x < 10 :\n",
    "   pass\n"
   ]
  },
  {
   "cell_type": "code",
   "execution_count": 8,
   "id": "e3cb9ffc-16ce-4515-af8e-d6c6fb6d8197",
   "metadata": {},
   "outputs": [
    {
     "name": "stdout",
     "output_type": "stream",
     "text": [
      "x is odd\n"
     ]
    }
   ],
   "source": [
    "if x % 2 :\n",
    "   print( 'x is even' )\n",
    "else :\n",
    "   print( 'x is odd' )"
   ]
  },
  {
   "cell_type": "markdown",
   "id": "e2da4738-707f-4c3d-971a-c8b890a21853",
   "metadata": {},
   "source": [
    "## Chained Conditional\n",
    "\n",
    "~~~\n",
    "if choice == 'a' :\n",
    "   draw_a()\n",
    "elif choise == 'b' :\n",
    "   draw_b()\n",
    "elif choice == 'c' :\n",
    "   draw_c()\n",
    "~~~"
   ]
  },
  {
   "cell_type": "code",
   "execution_count": 9,
   "id": "39d899df-6764-4597-b451-9263d28651ed",
   "metadata": {},
   "outputs": [
    {
     "name": "stdin",
     "output_type": "stream",
     "text": [
      "Age of the dog:  34\n"
     ]
    },
    {
     "name": "stdout",
     "output_type": "stream",
     "text": [
      "\n",
      "Human years:  182\n"
     ]
    }
   ],
   "source": [
    "age = int(input(\"Age of the dog: \"))\n",
    "print()\n",
    "if age < 0:\n",
    "\tprint(\"This can hardly be true!\")\n",
    "elif age == 1:\n",
    "\tprint(\"about 14 human years\")\n",
    "elif age == 2:\n",
    "\tprint(\"about 22 human years\")\n",
    "elif age > 2:\n",
    "\thuman = 22 + (age -2)*5\n",
    "\tprint(\"Human years: \", human)"
   ]
  },
  {
   "cell_type": "markdown",
   "id": "3487d65a-d132-47dd-8f3f-7e44de185266",
   "metadata": {},
   "source": [
    "## Nested conditional\n",
    "  - avoid if you could use chained conditional\n",
    "\n",
    "~~~\n",
    "if x == y :\n",
    "   pass\n",
    "else :\n",
    "   if x < y :\n",
    "      pass\n",
    "   else :\n",
    "      pass\n",
    "~~~\n"
   ]
  },
  {
   "cell_type": "markdown",
   "id": "d0c24312-bac4-424a-af1c-18e127f76c8e",
   "metadata": {},
   "source": [
    "## True or False: The following objects are evaluated by Python as False\n",
    "\n",
    "  - numerical zero values (0, 0L, 0.0, 0.0+0.0j),\n",
    "  - the Boolean value False,\n",
    "  - empty strings,\n",
    "  - empty lists and empty tuples,\n",
    "  - empty dictionaries.\n",
    "  - the special value None.\n",
    "\n"
   ]
  },
  {
   "cell_type": "markdown",
   "id": "04de5ea5-b0b9-47b4-9ee7-9c18a317a47c",
   "metadata": {},
   "source": [
    "## Conditional expression\n",
    "\n",
    "This is in C:\n",
    "~~~\n",
    "max = ( a > b ) ? a : b\n",
    "~~~\n",
    "\n",
    "This is in Python\n",
    "~~~\n",
    "max = a if (a > b) else b\n",
    "~~~"
   ]
  },
  {
   "cell_type": "markdown",
   "id": "25d8eebf-5706-48e8-8026-678dd3b457c8",
   "metadata": {},
   "source": [
    "# Recursion\n",
    "---------\n",
    "\n",
    "* Define base case\n",
    "* Recurse\n",
    "* Avoid infinite recursion!"
   ]
  },
  {
   "cell_type": "code",
   "execution_count": 10,
   "id": "d43c30dd-1f99-437e-9257-472fdaa07195",
   "metadata": {},
   "outputs": [],
   "source": [
    "def count_down( n ) :\n",
    "    if n <= 0 :\n",
    "        print( 'Blastoff!' )\n",
    "    else :\n",
    "        print( n )\n",
    "        count_down( n-1 )"
   ]
  },
  {
   "cell_type": "code",
   "execution_count": 11,
   "id": "58ffc83a-b68a-4282-853c-219f35c4878a",
   "metadata": {},
   "outputs": [
    {
     "name": "stdout",
     "output_type": "stream",
     "text": [
      "10\n",
      "9\n",
      "8\n",
      "7\n",
      "6\n",
      "5\n",
      "4\n",
      "3\n",
      "2\n",
      "1\n",
      "Blastoff!\n"
     ]
    }
   ],
   "source": [
    "count_down( 10 )"
   ]
  },
  {
   "cell_type": "markdown",
   "id": "6964f1e6-3014-4642-a6da-77faaa14be5b",
   "metadata": {},
   "source": [
    "## Compute Factorial\n",
    "  - Base Case: 0! = 1\n",
    "  - Recursion: n! = n ( n - 1 )!\n"
   ]
  },
  {
   "cell_type": "code",
   "execution_count": 12,
   "id": "50a3fcac-fbf0-45d6-a423-edc53344c742",
   "metadata": {},
   "outputs": [],
   "source": [
    "def factorial( n ) :\n",
    "    if n == 0 :\n",
    "        return 1            # basecase\n",
    "    else :\n",
    "        recurse = factorial( n - 1 )\n",
    "        result = n * recurse\n",
    "        return result"
   ]
  },
  {
   "cell_type": "code",
   "execution_count": 13,
   "id": "1d019ff5-2f4d-4f34-aa51-003294c28f70",
   "metadata": {},
   "outputs": [
    {
     "data": {
      "text/plain": [
       "3628800"
      ]
     },
     "execution_count": 13,
     "metadata": {},
     "output_type": "execute_result"
    }
   ],
   "source": [
    "factorial( 10 )"
   ]
  },
  {
   "cell_type": "markdown",
   "id": "a0f53ecb-e90f-4ea5-ace9-7f2f555af253",
   "metadata": {},
   "source": [
    "## Adding Debugging Info"
   ]
  },
  {
   "cell_type": "code",
   "execution_count": 15,
   "id": "d51bfd35-b577-4460-b62e-e1eac46ac67f",
   "metadata": {},
   "outputs": [],
   "source": [
    "def factorial( n ) :\n",
    "    space = ' ' * (4*n)   # amount of identation with repeat operator\n",
    "    print( space + 'calling ' + n.__str__() )\n",
    "    if n == 0 :\n",
    "        print( space + 'returning 1' )\n",
    "        return 1          \n",
    "    else :\n",
    "        recurse = factorial( n - 1 )\n",
    "        result = n * recurse\n",
    "        print( space + 'returning' + result.__str__() )\n",
    "        return result\n"
   ]
  },
  {
   "cell_type": "code",
   "execution_count": 16,
   "id": "537f98dd-97e9-4a6a-b57b-fd3298a6d61a",
   "metadata": {},
   "outputs": [
    {
     "name": "stdout",
     "output_type": "stream",
     "text": [
      "                                        calling 10\n",
      "                                    calling 9\n",
      "                                calling 8\n",
      "                            calling 7\n",
      "                        calling 6\n",
      "                    calling 5\n",
      "                calling 4\n",
      "            calling 3\n",
      "        calling 2\n",
      "    calling 1\n",
      "calling 0\n",
      "returning 1\n",
      "    returning1\n",
      "        returning2\n",
      "            returning6\n",
      "                returning24\n",
      "                    returning120\n",
      "                        returning720\n",
      "                            returning5040\n",
      "                                returning40320\n",
      "                                    returning362880\n",
      "                                        returning3628800\n"
     ]
    },
    {
     "data": {
      "text/plain": [
       "3628800"
      ]
     },
     "execution_count": 16,
     "metadata": {},
     "output_type": "execute_result"
    }
   ],
   "source": [
    "factorial( 10 )"
   ]
  },
  {
   "cell_type": "markdown",
   "id": "fbce0efd-2c14-4a3f-b88c-0a5650e1fb98",
   "metadata": {},
   "source": [
    "## Runtime Type Checking\n",
    "\n",
    "What would happen if we have factorial( 1.5 )\t\n",
    "  - Add type checking\n"
   ]
  },
  {
   "cell_type": "code",
   "execution_count": 17,
   "id": "efd4c2c2-2791-490c-a1e4-ce317e3f9d27",
   "metadata": {},
   "outputs": [
    {
     "ename": "TypeError",
     "evalue": "can't multiply sequence by non-int of type 'float'",
     "output_type": "error",
     "traceback": [
      "\u001b[0;31m---------------------------------------------------------------------------\u001b[0m",
      "\u001b[0;31mTypeError\u001b[0m                                 Traceback (most recent call last)",
      "Cell \u001b[0;32mIn[17], line 1\u001b[0m\n\u001b[0;32m----> 1\u001b[0m \u001b[43mfactorial\u001b[49m\u001b[43m(\u001b[49m\u001b[43m \u001b[49m\u001b[38;5;241;43m1.5\u001b[39;49m\u001b[43m \u001b[49m\u001b[43m)\u001b[49m\n",
      "Cell \u001b[0;32mIn[15], line 2\u001b[0m, in \u001b[0;36mfactorial\u001b[0;34m(n)\u001b[0m\n\u001b[1;32m      1\u001b[0m \u001b[38;5;28;01mdef\u001b[39;00m \u001b[38;5;21mfactorial\u001b[39m( n ) :\n\u001b[0;32m----> 2\u001b[0m     space \u001b[38;5;241m=\u001b[39m \u001b[38;5;124;43m'\u001b[39;49m\u001b[38;5;124;43m \u001b[39;49m\u001b[38;5;124;43m'\u001b[39;49m\u001b[43m \u001b[49m\u001b[38;5;241;43m*\u001b[39;49m\u001b[43m \u001b[49m\u001b[43m(\u001b[49m\u001b[38;5;241;43m4\u001b[39;49m\u001b[38;5;241;43m*\u001b[39;49m\u001b[43mn\u001b[49m\u001b[43m)\u001b[49m   \u001b[38;5;66;03m# amount of identation with repeat operator\u001b[39;00m\n\u001b[1;32m      3\u001b[0m     \u001b[38;5;28mprint\u001b[39m( space \u001b[38;5;241m+\u001b[39m \u001b[38;5;124m'\u001b[39m\u001b[38;5;124mcalling \u001b[39m\u001b[38;5;124m'\u001b[39m \u001b[38;5;241m+\u001b[39m n\u001b[38;5;241m.\u001b[39m\u001b[38;5;21m__str__\u001b[39m() )\n\u001b[1;32m      4\u001b[0m     \u001b[38;5;28;01mif\u001b[39;00m n \u001b[38;5;241m==\u001b[39m \u001b[38;5;241m0\u001b[39m :\n",
      "\u001b[0;31mTypeError\u001b[0m: can't multiply sequence by non-int of type 'float'"
     ]
    }
   ],
   "source": [
    "factorial( 1.5 )"
   ]
  },
  {
   "cell_type": "code",
   "execution_count": 18,
   "id": "a0fd2679-1338-4e5e-829d-92efb46b82b1",
   "metadata": {},
   "outputs": [],
   "source": [
    "def factorial( n ) :\n",
    "    if not isinstance(n,int) :   #runtime type checking, not in C\n",
    "        return None\n",
    "    if n == 0 :\n",
    "        return 1          \n",
    "    else :\n",
    "        recurse = factorial( n - 1 )\n",
    "        result = n * recurse\n",
    "        return result\n"
   ]
  },
  {
   "cell_type": "code",
   "execution_count": 19,
   "id": "3d7ac8f0-f14b-4b88-b9c8-ce8268d06fc6",
   "metadata": {},
   "outputs": [],
   "source": [
    "factorial( 1.5 )"
   ]
  },
  {
   "cell_type": "code",
   "execution_count": 15,
   "id": "00b21c13-a4da-4373-8c90-3ba6fa517123",
   "metadata": {},
   "outputs": [
    {
     "data": {
      "text/plain": [
       "3628800"
      ]
     },
     "execution_count": 15,
     "metadata": {},
     "output_type": "execute_result"
    }
   ],
   "source": [
    "factorial( 10 )"
   ]
  },
  {
   "cell_type": "markdown",
   "id": "0e36fc48-dde8-4b30-ad81-3f38ddc4ad36",
   "metadata": {},
   "source": [
    "Let's also do Fibonacci"
   ]
  },
  {
   "cell_type": "code",
   "execution_count": 20,
   "id": "f659f1a5-93f9-47cb-bf62-863544df57a8",
   "metadata": {},
   "outputs": [],
   "source": [
    "def fibonacci( n ) :\n",
    "    if n < 2 :\n",
    "        return n\n",
    "    else :\n",
    "        recurse1 = fibonacci( n - 1 )\n",
    "        recurse2 = fibonacci( n - 2 )\n",
    "        return recurse1 + recurse2"
   ]
  },
  {
   "cell_type": "code",
   "execution_count": 17,
   "id": "e7d6f033-5084-430f-a765-9d2a5455b4d7",
   "metadata": {},
   "outputs": [
    {
     "data": {
      "text/plain": [
       "55"
      ]
     },
     "execution_count": 17,
     "metadata": {},
     "output_type": "execute_result"
    }
   ],
   "source": [
    "fibonacci(10)"
   ]
  },
  {
   "cell_type": "markdown",
   "id": "724a47c7-ce2d-4460-bc16-c268d22f03e0",
   "metadata": {},
   "source": [
    "We are now Turing Complete!"
   ]
  },
  {
   "cell_type": "markdown",
   "id": "2065cfda-3d7d-4ef7-9102-3e1c5936a8dd",
   "metadata": {},
   "source": [
    "# Module\n",
    "\n",
    "* What\n",
    "  - Encapsulate functions and variables\n",
    "  - Python: A file containing definitions and statements\n",
    "  \n",
    "* Why\n",
    "  - Tame complexity \n",
    "  - Independently created and tested\n",
    "  - Code reuse\n",
    "  - Build Library to extend functionality: Batteries!\n",
    "\n",
    "* Import a module\n",
    "  - Prevent name conflit with . notation\n",
    "  - Similar to C++ namespace\n"
   ]
  },
  {
   "cell_type": "code",
   "execution_count": 21,
   "id": "f0ea6d6e-8203-47b4-8567-c0a7d725dd7f",
   "metadata": {},
   "outputs": [
    {
     "name": "stdout",
     "output_type": "stream",
     "text": [
      "<class 'module'>\n",
      "<module 'math' (built-in)>\n"
     ]
    }
   ],
   "source": [
    "import math\n",
    "print( type( math ) )\n",
    "print( math )"
   ]
  },
  {
   "cell_type": "code",
   "execution_count": 23,
   "id": "a6065ae8-f53b-48c2-8442-a32cbb29165b",
   "metadata": {},
   "outputs": [],
   "source": [
    "signal_power = 1.0\n",
    "noise_power = 0.2\n",
    "ratio = signal_power / noise_power\n",
    "decibels = 10 * math.log10( ratio )"
   ]
  },
  {
   "cell_type": "markdown",
   "id": "fb1e28c7-e0f0-4a54-9aed-e1f5168d68b2",
   "metadata": {},
   "source": [
    "Note: math is a built-in module. A module is nothing but a value with a type!"
   ]
  },
  {
   "cell_type": "markdown",
   "id": "888a6709-0400-49d9-bcb5-aa3981c03d39",
   "metadata": {},
   "source": [
    "## Renaming a Module"
   ]
  },
  {
   "cell_type": "code",
   "execution_count": 24,
   "id": "de722e43-3c89-47b0-be58-617fe4e00a6c",
   "metadata": {},
   "outputs": [
    {
     "name": "stdout",
     "output_type": "stream",
     "text": [
      "-1.0\n"
     ]
    }
   ],
   "source": [
    "import math as mathematics\n",
    "print(mathematics.cos(mathematics.pi))\n"
   ]
  },
  {
   "cell_type": "markdown",
   "id": "80e0a2dc-9995-4ad3-bce3-c2c551f16ba0",
   "metadata": {},
   "source": [
    "## Renaming a Function"
   ]
  },
  {
   "cell_type": "code",
   "execution_count": 25,
   "id": "48f76efa-d786-4351-a58f-3355ab55f8e5",
   "metadata": {},
   "outputs": [
    {
     "data": {
      "text/plain": [
       "1.2246467991473532e-16"
      ]
     },
     "execution_count": 25,
     "metadata": {},
     "output_type": "execute_result"
    }
   ],
   "source": [
    "from math import pi,pow as power, sin as sinus\n",
    "power(2,3)\n",
    "sinus(pi)"
   ]
  },
  {
   "cell_type": "markdown",
   "id": "b8d451ef-34e5-4131-b923-ea1bd35dc895",
   "metadata": {},
   "source": [
    "## Executing Module as a Script"
   ]
  },
  {
   "cell_type": "code",
   "execution_count": 22,
   "id": "eaffad5e-582d-4105-aab4-c1eb2eaafc42",
   "metadata": {},
   "outputs": [
    {
     "name": "stdout",
     "output_type": "stream",
     "text": [
      "Overwriting fib.py\n"
     ]
    }
   ],
   "source": [
    "%%file fib.py\n",
    "import sys\n",
    "\n",
    "def fibonacci( n ) :\n",
    "    if n < 2 :\n",
    "        return n\n",
    "    else :\n",
    "        recurse1 = fibonacci( n - 1 )\n",
    "        recurse2 = fibonacci( n - 2 )\n",
    "        return recurse1 + recurse2\n",
    "\n",
    "if __name__ == \"__main__\":\n",
    "    print( fibonacci(int(sys.argv[1])) )\n"
   ]
  },
  {
   "cell_type": "code",
   "execution_count": 23,
   "id": "6022f899-39d8-4e4c-a5a4-a489f8e8091b",
   "metadata": {},
   "outputs": [
    {
     "name": "stdout",
     "output_type": "stream",
     "text": [
      "fib.py\n"
     ]
    }
   ],
   "source": [
    "!ls *.py"
   ]
  },
  {
   "cell_type": "code",
   "execution_count": 24,
   "id": "2cfdd708-03d7-443f-93a1-84f309261e82",
   "metadata": {},
   "outputs": [
    {
     "name": "stdout",
     "output_type": "stream",
     "text": [
      "55\n"
     ]
    }
   ],
   "source": [
    "!python3 fib.py 10"
   ]
  },
  {
   "cell_type": "markdown",
   "id": "d7827107-2dbc-49d0-921a-298cd2c69904",
   "metadata": {},
   "source": [
    "## Module package\n",
    "\n",
    "- A directory of Python code\n",
    " - Imported like a normal module\n",
    " - Must contain a file \\_\\_init\\_\\_.py \n",
    " "
   ]
  }
 ],
 "metadata": {
  "kernelspec": {
   "display_name": "Python 3 (ipykernel)",
   "language": "python",
   "name": "python3"
  },
  "language_info": {
   "codemirror_mode": {
    "name": "ipython",
    "version": 3
   },
   "file_extension": ".py",
   "mimetype": "text/x-python",
   "name": "python",
   "nbconvert_exporter": "python",
   "pygments_lexer": "ipython3",
   "version": "3.11.6"
  }
 },
 "nbformat": 4,
 "nbformat_minor": 5
}
