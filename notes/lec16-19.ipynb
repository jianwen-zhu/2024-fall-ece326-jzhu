{
 "cells": [
  {
   "cell_type": "markdown",
   "id": "763e7379-fe94-4caa-a2c1-0f9143cf9685",
   "metadata": {},
   "source": [
    "# Lec 16-19: Persistent Programming\n",
    "\n",
    "Jianwen Zhu <jzhu@eecg.toronto.edu>\n",
    "v2.0, 2024-09"
   ]
  },
  {
   "cell_type": "markdown",
   "id": "76c3d4c4-a1ef-454b-bb76-5ccdf85f1c41",
   "metadata": {},
   "source": [
    "## Agenda\n",
    "\n",
    "* File (w/t Exception construct) & Serialization\n",
    "* Key-Value Store\n",
    "* Relational Database\n"
   ]
  },
  {
   "cell_type": "markdown",
   "id": "6858ae28-e54a-431a-90cf-543a58ee339b",
   "metadata": {},
   "source": [
    "## Overview\n",
    "\n",
    "* So far we have seen\n",
    "\n",
    " - Imperative programming constructs\n",
    " - Array programming constructs\n",
    " - All operating on in-memory data structures / values\n",
    "\n",
    "* What if power is lost?\n",
    "  - Data lost (Data Durability)\n",
    "  - Worse: Not able to restart (Data Consistency) \n",
    "  - Latency: Might be OK for stateless, computational programs, but then long latency to start all over again\n",
    "    \n",
    "* Service programs\n",
    "  - Run for a long time (all the time)\n",
    "  - Keep at least some data in perment storage (disk, flash etc)\n",
    "  - Examples: OS, web servers\n",
    "\n",
    "* Large compute programs\n",
    "  - Out-Of-Core Data Structures\n",
    "  - = data structures with larger size than RAM\n",
    "  - long computation: need to check point periodically"
   ]
  },
  {
   "cell_type": "markdown",
   "id": "5f8fc570-f55e-49be-8a31-dcf3366f9f98",
   "metadata": {},
   "source": [
    "## File\n",
    "\n",
    "* Argubaly best thing ever invented in computer science\n",
    "* Unix: Everything is a file: expose common, simple interface\n",
    "* But we will just look the most mundane usage of file here\n",
    "\n",
    "### Opening file"
   ]
  },
  {
   "cell_type": "code",
   "execution_count": null,
   "id": "b24e8a0d-49a3-4891-beec-1de2aecbf0b2",
   "metadata": {},
   "outputs": [],
   "source": [
    "fout = open( 'output.txt', 'w' )"
   ]
  },
  {
   "cell_type": "markdown",
   "id": "36b9f992-e495-4734-bd0e-2628893c531e",
   "metadata": {},
   "source": [
    "### Writing a file"
   ]
  },
  {
   "cell_type": "code",
   "execution_count": null,
   "id": "0e16af3f-7898-4d81-8c00-272ea08be9f3",
   "metadata": {},
   "outputs": [],
   "source": [
    "line1 = \"This her's the wattle,\\n\"\n",
    "print( fout.write( line1 ) )\n",
    "len(line1)"
   ]
  },
  {
   "cell_type": "code",
   "execution_count": null,
   "id": "1db435b2-8df8-4f07-ae53-f65e5400b573",
   "metadata": {},
   "outputs": [],
   "source": [
    "!cat output.txt"
   ]
  },
  {
   "cell_type": "markdown",
   "id": "55bf6075-9c3c-466d-8b9a-eba58b100eba",
   "metadata": {},
   "source": [
    "### Close a file"
   ]
  },
  {
   "cell_type": "code",
   "execution_count": null,
   "id": "033f64f8-24c5-49f6-8611-c3508c60ddb9",
   "metadata": {},
   "outputs": [],
   "source": [
    "fout.close()\n",
    "!cat output.txt"
   ]
  },
  {
   "cell_type": "markdown",
   "id": "3ad22a3f-cd9a-4871-9e5a-c53a1a119a9f",
   "metadata": {},
   "source": [
    "### Formating\n",
    "\n",
    " - argment of write has to be a string\n",
    " - format operator %\n",
    " - similar to printf in C, except in expression form"
   ]
  },
  {
   "cell_type": "code",
   "execution_count": null,
   "id": "bbda698f-ea55-488e-bb40-0b81db1d5194",
   "metadata": {},
   "outputs": [],
   "source": [
    "camels = 42\n",
    "'%d' % camels"
   ]
  },
  {
   "cell_type": "code",
   "execution_count": null,
   "id": "eb2a6a58-5463-462f-aaca-b4c44a940fbc",
   "metadata": {},
   "outputs": [],
   "source": [
    "'I have spotted %d camels.' % camels"
   ]
  },
  {
   "cell_type": "markdown",
   "id": "b8467bb9-7cbc-42ab-bc25-21ab514a7020",
   "metadata": {},
   "source": [
    "If more than one argument, has to use a tuple"
   ]
  },
  {
   "cell_type": "code",
   "execution_count": null,
   "id": "186bd1bc-ab73-4a75-aec4-97a893e09426",
   "metadata": {},
   "outputs": [],
   "source": [
    "'In %d years I have spotted %d %s.' % (3, 0.1, 'camels')"
   ]
  },
  {
   "cell_type": "markdown",
   "id": "52bc3f0e-d167-45a3-9ce5-937ae3af8e3a",
   "metadata": {},
   "source": [
    "### Walking Directory Tree"
   ]
  },
  {
   "cell_type": "code",
   "execution_count": null,
   "id": "67dc8b62-f61b-4bf4-918f-2d4f96acac82",
   "metadata": {},
   "outputs": [],
   "source": [
    "!touch memo.txt"
   ]
  },
  {
   "cell_type": "markdown",
   "id": "06194701-ffac-4433-bd47-538c09cafd8e",
   "metadata": {},
   "source": [
    "File never lives in a vacumm, they instead lives in a file system, with a hierarchy of directories. We are using the os package to access (potentially multiple) file systems mounted."
   ]
  },
  {
   "cell_type": "code",
   "execution_count": null,
   "id": "1e3eedda-116f-40ba-a439-e1d89bae9c03",
   "metadata": {},
   "outputs": [],
   "source": [
    "import os\n",
    "cwd = os.getcwd()\n",
    "print( cwd )"
   ]
  },
  {
   "cell_type": "code",
   "execution_count": null,
   "id": "5e500e84-b221-4cfc-8836-17e4fa9a4b51",
   "metadata": {},
   "outputs": [],
   "source": [
    "os.path.abspath( 'memo.txt' )"
   ]
  },
  {
   "cell_type": "code",
   "execution_count": null,
   "id": "75a46d5e-ebba-46d9-bfcc-44c8d964bc52",
   "metadata": {},
   "outputs": [],
   "source": [
    "os.path.exists( 'memo.txt' )"
   ]
  },
  {
   "cell_type": "code",
   "execution_count": null,
   "id": "f2f84f3f-1561-4f37-971b-002699929e6f",
   "metadata": {},
   "outputs": [],
   "source": [
    "os.path.isdir( 'memo.txt' )"
   ]
  },
  {
   "cell_type": "code",
   "execution_count": null,
   "id": "5c2d478d-d3a0-4b8a-b278-4b2ac7ec14cc",
   "metadata": {},
   "outputs": [],
   "source": [
    "os.path.isfile( 'memo.txt' )"
   ]
  },
  {
   "cell_type": "code",
   "execution_count": null,
   "id": "fd3b7ab2-bb91-46a3-91f3-c5463d111fef",
   "metadata": {},
   "outputs": [],
   "source": [
    " os.listdir()"
   ]
  },
  {
   "cell_type": "code",
   "execution_count": null,
   "id": "62928349-2697-429b-85f4-aff08a745fa2",
   "metadata": {},
   "outputs": [],
   "source": [
    "def walk(dir) :\n",
    "    for name in os.listdir(dir) :\n",
    "        path = os.path.join( dir, name )\n",
    "        if os.path.isfile(path) :\n",
    "           print( path )\n",
    "        else :\n",
    "           walk(path)\n",
    "walk( '.' )"
   ]
  },
  {
   "cell_type": "markdown",
   "id": "bcde9542-6348-4477-80c8-404727df0c38",
   "metadata": {},
   "source": [
    "### Exception Handling\n",
    "\n",
    "Program does not always run as expected. It is sometimes unavoidable as the running environment is not under running program's control. Using return values to signal exceptional conditions are cumbersome as the exception conditions have to \"pass up\" the calling chain. The exception handling \"construct\" is invented (almost in every modern language) to make this pattern easier to express. \n",
    "It effectively \"unwinds\" the calling stack from the point where exception is \"triggered\" to the point when the exception is \"handled\". \n",
    "\n",
    "In python, the syntax for exception handling looks like this.\n",
    "\n",
    "~~~\n",
    "try :\n",
    "    # protected code that might trigger an exception\n",
    "except :\n",
    "    # handle exception properly\n",
    "else :\n",
    "    # executed only when no exceptions (and unprotected code here)\n",
    "finally :\n",
    "    # always run this block with or without exception\n",
    "~~~\n",
    "\n",
    "Going back to file handling. "
   ]
  },
  {
   "cell_type": "code",
   "execution_count": null,
   "id": "67064d65-f917-450c-8484-a59765fccbd3",
   "metadata": {},
   "outputs": [],
   "source": [
    "fin = open( 'bad_file' )"
   ]
  },
  {
   "cell_type": "code",
   "execution_count": null,
   "id": "1491ecc7-2a34-4062-a4b4-2bb0fce16690",
   "metadata": {},
   "outputs": [],
   "source": [
    "fin = open( '/etc/passwd', 'w' )"
   ]
  },
  {
   "cell_type": "code",
   "execution_count": null,
   "id": "124d4ea7-a436-408b-a322-a4fa711ef553",
   "metadata": {},
   "outputs": [],
   "source": [
    "fin = open( '/home' )"
   ]
  },
  {
   "cell_type": "code",
   "execution_count": null,
   "id": "b393f664-354d-4a0a-bdc8-efce49910a56",
   "metadata": {},
   "outputs": [],
   "source": [
    "try :\n",
    "    fin = open( 'bad_file' )\n",
    "    for line in fin :\n",
    "      print( line )\n",
    "    fin.close()\n",
    "except :\n",
    "    print( 'Something went wrong' )"
   ]
  },
  {
   "cell_type": "markdown",
   "id": "40100124-d7d9-470d-b9dd-0d9512c0b449",
   "metadata": {},
   "source": [
    "You can also specify the specific exception (distinguished by a type) to handle."
   ]
  },
  {
   "cell_type": "code",
   "execution_count": null,
   "id": "25618be5-8347-4bb0-a8a5-9dcbe394475d",
   "metadata": {},
   "outputs": [],
   "source": [
    "try :\n",
    "    fin = open( 'bad_file' )\n",
    "except IOError as e:\n",
    "    print( 'Something went wrong', e )"
   ]
  },
  {
   "cell_type": "markdown",
   "id": "a686a3af-5433-45d5-87f9-8c654046f641",
   "metadata": {},
   "source": [
    "The IOError is predefined Exception class. \n",
    "\n",
    "You can manufacture your Own exception type (using a class, a subject we will touch later, but accept it as is for now). Note that we use the \"raise\" clause to \"throw\" an exception.\n",
    "\n",
    "~~~\n",
    "class UserNotFoundError(Exception):\n",
    "    pass\n",
    "def fetch_user(user_id):\n",
    "    # Here you would fetch from some kind of db, e.g.:\n",
    "    # user = db.get_user(user_id)\n",
    "    # To make this example runnable, let's set it to None\n",
    "    user = None\n",
    "    if user == None:\n",
    "        raise UserNotFoundError(f'User {user_id} not in database')\n",
    "    else:\n",
    "        return user\n",
    "users = [123, 456, 789]\n",
    "for user_id in users:\n",
    "    try:\n",
    "        fetch_user(user_id)\n",
    "    except UserNotFoundError as e:\n",
    "        print(\"There was an error: \", e)\n",
    "~~~"
   ]
  },
  {
   "cell_type": "markdown",
   "id": "e638d165-ac90-4c63-b378-a4e9df9cea41",
   "metadata": {},
   "source": [
    "### Serialization\n",
    "\n",
    "On-file data format and in-memory format are often different. \n",
    "The procedure to convert from in-memory format to on-file format is called\n",
    "\"serialize\" or \"pickle\" or \"marshal\"; the opposite is called \"deserialize\" or \"unpickling\" or \"unmarshal\". This is often used before writing data to file; or loading data from file."
   ]
  },
  {
   "cell_type": "code",
   "execution_count": null,
   "id": "71197ba6-9662-4831-9326-8d56665989bf",
   "metadata": {},
   "outputs": [],
   "source": [
    "import pickle\n",
    "t = [1, 2, 3]\n",
    "pickle.dumps( t )"
   ]
  },
  {
   "cell_type": "markdown",
   "id": "ca55ff72-0855-443e-bb19-b66650fd605f",
   "metadata": {},
   "source": [
    "Not really human readible. but we can convert it back:"
   ]
  },
  {
   "cell_type": "code",
   "execution_count": null,
   "id": "283c591c-f552-48cc-9ee3-259315abe202",
   "metadata": {},
   "outputs": [],
   "source": [
    "t = [1, 2, 3]\n",
    "s = pickle.dumps( t )\n",
    "t2 = pickle.loads(s)\n",
    "print( t2 )"
   ]
  },
  {
   "cell_type": "markdown",
   "id": "85ed5fd0-f8d7-4712-98b1-bb7766e50740",
   "metadata": {},
   "source": [
    "With a string, you can readily read / write data files. "
   ]
  },
  {
   "cell_type": "markdown",
   "id": "9fe209b7-c8a1-4eb5-9ddf-cc0130d4c0fa",
   "metadata": {},
   "source": [
    "We can use the pickling package in Python. Industry also come up different packages tied to certain formating (wiring) standards. Today, the popular formats include *protobuf*, which arises from building remote procedure calls (RPCs), or JSON (Javascript Object Notation), which arises from data exchange using HTTP protocol. JSON, specified by RFC 7159 (which obsoletes RFC 4627) and by ECMA-404, is a lightweight data interchange format inspired by JavaScript object literal syntax (although it is not a strict subset of JavaScript). The majority of web services today speaks JSON, and it pays to get familiar with its syntax."
   ]
  },
  {
   "cell_type": "code",
   "execution_count": null,
   "id": "b2def070-3d8b-48fc-96ff-52bc6011857a",
   "metadata": {},
   "outputs": [],
   "source": [
    "import json\n",
    "json.dumps(['foo', {'bar': ('baz', None, 1.0, 2)}])\n",
    "print(json.dumps(\"\\\"foo\\bar\"))\n",
    "print(json.dumps('\\u1234'))\n",
    "print(json.dumps('\\\\'))\n",
    "print(json.dumps({\"c\": 0, \"b\": 0, \"a\": 0}, sort_keys=True))"
   ]
  },
  {
   "cell_type": "code",
   "execution_count": null,
   "id": "687a44b6-68cb-49a6-8d1a-b2eb8d2ed0fd",
   "metadata": {},
   "outputs": [],
   "source": [
    "json.dumps([1, 2, 3, {'4': 5, '6': 7}], separators=(',', ':')) # compact encoding"
   ]
  },
  {
   "cell_type": "code",
   "execution_count": null,
   "id": "9c98eb75-32ab-4a32-a68d-747cda9b6cbe",
   "metadata": {},
   "outputs": [],
   "source": [
    "print(json.dumps({'6': 7, '4': 5}, sort_keys=True, indent=4))  # pretty print"
   ]
  },
  {
   "cell_type": "code",
   "execution_count": null,
   "id": "4066284d-617e-43cb-ab1b-27df65c625cb",
   "metadata": {},
   "outputs": [],
   "source": [
    "json.loads('[\"foo\", {\"bar\":[\"baz\", null, 1.0, 2]}]')  #loading it back"
   ]
  },
  {
   "cell_type": "markdown",
   "id": "d9295cd0-b15e-4941-abd6-668b813e389f",
   "metadata": {},
   "source": [
    "## Key-Value Store\n",
    "\n",
    "You can of course use the \"raw\" file interface to accomplish the purpose of persisting your in-memory data. But this would be too cumbersome to use directly in applications. Wouldn't it be nice if we can have a general-purpose data structure where the persistency problem is taken care of and we can reuse-it again and again? Apparently, it pays that the abstraction of this data structure needs to simple, yet versitile enough to be usable in lots of applications.   "
   ]
  },
  {
   "cell_type": "markdown",
   "id": "f312aa80-07f6-4548-bd0f-e97d9c9dbf92",
   "metadata": {},
   "source": [
    "### Key-Value Store Abstraction\n",
    "\n",
    "* Dictionary Abstraction\n",
    "  - Just like Hash Table\n",
    "  - Optimized for lookup and update\n",
    "  - Plus: persistency\n",
    "    \n",
    "* Index Abstraction\n",
    "  - Optimized not only for lookup and update\n",
    "  - Optimized also for range-search: given a range of keys, enumerate all corresponding values\n",
    "  - Plus: persistency"
   ]
  },
  {
   "cell_type": "markdown",
   "id": "9f1a8269-8d41-4555-9053-64b8c2e8c93c",
   "metadata": {},
   "source": [
    "### Key-Value Store Deployment Styles\n",
    "\n",
    "* Embedded\n",
    "  - Running inside a single computer\n",
    "  - Offered as a library where application linked directly against\n",
    "  - Deployed together with application\n",
    "\n",
    "* Client-Server\n",
    "  - KV-Store running as a server (a service running on a physical server)\n",
    "  - Client access service through network\n",
    "  - Server deployed seperately from application\n",
    "  - There can be many clients access server simultaneously\n",
    "  - Client access service either throw a command line interface (CLI) or a client library through a software development kit (SDK), typically in many different languages\n",
    "\n",
    "* Clustered\n",
    "  - Like a client-server architecture except you have a group of servers instead of one\n",
    "  - Data is spread accross different servers to:\n",
    "    - Load balance requests to increase throughput\n",
    "    - Increase the capacity of KV-Store with resource of many machines\n",
    "    - Maintains the abstraction as if it is a single machine"
   ]
  },
  {
   "cell_type": "markdown",
   "id": "c5ed1d9a-9b98-41d2-9071-d372ba35e70e",
   "metadata": {},
   "source": [
    "### Example of an Embedded KV Store"
   ]
  },
  {
   "cell_type": "code",
   "execution_count": null,
   "id": "a55184b1-be5b-4b49-8286-67a34d554f89",
   "metadata": {},
   "outputs": [],
   "source": [
    "import dbm\n",
    "\n",
    "db = dbm.open( 'captions', 'c' )\n",
    "db['cleese.png'] = 'Photo of John Cleese'\n",
    "print( db['cleese.png'] )\n",
    "db['cleese.png'] = 'Photo of John Cleese doing a silly walk.'\n",
    "print( db['cleese.png'] )\n",
    "db.close()"
   ]
  },
  {
   "cell_type": "code",
   "execution_count": null,
   "id": "039ff751-87eb-4f13-87e7-eb03d45ae3ce",
   "metadata": {},
   "outputs": [],
   "source": [
    "!ls"
   ]
  },
  {
   "cell_type": "code",
   "execution_count": null,
   "id": "0c5397d8-49da-4d38-a33a-efb2f3cfd492",
   "metadata": {},
   "outputs": [],
   "source": [
    "db = dbm.open( 'captions', 'r' )\n",
    "print( db['cleese.png'] )\n",
    "db.close()"
   ]
  },
  {
   "cell_type": "code",
   "execution_count": null,
   "id": "17e6f069-0002-472e-aeab-c1e86c520019",
   "metadata": {},
   "outputs": [],
   "source": []
  },
  {
   "cell_type": "markdown",
   "id": "fee6b217-6e94-47a0-83a7-ec307041ec21",
   "metadata": {},
   "source": [
    "Compare the code snippets against the file example, they are very similar in the sense that\n",
    "\n",
    "* All information is persisted in a file\n",
    "* All information persisted on file can be loaded back!\n",
    "\n",
    "However, the KV can be accessed and used like a regular dictionary (that how abstraction works) but we don't have to worry about serialization at all! "
   ]
  },
  {
   "cell_type": "markdown",
   "id": "78fc057f-47ab-43e8-80a9-fa21d60f6ed6",
   "metadata": {},
   "source": [
    "### Redis: (Argubaly) The Most Popular Client-Server KV-Store\n",
    "\n",
    " * Problems\n",
    " \n",
    "   - What if I need many applications simultaneously\n",
    "     accessing the same database?\n",
    "   \n",
    "     Example: Horizontally scaled web farm with many different web\n",
    "     servers running on separate machines, your web app can all call\n",
    "     on and reference the same database instances\n",
    "\n",
    "   - String as the only data type supported is two restrictive,\n",
    "     need *native* data type support\n",
    "\n",
    "   - Atomicity\n",
    "   \n",
    " * Solution\n",
    " \n",
    "   - Client-Server architecture: database server\n",
    "   - Redis\n",
    "\n",
    " * Now let's go to Actions.\n",
    "\n",
    "   - Follow the steps installing server on your environment\n",
    "~~~\n",
    "%sudo apt install redis\n",
    "~~~\n",
    "   - Both server & client artifacts should now be available\n",
    "   - Lanch service\n",
    "\n",
    "~~~\n",
    "%sudo systemctl enable redis-server --now\n",
    "%systemctl status redis-server\n",
    "~~~\n",
    "\n",
    "   - Sanity check:"
   ]
  },
  {
   "cell_type": "code",
   "execution_count": null,
   "id": "630d0878-48d6-4b60-8d2b-6449370fc762",
   "metadata": {},
   "outputs": [],
   "source": [
    "!redis-cli --version"
   ]
  },
  {
   "cell_type": "code",
   "execution_count": null,
   "id": "4fd84490-cfff-43c0-8865-e2ff27377d73",
   "metadata": {},
   "outputs": [],
   "source": [
    "!redis-cli ping"
   ]
  },
  {
   "cell_type": "markdown",
   "id": "94c2e0e1-3b70-4383-b735-e0b8b45d76f2",
   "metadata": {},
   "source": [
    "#### String Values"
   ]
  },
  {
   "cell_type": "code",
   "execution_count": null,
   "id": "a7adef9f-16ad-4c22-8ae7-ce3035c02eea",
   "metadata": {},
   "outputs": [],
   "source": [
    "%pip install redis\n",
    "import redis\n",
    "r = redis.Redis(\"localhost\")\n",
    "r.set(\"name\", \"DeGizmo\")\n",
    "r.get(\"name\")"
   ]
  },
  {
   "cell_type": "markdown",
   "id": "60f6e3d5-2ae3-4c70-bede-c0487957a04e",
   "metadata": {},
   "source": [
    "#### Integer Values"
   ]
  },
  {
   "cell_type": "code",
   "execution_count": null,
   "id": "f090d91f-808d-4025-a373-0ab050fdf69d",
   "metadata": {},
   "outputs": [],
   "source": [
    "r.set(\"hit_counter\", 1)"
   ]
  },
  {
   "cell_type": "code",
   "execution_count": null,
   "id": "d2d507ab-9729-4727-a35a-1a13bdb35e87",
   "metadata": {},
   "outputs": [],
   "source": [
    "r.incr(\"hit_counter\")"
   ]
  },
  {
   "cell_type": "code",
   "execution_count": null,
   "id": "17d1c619-e6ee-4af5-8770-7f29183ebb03",
   "metadata": {},
   "outputs": [],
   "source": [
    "r.get(\"hit_counter\")"
   ]
  },
  {
   "cell_type": "code",
   "execution_count": null,
   "id": "c6b9895e-7325-4505-89af-0ca22524ce33",
   "metadata": {},
   "outputs": [],
   "source": [
    "r.decr(\"hit_counter\")"
   ]
  },
  {
   "cell_type": "markdown",
   "id": "b0b1631f-6e35-40f8-85e4-43297cbc9288",
   "metadata": {},
   "source": [
    "Now why do we need the API for incr and decr? Isn't it true we can simply using the get/set API and accomplish the same thing? Isn't true a minimal API is what we should advocate? "
   ]
  },
  {
   "cell_type": "markdown",
   "id": "93ccca3a-2226-4244-b5f3-7feb3281cbc0",
   "metadata": {},
   "source": [
    "What happens if you change \"hit_counter\" into \"bank_balance\"? "
   ]
  },
  {
   "cell_type": "markdown",
   "id": "bd77aa88-d733-4794-97d8-a4005278872e",
   "metadata": {},
   "source": [
    "#### List Values\n",
    "\n",
    "Very similar to the built in Python list type, the redis list type has\n",
    "a few basic methods that combined can quite powerful. We are only\n",
    "covering a tiny portion of the commands available, you can find all\n",
    "the commands in the redis Command Reference.\n"
   ]
  },
  {
   "cell_type": "code",
   "execution_count": null,
   "id": "a97d4b80-c3db-4ff0-90e4-538dfce1a9da",
   "metadata": {},
   "outputs": [],
   "source": [
    "r.delete(\"members\")\n",
    "r.rpush(\"members\", \"Adam\")\n",
    "r.rpush(\"members\", \"Bob\")\n",
    "r.rpush(\"members\", \"Carol\")"
   ]
  },
  {
   "cell_type": "code",
   "execution_count": null,
   "id": "398e4266-d435-41a3-86d2-9697e33c1017",
   "metadata": {},
   "outputs": [],
   "source": [
    "r.lrange(\"members\", 0, -1)"
   ]
  },
  {
   "cell_type": "code",
   "execution_count": null,
   "id": "052fa367-3237-4de5-bba5-f97d909aeb0b",
   "metadata": {},
   "outputs": [],
   "source": [
    "r.llen( \"members\" )"
   ]
  },
  {
   "cell_type": "code",
   "execution_count": null,
   "id": "ed2e49bf-bfa6-42a7-9142-c9154ad0b3f5",
   "metadata": {},
   "outputs": [],
   "source": [
    "r.lindex( \"members\", 1 )"
   ]
  },
  {
   "cell_type": "markdown",
   "id": "6e28d591-a7e1-47ba-9892-d53232164b74",
   "metadata": {},
   "source": [
    "Look what has happened: \n",
    "\n",
    "   1. With the r object again we call the method 'rpush' which\n",
    "      will add the value 'Adam' to the newly created list 'members'\n",
    "      \n",
    "   2. We add 'Bob' to the same list\n",
    "   \n",
    "   3. Finally we'll add 'Carol'\n",
    "   \n",
    "   4. With the lrange method we are asking redis to return all the\n",
    "      objects in 'members'. lrange takes 3 arguments: key, start index\n",
    "      in list, end index in list. We are getting the objects from the\n",
    "      key 'members' starting at index 0 and ending at -1 (which is\n",
    "      technically the -1, or last index in the list, which will return\n",
    "      everything)\n",
    "   \n",
    "   5. The llen method asks redis to return the length of the list at\n",
    "      the key 'members' which now has 3 objects\n",
    "   \n",
    "   6. lindex method tells redis that we want the object from the key\n",
    "      'members' at the index position of 1 (remember lists start at\n",
    "      index 0), so redis returns 'Bob'\n",
    "\n",
    "We've got some elements in the list at the key 'members'; now lets get\n",
    "remove some elements."
   ]
  },
  {
   "cell_type": "code",
   "execution_count": null,
   "id": "9b8b56b3-12a2-440f-b048-5b98f8d1e710",
   "metadata": {},
   "outputs": [],
   "source": [
    "r.rpop(\"members\")"
   ]
  },
  {
   "cell_type": "code",
   "execution_count": null,
   "id": "03b9d1b3-1194-4a4c-8fe9-635b60720fd9",
   "metadata": {},
   "outputs": [],
   "source": [
    "r.lrange(\"members\", 0, -1)"
   ]
  },
  {
   "cell_type": "code",
   "execution_count": null,
   "id": "5aac0da9-2899-43ba-9fd4-20c2816ca454",
   "metadata": {},
   "outputs": [],
   "source": [
    "r.lpop(\"members\")"
   ]
  },
  {
   "cell_type": "code",
   "execution_count": null,
   "id": "e34f83f1-82cc-4abd-87a9-fab37a2ac3b0",
   "metadata": {},
   "outputs": [],
   "source": [
    " r.lrange(\"members\", 0, -1)"
   ]
  },
  {
   "cell_type": "markdown",
   "id": "5c4db976-a4c4-41c5-9145-e1d689f47c76",
   "metadata": {},
   "source": [
    "This is what has just happend: \n",
    "\n",
    "   1. With the method rpop (right pop) we remove the element in the\n",
    "      list on the right side (tail), which is 'Carol'\n",
    "   \n",
    "   2. Now when we ask for the list 'members' from redis again (from\n",
    "      the start of 0, and the end of -1 which returns everything) we\n",
    "      see our list now doesn't have 'Carol'\n",
    "   \n",
    "   3. We now lpop (left pop) an element from the list 'members'. This\n",
    "      will remove the far left element from the list, 'Adam'\n",
    "   \n",
    "   4. Now the entire list only contains 'Bob'\n"
   ]
  },
  {
   "cell_type": "markdown",
   "id": "8842495c-398c-43d9-b660-558b8b8654e8",
   "metadata": {},
   "source": [
    "#### Set Values\n",
    "\n",
    "Again, sets perform identically to the built in Python set\n",
    "type. Simply, sets are lists but, can only have unique values. In the\n",
    "above example if we added the value Adam (r.lpush('members',\n",
    "'Adam') ) 20 times our list would contain 20 values all containing the\n",
    "value 'Adam'. In a set, all elements are unique."
   ]
  },
  {
   "cell_type": "code",
   "execution_count": null,
   "id": "f81dec74-6fc9-475c-a6d9-8f6d33672579",
   "metadata": {},
   "outputs": [],
   "source": [
    "r.delete(\"members\")\n",
    "\n",
    "r.sadd(\"members\", \"Adam\")\n",
    "r.sadd(\"members\", \"Bob\")\n",
    "r.sadd(\"members\", \"Carol\")\n",
    "r.sadd(\"members\", \"Adam\")"
   ]
  },
  {
   "cell_type": "code",
   "execution_count": null,
   "id": "204b3db7-ceb3-4b65-b91e-244e69510c7f",
   "metadata": {},
   "outputs": [],
   "source": [
    " r.smembers(\"members\")"
   ]
  },
  {
   "cell_type": "markdown",
   "id": "5b53c427-21df-48d2-b22e-f0cb7ea269d3",
   "metadata": {},
   "source": [
    "This is what happened above: \n",
    "\n",
    "   1. First off we delete the old list in the key 'members' so we can\n",
    "      use it as a set\n",
    "   \n",
    "   2. Then we sadd (set add) the value 'Adam' to the key 'members'\n",
    "   \n",
    "   3. Do the same for the value 'Bob'\n",
    "   \n",
    "   4. Do the same for the value 'Carol'\n",
    "   \n",
    "   5. Now we try to add the value 'Adam' to the key 'members' again\n",
    "      but, this time it returns 'False' since we are working on a set,\n",
    "      and a set only has unique values. There already is a value\n",
    "      'Adam' present in this set\n",
    "   \n",
    "   6. The method smembers returns all the members of the set in the\n",
    "      Python type set\n",
    "\n",
    "An example of a use of sets in a web application would be for\n",
    "'upvotes' on a reddit, or hacker news type website. We want to keep\n",
    "track of who up votes a story but, you should only be able to up vote\n",
    "a story once.\n"
   ]
  },
  {
   "cell_type": "code",
   "execution_count": null,
   "id": "1a0a0b1c-5fef-4f2d-a409-7f38d38a8265",
   "metadata": {},
   "outputs": [],
   "source": [
    "r.sadd(\"story:5419:upvotes\", \"userid:9102\")\n",
    "r.sadd(\"story:5419:upvotes\", \"userid:12981\")\n",
    "r.sadd(\"story:5419:upvotes\", \"userid:1233\")\n",
    "r.sadd(\"story:5419:upvotes\", \"userid:9102\")\n",
    "r.scard(\"story:5419:upvotes\")"
   ]
  },
  {
   "cell_type": "code",
   "execution_count": null,
   "id": "87f3aafe-311e-40e9-964d-7a7de6a353a3",
   "metadata": {},
   "outputs": [],
   "source": [
    "r.smembers(\"story:5419:upvotes\")"
   ]
  },
  {
   "cell_type": "markdown",
   "id": "01021bf7-1f1a-4713-a066-5361f46f26ce",
   "metadata": {},
   "source": [
    "I added a little twist in here with the name of the key:\n",
    "'story:5419:upvotes' but, it's easy to explain. Redis is 'flat' with\n",
    "it's keyspace. So if we have many different stories we use a fixed key\n",
    "naming convention for easy reference in redis. For this example our\n",
    "key is broken down like this: 'object type' : 'id' : 'attribute'. So,\n",
    "we have an object of type 'story' with an ID of '5419' with an\n",
    "attribute 'upvotes'. Redis has no idea what any of this means it just\n",
    "knows the key is 'story:5419:upvotes' but, it doesn't matter, we know\n",
    "what it means and we can divide up our objects into this name space to\n",
    "make it easier to work with and keep from 'losing' things. The value\n",
    "being added to the key is divided up in the same way. 'userid' is the\n",
    "type and '9102' is the value or the ID for that user voting on the\n",
    "story.\n",
    "\n",
    "   1. Just like before we are adding the value 'userid:9102' to the\n",
    "      key 'story:5419:upvotes'\n",
    "   \n",
    "   2. Now we are adding the value 'userid:12981'\n",
    "   \n",
    "   3. Finally adding the valud 'userid:1233'\n",
    "   \n",
    "   4. Now, the user with the ID 9102 tries to up vote the story with\n",
    "      the ID 5419 again, and redis returns False since that user has\n",
    "      already up votes this story before and you can't up vote a story\n",
    "      twice!\n",
    "   \n",
    "   5. The method 'scard' is asking redis for the cardinality of the\n",
    "set at key 'story:5419:upvotes' or how many things are in this set,\n",
    "and redis returns 3.  6. Finally we return the list of userid's that\n",
    "we have stored in the set."
   ]
  },
  {
   "cell_type": "markdown",
   "id": "10bd957c-9160-4037-9697-fe90ee8a196d",
   "metadata": {},
   "source": [
    "#### Ordered Set Value\n",
    "\n",
    "The last data structure we are going to talk about today is an ordered\n",
    "(or sorted) set. This operates just like a set but, has an extra\n",
    "attribute when we add something to a set called a 'score'. This score\n",
    "determines the order of the elements in the set. We will stick with\n",
    "the concept for this example."
   ]
  },
  {
   "cell_type": "code",
   "execution_count": null,
   "id": "2d797130-511d-43f8-97d3-427cf11cfb96",
   "metadata": {},
   "outputs": [],
   "source": [
    "r.zadd(\"stories:frontpage\", {\"storyid:3123\":34} )\n",
    "r.zadd(\"stories:frontpage\", {\"storyid:9001\":3} )\n",
    "r.zadd(\"stories:frontpage\", {\"storyid:2134\":127} )\n",
    "r.zadd(\"stories:frontpage\", {\"storyid:2134\":127} )\n",
    "r.zrange(\"stories:frontpage\", 0, -1, withscores=True)"
   ]
  },
  {
   "cell_type": "code",
   "execution_count": null,
   "id": "159ccdb7-164b-4989-a2c7-2b5c1c8fb856",
   "metadata": {},
   "outputs": [],
   "source": [
    "frontpage = r.zrange(\"stories:frontpage\", 0, -1, withscores=True)\n",
    "frontpage.reverse()\n",
    "frontpage"
   ]
  },
  {
   "cell_type": "markdown",
   "id": "386d44d0-9b32-45c2-b06c-f5fa23bfa23d",
   "metadata": {},
   "source": [
    "Quick namespace explanation like before. For the key we are going to\n",
    "be referring to 'stories:frontpage' which is going to be a set of\n",
    "stories slated for the front page of our website. We are storing in\n",
    "that key the value of 'storyid:3123' which is the ID of some story on\n",
    "the site and then a score, which in our case is going to be the number\n",
    "of votes on a story.\n",
    "\n",
    "   1. First we add the value 'storyid:3123' to 'stories:frontpage',\n",
    "      and 'storyid:3123' in our example is going to have 34 votes.\n",
    "   \n",
    "   2. Then add 'storyid:9001' with 3 votes\n",
    "   \n",
    "   3. Then add 'storyid:2134' with 127 votes\n",
    "   \n",
    "   4. We are going to try to add 'story:2134' to the set again but, we\n",
    "      can't since it already exists.\n",
    "   \n",
    "   5. Now we are going to ask redis for all the elements in\n",
    "      'stories:frontpage' from index 0 to index -1 (the end of the\n",
    "      list) with all associated scores (withscores=True)\n",
    "   \n",
    "   6. We've got the scores but, they are in ascending order, we want\n",
    "      them in descending order for our website, so we are going to\n",
    "      store the results in the variable 'frontpage'\n",
    "   \n",
    "   7. Then reverse it (which is an in place operation in Python)\n",
    "   \n",
    "   8. Now print out the front page!\n"
   ]
  },
  {
   "cell_type": "markdown",
   "id": "d9b841db-3259-4b7b-9a72-0099c16a427d",
   "metadata": {},
   "source": [
    "In conclusion let's do a quick example of a 'view' in an application\n",
    "in which a user will vote of a story  using redis as a storage engine\n",
    "\n",
    "~~~\n",
    "#given variables\n",
    "#r   = our redis server\n",
    "#user_id    = the user who voted on the story\n",
    "#story_id   = the story which the user voted on\n",
    "if r.sadd(\"story:%s\" % story_id, \"userid:%s\" % user_id):\n",
    "    r.zincrby(\"stories:frontpage\", \"storyid:%s\" % story_id, 1)\n",
    "~~~\n",
    "\n",
    "2 lines of code' This is might compact but, once we unravel it we can\n",
    "see how it makes sense and how powerful redis can be. Let's start with\n",
    "the if statement.\n",
    "\n",
    "~~~\n",
    "\tif r.sadd(\"story:%s\" % story_id, \"userid:%s\" % user_id):\n",
    "~~~\n",
    "\n",
    "We know the command 'sadd' already. This will add an element to a set\n",
    "at a key. The key in this case is\n",
    "\n",
    "~~~\n",
    "\t\"story:%s\" % story_id\n",
    "~~~\n",
    "\n",
    "If story_id is 3211, then the resulting string will be\n",
    "'story:3211'. This is the key in redis which contains the list of\n",
    "users that has voted on the story.\n",
    "\n",
    "The value to be inserted at this key is\n",
    "\n",
    "~~~\n",
    "\t\"userid:%s\" % user_id\n",
    "~~~\n",
    "\n",
    "Just like with story, if the user_id is 9481 then the string to be\n",
    "inserted into the set at 'story:3211' will be 'user_id:9481'\n",
    "\n",
    "Now the redis command 'sadd' will return False if that element is\n",
    "already present in the set. So if a user has already voted on this\n",
    "story before we don't execute the statement under the if. But, if it\n",
    "is added, then we have a brand new vote and we have to increment the\n",
    "votes for the front page.\n",
    "\n",
    "~~~\n",
    "\tr.zincrby(\"stories:frontpage\", \"storyid:%s\" % story_id, 1)\n",
    "~~~\n",
    "\n",
    "We have an ordered set at the key 'stories:frontpage' and we are going\n",
    "to increment the element 'storyid:%s' % story_id ('story:3211') by 1.\n",
    "\n",
    "And now we're done! We've made sure the user hasn't voted on this\n",
    "story before and then we've incremented the number of votes for this\n",
    "story on the front page!\n"
   ]
  },
  {
   "cell_type": "code",
   "execution_count": null,
   "id": "66dc3c93-b431-4ac0-9b53-a5a17a9b7e55",
   "metadata": {},
   "outputs": [],
   "source": [
    "def vote( user_id, story_id ) :\n",
    "    if r.sadd( \"story:%s\" % story_id, \"userid:%s\" % user_id) :\n",
    "        r.zincrby( \"stories:frontpage\", \"storyid:%s\" % story_id, 1 )"
   ]
  },
  {
   "cell_type": "markdown",
   "id": "866788ba-cef2-4c9a-9dcb-6d7792c91135",
   "metadata": {},
   "source": [
    "That's it! You have the material to build something really powerful!"
   ]
  },
  {
   "cell_type": "markdown",
   "id": "a59ca137-3891-430b-adba-4c467478615b",
   "metadata": {},
   "source": [
    "## Relation Database\n",
    "\n",
    "We can also use the venerable relational database, which builds on the abstraction of a \"table\" (or called relation mathematically). A table is a set of rows with identical structure: a set of colume values of pre-defined data types. The pre-defined structure is called a \"schema\". A table is really not much different from an Excel table. \n",
    "\n",
    "The reason why people love to use relational database is two-folds: \n",
    "\n",
    "1. It is rigourously design with nice ACID (Atomic, Consistency, Isolation, Durable) properties;\n",
    "2. It is equipped with a power SQL language for query and other operations.\n",
    "\n",
    "If you can cast your data structures in relational database abstraction, you usually have a good starting point.\n",
    "\n",
    "### Manipulating Embedded Database"
   ]
  },
  {
   "cell_type": "code",
   "execution_count": 2,
   "id": "5df866d6-87bb-4d2c-b4ee-f20f7546c23f",
   "metadata": {},
   "outputs": [
    {
     "name": "stdout",
     "output_type": "stream",
     "text": [
      "Requirement already satisfied: pysqlite3 in /home/jzhu/.local/pipx/venvs/jupyterlab/lib/python3.11/site-packages (0.5.3)\n",
      "Note: you may need to restart the kernel to use updated packages.\n"
     ]
    }
   ],
   "source": [
    "%pip install pysqlite3"
   ]
  },
  {
   "cell_type": "code",
   "execution_count": 4,
   "id": "064fc3e4-efa6-4378-9f31-7f0f20d5c81a",
   "metadata": {},
   "outputs": [],
   "source": [
    "from sqlite3 import *\n",
    "conn = connect('sample.db')\n",
    "curs = conn.cursor()"
   ]
  },
  {
   "cell_type": "markdown",
   "id": "7422e8ce-e385-4ede-9a9e-b605b24af082",
   "metadata": {},
   "source": [
    "This creates an empty SQLite database in the current directory, or\n",
    "connects to one previously created. The cursor - curs-, is simply the\n",
    "object instance which directs your query-like methods to the\n",
    "particular database.\n",
    "\n",
    "Now let us create a table called \"items\":"
   ]
  },
  {
   "cell_type": "code",
   "execution_count": 5,
   "id": "773be108-6461-4cd6-83fc-a718c3795eb6",
   "metadata": {},
   "outputs": [
    {
     "data": {
      "text/plain": [
       "<sqlite3.Cursor at 0xffffa2dbf840>"
      ]
     },
     "execution_count": 5,
     "metadata": {},
     "output_type": "execute_result"
    }
   ],
   "source": [
    "curs.execute('''create table items\n",
    "  (id integer primary key, itemno text unique,\n",
    "        scancode text, descr text, price real)''')"
   ]
  },
  {
   "cell_type": "markdown",
   "id": "48eaf4b3-3281-4877-9cad-4f61d4d76a29",
   "metadata": {},
   "source": [
    "This statement causes a table to be created with a primary key, a\n",
    "unique item no., and three more fields. If you were to interact\n",
    "directly with SQLite from the command line, it would look something\n",
    "like this:\n",
    "\n",
    "~~~\n",
    "$ sqlite3 sample.db\n",
    "SQLite version 3.3.13\n",
    "Enter \".help\" for instructions\n",
    "sqlite>  create table item (id integer primary key, itemno text unique,\n",
    "   ...>         scancode text, descr text, price real);\n",
    "~~~\n",
    "\n",
    "Now let us add some data to the item table:"
   ]
  },
  {
   "cell_type": "code",
   "execution_count": 8,
   "id": "0b7359d8-d4e0-420f-97a7-07f8d74fcffa",
   "metadata": {},
   "outputs": [],
   "source": [
    "curs.execute(\"insert into items values\\\n",
    "            (NULL,0001,32187645,'Milk',2.50)\")\n",
    "curs.execute(\"insert into items values\\\n",
    "            (NULL,0002,45321876,'Beer',4.50)\")\n",
    "curs.execute(\"insert into items values\\\n",
    "            (NULL,0003,18764532,'Bread',1.50)\")\n",
    "conn.commit()"
   ]
  },
  {
   "cell_type": "markdown",
   "id": "68825172-90f9-4b00-83b1-d3b9fa77f74d",
   "metadata": {},
   "source": [
    "As you can see, our sample Python code passes a \"create table\" statement, via the execute() method. The argument to the execute method is the string that we would key in interactive mode, without the semicolon.\n",
    "\n",
    "Notice that I gave the value NULL to the primary key. This will cause the next integer value to be assigned to the key. And the commit() method will force the changes to be updated. It would not be terribly inefficient to commit every time you make a change to the database, this guarantee that the data inserted before commit is *durable*."
   ]
  },
  {
   "cell_type": "code",
   "execution_count": 6,
   "id": "4e4c7616-88eb-4e2a-9e2b-de895faf73b6",
   "metadata": {},
   "outputs": [
    {
     "name": "stdout",
     "output_type": "stream",
     "text": [
      "total 2344\n",
      "-rw------- 1 jzhu jzhu 1057164 Oct  1 11:08 Google.pdf\n",
      "-rw-r--r-- 1 jzhu jzhu  308767 Oct 11 13:25 IMDB-Movie-Data.csv\n",
      "-rw------- 1 jzhu jzhu   16143 Sep 25 15:51 Prefix_sum_16.svg.png\n",
      "-rw-r--r-- 1 jzhu jzhu   12288 Oct  9 16:23 captions.db\n",
      "-rw-r--r-- 1 jzhu jzhu    6671 Sep 15 06:53 lec1.ipynb\n",
      "-rw-r--r-- 1 jzhu jzhu  664868 Oct 10 14:56 lec10-12.ipynb\n",
      "-rw-r--r-- 1 jzhu jzhu   18810 Oct  8 15:36 lec13-15.ipynb\n",
      "-rw-r--r-- 1 jzhu jzhu   52767 Oct 11 16:21 lec16-19.ipynb\n",
      "-rw-r--r-- 1 jzhu jzhu   29784 Sep 15 06:47 lec2-3.ipynb\n",
      "-rw-r--r-- 1 jzhu jzhu   42311 Sep 25 14:59 lec4-6.ipynb\n",
      "-rw-r--r-- 1 jzhu jzhu  153442 Sep 25 14:59 lec7-9.ipynb\n",
      "-rw-r--r-- 1 jzhu jzhu       0 Oct  8 16:27 memo.txt\n",
      "-rw-r--r-- 1 jzhu jzhu      69 Oct  8 16:22 output.txt\n",
      "-rw-r--r-- 1 jzhu jzhu   12288 Oct 11 16:19 sample.db\n"
     ]
    }
   ],
   "source": [
    "!ls -l"
   ]
  },
  {
   "cell_type": "markdown",
   "id": "574403ca-61a4-4ddd-a956-3f86f7846451",
   "metadata": {},
   "source": [
    "If we interact with SQLite with command line tool, we would have the following:\n",
    "\n",
    "~~~\n",
    "sqlite> select * from item;\n",
    "1|1|32187645|Milk|2.5\n",
    "2|2|45321876|Beer|4.5\n",
    "3|3|18764532|Bread|1.5\n",
    "~~~\n",
    "\n",
    "Now let's use Python to interact programmably."
   ]
  },
  {
   "cell_type": "code",
   "execution_count": 9,
   "id": "def8014f-6c53-47af-bcac-a4fdbf0b4aa6",
   "metadata": {},
   "outputs": [
    {
     "name": "stdout",
     "output_type": "stream",
     "text": [
      "(1, '1', '32187645', 'Milk', 2.5)\n",
      "(2, '2', '45321876', 'Beer', 4.5)\n",
      "(3, '3', '18764532', 'Bread', 1.5)\n"
     ]
    }
   ],
   "source": [
    "curs.execute(\"select * from items\")\n",
    "for row in curs:\n",
    "    print( row )"
   ]
  },
  {
   "cell_type": "markdown",
   "id": "d44639c2-7645-4793-a23e-5eb1b989d316",
   "metadata": {},
   "source": [
    "As you can see, the select causes curs to look like a list of rows of columns. The rows are tuples.\n",
    "\n",
    "Now let us create an item-vendor table and populate it."
   ]
  },
  {
   "cell_type": "code",
   "execution_count": 10,
   "id": "9268f960-a049-4026-8390-97f94ef9ccad",
   "metadata": {},
   "outputs": [],
   "source": [
    "curs.execute('''create table itemvendor\n",
    "  (id integer primary key, itemno text, vendor text)''')\n",
    "curs.execute(\"insert into itemvendor values\\\n",
    "            (NULL,0001,2345)\")\n",
    "curs.execute(\"insert into itemvendor values\\\n",
    "            (NULL,0002,6789)\")\n",
    "curs.execute(\"insert into itemvendor values\\\n",
    "            (NULL,0001,0543)\")\n",
    "conn.commit()"
   ]
  },
  {
   "cell_type": "markdown",
   "id": "d9831636-7faf-4f22-91be-b12b736bdd4a",
   "metadata": {},
   "source": [
    "Now, just for fun, let us do a simple join, and see the results:"
   ]
  },
  {
   "cell_type": "code",
   "execution_count": 11,
   "id": "ebdf82c1-73c8-4596-9fd7-454719f76296",
   "metadata": {},
   "outputs": [
    {
     "name": "stdout",
     "output_type": "stream",
     "text": [
      "(1, '1', '32187645', 'Milk', 2.5, 1, '1', '2345')\n",
      "(1, '1', '32187645', 'Milk', 2.5, 3, '1', '543')\n",
      "(2, '2', '45321876', 'Beer', 4.5, 2, '2', '6789')\n",
      "(3, '3', '18764532', 'Bread', 1.5, None, None, None)\n"
     ]
    }
   ],
   "source": [
    "curs.execute(\"select * from items LEFT OUTER JOIN itemvendor ON items.itemno = itemvendor.itemno\")\n",
    "for row in curs:\n",
    "    print( row )"
   ]
  },
  {
   "cell_type": "markdown",
   "id": "9b614816-fc93-4bff-b371-cb265c81e66e",
   "metadata": {},
   "source": [
    "### Manipulating In-Memory Data Frames\n",
    "Relational databases obviously help to persist your entire dataset. Most of the times, you only need a small subset of it at a time, and you can certainly get that subset using SQL query. But typically, we will need to further process the query reset for various purposes. We will now introduce another handy tool for this purpose. The tool is called Pandas, and has become the de facto standard for data science.\n",
    "\n",
    "Pandas builds on the concept of:\n",
    "\n",
    "* \"DataFrame\", which you can conceptually think of it as a table in memory;\n",
    "* \"Series\", which you can conceptually think of it as a column of a table; \n",
    "\n",
    "In addition to thinking of a table as a collection of rows, you can obviously also think of a table as a collection of columns, aligned together by a \"primary key\". \n",
    "\n",
    "Now let's get into action. "
   ]
  },
  {
   "cell_type": "code",
   "execution_count": 12,
   "id": "23c1db67-0779-4f74-b44d-02306311fd6b",
   "metadata": {},
   "outputs": [
    {
     "name": "stdout",
     "output_type": "stream",
     "text": [
      "Requirement already satisfied: pandas in /home/jzhu/.local/pipx/venvs/jupyterlab/lib/python3.11/site-packages (2.2.3)\n",
      "Requirement already satisfied: numpy>=1.23.2 in /home/jzhu/.local/pipx/venvs/jupyterlab/lib/python3.11/site-packages (from pandas) (2.1.1)\n",
      "Requirement already satisfied: python-dateutil>=2.8.2 in /home/jzhu/.local/pipx/venvs/jupyterlab/lib/python3.11/site-packages (from pandas) (2.9.0.post0)\n",
      "Requirement already satisfied: pytz>=2020.1 in /home/jzhu/.local/pipx/venvs/jupyterlab/lib/python3.11/site-packages (from pandas) (2024.2)\n",
      "Requirement already satisfied: tzdata>=2022.7 in /home/jzhu/.local/pipx/venvs/jupyterlab/lib/python3.11/site-packages (from pandas) (2024.2)\n",
      "Requirement already satisfied: six>=1.5 in /home/jzhu/.local/pipx/venvs/jupyterlab/lib/python3.11/site-packages (from python-dateutil>=2.8.2->pandas) (1.16.0)\n",
      "Note: you may need to restart the kernel to use updated packages.\n"
     ]
    }
   ],
   "source": [
    "%pip install pandas"
   ]
  },
  {
   "cell_type": "code",
   "execution_count": 13,
   "id": "63433623-eb18-41ef-99a4-1c7a8eda018b",
   "metadata": {},
   "outputs": [
    {
     "data": {
      "text/html": [
       "<div>\n",
       "<style scoped>\n",
       "    .dataframe tbody tr th:only-of-type {\n",
       "        vertical-align: middle;\n",
       "    }\n",
       "\n",
       "    .dataframe tbody tr th {\n",
       "        vertical-align: top;\n",
       "    }\n",
       "\n",
       "    .dataframe thead th {\n",
       "        text-align: right;\n",
       "    }\n",
       "</style>\n",
       "<table border=\"1\" class=\"dataframe\">\n",
       "  <thead>\n",
       "    <tr style=\"text-align: right;\">\n",
       "      <th></th>\n",
       "      <th>id</th>\n",
       "      <th>itemno</th>\n",
       "      <th>scancode</th>\n",
       "      <th>descr</th>\n",
       "      <th>price</th>\n",
       "    </tr>\n",
       "  </thead>\n",
       "  <tbody>\n",
       "    <tr>\n",
       "      <th>0</th>\n",
       "      <td>1</td>\n",
       "      <td>1</td>\n",
       "      <td>32187645</td>\n",
       "      <td>Milk</td>\n",
       "      <td>2.5</td>\n",
       "    </tr>\n",
       "    <tr>\n",
       "      <th>1</th>\n",
       "      <td>2</td>\n",
       "      <td>2</td>\n",
       "      <td>45321876</td>\n",
       "      <td>Beer</td>\n",
       "      <td>4.5</td>\n",
       "    </tr>\n",
       "    <tr>\n",
       "      <th>2</th>\n",
       "      <td>3</td>\n",
       "      <td>3</td>\n",
       "      <td>18764532</td>\n",
       "      <td>Bread</td>\n",
       "      <td>1.5</td>\n",
       "    </tr>\n",
       "  </tbody>\n",
       "</table>\n",
       "</div>"
      ],
      "text/plain": [
       "   id itemno  scancode  descr  price\n",
       "0   1      1  32187645   Milk    2.5\n",
       "1   2      2  45321876   Beer    4.5\n",
       "2   3      3  18764532  Bread    1.5"
      ]
     },
     "execution_count": 13,
     "metadata": {},
     "output_type": "execute_result"
    }
   ],
   "source": [
    "import pandas as pd\n",
    "\n",
    "df = pd.read_sql_query( \"SELECT * FROM items\" , conn)\n",
    "df"
   ]
  },
  {
   "cell_type": "markdown",
   "id": "d5aa1442-2860-4399-8c62-3f2eee4a9332",
   "metadata": {},
   "source": [
    "What has just happened? It is no different conceptually from the SQL query we have done before. Except that now the result is held in a DataFrame in memory implemented by the pandas package. It apparently has a better integration with Jupyter so in this environment it renders much nicely. But we can do more.\n",
    "\n",
    "First thing is we can have a variety of *data sources* in addition to relational databases."
   ]
  },
  {
   "cell_type": "markdown",
   "id": "4f6ac3ca-cd79-4712-8a30-7388195e0e18",
   "metadata": {},
   "source": [
    "* Creating Data Frames from Other Sources"
   ]
  },
  {
   "cell_type": "code",
   "execution_count": 14,
   "id": "98a6c985-ff0e-4ee0-9522-5cf19f7d6772",
   "metadata": {},
   "outputs": [
    {
     "data": {
      "text/html": [
       "<div>\n",
       "<style scoped>\n",
       "    .dataframe tbody tr th:only-of-type {\n",
       "        vertical-align: middle;\n",
       "    }\n",
       "\n",
       "    .dataframe tbody tr th {\n",
       "        vertical-align: top;\n",
       "    }\n",
       "\n",
       "    .dataframe thead th {\n",
       "        text-align: right;\n",
       "    }\n",
       "</style>\n",
       "<table border=\"1\" class=\"dataframe\">\n",
       "  <thead>\n",
       "    <tr style=\"text-align: right;\">\n",
       "      <th></th>\n",
       "      <th>apples</th>\n",
       "      <th>oranges</th>\n",
       "    </tr>\n",
       "  </thead>\n",
       "  <tbody>\n",
       "    <tr>\n",
       "      <th>0</th>\n",
       "      <td>3</td>\n",
       "      <td>0</td>\n",
       "    </tr>\n",
       "    <tr>\n",
       "      <th>1</th>\n",
       "      <td>2</td>\n",
       "      <td>3</td>\n",
       "    </tr>\n",
       "    <tr>\n",
       "      <th>2</th>\n",
       "      <td>0</td>\n",
       "      <td>7</td>\n",
       "    </tr>\n",
       "    <tr>\n",
       "      <th>3</th>\n",
       "      <td>1</td>\n",
       "      <td>2</td>\n",
       "    </tr>\n",
       "  </tbody>\n",
       "</table>\n",
       "</div>"
      ],
      "text/plain": [
       "   apples  oranges\n",
       "0       3        0\n",
       "1       2        3\n",
       "2       0        7\n",
       "3       1        2"
      ]
     },
     "execution_count": 14,
     "metadata": {},
     "output_type": "execute_result"
    }
   ],
   "source": [
    "data = {\n",
    "    'apples': [3, 2, 0, 1], \n",
    "    'oranges': [0, 3, 7, 2]\n",
    "}\n",
    "purchases = pd.DataFrame(data)\n",
    "purchases"
   ]
  },
  {
   "cell_type": "markdown",
   "id": "9eaa27a6-9720-46cd-abdc-f8d26faa27fc",
   "metadata": {},
   "source": [
    "The Index of this DataFrame was given to us on creation as the numbers 0-3, but we could also create our own when we initialize the DataFrame.\n",
    "\n",
    "Let's have customer names as our index:"
   ]
  },
  {
   "cell_type": "code",
   "execution_count": 15,
   "id": "990aa7ea-aa45-4bdb-94f6-224aa95fce16",
   "metadata": {},
   "outputs": [
    {
     "data": {
      "text/html": [
       "<div>\n",
       "<style scoped>\n",
       "    .dataframe tbody tr th:only-of-type {\n",
       "        vertical-align: middle;\n",
       "    }\n",
       "\n",
       "    .dataframe tbody tr th {\n",
       "        vertical-align: top;\n",
       "    }\n",
       "\n",
       "    .dataframe thead th {\n",
       "        text-align: right;\n",
       "    }\n",
       "</style>\n",
       "<table border=\"1\" class=\"dataframe\">\n",
       "  <thead>\n",
       "    <tr style=\"text-align: right;\">\n",
       "      <th></th>\n",
       "      <th>apples</th>\n",
       "      <th>oranges</th>\n",
       "    </tr>\n",
       "  </thead>\n",
       "  <tbody>\n",
       "    <tr>\n",
       "      <th>June</th>\n",
       "      <td>3</td>\n",
       "      <td>0</td>\n",
       "    </tr>\n",
       "    <tr>\n",
       "      <th>Robert</th>\n",
       "      <td>2</td>\n",
       "      <td>3</td>\n",
       "    </tr>\n",
       "    <tr>\n",
       "      <th>Lily</th>\n",
       "      <td>0</td>\n",
       "      <td>7</td>\n",
       "    </tr>\n",
       "    <tr>\n",
       "      <th>David</th>\n",
       "      <td>1</td>\n",
       "      <td>2</td>\n",
       "    </tr>\n",
       "  </tbody>\n",
       "</table>\n",
       "</div>"
      ],
      "text/plain": [
       "        apples  oranges\n",
       "June         3        0\n",
       "Robert       2        3\n",
       "Lily         0        7\n",
       "David        1        2"
      ]
     },
     "execution_count": 15,
     "metadata": {},
     "output_type": "execute_result"
    }
   ],
   "source": [
    "purchases = pd.DataFrame(data, index=['June', 'Robert', 'Lily', 'David'])\n",
    "\n",
    "purchases"
   ]
  },
  {
   "cell_type": "code",
   "execution_count": 16,
   "id": "ee8ca108-afae-4e1f-b97d-4cfb201bcfb1",
   "metadata": {},
   "outputs": [
    {
     "data": {
      "text/plain": [
       "apples     3\n",
       "oranges    0\n",
       "Name: June, dtype: int64"
      ]
     },
     "execution_count": 16,
     "metadata": {},
     "output_type": "execute_result"
    }
   ],
   "source": [
    "purchases.loc['June']"
   ]
  },
  {
   "cell_type": "markdown",
   "id": "3fdfb509-4c74-4291-b7ad-927e7d664c62",
   "metadata": {},
   "source": [
    "Let's directly persist it into a file. Here we use CSV: comma seperated list. This is the file format Excel can accept."
   ]
  },
  {
   "cell_type": "code",
   "execution_count": 19,
   "id": "fd5f1a05-9ef4-406e-9bf9-2203c1afb462",
   "metadata": {},
   "outputs": [],
   "source": [
    "purchases.to_csv('new_purchases.csv')"
   ]
  },
  {
   "cell_type": "code",
   "execution_count": 20,
   "id": "43e54de7-325d-45ea-b5d8-4ddc7d166ea2",
   "metadata": {},
   "outputs": [
    {
     "name": "stdout",
     "output_type": "stream",
     "text": [
      ",apples,oranges\n",
      "June,3,0\n",
      "Robert,2,3\n",
      "Lily,0,7\n",
      "David,1,2\n"
     ]
    }
   ],
   "source": [
    "!cat new_purchases.csv"
   ]
  },
  {
   "cell_type": "code",
   "execution_count": 21,
   "id": "43ede793-860e-44d6-9c93-21657f7e38b3",
   "metadata": {},
   "outputs": [],
   "source": [
    "purchases.to_json( 'new_purchases.json' )"
   ]
  },
  {
   "cell_type": "code",
   "execution_count": 22,
   "id": "ebf06c48-ad11-4e46-8c6c-517220608b18",
   "metadata": {},
   "outputs": [
    {
     "name": "stdout",
     "output_type": "stream",
     "text": [
      "{\"apples\":{\"June\":3,\"Robert\":2,\"Lily\":0,\"David\":1},\"oranges\":{\"June\":0,\"Robert\":3,\"Lily\":7,\"David\":2}}"
     ]
    }
   ],
   "source": [
    "!cat new_purchases.json"
   ]
  },
  {
   "cell_type": "code",
   "execution_count": null,
   "id": "1aecc87d-be03-4e25-8cfa-21f102e4218c",
   "metadata": {},
   "outputs": [],
   "source": [
    "And of course we can load them back."
   ]
  },
  {
   "cell_type": "code",
   "execution_count": 23,
   "id": "f392095e-17b5-4a71-815f-f82bc27558d8",
   "metadata": {},
   "outputs": [
    {
     "data": {
      "text/html": [
       "<div>\n",
       "<style scoped>\n",
       "    .dataframe tbody tr th:only-of-type {\n",
       "        vertical-align: middle;\n",
       "    }\n",
       "\n",
       "    .dataframe tbody tr th {\n",
       "        vertical-align: top;\n",
       "    }\n",
       "\n",
       "    .dataframe thead th {\n",
       "        text-align: right;\n",
       "    }\n",
       "</style>\n",
       "<table border=\"1\" class=\"dataframe\">\n",
       "  <thead>\n",
       "    <tr style=\"text-align: right;\">\n",
       "      <th></th>\n",
       "      <th>Unnamed: 0</th>\n",
       "      <th>apples</th>\n",
       "      <th>oranges</th>\n",
       "    </tr>\n",
       "  </thead>\n",
       "  <tbody>\n",
       "    <tr>\n",
       "      <th>0</th>\n",
       "      <td>June</td>\n",
       "      <td>3</td>\n",
       "      <td>0</td>\n",
       "    </tr>\n",
       "    <tr>\n",
       "      <th>1</th>\n",
       "      <td>Robert</td>\n",
       "      <td>2</td>\n",
       "      <td>3</td>\n",
       "    </tr>\n",
       "    <tr>\n",
       "      <th>2</th>\n",
       "      <td>Lily</td>\n",
       "      <td>0</td>\n",
       "      <td>7</td>\n",
       "    </tr>\n",
       "    <tr>\n",
       "      <th>3</th>\n",
       "      <td>David</td>\n",
       "      <td>1</td>\n",
       "      <td>2</td>\n",
       "    </tr>\n",
       "  </tbody>\n",
       "</table>\n",
       "</div>"
      ],
      "text/plain": [
       "  Unnamed: 0  apples  oranges\n",
       "0       June       3        0\n",
       "1     Robert       2        3\n",
       "2       Lily       0        7\n",
       "3      David       1        2"
      ]
     },
     "execution_count": 23,
     "metadata": {},
     "output_type": "execute_result"
    }
   ],
   "source": [
    "new_purchases = pd.read_csv( 'new_purchases.csv' )\n",
    "new_purchases"
   ]
  },
  {
   "cell_type": "code",
   "execution_count": 24,
   "id": "16c04d48-31a4-4393-b927-0a8402de9fa4",
   "metadata": {},
   "outputs": [
    {
     "data": {
      "text/html": [
       "<div>\n",
       "<style scoped>\n",
       "    .dataframe tbody tr th:only-of-type {\n",
       "        vertical-align: middle;\n",
       "    }\n",
       "\n",
       "    .dataframe tbody tr th {\n",
       "        vertical-align: top;\n",
       "    }\n",
       "\n",
       "    .dataframe thead th {\n",
       "        text-align: right;\n",
       "    }\n",
       "</style>\n",
       "<table border=\"1\" class=\"dataframe\">\n",
       "  <thead>\n",
       "    <tr style=\"text-align: right;\">\n",
       "      <th></th>\n",
       "      <th>apples</th>\n",
       "      <th>oranges</th>\n",
       "    </tr>\n",
       "  </thead>\n",
       "  <tbody>\n",
       "    <tr>\n",
       "      <th>June</th>\n",
       "      <td>3</td>\n",
       "      <td>0</td>\n",
       "    </tr>\n",
       "    <tr>\n",
       "      <th>Robert</th>\n",
       "      <td>2</td>\n",
       "      <td>3</td>\n",
       "    </tr>\n",
       "    <tr>\n",
       "      <th>Lily</th>\n",
       "      <td>0</td>\n",
       "      <td>7</td>\n",
       "    </tr>\n",
       "    <tr>\n",
       "      <th>David</th>\n",
       "      <td>1</td>\n",
       "      <td>2</td>\n",
       "    </tr>\n",
       "  </tbody>\n",
       "</table>\n",
       "</div>"
      ],
      "text/plain": [
       "        apples  oranges\n",
       "June         3        0\n",
       "Robert       2        3\n",
       "Lily         0        7\n",
       "David        1        2"
      ]
     },
     "execution_count": 24,
     "metadata": {},
     "output_type": "execute_result"
    }
   ],
   "source": [
    "new_purchases = pd.read_json( 'new_purchases.json' )\n",
    "new_purchases"
   ]
  },
  {
   "cell_type": "markdown",
   "id": "f7d875e7-1fc6-44e7-9d2d-59ae23437e03",
   "metadata": {},
   "source": [
    "* Larger Data Set\n",
    "\n",
    "  Now let's deal with larger dataset."
   ]
  },
  {
   "cell_type": "code",
   "execution_count": 25,
   "id": "aa630bae-7c5f-4daa-bea1-a1ba1c9f7403",
   "metadata": {},
   "outputs": [],
   "source": [
    "movies_df = pd.read_csv(\"IMDB-Movie-Data.csv\", index_col=\"Title\")"
   ]
  },
  {
   "cell_type": "markdown",
   "id": "44ef695b-5750-4ec6-a1d8-ce05e8bccdc4",
   "metadata": {},
   "source": [
    "The first thing to do when opening a new dataset is print out a few rows to keep as a visual reference. We accomplish this with .head():"
   ]
  },
  {
   "cell_type": "code",
   "execution_count": 29,
   "id": "1078dac1-b9ee-4f06-ac07-230ead9ec6a4",
   "metadata": {},
   "outputs": [
    {
     "data": {
      "text/html": [
       "<div>\n",
       "<style scoped>\n",
       "    .dataframe tbody tr th:only-of-type {\n",
       "        vertical-align: middle;\n",
       "    }\n",
       "\n",
       "    .dataframe tbody tr th {\n",
       "        vertical-align: top;\n",
       "    }\n",
       "\n",
       "    .dataframe thead th {\n",
       "        text-align: right;\n",
       "    }\n",
       "</style>\n",
       "<table border=\"1\" class=\"dataframe\">\n",
       "  <thead>\n",
       "    <tr style=\"text-align: right;\">\n",
       "      <th></th>\n",
       "      <th>Rank</th>\n",
       "      <th>Genre</th>\n",
       "      <th>Description</th>\n",
       "      <th>Director</th>\n",
       "      <th>Actors</th>\n",
       "      <th>Year</th>\n",
       "      <th>Runtime (Minutes)</th>\n",
       "      <th>Rating</th>\n",
       "      <th>Votes</th>\n",
       "      <th>Revenue (Millions)</th>\n",
       "      <th>Metascore</th>\n",
       "    </tr>\n",
       "    <tr>\n",
       "      <th>Title</th>\n",
       "      <th></th>\n",
       "      <th></th>\n",
       "      <th></th>\n",
       "      <th></th>\n",
       "      <th></th>\n",
       "      <th></th>\n",
       "      <th></th>\n",
       "      <th></th>\n",
       "      <th></th>\n",
       "      <th></th>\n",
       "      <th></th>\n",
       "    </tr>\n",
       "  </thead>\n",
       "  <tbody>\n",
       "    <tr>\n",
       "      <th>Guardians of the Galaxy</th>\n",
       "      <td>1</td>\n",
       "      <td>Action,Adventure,Sci-Fi</td>\n",
       "      <td>A group of intergalactic criminals are forced ...</td>\n",
       "      <td>James Gunn</td>\n",
       "      <td>Chris Pratt, Vin Diesel, Bradley Cooper, Zoe S...</td>\n",
       "      <td>2014</td>\n",
       "      <td>121</td>\n",
       "      <td>8.1</td>\n",
       "      <td>757074</td>\n",
       "      <td>333.13</td>\n",
       "      <td>76.0</td>\n",
       "    </tr>\n",
       "    <tr>\n",
       "      <th>Prometheus</th>\n",
       "      <td>2</td>\n",
       "      <td>Adventure,Mystery,Sci-Fi</td>\n",
       "      <td>Following clues to the origin of mankind, a te...</td>\n",
       "      <td>Ridley Scott</td>\n",
       "      <td>Noomi Rapace, Logan Marshall-Green, Michael Fa...</td>\n",
       "      <td>2012</td>\n",
       "      <td>124</td>\n",
       "      <td>7.0</td>\n",
       "      <td>485820</td>\n",
       "      <td>126.46</td>\n",
       "      <td>65.0</td>\n",
       "    </tr>\n",
       "  </tbody>\n",
       "</table>\n",
       "</div>"
      ],
      "text/plain": [
       "                         Rank                     Genre  \\\n",
       "Title                                                     \n",
       "Guardians of the Galaxy     1   Action,Adventure,Sci-Fi   \n",
       "Prometheus                  2  Adventure,Mystery,Sci-Fi   \n",
       "\n",
       "                                                               Description  \\\n",
       "Title                                                                        \n",
       "Guardians of the Galaxy  A group of intergalactic criminals are forced ...   \n",
       "Prometheus               Following clues to the origin of mankind, a te...   \n",
       "\n",
       "                             Director  \\\n",
       "Title                                   \n",
       "Guardians of the Galaxy    James Gunn   \n",
       "Prometheus               Ridley Scott   \n",
       "\n",
       "                                                                    Actors  \\\n",
       "Title                                                                        \n",
       "Guardians of the Galaxy  Chris Pratt, Vin Diesel, Bradley Cooper, Zoe S...   \n",
       "Prometheus               Noomi Rapace, Logan Marshall-Green, Michael Fa...   \n",
       "\n",
       "                         Year  Runtime (Minutes)  Rating   Votes  \\\n",
       "Title                                                              \n",
       "Guardians of the Galaxy  2014                121     8.1  757074   \n",
       "Prometheus               2012                124     7.0  485820   \n",
       "\n",
       "                         Revenue (Millions)  Metascore  \n",
       "Title                                                   \n",
       "Guardians of the Galaxy              333.13       76.0  \n",
       "Prometheus                           126.46       65.0  "
      ]
     },
     "execution_count": 29,
     "metadata": {},
     "output_type": "execute_result"
    }
   ],
   "source": [
    "movies_df.head(2)"
   ]
  },
  {
   "cell_type": "code",
   "execution_count": 30,
   "id": "c7744315-2bbe-45d7-ac9a-80545f2b7828",
   "metadata": {},
   "outputs": [
    {
     "data": {
      "text/html": [
       "<div>\n",
       "<style scoped>\n",
       "    .dataframe tbody tr th:only-of-type {\n",
       "        vertical-align: middle;\n",
       "    }\n",
       "\n",
       "    .dataframe tbody tr th {\n",
       "        vertical-align: top;\n",
       "    }\n",
       "\n",
       "    .dataframe thead th {\n",
       "        text-align: right;\n",
       "    }\n",
       "</style>\n",
       "<table border=\"1\" class=\"dataframe\">\n",
       "  <thead>\n",
       "    <tr style=\"text-align: right;\">\n",
       "      <th></th>\n",
       "      <th>Rank</th>\n",
       "      <th>Genre</th>\n",
       "      <th>Description</th>\n",
       "      <th>Director</th>\n",
       "      <th>Actors</th>\n",
       "      <th>Year</th>\n",
       "      <th>Runtime (Minutes)</th>\n",
       "      <th>Rating</th>\n",
       "      <th>Votes</th>\n",
       "      <th>Revenue (Millions)</th>\n",
       "      <th>Metascore</th>\n",
       "    </tr>\n",
       "    <tr>\n",
       "      <th>Title</th>\n",
       "      <th></th>\n",
       "      <th></th>\n",
       "      <th></th>\n",
       "      <th></th>\n",
       "      <th></th>\n",
       "      <th></th>\n",
       "      <th></th>\n",
       "      <th></th>\n",
       "      <th></th>\n",
       "      <th></th>\n",
       "      <th></th>\n",
       "    </tr>\n",
       "  </thead>\n",
       "  <tbody>\n",
       "    <tr>\n",
       "      <th>Search Party</th>\n",
       "      <td>999</td>\n",
       "      <td>Adventure,Comedy</td>\n",
       "      <td>A pair of friends embark on a mission to reuni...</td>\n",
       "      <td>Scot Armstrong</td>\n",
       "      <td>Adam Pally, T.J. Miller, Thomas Middleditch,Sh...</td>\n",
       "      <td>2014</td>\n",
       "      <td>93</td>\n",
       "      <td>5.6</td>\n",
       "      <td>4881</td>\n",
       "      <td>NaN</td>\n",
       "      <td>22.0</td>\n",
       "    </tr>\n",
       "    <tr>\n",
       "      <th>Nine Lives</th>\n",
       "      <td>1000</td>\n",
       "      <td>Comedy,Family,Fantasy</td>\n",
       "      <td>A stuffy businessman finds himself trapped ins...</td>\n",
       "      <td>Barry Sonnenfeld</td>\n",
       "      <td>Kevin Spacey, Jennifer Garner, Robbie Amell,Ch...</td>\n",
       "      <td>2016</td>\n",
       "      <td>87</td>\n",
       "      <td>5.3</td>\n",
       "      <td>12435</td>\n",
       "      <td>19.64</td>\n",
       "      <td>11.0</td>\n",
       "    </tr>\n",
       "  </tbody>\n",
       "</table>\n",
       "</div>"
      ],
      "text/plain": [
       "              Rank                  Genre  \\\n",
       "Title                                       \n",
       "Search Party   999       Adventure,Comedy   \n",
       "Nine Lives    1000  Comedy,Family,Fantasy   \n",
       "\n",
       "                                                    Description  \\\n",
       "Title                                                             \n",
       "Search Party  A pair of friends embark on a mission to reuni...   \n",
       "Nine Lives    A stuffy businessman finds himself trapped ins...   \n",
       "\n",
       "                      Director  \\\n",
       "Title                            \n",
       "Search Party    Scot Armstrong   \n",
       "Nine Lives    Barry Sonnenfeld   \n",
       "\n",
       "                                                         Actors  Year  \\\n",
       "Title                                                                   \n",
       "Search Party  Adam Pally, T.J. Miller, Thomas Middleditch,Sh...  2014   \n",
       "Nine Lives    Kevin Spacey, Jennifer Garner, Robbie Amell,Ch...  2016   \n",
       "\n",
       "              Runtime (Minutes)  Rating  Votes  Revenue (Millions)  Metascore  \n",
       "Title                                                                          \n",
       "Search Party                 93     5.6   4881                 NaN       22.0  \n",
       "Nine Lives                   87     5.3  12435               19.64       11.0  "
      ]
     },
     "execution_count": 30,
     "metadata": {},
     "output_type": "execute_result"
    }
   ],
   "source": [
    "movies_df.tail(2)"
   ]
  },
  {
   "cell_type": "code",
   "execution_count": 31,
   "id": "c683778a-4964-419c-8b38-5e910881304d",
   "metadata": {},
   "outputs": [
    {
     "name": "stdout",
     "output_type": "stream",
     "text": [
      "<class 'pandas.core.frame.DataFrame'>\n",
      "Index: 1000 entries, Guardians of the Galaxy to Nine Lives\n",
      "Data columns (total 11 columns):\n",
      " #   Column              Non-Null Count  Dtype  \n",
      "---  ------              --------------  -----  \n",
      " 0   Rank                1000 non-null   int64  \n",
      " 1   Genre               1000 non-null   object \n",
      " 2   Description         1000 non-null   object \n",
      " 3   Director            1000 non-null   object \n",
      " 4   Actors              1000 non-null   object \n",
      " 5   Year                1000 non-null   int64  \n",
      " 6   Runtime (Minutes)   1000 non-null   int64  \n",
      " 7   Rating              1000 non-null   float64\n",
      " 8   Votes               1000 non-null   int64  \n",
      " 9   Revenue (Millions)  872 non-null    float64\n",
      " 10  Metascore           936 non-null    float64\n",
      "dtypes: float64(3), int64(4), object(4)\n",
      "memory usage: 93.8+ KB\n"
     ]
    }
   ],
   "source": [
    "movies_df.info()"
   ]
  },
  {
   "cell_type": "code",
   "execution_count": 32,
   "id": "0e2435f5-0a42-4885-8bb0-234955261a67",
   "metadata": {},
   "outputs": [
    {
     "data": {
      "text/plain": [
       "Index(['Rank', 'Genre', 'Description', 'Director', 'Actors', 'Year',\n",
       "       'Runtime (Minutes)', 'Rating', 'Votes', 'Revenue (Millions)',\n",
       "       'Metascore'],\n",
       "      dtype='object')"
      ]
     },
     "execution_count": 32,
     "metadata": {},
     "output_type": "execute_result"
    }
   ],
   "source": [
    "movies_df.columns"
   ]
  },
  {
   "cell_type": "markdown",
   "id": "d9e1f42b-8487-4495-bc4f-bf166f48f2ed",
   "metadata": {},
   "source": [
    "* Manipulating Data Frames"
   ]
  },
  {
   "cell_type": "code",
   "execution_count": 33,
   "id": "aa3bb9b8-7d6e-4d5a-91c1-0ef5118797b7",
   "metadata": {},
   "outputs": [
    {
     "data": {
      "text/plain": [
       "Index(['rank', 'genre', 'description', 'director', 'actors', 'year',\n",
       "       'runtime (minutes)', 'rating', 'votes', 'revenue (millions)',\n",
       "       'metascore'],\n",
       "      dtype='object')"
      ]
     },
     "execution_count": 33,
     "metadata": {},
     "output_type": "execute_result"
    }
   ],
   "source": [
    "movies_df.columns = [col.lower() for col in movies_df]\n",
    "movies_df.columns"
   ]
  },
  {
   "cell_type": "markdown",
   "id": "f5cc10a8-f944-4197-98d9-1bee8a49d2c2",
   "metadata": {},
   "source": [
    "We just change the names of all columns into lower case.\n",
    "\n",
    "Let's drop all rows with null values. We should expect a smaller data set."
   ]
  },
  {
   "cell_type": "code",
   "execution_count": 34,
   "id": "99818d77-9177-4faa-8ad6-706a6e03c873",
   "metadata": {},
   "outputs": [
    {
     "data": {
      "text/html": [
       "<div>\n",
       "<style scoped>\n",
       "    .dataframe tbody tr th:only-of-type {\n",
       "        vertical-align: middle;\n",
       "    }\n",
       "\n",
       "    .dataframe tbody tr th {\n",
       "        vertical-align: top;\n",
       "    }\n",
       "\n",
       "    .dataframe thead th {\n",
       "        text-align: right;\n",
       "    }\n",
       "</style>\n",
       "<table border=\"1\" class=\"dataframe\">\n",
       "  <thead>\n",
       "    <tr style=\"text-align: right;\">\n",
       "      <th></th>\n",
       "      <th>rank</th>\n",
       "      <th>genre</th>\n",
       "      <th>description</th>\n",
       "      <th>director</th>\n",
       "      <th>actors</th>\n",
       "      <th>year</th>\n",
       "      <th>runtime (minutes)</th>\n",
       "      <th>rating</th>\n",
       "      <th>votes</th>\n",
       "      <th>revenue (millions)</th>\n",
       "      <th>metascore</th>\n",
       "    </tr>\n",
       "    <tr>\n",
       "      <th>Title</th>\n",
       "      <th></th>\n",
       "      <th></th>\n",
       "      <th></th>\n",
       "      <th></th>\n",
       "      <th></th>\n",
       "      <th></th>\n",
       "      <th></th>\n",
       "      <th></th>\n",
       "      <th></th>\n",
       "      <th></th>\n",
       "      <th></th>\n",
       "    </tr>\n",
       "  </thead>\n",
       "  <tbody>\n",
       "    <tr>\n",
       "      <th>Guardians of the Galaxy</th>\n",
       "      <td>1</td>\n",
       "      <td>Action,Adventure,Sci-Fi</td>\n",
       "      <td>A group of intergalactic criminals are forced ...</td>\n",
       "      <td>James Gunn</td>\n",
       "      <td>Chris Pratt, Vin Diesel, Bradley Cooper, Zoe S...</td>\n",
       "      <td>2014</td>\n",
       "      <td>121</td>\n",
       "      <td>8.1</td>\n",
       "      <td>757074</td>\n",
       "      <td>333.13</td>\n",
       "      <td>76.0</td>\n",
       "    </tr>\n",
       "    <tr>\n",
       "      <th>Prometheus</th>\n",
       "      <td>2</td>\n",
       "      <td>Adventure,Mystery,Sci-Fi</td>\n",
       "      <td>Following clues to the origin of mankind, a te...</td>\n",
       "      <td>Ridley Scott</td>\n",
       "      <td>Noomi Rapace, Logan Marshall-Green, Michael Fa...</td>\n",
       "      <td>2012</td>\n",
       "      <td>124</td>\n",
       "      <td>7.0</td>\n",
       "      <td>485820</td>\n",
       "      <td>126.46</td>\n",
       "      <td>65.0</td>\n",
       "    </tr>\n",
       "    <tr>\n",
       "      <th>Split</th>\n",
       "      <td>3</td>\n",
       "      <td>Horror,Thriller</td>\n",
       "      <td>Three girls are kidnapped by a man with a diag...</td>\n",
       "      <td>M. Night Shyamalan</td>\n",
       "      <td>James McAvoy, Anya Taylor-Joy, Haley Lu Richar...</td>\n",
       "      <td>2016</td>\n",
       "      <td>117</td>\n",
       "      <td>7.3</td>\n",
       "      <td>157606</td>\n",
       "      <td>138.12</td>\n",
       "      <td>62.0</td>\n",
       "    </tr>\n",
       "    <tr>\n",
       "      <th>Sing</th>\n",
       "      <td>4</td>\n",
       "      <td>Animation,Comedy,Family</td>\n",
       "      <td>In a city of humanoid animals, a hustling thea...</td>\n",
       "      <td>Christophe Lourdelet</td>\n",
       "      <td>Matthew McConaughey,Reese Witherspoon, Seth Ma...</td>\n",
       "      <td>2016</td>\n",
       "      <td>108</td>\n",
       "      <td>7.2</td>\n",
       "      <td>60545</td>\n",
       "      <td>270.32</td>\n",
       "      <td>59.0</td>\n",
       "    </tr>\n",
       "    <tr>\n",
       "      <th>Suicide Squad</th>\n",
       "      <td>5</td>\n",
       "      <td>Action,Adventure,Fantasy</td>\n",
       "      <td>A secret government agency recruits some of th...</td>\n",
       "      <td>David Ayer</td>\n",
       "      <td>Will Smith, Jared Leto, Margot Robbie, Viola D...</td>\n",
       "      <td>2016</td>\n",
       "      <td>123</td>\n",
       "      <td>6.2</td>\n",
       "      <td>393727</td>\n",
       "      <td>325.02</td>\n",
       "      <td>40.0</td>\n",
       "    </tr>\n",
       "    <tr>\n",
       "      <th>...</th>\n",
       "      <td>...</td>\n",
       "      <td>...</td>\n",
       "      <td>...</td>\n",
       "      <td>...</td>\n",
       "      <td>...</td>\n",
       "      <td>...</td>\n",
       "      <td>...</td>\n",
       "      <td>...</td>\n",
       "      <td>...</td>\n",
       "      <td>...</td>\n",
       "      <td>...</td>\n",
       "    </tr>\n",
       "    <tr>\n",
       "      <th>Resident Evil: Afterlife</th>\n",
       "      <td>994</td>\n",
       "      <td>Action,Adventure,Horror</td>\n",
       "      <td>While still out to destroy the evil Umbrella C...</td>\n",
       "      <td>Paul W.S. Anderson</td>\n",
       "      <td>Milla Jovovich, Ali Larter, Wentworth Miller,K...</td>\n",
       "      <td>2010</td>\n",
       "      <td>97</td>\n",
       "      <td>5.9</td>\n",
       "      <td>140900</td>\n",
       "      <td>60.13</td>\n",
       "      <td>37.0</td>\n",
       "    </tr>\n",
       "    <tr>\n",
       "      <th>Project X</th>\n",
       "      <td>995</td>\n",
       "      <td>Comedy</td>\n",
       "      <td>3 high school seniors throw a birthday party t...</td>\n",
       "      <td>Nima Nourizadeh</td>\n",
       "      <td>Thomas Mann, Oliver Cooper, Jonathan Daniel Br...</td>\n",
       "      <td>2012</td>\n",
       "      <td>88</td>\n",
       "      <td>6.7</td>\n",
       "      <td>164088</td>\n",
       "      <td>54.72</td>\n",
       "      <td>48.0</td>\n",
       "    </tr>\n",
       "    <tr>\n",
       "      <th>Hostel: Part II</th>\n",
       "      <td>997</td>\n",
       "      <td>Horror</td>\n",
       "      <td>Three American college students studying abroa...</td>\n",
       "      <td>Eli Roth</td>\n",
       "      <td>Lauren German, Heather Matarazzo, Bijou Philli...</td>\n",
       "      <td>2007</td>\n",
       "      <td>94</td>\n",
       "      <td>5.5</td>\n",
       "      <td>73152</td>\n",
       "      <td>17.54</td>\n",
       "      <td>46.0</td>\n",
       "    </tr>\n",
       "    <tr>\n",
       "      <th>Step Up 2: The Streets</th>\n",
       "      <td>998</td>\n",
       "      <td>Drama,Music,Romance</td>\n",
       "      <td>Romantic sparks occur between two dance studen...</td>\n",
       "      <td>Jon M. Chu</td>\n",
       "      <td>Robert Hoffman, Briana Evigan, Cassie Ventura,...</td>\n",
       "      <td>2008</td>\n",
       "      <td>98</td>\n",
       "      <td>6.2</td>\n",
       "      <td>70699</td>\n",
       "      <td>58.01</td>\n",
       "      <td>50.0</td>\n",
       "    </tr>\n",
       "    <tr>\n",
       "      <th>Nine Lives</th>\n",
       "      <td>1000</td>\n",
       "      <td>Comedy,Family,Fantasy</td>\n",
       "      <td>A stuffy businessman finds himself trapped ins...</td>\n",
       "      <td>Barry Sonnenfeld</td>\n",
       "      <td>Kevin Spacey, Jennifer Garner, Robbie Amell,Ch...</td>\n",
       "      <td>2016</td>\n",
       "      <td>87</td>\n",
       "      <td>5.3</td>\n",
       "      <td>12435</td>\n",
       "      <td>19.64</td>\n",
       "      <td>11.0</td>\n",
       "    </tr>\n",
       "  </tbody>\n",
       "</table>\n",
       "<p>838 rows × 11 columns</p>\n",
       "</div>"
      ],
      "text/plain": [
       "                          rank                     genre  \\\n",
       "Title                                                      \n",
       "Guardians of the Galaxy      1   Action,Adventure,Sci-Fi   \n",
       "Prometheus                   2  Adventure,Mystery,Sci-Fi   \n",
       "Split                        3           Horror,Thriller   \n",
       "Sing                         4   Animation,Comedy,Family   \n",
       "Suicide Squad                5  Action,Adventure,Fantasy   \n",
       "...                        ...                       ...   \n",
       "Resident Evil: Afterlife   994   Action,Adventure,Horror   \n",
       "Project X                  995                    Comedy   \n",
       "Hostel: Part II            997                    Horror   \n",
       "Step Up 2: The Streets     998       Drama,Music,Romance   \n",
       "Nine Lives                1000     Comedy,Family,Fantasy   \n",
       "\n",
       "                                                                description  \\\n",
       "Title                                                                         \n",
       "Guardians of the Galaxy   A group of intergalactic criminals are forced ...   \n",
       "Prometheus                Following clues to the origin of mankind, a te...   \n",
       "Split                     Three girls are kidnapped by a man with a diag...   \n",
       "Sing                      In a city of humanoid animals, a hustling thea...   \n",
       "Suicide Squad             A secret government agency recruits some of th...   \n",
       "...                                                                     ...   \n",
       "Resident Evil: Afterlife  While still out to destroy the evil Umbrella C...   \n",
       "Project X                 3 high school seniors throw a birthday party t...   \n",
       "Hostel: Part II           Three American college students studying abroa...   \n",
       "Step Up 2: The Streets    Romantic sparks occur between two dance studen...   \n",
       "Nine Lives                A stuffy businessman finds himself trapped ins...   \n",
       "\n",
       "                                      director  \\\n",
       "Title                                            \n",
       "Guardians of the Galaxy             James Gunn   \n",
       "Prometheus                        Ridley Scott   \n",
       "Split                       M. Night Shyamalan   \n",
       "Sing                      Christophe Lourdelet   \n",
       "Suicide Squad                       David Ayer   \n",
       "...                                        ...   \n",
       "Resident Evil: Afterlife    Paul W.S. Anderson   \n",
       "Project X                      Nima Nourizadeh   \n",
       "Hostel: Part II                       Eli Roth   \n",
       "Step Up 2: The Streets              Jon M. Chu   \n",
       "Nine Lives                    Barry Sonnenfeld   \n",
       "\n",
       "                                                                     actors  \\\n",
       "Title                                                                         \n",
       "Guardians of the Galaxy   Chris Pratt, Vin Diesel, Bradley Cooper, Zoe S...   \n",
       "Prometheus                Noomi Rapace, Logan Marshall-Green, Michael Fa...   \n",
       "Split                     James McAvoy, Anya Taylor-Joy, Haley Lu Richar...   \n",
       "Sing                      Matthew McConaughey,Reese Witherspoon, Seth Ma...   \n",
       "Suicide Squad             Will Smith, Jared Leto, Margot Robbie, Viola D...   \n",
       "...                                                                     ...   \n",
       "Resident Evil: Afterlife  Milla Jovovich, Ali Larter, Wentworth Miller,K...   \n",
       "Project X                 Thomas Mann, Oliver Cooper, Jonathan Daniel Br...   \n",
       "Hostel: Part II           Lauren German, Heather Matarazzo, Bijou Philli...   \n",
       "Step Up 2: The Streets    Robert Hoffman, Briana Evigan, Cassie Ventura,...   \n",
       "Nine Lives                Kevin Spacey, Jennifer Garner, Robbie Amell,Ch...   \n",
       "\n",
       "                          year  runtime (minutes)  rating   votes  \\\n",
       "Title                                                               \n",
       "Guardians of the Galaxy   2014                121     8.1  757074   \n",
       "Prometheus                2012                124     7.0  485820   \n",
       "Split                     2016                117     7.3  157606   \n",
       "Sing                      2016                108     7.2   60545   \n",
       "Suicide Squad             2016                123     6.2  393727   \n",
       "...                        ...                ...     ...     ...   \n",
       "Resident Evil: Afterlife  2010                 97     5.9  140900   \n",
       "Project X                 2012                 88     6.7  164088   \n",
       "Hostel: Part II           2007                 94     5.5   73152   \n",
       "Step Up 2: The Streets    2008                 98     6.2   70699   \n",
       "Nine Lives                2016                 87     5.3   12435   \n",
       "\n",
       "                          revenue (millions)  metascore  \n",
       "Title                                                    \n",
       "Guardians of the Galaxy               333.13       76.0  \n",
       "Prometheus                            126.46       65.0  \n",
       "Split                                 138.12       62.0  \n",
       "Sing                                  270.32       59.0  \n",
       "Suicide Squad                         325.02       40.0  \n",
       "...                                      ...        ...  \n",
       "Resident Evil: Afterlife               60.13       37.0  \n",
       "Project X                              54.72       48.0  \n",
       "Hostel: Part II                        17.54       46.0  \n",
       "Step Up 2: The Streets                 58.01       50.0  \n",
       "Nine Lives                             19.64       11.0  \n",
       "\n",
       "[838 rows x 11 columns]"
      ]
     },
     "execution_count": 34,
     "metadata": {},
     "output_type": "execute_result"
    }
   ],
   "source": [
    "movies_df.dropna()"
   ]
  },
  {
   "cell_type": "markdown",
   "id": "5863f2ab-1bb7-460b-bb1b-3a71f9dad387",
   "metadata": {},
   "source": [
    "* Visualization and Plotting\n",
    "\n",
    "  You could visualize your data pretty much the same way as what Excel can do for you, using matplotlib again."
   ]
  },
  {
   "cell_type": "code",
   "execution_count": 35,
   "id": "33db554e-71cf-4fc3-8752-cce08787374a",
   "metadata": {},
   "outputs": [],
   "source": [
    "import matplotlib.pyplot as plt\n",
    "plt.rcParams.update({'font.size': 20, 'figure.figsize': (10, 8)}) # set font and plot size to be larger\n"
   ]
  },
  {
   "cell_type": "code",
   "execution_count": 36,
   "id": "11843798-09e4-490f-9d2a-90c015826169",
   "metadata": {},
   "outputs": [
    {
     "data": {
      "image/png": "[encoded data removed]",
      "text/plain": [
       "<Figure size 1000x800 with 1 Axes>"
      ]
     },
     "metadata": {},
     "output_type": "display_data"
    }
   ],
   "source": [
    "movies_df.plot(kind='scatter', x='rating', y='revenue (millions)', title='Revenue (millions) vs Rating');"
   ]
  },
  {
   "cell_type": "markdown",
   "id": "96186df5-f33f-4669-a4a1-8edfbadb2d89",
   "metadata": {},
   "source": [
    "## Recap\n",
    "\n",
    "* Needs for persistent programming \n",
    "    - When data size exceeds RAM capacity of your machines\n",
    "    - When you need to protect your data from power outage\n",
    "      \n",
    "* Files: roll your own solution\n",
    "\n",
    "* Key-Value Stores: \n",
    "  - Extension of Dictionary\n",
    "  - Extension of Ordered index\n",
    "  - Many existing solutions out there\n",
    "  \n",
    "* Relational Database\n",
    "  - Relation and calculus on them\n",
    "  - View the world as tables (what isn't?)\n",
    "  - Very mature: decades of research & commercial support\n"
   ]
  }
 ],
 "metadata": {
  "kernelspec": {
   "display_name": "Python 3 (ipykernel)",
   "language": "python",
   "name": "python3"
  },
  "language_info": {
   "codemirror_mode": {
    "name": "ipython",
    "version": 3
   },
   "file_extension": ".py",
   "mimetype": "text/x-python",
   "name": "python",
   "nbconvert_exporter": "python",
   "pygments_lexer": "ipython3",
   "version": "3.11.6"
  }
 },
 "nbformat": 4,
 "nbformat_minor": 5
}
