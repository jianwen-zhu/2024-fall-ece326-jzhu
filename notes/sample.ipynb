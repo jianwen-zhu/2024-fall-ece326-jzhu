{
 "cells": [
  {
   "cell_type": "markdown",
   "id": "0316641b-1137-4a8b-8e5c-d45f5da0f7c1",
   "metadata": {},
   "source": [
    "# Sample Problem \n",
    "\n",
    "Given the following *imperative* program, implement the same functionality using two other different programming paradigms. \n",
    "\n",
    "## Original Imperative Program"
   ]
  },
  {
   "cell_type": "code",
   "execution_count": 5,
   "id": "e08a04b6-7332-4ef6-b4f7-72e73bbf898c",
   "metadata": {},
   "outputs": [
    {
     "data": {
      "text/plain": [
       "array([[ 15,  18,  21],\n",
       "       [ 42,  54,  66],\n",
       "       [ 69,  90, 111]])"
      ]
     },
     "execution_count": 5,
     "metadata": {},
     "output_type": "execute_result"
    }
   ],
   "source": [
    "import numpy as np\n",
    "\n",
    "A = np.arange(9).reshape( 3, 3 )\n",
    "B = np.arange(9).reshape( 3, 3 )\n",
    "N = A.shape[0]\n",
    "C = np.zeros( (N,N), dtype=int )\n",
    "for i in range(N) :\n",
    "    for j in range(N) :\n",
    "        for k in range( N ) :\n",
    "            C[i,j] += A[i,k] * B[k,j]\n",
    "C"
   ]
  },
  {
   "cell_type": "markdown",
   "id": "36565fc9-042e-4a4e-acac-16c7464a547b",
   "metadata": {},
   "source": [
    "## Solution: Using List Comprehension (Functional Paradigm)"
   ]
  },
  {
   "cell_type": "code",
   "execution_count": 12,
   "id": "dfc2f125-5692-4d3c-aedf-758b3c9b9a9e",
   "metadata": {},
   "outputs": [
    {
     "data": {
      "text/plain": [
       "array([[ 15,  18,  21],\n",
       "       [ 42,  54,  66],\n",
       "       [ 69,  90, 111]])"
      ]
     },
     "execution_count": 12,
     "metadata": {},
     "output_type": "execute_result"
    }
   ],
   "source": [
    "from functools import reduce\n",
    "\n",
    "C = [reduce( lambda x,y : x+y, A[i,:]*B[:,j] )  for i in range(N) for j in range(N)]\n",
    "C = np.array(C).reshape( (3,3) )\n",
    "C"
   ]
  },
  {
   "cell_type": "markdown",
   "id": "fe6de50c-0cc6-41e3-9938-594b1ac7a7be",
   "metadata": {},
   "source": [
    "## Solution: Using Ensum (Array Paradigm)"
   ]
  },
  {
   "cell_type": "code",
   "execution_count": 4,
   "id": "64c6696e-cdbf-4117-a389-c5796121d65c",
   "metadata": {},
   "outputs": [
    {
     "data": {
      "text/plain": [
       "array([[ 15,  18,  21],\n",
       "       [ 42,  54,  66],\n",
       "       [ 69,  90, 111]])"
      ]
     },
     "execution_count": 4,
     "metadata": {},
     "output_type": "execute_result"
    }
   ],
   "source": [
    "C = np.einsum('ik, kj->ij', A, B)\n",
    "C"
   ]
  },
  {
   "cell_type": "code",
   "execution_count": null,
   "id": "2f2749f7-16d7-4197-9c32-076b8168a511",
   "metadata": {},
   "outputs": [],
   "source": []
  }
 ],
 "metadata": {
  "kernelspec": {
   "display_name": "Python 3 (ipykernel)",
   "language": "python",
   "name": "python3"
  },
  "language_info": {
   "codemirror_mode": {
    "name": "ipython",
    "version": 3
   },
   "file_extension": ".py",
   "mimetype": "text/x-python",
   "name": "python",
   "nbconvert_exporter": "python",
   "pygments_lexer": "ipython3",
   "version": "3.11.6"
  }
 },
 "nbformat": 4,
 "nbformat_minor": 5
}
