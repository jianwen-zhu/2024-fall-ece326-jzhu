{
 "cells": [
  {
   "cell_type": "markdown",
   "id": "ec4dfabe-78d4-4e93-98d3-dec5fe0190fe",
   "metadata": {},
   "source": [
    "# Lec 20-22: Object Oriented Programming Paradigm"
   ]
  },
  {
   "cell_type": "markdown",
   "id": "9ce82667-42a0-4625-86e5-4721e7d8be73",
   "metadata": {},
   "source": [
    "## Agenda\n",
    "\n",
    "* Classes and Objects\n",
    "* Classes and Attributes\n",
    "* Classes and Methods\n",
    "* Operator Overloading\n",
    "* Inheritance & Type Hierarchy\n",
    "* Case Study\n",
    "\n",
    "Overrall Goal: \"unlearn\" OO and see how it is \"trivially\" built as syntactical sugar over the language core."
   ]
  },
  {
   "cell_type": "markdown",
   "id": "1092ef43-f421-4da6-be85-164b6196caed",
   "metadata": {},
   "source": [
    "## Classes and Objects\n",
    "\n",
    "* We have seen built-in types\n",
    "* User defined types: class\n",
    "\n",
    "* Example: point in 2-D space\n",
    "  "
   ]
  },
  {
   "cell_type": "code",
   "execution_count": null,
   "id": "a74d71b1-d40f-4ad6-a264-e81b2b768cb4",
   "metadata": {},
   "outputs": [],
   "source": [
    "class Point( object ) :\n",
    "    \"\"\"reprsents a point in 2-D space\"\"\"\n"
   ]
  },
  {
   "cell_type": "markdown",
   "id": "8501a79f-631d-4d47-97e7-9b2fd6f63ad9",
   "metadata": {},
   "source": [
    "  - header: indicates a new class with name \"Point\"\n",
    "  - header: indicates the class is a kind of \"object\", a built-in type\n",
    "  - body: a docstring explaining what the class is for\n"
   ]
  },
  {
   "cell_type": "code",
   "execution_count": null,
   "id": "b6b8a9c5-6b74-4ce3-8184-3014f7bdcfce",
   "metadata": {},
   "outputs": [],
   "source": [
    "print( Point )"
   ]
  },
  {
   "cell_type": "markdown",
   "id": "1c19a3e7-0168-4e0b-a079-63b37c0675ab",
   "metadata": {},
   "source": [
    "* Class is a factory of objects\n",
    "  - Call Point() to create instance as if it were a function\n",
    "  - returns a \"reference\" to a Point object\n",
    "\n",
    "Now with almost nothing in it, we have a skeleton that enables you do lots of stuff. We start with what you would normally expect: create an object instance."
   ]
  },
  {
   "cell_type": "code",
   "execution_count": null,
   "id": "4a4bc2dc-4bb2-4410-abca-026d97823fa0",
   "metadata": {},
   "outputs": [],
   "source": [
    "blank = Point()\n",
    "print( blank )"
   ]
  },
  {
   "cell_type": "markdown",
   "id": "9c77e59d-b711-4c87-adaa-3eae6be8b410",
   "metadata": {},
   "source": [
    "* Note Point instance and Point class is *NOT* the same thing"
   ]
  },
  {
   "cell_type": "code",
   "execution_count": null,
   "id": "b9ca0bca-5c2d-42cb-8743-bce9f3de62e8",
   "metadata": {},
   "outputs": [],
   "source": [
    "print( type(blank) )"
   ]
  },
  {
   "cell_type": "code",
   "execution_count": null,
   "id": "537bce3d-2449-48ae-94ff-82fdbc365b26",
   "metadata": {},
   "outputs": [],
   "source": [
    "Point is type(blank)"
   ]
  },
  {
   "cell_type": "markdown",
   "id": "3d308fd7-60e4-429f-85ed-5c0820587269",
   "metadata": {},
   "source": [
    "## Class and Attributes\n",
    "\n",
    "  - Each object has named elementes, called attributes (or fields) In\n",
    "  - python, attribuites are introduced by use (with dot notation), not\n",
    "    by declaration (C++)"
   ]
  },
  {
   "cell_type": "code",
   "execution_count": null,
   "id": "76c0c813-e7b5-41f0-8759-d2fe21818b68",
   "metadata": {},
   "outputs": [],
   "source": [
    "blank.x = 3.0\n",
    "blank.y = 4.0\n",
    "print( blank.x )"
   ]
  },
  {
   "cell_type": "code",
   "execution_count": null,
   "id": "097d04f1-f542-4000-9872-9e7c6b80a50f",
   "metadata": {},
   "outputs": [],
   "source": [
    "import math\n",
    "\n",
    "distance = math.sqrt( blank.x**2 + blank.y**2)\n",
    "print( distance )"
   ]
  },
  {
   "cell_type": "markdown",
   "id": "346d45b6-7ba6-40a5-8f42-917177611a19",
   "metadata": {},
   "source": [
    "Let's have a more complex class:"
   ]
  },
  {
   "cell_type": "code",
   "execution_count": null,
   "id": "8c16a4b3-fec2-46c0-b578-64aa3ff74956",
   "metadata": {},
   "outputs": [],
   "source": [
    "class Rectangle( object ) :\n",
    "      \"\"\" represent a rectangle.\n",
    "          attributes: width, height, corner\n",
    "      \"\"\""
   ]
  },
  {
   "cell_type": "code",
   "execution_count": null,
   "id": "e8e6dbce-496b-44ed-af85-a0db66a6b186",
   "metadata": {},
   "outputs": [],
   "source": [
    "box = Rectangle()\n",
    "box.width = 100.0\n",
    "box.height = 200.0\n",
    "box.corner = Point()\n",
    "box.corner.x = 0.0\n",
    "box.corner.y = 0.0\n",
    "\n",
    "def find_center( box ) :\n",
    "    p = Point()\n",
    "    p.x = box.corner.x + box.width/2.0\n",
    "    p.y = box.corner.y + box.height/2.0\n",
    "    return p\n"
   ]
  },
  {
   "cell_type": "markdown",
   "id": "fbd5b8f5-8340-45fb-8189-3012f95f25bb",
   "metadata": {},
   "source": [
    " * Objects are mutable\n",
    " "
   ]
  },
  {
   "cell_type": "code",
   "execution_count": null,
   "id": "6c44a215-50de-4644-8083-e511c3930e6f",
   "metadata": {},
   "outputs": [],
   "source": [
    "def grow_rectangle( rect, dwidth, dheight ) :\n",
    "    rect.width += dwidth\n",
    "    rect.height += dheight"
   ]
  },
  {
   "cell_type": "markdown",
   "id": "52924a01-76bb-4ee8-87a3-5085579e45b2",
   "metadata": {},
   "source": [
    "* Copying Objects\n",
    "\n",
    "  - Alias (copying references) is not always wanted\n",
    "  - Copying content of object to another object is sometimes wanted\n",
    "      \n",
    "  - Shallow Copy"
   ]
  },
  {
   "cell_type": "code",
   "execution_count": null,
   "id": "8e971eb4-c7ff-4c98-a609-6b08427e0e10",
   "metadata": {},
   "outputs": [],
   "source": [
    "import copy\n",
    "\n",
    "p1 = Point()\n",
    "p1.x = 3.0\n",
    "p1.y = 4.0\n",
    "p2 = copy.copy(p1)\n",
    "print( p2.x, p2.y )"
   ]
  },
  {
   "cell_type": "code",
   "execution_count": null,
   "id": "0f80e3a8-8412-4fe9-9c6e-9d0d32f931a7",
   "metadata": {},
   "outputs": [],
   "source": [
    "p1 is p2"
   ]
  },
  {
   "cell_type": "code",
   "execution_count": null,
   "id": "2cb3d45a-27e6-402a-818f-841858da2bb3",
   "metadata": {},
   "outputs": [],
   "source": [
    "box2 = copy.copy( box )\n",
    "box2 is box"
   ]
  },
  {
   "cell_type": "code",
   "execution_count": null,
   "id": "2db40aca-da8b-4c57-8912-06d33e824640",
   "metadata": {},
   "outputs": [],
   "source": [
    "box2.corner is box.corner"
   ]
  },
  {
   "cell_type": "markdown",
   "id": "fd0d1b23-55e2-480e-8e19-b6148fa9eb39",
   "metadata": {},
   "source": [
    "- Deep Copy"
   ]
  },
  {
   "cell_type": "code",
   "execution_count": null,
   "id": "1941a6e3-81aa-45dc-90d5-a7f94e4f4397",
   "metadata": {},
   "outputs": [],
   "source": [
    "box3 = copy.deepcopy( box )\n",
    "box3 is box"
   ]
  },
  {
   "cell_type": "markdown",
   "id": "0c4eb20d-a695-4fe1-b1a7-160a244e27c9",
   "metadata": {},
   "source": [
    "## Class and Functions"
   ]
  },
  {
   "cell_type": "code",
   "execution_count": null,
   "id": "53e53ddd-988e-4127-b318-f0705c928aab",
   "metadata": {},
   "outputs": [],
   "source": [
    "class Time :\n",
    "    pass\n",
    "    \n",
    "time = Time()\n",
    "time.hour = 11\n",
    "time.minute = 59\n",
    "time.second = 30\n",
    "\n",
    "def add_time( t1, t2 ) :\n",
    "   sum = Time()\n",
    "   sum.hour = t1.hour + t2.hour\n",
    "   sum.minute = t1.minute + t2.minute\n",
    "   sum.second = t1.second + t2.second\n",
    "   return sum"
   ]
  },
  {
   "cell_type": "markdown",
   "id": "72162ade-880a-4722-b0e5-0a52c8014ae7",
   "metadata": {},
   "source": [
    "* Prototype and Patch!"
   ]
  },
  {
   "cell_type": "code",
   "execution_count": null,
   "id": "f4d65ea7-55af-4982-b25e-bce1be9a1b18",
   "metadata": {},
   "outputs": [],
   "source": [
    "def add_time( t1, t2 ) :\n",
    "   sum = Time()\n",
    "   sum.hour = t1.hour + t2.hour\n",
    "   sum.minute = t1.minute + t2.minute\n",
    "   sum.second = t1.second + t2.second\n",
    "   if sum.second >= 60 :\n",
    "       sum.second -= 60\n",
    "       sum.minute += 1\n",
    "   if sum.minute >= 60 :\n",
    "       sum.minute -= 60\n",
    "       sum.hour += 1\n",
    "   return sum"
   ]
  },
  {
   "cell_type": "code",
   "execution_count": null,
   "id": "92487350-0248-466e-bedf-49c480011655",
   "metadata": {},
   "outputs": [],
   "source": [
    "def increment( time, seconds ) :\n",
    "   time.second += seconds\n",
    "   if time.second >= 60 :\n",
    "     if time.second >= 60 :\n",
    "       time.second -= 60\n",
    "       time.minute += 1\n",
    "     if time.minute >= 60 :\n",
    "       time.minute -= 60\n",
    "       time.hour += 1\n",
    "       "
   ]
  },
  {
   "cell_type": "markdown",
   "id": "3a8a1139-9d60-4d54-b3bb-aa8061bf6433",
   "metadata": {},
   "source": [
    "[NOTE]\n",
    "Is it correct? Write the correct version without using loops"
   ]
  },
  {
   "cell_type": "markdown",
   "id": "25cc2247-4b4c-4703-93ca-1f60d09576e0",
   "metadata": {},
   "source": [
    "With better planning"
   ]
  },
  {
   "cell_type": "code",
   "execution_count": null,
   "id": "95437d41-a7d4-4eac-bc21-9fc21e8e4b88",
   "metadata": {},
   "outputs": [],
   "source": [
    "def time_to_int( time ) :\n",
    "    minutes = time.hour * 60 + time.minute\n",
    "    seconds = minutes * 60 + time.second\n",
    "    return seconds\n",
    "    \n",
    "def int_to_time( seconds ) :\n",
    "    time = Time()\n",
    "    minutes, time.second = divmod( seconds, 60 )\n",
    "    time.hour, time.minute = divmod( minutes, 60 )\n",
    "    return time\n",
    "    \n",
    "def add_time( t1, t2 ) :\n",
    "    seconds = time_to_int(t1) + time_to_int(t2)\n",
    "    return int_to_time(seconds)"
   ]
  },
  {
   "cell_type": "markdown",
   "id": "419b7607-cbfe-4f6e-9b7b-de8eb69ed7f6",
   "metadata": {},
   "source": [
    "## Classes and Methods\n",
    "\n",
    "* What is object orientation?\n",
    "* So far\n",
    "  - Encapsulation: we have seen it with class attributes\n",
    "  - Actions (the verb phrase) are captured in ordinary function\n",
    "  - Function call on objects (verb-centric)\n",
    "\n",
    "* Change of perspective (noun-centric)\n",
    "  - Object is given a function (method) to act on\n",
    "  - Leads to change of syntax:\n",
    "  - method( o, ... ) -> o.method( ... )"
   ]
  },
  {
   "cell_type": "code",
   "execution_count": null,
   "id": "9a49befd-35c1-405f-9faa-dab25371f4a2",
   "metadata": {},
   "outputs": [],
   "source": [
    "class Time( object ) :\n",
    "   \"\"\" .. \"\"\"\n",
    "def print_time( time ) :\n",
    "   print( '%.2d:%.2d:%.2d' % (time.hour, time.minute, time.second) )\n",
    "\n",
    "Time.print_time( start )\n"
   ]
  },
  {
   "cell_type": "code",
   "execution_count": null,
   "id": "81bac8fc-ffca-42af-a122-a30ca65b1c91",
   "metadata": {},
   "outputs": [],
   "source": [
    "class Time( object ) :\n",
    "   \"\"\" .. \"\"\"\n",
    "   def print_time( time ) :\n",
    "       print( '%.2d:%.2d:%.2d' % (time.hour, time.minute, time.second) )\n",
    "\n",
    "start = Time() \n",
    "start.hour = 1\n",
    "start.minute = 2\n",
    "start.second = 0\n",
    "start.print_time()"
   ]
  },
  {
   "cell_type": "markdown",
   "id": "2b44e85f-087b-4aeb-9e9c-5ad4ab3b0f88",
   "metadata": {},
   "source": [
    "* By convention, first parameter is named self\n"
   ]
  },
  {
   "cell_type": "code",
   "execution_count": null,
   "id": "15ca6153-5f24-4781-8082-f5294c0ac2b1",
   "metadata": {},
   "outputs": [],
   "source": [
    "class Time( object ) :\n",
    "   \"\"\" .. \"\"\"\n",
    "   def print_time( self ) :\n",
    "       print( '%.2d:%.2d:%.2d' % (self.hour, self.minute, self.second) )"
   ]
  },
  {
   "cell_type": "code",
   "execution_count": null,
   "id": "a16e4757-255a-4506-864f-542724ac5e8f",
   "metadata": {},
   "outputs": [],
   "source": [
    "* Adding more useful method\n"
   ]
  },
  {
   "cell_type": "code",
   "execution_count": null,
   "id": "b2caec38-3abe-45ab-93d6-f69c6a9dcead",
   "metadata": {},
   "outputs": [],
   "source": [
    "class Time( object ) :\n",
    "   \"\"\" .. \"\"\"\n",
    "   def print_time( self ) :\n",
    "       print( '%.2d:%.2d:%.2d' % (self.hour, self.minute, self.second) )\n",
    "       \n",
    "   def increment( self, seconds ) :\n",
    "       seconds += self.time_to_int()\n",
    "       return int_to_time( seconds )\n",
    "       "
   ]
  },
  {
   "cell_type": "markdown",
   "id": "51da459a-66dc-431d-b4b2-be2f01de96a7",
   "metadata": {},
   "source": [
    "\n",
    "* Contract-based programming\n",
    "  - Contract between class developer and user\n",
    "  - A *limited* set of functions (methods) are defined for a class\n",
    "  - Users use and only uses method to modify attributes\n",
    "  - In reality it is often violated (e.g., C++ friend class)\n"
   ]
  },
  {
   "cell_type": "markdown",
   "id": "b52673a9-6a03-463b-a551-13496f0b619f",
   "metadata": {},
   "source": [
    "* Constructor\n",
    "\n",
    "  - invoked when an object is instantiated (when Time() is called )  "
   ]
  },
  {
   "cell_type": "code",
   "execution_count": null,
   "id": "6416665b-0d11-437a-886f-ab014acb947a",
   "metadata": {},
   "outputs": [],
   "source": [
    "class Time( object ) :\n",
    "   \"\"\" .. \"\"\"\n",
    "\n",
    "   def __init__( self, hour=0, minute=0,second=0) :\n",
    "       self.hour = hour\n",
    "       self.minute = minute\n",
    "       self.second = second\n",
    "\n",
    "   def print_time( self ) :\n",
    "       print( '%.2d:%.2d:%.2d' % (self.hour, self.minute, self.second) )\n",
    "       \n",
    "   def increment( self, seconds ) :\n",
    "       seconds += self.time_to_int()\n",
    "       return int_to_time( seconds )\n"
   ]
  },
  {
   "cell_type": "markdown",
   "id": "418603d5-0369-46c1-994e-3f41a758043d",
   "metadata": {},
   "source": [
    "* Dumper\n",
    "  - invoked when print the object"
   ]
  },
  {
   "cell_type": "code",
   "execution_count": null,
   "id": "391152f4-db65-4a19-b031-41485cbb520f",
   "metadata": {},
   "outputs": [],
   "source": [
    "class Time( object ) :\n",
    "   \"\"\" .. \"\"\"\n",
    "\n",
    "   def __init__( self, hour=0, minute=0,second=0) :\n",
    "       self.hour = hour\n",
    "       self.minute = minute\n",
    "       self.second = second\n",
    "\n",
    "   def __str__( self ) :\n",
    "       return '%.2d:%.2d:%.2d' % (time.hour, time.minute, time.second)\n",
    "       \n",
    "   def increment( self, seconds ) :\n",
    "       seconds += self.time_to_int()\n",
    "       return int_to_time( seconds )\n"
   ]
  },
  {
   "cell_type": "code",
   "execution_count": null,
   "id": "6f00e639-394d-4f8f-8f7a-093d22ed3fa9",
   "metadata": {},
   "outputs": [],
   "source": [
    "start = Time( 2, 1, 0 )\n",
    "\n",
    "print( start )"
   ]
  },
  {
   "cell_type": "markdown",
   "id": "bc4e7337-bb74-4079-89de-b0c535b57100",
   "metadata": {},
   "source": [
    "## Operator Overloading\n",
    "\n",
    "- \"operators\" are nothing but methods\n",
    "- Here operator means special symbols reserved by the language\n",
    "- This is not to be confused with the operator = function on functions"
   ]
  },
  {
   "cell_type": "code",
   "execution_count": null,
   "id": "a3117a46-badb-44f0-8527-ccbb240c9154",
   "metadata": {},
   "outputs": [],
   "source": [
    "class Time( object ) :\n",
    "   \"\"\" .. \"\"\"\n",
    "\n",
    "   def __init__( self, hour=0, minute=0,second=0) :\n",
    "       self.hour = hour\n",
    "       self.minute = minute\n",
    "       self.second = second\n",
    "\n",
    "   def __str__( self ) :\n",
    "       return '%.2d:%.2d:%.2d' % (time.hour, time.minute, time.second)\n",
    "       \n",
    "   def __add__( self, other ) :\n",
    "       seconds = time_to_int(self) + time_to_int(other)\n",
    "       return int_to_time( seconds )\n"
   ]
  },
  {
   "cell_type": "code",
   "execution_count": null,
   "id": "b02466be-54ff-4d89-8898-94c71d07a0ef",
   "metadata": {},
   "outputs": [],
   "source": [
    "start = Time( 9, 45 )\n",
    "duration = Time( 1, 35 )\n",
    "print( start + duration )"
   ]
  },
  {
   "cell_type": "markdown",
   "id": "45340cc0-4ee2-4675-bd20-5967f10bc7af",
   "metadata": {},
   "source": [
    "* Type-based dispatch"
   ]
  },
  {
   "cell_type": "code",
   "execution_count": null,
   "id": "60c5cd3a-1071-4191-8d34-997da1aa8533",
   "metadata": {},
   "outputs": [],
   "source": [
    "class Time( object ) :\n",
    "   \"\"\" .. \"\"\"\n",
    "\n",
    "   def __init__( self, hour=0, minute=0,second=0) :\n",
    "       self.hour = hour\n",
    "       self.minute = minute\n",
    "       self.second = second\n",
    "\n",
    "   def __str__( self ) :\n",
    "       return '%.2d:%.2d:%.2d' % (time.hour, time.minute, time.second)\n",
    "       \n",
    "   def __add__( self, other ) :\n",
    "       if isinstance( other, Time ) :\n",
    "           seconds = time_to_int(self) + time_to_int(other)\n",
    "       else :\n",
    "           seconds = time_to_int(self) + other\n",
    "       return int_to_time( seconds )\n"
   ]
  },
  {
   "cell_type": "code",
   "execution_count": null,
   "id": "077d3783-d447-4206-9bcb-824cf981ce1f",
   "metadata": {},
   "outputs": [],
   "source": [
    "start = Time( 9, 45 )\n",
    "duration = Time( 1, 35 )\n",
    "print( start + duration )"
   ]
  },
  {
   "cell_type": "code",
   "execution_count": null,
   "id": "c0ca2a8d-0580-4b44-8982-beea3cdf8570",
   "metadata": {},
   "outputs": [],
   "source": [
    "print( start + 1337 )"
   ]
  },
  {
   "cell_type": "markdown",
   "id": "4151cb7e-2c34-431d-8444-dbfb4bd571c7",
   "metadata": {},
   "source": [
    "* What if you do:\n"
   ]
  },
  {
   "cell_type": "code",
   "execution_count": null,
   "id": "50484141-3991-49bb-9eb9-48f65accfeee",
   "metadata": {},
   "outputs": [],
   "source": [
    "print( 1337 + start )"
   ]
  },
  {
   "cell_type": "markdown",
   "id": "46b8ed83-d6ed-4822-afd4-ea6c2380e0c0",
   "metadata": {},
   "source": [
    "* Rescue"
   ]
  },
  {
   "cell_type": "code",
   "execution_count": null,
   "id": "a166bb71-2e75-4623-b028-e1f319d27340",
   "metadata": {},
   "outputs": [],
   "source": [
    "class Time( object ) :\n",
    "   \"\"\" .. \"\"\"\n",
    "\n",
    "   def __init__( self, hour=0, minute=0,second=0) :\n",
    "       self.hour = hour\n",
    "       self.minute = minute\n",
    "       self.second = second\n",
    "\n",
    "   def __str__( self ) :\n",
    "       return '%.2d:%.2d:%.2d' % (time.hour, time.minute, time.second)\n",
    "       \n",
    "   def __add__( self, other ) :\n",
    "       if isinstance( other, Time ) :\n",
    "           seconds = time_to_int(self) + time_to_int(other)\n",
    "       else :\n",
    "           seconds = time_to_int(self) + other\n",
    "       return int_to_time( seconds )\n",
    "       \n",
    "   def __radd__( self, other ) :\n",
    "       return self.__add__( other ) "
   ]
  },
  {
   "cell_type": "code",
   "execution_count": null,
   "id": "39ff888f-482e-446f-9ff9-d375f1904824",
   "metadata": {},
   "outputs": [],
   "source": [
    "start = Time( 9, 45 )\n",
    "print( 1337 + start )"
   ]
  },
  {
   "cell_type": "markdown",
   "id": "99ea0621-c043-4f6f-a433-265bde002ee5",
   "metadata": {},
   "source": [
    " This is Polymorphic Programming IN ACTION again!"
   ]
  }
 ],
 "metadata": {
  "kernelspec": {
   "display_name": "Python 3 (ipykernel)",
   "language": "python",
   "name": "python3"
  },
  "language_info": {
   "codemirror_mode": {
    "name": "ipython",
    "version": 3
   },
   "file_extension": ".py",
   "mimetype": "text/x-python",
   "name": "python",
   "nbconvert_exporter": "python",
   "pygments_lexer": "ipython3",
   "version": "3.11.6"
  }
 },
 "nbformat": 4,
 "nbformat_minor": 5
}
