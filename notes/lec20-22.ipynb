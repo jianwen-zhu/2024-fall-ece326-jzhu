{
 "cells": [
  {
   "cell_type": "markdown",
   "id": "ec4dfabe-78d4-4e93-98d3-dec5fe0190fe",
   "metadata": {},
   "source": [
    "# Lec 20-22: Object Oriented Programming Paradigm"
   ]
  },
  {
   "cell_type": "markdown",
   "id": "9ce82667-42a0-4625-86e5-4721e7d8be73",
   "metadata": {},
   "source": [
    "## Agenda\n",
    "\n",
    "* Classes and Objects\n",
    "* Classes and Attributes\n",
    "* Classes and Methods\n",
    "* Operator Overloading\n",
    "* Inheritance & Type Hierarchy\n",
    "* Case Study\n",
    "\n",
    "Overrall Goal: \"unlearn\" OO and see how it is \"trivially\" built as syntactical sugar over the language core."
   ]
  },
  {
   "cell_type": "markdown",
   "id": "1092ef43-f421-4da6-be85-164b6196caed",
   "metadata": {},
   "source": [
    "## Classes and Objects\n",
    "\n",
    "* We have seen built-in types\n",
    "* User defined types: class\n",
    "\n",
    "* Example: point in 2-D space\n",
    "  "
   ]
  },
  {
   "cell_type": "code",
   "execution_count": null,
   "id": "a74d71b1-d40f-4ad6-a264-e81b2b768cb4",
   "metadata": {},
   "outputs": [],
   "source": [
    "class Point( object ) :\n",
    "    \"\"\"reprsents a point in 2-D space\"\"\"\n"
   ]
  },
  {
   "cell_type": "markdown",
   "id": "8501a79f-631d-4d47-97e7-9b2fd6f63ad9",
   "metadata": {},
   "source": [
    "  - header: indicates a new class with name \"Point\"\n",
    "  - header: indicates the class is a kind of \"object\", a built-in type\n",
    "  - body: a docstring explaining what the class is for\n"
   ]
  },
  {
   "cell_type": "code",
   "execution_count": null,
   "id": "b6b8a9c5-6b74-4ce3-8184-3014f7bdcfce",
   "metadata": {},
   "outputs": [],
   "source": [
    "print( Point )"
   ]
  },
  {
   "cell_type": "markdown",
   "id": "1c19a3e7-0168-4e0b-a079-63b37c0675ab",
   "metadata": {},
   "source": [
    "* Class is a factory of objects\n",
    "  - Call Point() to create instance as if it were a function\n",
    "  - returns a \"reference\" to a Point object\n",
    "\n",
    "Now with almost nothing in it, we have a skeleton that enables you do lots of stuff. We start with what you would normally expect: create an object instance."
   ]
  },
  {
   "cell_type": "code",
   "execution_count": null,
   "id": "4a4bc2dc-4bb2-4410-abca-026d97823fa0",
   "metadata": {},
   "outputs": [],
   "source": [
    "blank = Point()\n",
    "print( blank )"
   ]
  },
  {
   "cell_type": "markdown",
   "id": "9c77e59d-b711-4c87-adaa-3eae6be8b410",
   "metadata": {},
   "source": [
    "* Note Point instance and Point class is *NOT* the same thing"
   ]
  },
  {
   "cell_type": "code",
   "execution_count": null,
   "id": "b9ca0bca-5c2d-42cb-8743-bce9f3de62e8",
   "metadata": {},
   "outputs": [],
   "source": [
    "print( type(blank) )"
   ]
  },
  {
   "cell_type": "code",
   "execution_count": null,
   "id": "537bce3d-2449-48ae-94ff-82fdbc365b26",
   "metadata": {},
   "outputs": [],
   "source": [
    "Point is type(blank)"
   ]
  },
  {
   "cell_type": "code",
   "execution_count": null,
   "id": "e611147a-4524-44a9-9427-1f3356ca8024",
   "metadata": {},
   "outputs": [],
   "source": []
  },
  {
   "cell_type": "markdown",
   "id": "3d308fd7-60e4-429f-85ed-5c0820587269",
   "metadata": {},
   "source": [
    "## Class and Attributes\n",
    "\n",
    "  - Each object has named elementes, called attributes (or fields) In\n",
    "  - python, attribuites are introduced by use (with dot notation), not\n",
    "    by declaration (C++)\n",
    "  - So an object is basically a dictionary!"
   ]
  },
  {
   "cell_type": "code",
   "execution_count": null,
   "id": "76c0c813-e7b5-41f0-8759-d2fe21818b68",
   "metadata": {},
   "outputs": [],
   "source": [
    "blank.x = 3.0\n",
    "blank.y = 4.0\n",
    "print( blank.x )"
   ]
  },
  {
   "cell_type": "code",
   "execution_count": null,
   "id": "097d04f1-f542-4000-9872-9e7c6b80a50f",
   "metadata": {},
   "outputs": [],
   "source": [
    "import math\n",
    "\n",
    "distance = math.sqrt( blank.x**2 + blank.y**2)\n",
    "print( distance )"
   ]
  },
  {
   "cell_type": "markdown",
   "id": "346d45b6-7ba6-40a5-8f42-917177611a19",
   "metadata": {},
   "source": [
    "Let's have a more complex class:"
   ]
  },
  {
   "cell_type": "code",
   "execution_count": null,
   "id": "8c16a4b3-fec2-46c0-b578-64aa3ff74956",
   "metadata": {},
   "outputs": [],
   "source": [
    "class Rectangle( object ) :\n",
    "      \"\"\" represent a rectangle.\n",
    "          attributes: width, height, corner\n",
    "      \"\"\""
   ]
  },
  {
   "cell_type": "code",
   "execution_count": null,
   "id": "e8e6dbce-496b-44ed-af85-a0db66a6b186",
   "metadata": {},
   "outputs": [],
   "source": [
    "box = Rectangle()\n",
    "box.width = 100.0\n",
    "box.height = 200.0\n",
    "box.corner = Point()\n",
    "box.corner.x = 0.0\n",
    "box.corner.y = 0.0\n",
    "\n",
    "def find_center( box ) :\n",
    "    p = Point()\n",
    "    p.x = box.corner.x + box.width/2.0\n",
    "    p.y = box.corner.y + box.height/2.0\n",
    "    return p\n"
   ]
  },
  {
   "cell_type": "markdown",
   "id": "fbd5b8f5-8340-45fb-8189-3012f95f25bb",
   "metadata": {},
   "source": [
    " * Objects are mutable\n",
    " "
   ]
  },
  {
   "cell_type": "code",
   "execution_count": null,
   "id": "6c44a215-50de-4644-8083-e511c3930e6f",
   "metadata": {},
   "outputs": [],
   "source": [
    "def grow_rectangle( rect, dwidth, dheight ) :\n",
    "    rect.width += dwidth\n",
    "    rect.height += dheight"
   ]
  },
  {
   "cell_type": "markdown",
   "id": "52924a01-76bb-4ee8-87a3-5085579e45b2",
   "metadata": {},
   "source": [
    "* Copying Objects\n",
    "\n",
    "  - Alias (copying references) is not always wanted\n",
    "  - Copying content of object to another object is sometimes wanted\n",
    "      \n",
    "  - Shallow Copy"
   ]
  },
  {
   "cell_type": "code",
   "execution_count": null,
   "id": "8e971eb4-c7ff-4c98-a609-6b08427e0e10",
   "metadata": {},
   "outputs": [],
   "source": [
    "import copy\n",
    "\n",
    "p1 = Point()\n",
    "p1.x = 3.0\n",
    "p1.y = 4.0\n",
    "p2 = copy.copy(p1)\n",
    "print( p2.x, p2.y )"
   ]
  },
  {
   "cell_type": "code",
   "execution_count": null,
   "id": "0f80e3a8-8412-4fe9-9c6e-9d0d32f931a7",
   "metadata": {},
   "outputs": [],
   "source": [
    "p1 is p2"
   ]
  },
  {
   "cell_type": "code",
   "execution_count": null,
   "id": "2cb3d45a-27e6-402a-818f-841858da2bb3",
   "metadata": {},
   "outputs": [],
   "source": [
    "box2 = copy.copy( box )\n",
    "box2 is box"
   ]
  },
  {
   "cell_type": "code",
   "execution_count": null,
   "id": "2db40aca-da8b-4c57-8912-06d33e824640",
   "metadata": {},
   "outputs": [],
   "source": [
    "box2.corner is box.corner"
   ]
  },
  {
   "cell_type": "markdown",
   "id": "fd0d1b23-55e2-480e-8e19-b6148fa9eb39",
   "metadata": {},
   "source": [
    "- Deep Copy"
   ]
  },
  {
   "cell_type": "code",
   "execution_count": null,
   "id": "1941a6e3-81aa-45dc-90d5-a7f94e4f4397",
   "metadata": {},
   "outputs": [],
   "source": [
    "box3 = copy.deepcopy( box )\n",
    "box3 is box\n",
    "box3.corner is box.corner"
   ]
  },
  {
   "cell_type": "markdown",
   "id": "0c4eb20d-a695-4fe1-b1a7-160a244e27c9",
   "metadata": {},
   "source": [
    "## Class and Functions"
   ]
  },
  {
   "cell_type": "code",
   "execution_count": null,
   "id": "53e53ddd-988e-4127-b318-f0705c928aab",
   "metadata": {},
   "outputs": [],
   "source": [
    "class Time :\n",
    "    pass\n",
    "    \n",
    "time = Time()\n",
    "time.hour = 11\n",
    "time.minute = 59\n",
    "time.second = 30\n",
    "\n",
    "def add_time( t1, t2 ) :\n",
    "   sum = Time()\n",
    "   sum.hour = t1.hour + t2.hour\n",
    "   sum.minute = t1.minute + t2.minute\n",
    "   sum.second = t1.second + t2.second\n",
    "   return sum"
   ]
  },
  {
   "cell_type": "markdown",
   "id": "72162ade-880a-4722-b0e5-0a52c8014ae7",
   "metadata": {},
   "source": [
    "* Prototype and Patch!"
   ]
  },
  {
   "cell_type": "code",
   "execution_count": null,
   "id": "f4d65ea7-55af-4982-b25e-bce1be9a1b18",
   "metadata": {},
   "outputs": [],
   "source": [
    "def add_time( t1, t2 ) :\n",
    "   sum = Time()\n",
    "   sum.hour = t1.hour + t2.hour\n",
    "   sum.minute = t1.minute + t2.minute\n",
    "   sum.second = t1.second + t2.second\n",
    "   if sum.second >= 60 :\n",
    "       sum.second -= 60\n",
    "       sum.minute += 1\n",
    "   if sum.minute >= 60 :\n",
    "       sum.minute -= 60\n",
    "       sum.hour += 1\n",
    "   return sum"
   ]
  },
  {
   "cell_type": "code",
   "execution_count": null,
   "id": "92487350-0248-466e-bedf-49c480011655",
   "metadata": {},
   "outputs": [],
   "source": [
    "def increment( time, seconds ) :\n",
    "   time.second += seconds\n",
    "   if time.second >= 60 :\n",
    "     if time.second >= 60 :\n",
    "       time.second -= 60\n",
    "       time.minute += 1\n",
    "     if time.minute >= 60 :\n",
    "       time.minute -= 60\n",
    "       time.hour += 1\n",
    "       "
   ]
  },
  {
   "cell_type": "markdown",
   "id": "3a8a1139-9d60-4d54-b3bb-aa8061bf6433",
   "metadata": {},
   "source": [
    "[NOTE]\n",
    "Is it correct? Write the correct version without using loops"
   ]
  },
  {
   "cell_type": "markdown",
   "id": "25cc2247-4b4c-4703-93ca-1f60d09576e0",
   "metadata": {},
   "source": [
    "With better planning"
   ]
  },
  {
   "cell_type": "code",
   "execution_count": null,
   "id": "95437d41-a7d4-4eac-bc21-9fc21e8e4b88",
   "metadata": {},
   "outputs": [],
   "source": [
    "def time_to_int( time ) :\n",
    "    minutes = time.hour * 60 + time.minute\n",
    "    seconds = minutes * 60 + time.second\n",
    "    return seconds\n",
    "    \n",
    "def int_to_time( seconds ) :\n",
    "    time = Time()\n",
    "    minutes, time.second = divmod( seconds, 60 )\n",
    "    time.hour, time.minute = divmod( minutes, 60 )\n",
    "    return time\n",
    "    \n",
    "def add_time( t1, t2 ) :\n",
    "    seconds = time_to_int(t1) + time_to_int(t2)\n",
    "    return int_to_time(seconds)"
   ]
  },
  {
   "cell_type": "markdown",
   "id": "419b7607-cbfe-4f6e-9b7b-de8eb69ed7f6",
   "metadata": {},
   "source": [
    "## Classes and Methods\n",
    "\n",
    "* What is object orientation?\n",
    "* So far\n",
    "  - Encapsulation: we have seen it with class attributes\n",
    "  - Actions (the verb phrase) are captured in ordinary function\n",
    "  - Function call on objects (verb-centric)\n",
    "\n",
    "* Change of perspective (noun-centric)\n",
    "  - Object is given a function (method) to act on\n",
    "  - Leads to change of syntax:\n",
    "  - method( o, ... ) -> o.method( ... )"
   ]
  },
  {
   "cell_type": "code",
   "execution_count": null,
   "id": "9a49befd-35c1-405f-9faa-dab25371f4a2",
   "metadata": {},
   "outputs": [],
   "source": [
    "class Time( object ) :\n",
    "   \"\"\" .. \"\"\"\n",
    "    \n",
    "def print_time( time ) :\n",
    "   print( '%.2d:%.2d:%.2d' % (time.hour, time.minute, time.second) )\n",
    "\n",
    "Time.print_time( start )\n"
   ]
  },
  {
   "cell_type": "code",
   "execution_count": null,
   "id": "81bac8fc-ffca-42af-a122-a30ca65b1c91",
   "metadata": {},
   "outputs": [],
   "source": [
    "class Time( object ) :\n",
    "   \"\"\" .. \"\"\"\n",
    "   def print_time( time ) :\n",
    "       print( '%.2d:%.2d:%.2d' % (time.hour, time.minute, time.second) )\n",
    "\n",
    "start = Time() \n",
    "start.hour = 1\n",
    "start.minute = 2\n",
    "start.second = 0\n",
    "start.print_time()"
   ]
  },
  {
   "cell_type": "markdown",
   "id": "2b44e85f-087b-4aeb-9e9c-5ad4ab3b0f88",
   "metadata": {},
   "source": [
    "* By convention, first parameter is named self\n"
   ]
  },
  {
   "cell_type": "code",
   "execution_count": null,
   "id": "15ca6153-5f24-4781-8082-f5294c0ac2b1",
   "metadata": {},
   "outputs": [],
   "source": [
    "class Time( object ) :\n",
    "   \"\"\" .. \"\"\"\n",
    "   def print_time( self ) :\n",
    "       print( '%.2d:%.2d:%.2d' % (self.hour, self.minute, self.second) )"
   ]
  },
  {
   "cell_type": "code",
   "execution_count": null,
   "id": "a16e4757-255a-4506-864f-542724ac5e8f",
   "metadata": {},
   "outputs": [],
   "source": [
    "* Adding more useful method\n"
   ]
  },
  {
   "cell_type": "code",
   "execution_count": null,
   "id": "b2caec38-3abe-45ab-93d6-f69c6a9dcead",
   "metadata": {},
   "outputs": [],
   "source": [
    "class Time( object ) :\n",
    "   \"\"\" .. \"\"\"\n",
    "   def print_time( self ) :\n",
    "       print( '%.2d:%.2d:%.2d' % (self.hour, self.minute, self.second) )\n",
    "       \n",
    "   def increment( self, seconds ) :\n",
    "       seconds += self.time_to_int()\n",
    "       return int_to_time( seconds )\n",
    "       "
   ]
  },
  {
   "cell_type": "markdown",
   "id": "51da459a-66dc-431d-b4b2-be2f01de96a7",
   "metadata": {},
   "source": [
    "\n",
    "* Contract-based programming\n",
    "  - Contract between class developer and user\n",
    "  - A *limited* set of functions (methods) are defined for a class\n",
    "  - Users use and only uses method to modify attributes\n",
    "  - In reality it is often violated (e.g., C++ friend class)\n"
   ]
  },
  {
   "cell_type": "markdown",
   "id": "b52673a9-6a03-463b-a551-13496f0b619f",
   "metadata": {},
   "source": [
    "* Constructor\n",
    "\n",
    "  - invoked when an object is instantiated (when Time() is called )  "
   ]
  },
  {
   "cell_type": "code",
   "execution_count": null,
   "id": "6416665b-0d11-437a-886f-ab014acb947a",
   "metadata": {},
   "outputs": [],
   "source": [
    "class Time( object ) :\n",
    "   \"\"\" .. \"\"\"\n",
    "\n",
    "   def __init__( self, hour=0, minute=0,second=0) :\n",
    "       self.hour = hour\n",
    "       self.minute = minute\n",
    "       self.second = second\n",
    "\n",
    "   def print_time( self ) :\n",
    "       print( '%.2d:%.2d:%.2d' % (self.hour, self.minute, self.second) )\n",
    "       \n",
    "   def increment( self, seconds ) :\n",
    "       seconds += self.time_to_int()\n",
    "       return int_to_time( seconds )\n"
   ]
  },
  {
   "cell_type": "markdown",
   "id": "418603d5-0369-46c1-994e-3f41a758043d",
   "metadata": {},
   "source": [
    "* Dumper\n",
    "  - invoked when print the object"
   ]
  },
  {
   "cell_type": "code",
   "execution_count": null,
   "id": "391152f4-db65-4a19-b031-41485cbb520f",
   "metadata": {},
   "outputs": [],
   "source": [
    "class Time( object ) :\n",
    "   \"\"\" .. \"\"\"\n",
    "\n",
    "   def __init__( self, hour=0, minute=0,second=0) :\n",
    "       self.hour = hour\n",
    "       self.minute = minute\n",
    "       self.second = second\n",
    "\n",
    "   def __str__( self ) :\n",
    "       return '%.2d:%.2d:%.2d' % (time.hour, time.minute, time.second)\n",
    "       \n",
    "   def increment( self, seconds ) :\n",
    "       seconds += self.time_to_int()\n",
    "       return int_to_time( seconds )\n"
   ]
  },
  {
   "cell_type": "code",
   "execution_count": null,
   "id": "6f00e639-394d-4f8f-8f7a-093d22ed3fa9",
   "metadata": {},
   "outputs": [],
   "source": [
    "start = Time( 2, 1, 0 )\n",
    "\n",
    "print( start )"
   ]
  },
  {
   "cell_type": "markdown",
   "id": "bc4e7337-bb74-4079-89de-b0c535b57100",
   "metadata": {},
   "source": [
    "## Operator Overloading\n",
    "\n",
    "- \"operators\" are nothing but methods\n",
    "- Here operator means special symbols reserved by the language\n",
    "- This is not to be confused with the operator = function on functions"
   ]
  },
  {
   "cell_type": "code",
   "execution_count": null,
   "id": "a3117a46-badb-44f0-8527-ccbb240c9154",
   "metadata": {},
   "outputs": [],
   "source": [
    "class Time( object ) :\n",
    "   \"\"\" .. \"\"\"\n",
    "\n",
    "   def __init__( self, hour=0, minute=0,second=0) :\n",
    "       self.hour = hour\n",
    "       self.minute = minute\n",
    "       self.second = second\n",
    "\n",
    "   def __str__( self ) :\n",
    "       return '%.2d:%.2d:%.2d' % (time.hour, time.minute, time.second)\n",
    "       \n",
    "   def __add__( self, other ) :\n",
    "       seconds = time_to_int(self) + time_to_int(other)\n",
    "       return int_to_time( seconds )\n"
   ]
  },
  {
   "cell_type": "code",
   "execution_count": null,
   "id": "b02466be-54ff-4d89-8898-94c71d07a0ef",
   "metadata": {},
   "outputs": [],
   "source": [
    "start = Time( 9, 45 )\n",
    "duration = Time( 1, 35 )\n",
    "print( start + duration  )"
   ]
  },
  {
   "cell_type": "markdown",
   "id": "45340cc0-4ee2-4675-bd20-5967f10bc7af",
   "metadata": {},
   "source": [
    "* Type-based dispatch"
   ]
  },
  {
   "cell_type": "code",
   "execution_count": null,
   "id": "60c5cd3a-1071-4191-8d34-997da1aa8533",
   "metadata": {},
   "outputs": [],
   "source": [
    "class Time( object ) :\n",
    "   \"\"\" .. \"\"\"\n",
    "\n",
    "   def __init__( self, hour=0, minute=0,second=0) :\n",
    "       self.hour = hour\n",
    "       self.minute = minute\n",
    "       self.second = second\n",
    "\n",
    "   def __str__( self ) :\n",
    "       return '%.2d:%.2d:%.2d' % (time.hour, time.minute, time.second)\n",
    "       \n",
    "   def __add__( self, other ) :\n",
    "       if isinstance( other, Time ) :\n",
    "           seconds = time_to_int(self) + time_to_int(other)\n",
    "       else :\n",
    "           seconds = time_to_int(self) + other\n",
    "       return int_to_time( seconds )\n"
   ]
  },
  {
   "cell_type": "code",
   "execution_count": null,
   "id": "077d3783-d447-4206-9bcb-824cf981ce1f",
   "metadata": {},
   "outputs": [],
   "source": [
    "start = Time( 9, 45 )\n",
    "duration = Time( 1, 35 )\n",
    "print( start + duration )"
   ]
  },
  {
   "cell_type": "code",
   "execution_count": null,
   "id": "c0ca2a8d-0580-4b44-8982-beea3cdf8570",
   "metadata": {},
   "outputs": [],
   "source": [
    "print( start + 1337 )"
   ]
  },
  {
   "cell_type": "markdown",
   "id": "4151cb7e-2c34-431d-8444-dbfb4bd571c7",
   "metadata": {},
   "source": [
    "* What if you do:\n"
   ]
  },
  {
   "cell_type": "code",
   "execution_count": null,
   "id": "50484141-3991-49bb-9eb9-48f65accfeee",
   "metadata": {},
   "outputs": [],
   "source": [
    "print( 1337 + start )"
   ]
  },
  {
   "cell_type": "markdown",
   "id": "46b8ed83-d6ed-4822-afd4-ea6c2380e0c0",
   "metadata": {},
   "source": [
    "* Rescue"
   ]
  },
  {
   "cell_type": "code",
   "execution_count": null,
   "id": "a166bb71-2e75-4623-b028-e1f319d27340",
   "metadata": {},
   "outputs": [],
   "source": [
    "class Time( object ) :\n",
    "   \"\"\" .. \"\"\"\n",
    "\n",
    "   def __init__( self, hour=0, minute=0,second=0) :\n",
    "       self.hour = hour\n",
    "       self.minute = minute\n",
    "       self.second = second\n",
    "\n",
    "   def __str__( self ) :\n",
    "       return '%.2d:%.2d:%.2d' % (time.hour, time.minute, time.second)\n",
    "       \n",
    "   def __add__( self, other ) :\n",
    "       if isinstance( other, Time ) :\n",
    "           seconds = time_to_int(self) + time_to_int(other)\n",
    "       else :\n",
    "           seconds = time_to_int(self) + other\n",
    "       return int_to_time( seconds )\n",
    "       \n",
    "   def __radd__( self, other ) :\n",
    "       return self.__add__( other ) "
   ]
  },
  {
   "cell_type": "code",
   "execution_count": null,
   "id": "39ff888f-482e-446f-9ff9-d375f1904824",
   "metadata": {},
   "outputs": [],
   "source": [
    "start = Time( 9, 45 )\n",
    "print( 1337 + start )"
   ]
  },
  {
   "cell_type": "markdown",
   "id": "99ea0621-c043-4f6f-a433-265bde002ee5",
   "metadata": {},
   "source": [
    " This is Polymorphic Programming IN ACTION again!"
   ]
  },
  {
   "cell_type": "markdown",
   "id": "2ee9cf19-93a7-4ddb-ad8d-3058e45ac1a2",
   "metadata": {},
   "source": [
    "## Inheritance\n",
    "\n",
    " * Classes are used to model real world objects\n",
    " * Real world objects have relationships among each other\n",
    " \n",
    " * has-a relation: often an object is a container of other objects"
   ]
  },
  {
   "cell_type": "code",
   "execution_count": null,
   "id": "316855cd-7c48-4753-a623-6f5c471f8357",
   "metadata": {},
   "outputs": [],
   "source": [
    "class Card( object ) :\n",
    "   def __init__( self, suit=0, rank=2 ) :\n",
    "       self.suit = suit\n",
    "       self.rank = rank\n",
    "   def __cmp__( self, other ) :\n",
    "       if self.suit > other.suit : return 1\n",
    "       if self.suit < other.suit : return -1\n",
    "       if self.rank > other.rank : return 1\n",
    "       if self.rank < other.rank : return -1\n",
    "       return 0"
   ]
  },
  {
   "cell_type": "markdown",
   "id": "b288d56a-11da-4890-b70a-be22aad34c80",
   "metadata": {},
   "source": [
    "Note we have *operator overloading* in action again here. Once the __cmp__ method is defined, a group of relational operators can be used \"for free\".\n",
    "\n",
    "But we an really refactor the code a bit better by leveraging the built-in function for cmp works with tuple automatically!"
   ]
  },
  {
   "cell_type": "code",
   "execution_count": 23,
   "id": "dcb8bf9b-f20f-467f-88e4-6e0495e42af0",
   "metadata": {},
   "outputs": [],
   "source": [
    "class Card( object ) :\n",
    "   def __init__( self, suit=0, rank=2 ) :\n",
    "       self.suit = suit\n",
    "       self.rank = rank\n",
    "   def mymethod() :\n",
    "       pass\n",
    "   def __cmp__( self, other ) :\n",
    "       return cmp( (self.suit, self.rank), (other.suit, other.rank) )"
   ]
  },
  {
   "cell_type": "code",
   "execution_count": 11,
   "id": "aa9b7ec8-3659-4726-aa8f-2ca04c59555a",
   "metadata": {},
   "outputs": [],
   "source": [
    "class Deck( object ) :\n",
    "   def __init__( self, suit=0, rank=2 ) :\n",
    "       self.cards = []\n",
    "       for suit in range( 4 ) :\n",
    "         for rank in range( 1, 14 ) :\n",
    "             card = Card( suit, rank )\n",
    "             self.cards.append( card )\n",
    "   def pop_cards( self ) :\n",
    "       pass\n",
    "   def add_cards( self ) :\n",
    "       pass\n",
    "   def shuffle_cards( self ) :\n",
    "       pass\n",
    "          "
   ]
  },
  {
   "cell_type": "markdown",
   "id": "5ca1df35-82e2-49ff-b428-a171e6ec2cab",
   "metadata": {},
   "source": [
    "Apparently, an instance of a Deck and an instance of a Card has a \"has-a\" relationship!"
   ]
  },
  {
   "cell_type": "markdown",
   "id": "77a17369-4cb9-45ce-a183-9d93240170fe",
   "metadata": {},
   "source": [
    " * is-a relation: often objects belong to the same catogries\n",
    "    - Share similarities -> can be abstracted by base class\n",
    "    - Have own \"personality\" -> define inherited class"
   ]
  },
  {
   "cell_type": "code",
   "execution_count": 12,
   "id": "e4b825c1-f152-48fc-800c-87e941f7c54b",
   "metadata": {},
   "outputs": [],
   "source": [
    "class Hand( Deck ) :\n",
    "   def __init__( self, label = '' ) :\n",
    "       self.cards = []\n",
    "       self.label = label"
   ]
  },
  {
   "cell_type": "markdown",
   "id": "ac6a1725-4415-4d43-a2fa-1c577aa49a52",
   "metadata": {},
   "source": [
    "Here Hand *inherits* from Deck, by specifying Deck in the class Header as its *base* class,just like we did to inherit from the \"object\" class, which is the root of all classes. If you leave the parent class specification out, by default it inherits from the \"object\" class.\n",
    "    \n",
    "    - Note that __init__ method is *overridden*\n",
    "    - In the mean time, all other attributes/methods for Deck can be used\n"
   ]
  },
  {
   "cell_type": "markdown",
   "id": "d79f5373-caaa-4a47-903c-d5d09b61d64b",
   "metadata": {},
   "source": [
    "[NOTE] Do not be too carried away with inheritance. It is a pitfall to create too many levels of inheritance because each level adds one level of indirection and one *cognitive barrier*, and they pile up as code base grow. Beginner often wasting too much time designing class hierarchy than solving problems themselves. A school of thought is to get rid of inheritance completely, and such paradigm is called \"Object-Based\" rather than \"Object-Oriented\".\n"
   ]
  },
  {
   "cell_type": "markdown",
   "id": "f333cb18-54a6-407a-a057-ef72368b392d",
   "metadata": {},
   "source": [
    "## Exploring Objects"
   ]
  },
  {
   "cell_type": "markdown",
   "id": "63b519b9-1133-488b-948c-cfb75e285e83",
   "metadata": {},
   "source": [
    "So what exactly is a Python object? It is an *entity* with:\n",
    "\n",
    "1. An identity (a memory address where it actually lives);\n",
    "2. A value, which includes a set of attributes (and can be accessed through o.attributename)\n",
    "3. A type: every object has exactly ONE type, and a type is nothing but yet another object.\n",
    "4. One or more bases: base class of a type object; in other places, base classes maybe called \"parent classes\" or \"super classes\".\n",
    "\n",
    "Let's re-examine what we have taken for granted. An integer is an object, with everything defined above:"
   ]
  },
  {
   "cell_type": "code",
   "execution_count": 1,
   "id": "339b7350-1db4-4fc7-a8f1-ac5ccf343069",
   "metadata": {},
   "outputs": [],
   "source": [
    "two = 2"
   ]
  },
  {
   "cell_type": "code",
   "execution_count": 2,
   "id": "63eaad55-e2cc-4420-a13f-bd2f6b1442dc",
   "metadata": {},
   "outputs": [
    {
     "data": {
      "text/plain": [
       "int"
      ]
     },
     "execution_count": 2,
     "metadata": {},
     "output_type": "execute_result"
    }
   ],
   "source": [
    "type(two)"
   ]
  },
  {
   "cell_type": "code",
   "execution_count": 3,
   "id": "e935674e-a437-4440-b350-861c4c295863",
   "metadata": {},
   "outputs": [
    {
     "data": {
      "text/plain": [
       "type"
      ]
     },
     "execution_count": 3,
     "metadata": {},
     "output_type": "execute_result"
    }
   ],
   "source": [
    "type(type(two))"
   ]
  },
  {
   "cell_type": "code",
   "execution_count": null,
   "id": "bcc97297-c56f-407c-8eec-590c731c7502",
   "metadata": {},
   "outputs": [],
   "source": []
  },
  {
   "cell_type": "markdown",
   "id": "9449666d-44a1-4c2d-94f4-5a2888308c87",
   "metadata": {},
   "source": [
    "That just shows that:\n",
    "\n",
    "1. 2 is nothing but an object\n",
    "2. 2 as an object has a type ('int'), and 2 is an instance of 'int'\n",
    "3. 'int' is nothing but an object as well,\n",
    "4. therefore 'int' has its own type: named no other than 'type', put it another way, 'int' is an instance of 'type'.\n",
    "\n",
    "Let's be brave here:"
   ]
  },
  {
   "cell_type": "code",
   "execution_count": 4,
   "id": "34342c1d-b643-489b-b26c-b959c709c36b",
   "metadata": {},
   "outputs": [
    {
     "data": {
      "text/plain": [
       "type"
      ]
     },
     "execution_count": 4,
     "metadata": {},
     "output_type": "execute_result"
    }
   ],
   "source": [
    "type(type(type(two)))"
   ]
  },
  {
   "cell_type": "markdown",
   "id": "031cc51e-0e03-4613-a4c8-e76bfd6ed911",
   "metadata": {},
   "source": [
    "What? This just says that 'type' is an instance of itself!\n",
    "\n",
    "Now let's look at something else, by using the builtin function \"dir\""
   ]
  },
  {
   "cell_type": "code",
   "execution_count": 5,
   "id": "4e30751a-30eb-4434-9f51-10710e521a3d",
   "metadata": {},
   "outputs": [
    {
     "data": {
      "text/plain": [
       "['__abs__',\n",
       " '__add__',\n",
       " '__and__',\n",
       " '__bool__',\n",
       " '__ceil__',\n",
       " '__class__',\n",
       " '__delattr__',\n",
       " '__dir__',\n",
       " '__divmod__',\n",
       " '__doc__',\n",
       " '__eq__',\n",
       " '__float__',\n",
       " '__floor__',\n",
       " '__floordiv__',\n",
       " '__format__',\n",
       " '__ge__',\n",
       " '__getattribute__',\n",
       " '__getnewargs__',\n",
       " '__getstate__',\n",
       " '__gt__',\n",
       " '__hash__',\n",
       " '__index__',\n",
       " '__init__',\n",
       " '__init_subclass__',\n",
       " '__int__',\n",
       " '__invert__',\n",
       " '__le__',\n",
       " '__lshift__',\n",
       " '__lt__',\n",
       " '__mod__',\n",
       " '__mul__',\n",
       " '__ne__',\n",
       " '__neg__',\n",
       " '__new__',\n",
       " '__or__',\n",
       " '__pos__',\n",
       " '__pow__',\n",
       " '__radd__',\n",
       " '__rand__',\n",
       " '__rdivmod__',\n",
       " '__reduce__',\n",
       " '__reduce_ex__',\n",
       " '__repr__',\n",
       " '__rfloordiv__',\n",
       " '__rlshift__',\n",
       " '__rmod__',\n",
       " '__rmul__',\n",
       " '__ror__',\n",
       " '__round__',\n",
       " '__rpow__',\n",
       " '__rrshift__',\n",
       " '__rshift__',\n",
       " '__rsub__',\n",
       " '__rtruediv__',\n",
       " '__rxor__',\n",
       " '__setattr__',\n",
       " '__sizeof__',\n",
       " '__str__',\n",
       " '__sub__',\n",
       " '__subclasshook__',\n",
       " '__truediv__',\n",
       " '__trunc__',\n",
       " '__xor__',\n",
       " 'as_integer_ratio',\n",
       " 'bit_count',\n",
       " 'bit_length',\n",
       " 'conjugate',\n",
       " 'denominator',\n",
       " 'from_bytes',\n",
       " 'imag',\n",
       " 'numerator',\n",
       " 'real',\n",
       " 'to_bytes']"
      ]
     },
     "execution_count": 5,
     "metadata": {},
     "output_type": "execute_result"
    }
   ],
   "source": [
    "dir(two)"
   ]
  },
  {
   "cell_type": "markdown",
   "id": "cf643609-ef57-43ce-afeb-385d791d3e53",
   "metadata": {},
   "source": [
    "This is actually ALL the methods of the 'int' class. And you can see MOST of them are tied to operators, as we expected.\n",
    "\n",
    "Now let's see more:"
   ]
  },
  {
   "cell_type": "code",
   "execution_count": 6,
   "id": "59370d64-9004-4f6e-bde5-48842a2f7857",
   "metadata": {},
   "outputs": [
    {
     "data": {
      "text/plain": [
       "int"
      ]
     },
     "execution_count": 6,
     "metadata": {},
     "output_type": "execute_result"
    }
   ],
   "source": [
    "two.__class__"
   ]
  },
  {
   "cell_type": "markdown",
   "id": "5738cf7d-f37e-4141-9f4d-03a7e6a9e696",
   "metadata": {},
   "source": [
    "Actually, whenever we say type(something), what we are really doing is something.__class__"
   ]
  },
  {
   "cell_type": "code",
   "execution_count": 7,
   "id": "ad3d7913-1bae-4f69-baa7-9d5ee950c2ba",
   "metadata": {},
   "outputs": [
    {
     "data": {
      "text/plain": [
       "(object,)"
      ]
     },
     "execution_count": 7,
     "metadata": {},
     "output_type": "execute_result"
    }
   ],
   "source": [
    "int.__bases__"
   ]
  },
  {
   "cell_type": "markdown",
   "id": "6757bbaf-c5bc-47be-8470-ffc5d17eefd6",
   "metadata": {},
   "source": [
    "Here we are examing another built-in attributes, which are only available for classes. This represent the set of other classes that this class inherit from. We can see that 'int' inherit from object. Since we can have *multiple inheritance*, the attribute value is a tuple."
   ]
  },
  {
   "cell_type": "code",
   "execution_count": 8,
   "id": "3bf32515-253e-4919-b379-608cff61f1c5",
   "metadata": {},
   "outputs": [
    {
     "ename": "AttributeError",
     "evalue": "'int' object has no attribute '__bases__'",
     "output_type": "error",
     "traceback": [
      "\u001b[0;31m---------------------------------------------------------------------------\u001b[0m",
      "\u001b[0;31mAttributeError\u001b[0m                            Traceback (most recent call last)",
      "Cell \u001b[0;32mIn[8], line 1\u001b[0m\n\u001b[0;32m----> 1\u001b[0m \u001b[43mtwo\u001b[49m\u001b[38;5;241;43m.\u001b[39;49m\u001b[38;5;18;43m__bases__\u001b[39;49m\n",
      "\u001b[0;31mAttributeError\u001b[0m: 'int' object has no attribute '__bases__'"
     ]
    }
   ],
   "source": [
    "two.__bases__"
   ]
  },
  {
   "cell_type": "markdown",
   "id": "7a5468fb-74c3-43c5-935b-146f05b9633f",
   "metadata": {},
   "source": [
    "As expected, an object does not have base classes.\n",
    "\n",
    "Now let's look at sligtly more complex objects."
   ]
  },
  {
   "cell_type": "code",
   "execution_count": 24,
   "id": "6656962f-2cc2-4c3e-be82-47fe72870263",
   "metadata": {},
   "outputs": [],
   "source": [
    "card = Card()\n",
    "deck = Deck()\n",
    "hand = Hand()"
   ]
  },
  {
   "cell_type": "code",
   "execution_count": 15,
   "id": "ed36422b-a601-4dae-9ba7-75aadc1edb67",
   "metadata": {},
   "outputs": [
    {
     "data": {
      "text/plain": [
       "__main__.Card"
      ]
     },
     "execution_count": 15,
     "metadata": {},
     "output_type": "execute_result"
    }
   ],
   "source": [
    "card.__class__"
   ]
  },
  {
   "cell_type": "code",
   "execution_count": 16,
   "id": "a7c81b77-377b-43ad-a7c3-bfbc3139ac14",
   "metadata": {},
   "outputs": [
    {
     "data": {
      "text/plain": [
       "type"
      ]
     },
     "execution_count": 16,
     "metadata": {},
     "output_type": "execute_result"
    }
   ],
   "source": [
    "Card.__class__"
   ]
  },
  {
   "cell_type": "code",
   "execution_count": 17,
   "id": "61a147c5-068b-4b5b-b82a-2ed3ee949d59",
   "metadata": {},
   "outputs": [
    {
     "data": {
      "text/plain": [
       "(object,)"
      ]
     },
     "execution_count": 17,
     "metadata": {},
     "output_type": "execute_result"
    }
   ],
   "source": [
    "Card.__bases__"
   ]
  },
  {
   "cell_type": "code",
   "execution_count": 18,
   "id": "e1aa6e20-3396-41ff-b615-39a55759c4f7",
   "metadata": {},
   "outputs": [
    {
     "data": {
      "text/plain": [
       "__main__.Hand"
      ]
     },
     "execution_count": 18,
     "metadata": {},
     "output_type": "execute_result"
    }
   ],
   "source": [
    "hand.__class__"
   ]
  },
  {
   "cell_type": "code",
   "execution_count": 19,
   "id": "bb3e782b-5297-4547-9847-8f0de51830d0",
   "metadata": {},
   "outputs": [
    {
     "data": {
      "text/plain": [
       "type"
      ]
     },
     "execution_count": 19,
     "metadata": {},
     "output_type": "execute_result"
    }
   ],
   "source": [
    "Hand.__class__"
   ]
  },
  {
   "cell_type": "code",
   "execution_count": 20,
   "id": "ca975ee1-5a8f-4df0-a276-5a609f4795b8",
   "metadata": {},
   "outputs": [
    {
     "data": {
      "text/plain": [
       "(__main__.Deck,)"
      ]
     },
     "execution_count": 20,
     "metadata": {},
     "output_type": "execute_result"
    }
   ],
   "source": [
    "Hand.__bases__"
   ]
  },
  {
   "cell_type": "code",
   "execution_count": 21,
   "id": "aff744da-f77f-4a38-8b80-8859f17fe6df",
   "metadata": {},
   "outputs": [
    {
     "data": {
      "text/plain": [
       "(object,)"
      ]
     },
     "execution_count": 21,
     "metadata": {},
     "output_type": "execute_result"
    }
   ],
   "source": [
    "Deck.__bases__"
   ]
  },
  {
   "cell_type": "code",
   "execution_count": 25,
   "id": "d1492def-5ad3-45dd-ba85-de75598541e8",
   "metadata": {},
   "outputs": [
    {
     "data": {
      "text/plain": [
       "['__class__',\n",
       " '__cmp__',\n",
       " '__delattr__',\n",
       " '__dict__',\n",
       " '__dir__',\n",
       " '__doc__',\n",
       " '__eq__',\n",
       " '__format__',\n",
       " '__ge__',\n",
       " '__getattribute__',\n",
       " '__getstate__',\n",
       " '__gt__',\n",
       " '__hash__',\n",
       " '__init__',\n",
       " '__init_subclass__',\n",
       " '__le__',\n",
       " '__lt__',\n",
       " '__module__',\n",
       " '__ne__',\n",
       " '__new__',\n",
       " '__reduce__',\n",
       " '__reduce_ex__',\n",
       " '__repr__',\n",
       " '__setattr__',\n",
       " '__sizeof__',\n",
       " '__str__',\n",
       " '__subclasshook__',\n",
       " '__weakref__',\n",
       " 'mymethod',\n",
       " 'rank',\n",
       " 'suit']"
      ]
     },
     "execution_count": 25,
     "metadata": {},
     "output_type": "execute_result"
    }
   ],
   "source": [
    "dir( card )"
   ]
  },
  {
   "cell_type": "code",
   "execution_count": 26,
   "id": "6b39f8f9-456f-48a4-a724-6431aa0a171d",
   "metadata": {},
   "outputs": [
    {
     "data": {
      "text/plain": [
       "{'suit': 0, 'rank': 2}"
      ]
     },
     "execution_count": 26,
     "metadata": {},
     "output_type": "execute_result"
    }
   ],
   "source": [
    "card.__dict__"
   ]
  },
  {
   "cell_type": "markdown",
   "id": "1e891fb4-714d-4267-8a33-4f65e91f6a89",
   "metadata": {},
   "source": [
    "Hey, ALL attributes of an class object is hidden here!"
   ]
  },
  {
   "cell_type": "code",
   "execution_count": 27,
   "id": "dba90605-4dcb-4c70-a43d-831e985c4a43",
   "metadata": {},
   "outputs": [],
   "source": [
    "card.__dict__['suit'] = 1"
   ]
  },
  {
   "cell_type": "code",
   "execution_count": 28,
   "id": "ec44a4c9-8c28-4099-81e5-85a09fd10585",
   "metadata": {},
   "outputs": [
    {
     "data": {
      "text/plain": [
       "1"
      ]
     },
     "execution_count": 28,
     "metadata": {},
     "output_type": "execute_result"
    }
   ],
   "source": [
    "card.suit"
   ]
  },
  {
   "cell_type": "markdown",
   "id": "491732f4-40ac-46c6-a8d2-3b9b31f27987",
   "metadata": {},
   "source": [
    "What does it tell us? \n",
    "\n",
    "An attribuite access is just a *syntactical sugar* for accessing the same-named key in the built-in dictionary \"__dict__\".\n",
    "\n",
    "It is not an overstatement that an object is nothing but TWO dictionaries: one dictionary for attributes, one dictionary for functions (they become methods). "
   ]
  },
  {
   "cell_type": "markdown",
   "id": "c353a075-6e1f-41b4-8cde-a7f6a54ca9ed",
   "metadata": {},
   "source": [
    "## Type System\n",
    "\n",
    "Of course a well-designed object-oriented language is more than dictionaries. A important \"meat\" is its type system, which can help us:\n",
    "\n",
    "1. prevent errors (early) by type checking;\n",
    "2. organize behavior by type-based dispatch\n",
    "\n",
    "So what is a type? A type is a special object with the following traits: \n",
    "\n",
    "1. They are used to represent a group of values with the same structure;\n",
    "2. They can be *instantiated*. This means that you can create new object that is an *instance* of the said type object. The said type object becomes the __class__ attribute for the instantiated object;\n",
    "3. They can be *subclassed*, or \"inherited\", this means that you can create new object that is somewhat similar to the said type object. The said type object becomes one of the bases for the inherited class.\n",
    "\n",
    "This is straightforward except for the two built-in types:\n",
    "'type' and 'object', whose behavior is a bit strange to resolve the chick-and-egg problem of these \"root\" objects.\n"
   ]
  },
  {
   "cell_type": "code",
   "execution_count": 29,
   "id": "42aee70e-e3bd-42f2-bdcf-5cf49424f6eb",
   "metadata": {},
   "outputs": [
    {
     "data": {
      "text/plain": [
       "object"
      ]
     },
     "execution_count": 29,
     "metadata": {},
     "output_type": "execute_result"
    }
   ],
   "source": [
    "object"
   ]
  },
  {
   "cell_type": "code",
   "execution_count": 30,
   "id": "01cfac28-bc9e-4601-a890-43463a91dd3e",
   "metadata": {},
   "outputs": [
    {
     "data": {
      "text/plain": [
       "type"
      ]
     },
     "execution_count": 30,
     "metadata": {},
     "output_type": "execute_result"
    }
   ],
   "source": [
    "type"
   ]
  },
  {
   "cell_type": "code",
   "execution_count": 31,
   "id": "f38196e7-ced7-4576-8837-6f95024c9f15",
   "metadata": {},
   "outputs": [
    {
     "data": {
      "text/plain": [
       "type"
      ]
     },
     "execution_count": 31,
     "metadata": {},
     "output_type": "execute_result"
    }
   ],
   "source": [
    "type(object) "
   ]
  },
  {
   "cell_type": "code",
   "execution_count": 32,
   "id": "0903a5fa-c161-49c5-bd6c-feb545edccaf",
   "metadata": {},
   "outputs": [
    {
     "data": {
      "text/plain": [
       "type"
      ]
     },
     "execution_count": 32,
     "metadata": {},
     "output_type": "execute_result"
    }
   ],
   "source": [
    "object.__class__"
   ]
  },
  {
   "cell_type": "code",
   "execution_count": 33,
   "id": "cca7d1db-3dae-47e2-9941-0f71d7defeda",
   "metadata": {},
   "outputs": [
    {
     "data": {
      "text/plain": [
       "()"
      ]
     },
     "execution_count": 33,
     "metadata": {},
     "output_type": "execute_result"
    }
   ],
   "source": [
    "object.__bases__"
   ]
  },
  {
   "cell_type": "code",
   "execution_count": 34,
   "id": "1012938c-d0df-4fe8-ad17-1cce412fc633",
   "metadata": {},
   "outputs": [
    {
     "data": {
      "text/plain": [
       "type"
      ]
     },
     "execution_count": 34,
     "metadata": {},
     "output_type": "execute_result"
    }
   ],
   "source": [
    "type.__class__"
   ]
  },
  {
   "cell_type": "code",
   "execution_count": 35,
   "id": "7dc69829-e460-4b0f-a659-8c1823265f1f",
   "metadata": {},
   "outputs": [
    {
     "data": {
      "text/plain": [
       "type"
      ]
     },
     "execution_count": 35,
     "metadata": {},
     "output_type": "execute_result"
    }
   ],
   "source": [
    "type(type)"
   ]
  },
  {
   "cell_type": "code",
   "execution_count": 36,
   "id": "22b80f2c-f418-4aed-b91b-0f0b98c1a971",
   "metadata": {},
   "outputs": [
    {
     "data": {
      "text/plain": [
       "(object,)"
      ]
     },
     "execution_count": 36,
     "metadata": {},
     "output_type": "execute_result"
    }
   ],
   "source": [
    "type.__bases__"
   ]
  },
  {
   "cell_type": "markdown",
   "id": "8219888d-8109-4061-8ac5-5c8c3a76a95f",
   "metadata": {},
   "source": [
    "These two primitives work like this:\n",
    "\n",
    "1. 'type' is type of ALL types;\n",
    "2. 'object' is the base, or ancestor base of all other types.\n",
    "\n",
    "In fact, we can visualize the type hierarchy using a *type diagram*, in the following way: \n",
    "\n",
    "1. Divide the world into three mini-worlds:\n",
    "   - 'type' lives in the first (left-most') mini-world;\n",
    "   - 'object' and all other classes in the second (middle) mini-world;\n",
    "   - ALL class instances lives in the third (right-most) mini-world.\n",
    "\n",
    "2. inherit-from relation:\n",
    "   - Use solid arrow\n",
    "   - A points to B if A inherit from B\n",
    "   - equivalent of saying B $\\in$ A.__bases__ \n",
    "   - 'object' inherit from nothing! so it is the root class.\n",
    "  \n",
    "3. instantiate-from relation:\n",
    "   - Use dashed arrow\n",
    "   - A points to B if B instantiate from A\n",
    "   - equivanet of saying A.__class = B; \n",
    "\n",
    "![](type-hierarchy.png \"Title\")\n",
    "\n",
    "We can first practice this with the two \"root\" type objects."
   ]
  },
  {
   "cell_type": "markdown",
   "id": "8638acaf-8019-44ba-b0e1-25af31f2f37e",
   "metadata": {},
   "source": [
    "Let's examine some builtin types:"
   ]
  },
  {
   "cell_type": "code",
   "execution_count": null,
   "id": "e55480e9-bd9c-4e4a-b216-5843c1d7ea4a",
   "metadata": {},
   "outputs": [],
   "source": [
    "list"
   ]
  },
  {
   "cell_type": "code",
   "execution_count": null,
   "id": "7c56131c-c093-4e4c-914a-36537d77d587",
   "metadata": {},
   "outputs": [],
   "source": [
    "list.__class__"
   ]
  },
  {
   "cell_type": "code",
   "execution_count": null,
   "id": "17461469-16e1-4e92-888a-a3b281c3618b",
   "metadata": {},
   "outputs": [],
   "source": [
    "list.__bases__"
   ]
  },
  {
   "cell_type": "code",
   "execution_count": null,
   "id": "996fc66f-a706-4c89-921f-f48bef133355",
   "metadata": {},
   "outputs": [],
   "source": [
    "tuple.__class__, tuple.__bases__"
   ]
  },
  {
   "cell_type": "code",
   "execution_count": null,
   "id": "34b7d25a-32b3-4052-9e31-51d87e6f1d98",
   "metadata": {},
   "outputs": [],
   "source": [
    "dict.__class__, dict.__bases__"
   ]
  },
  {
   "cell_type": "code",
   "execution_count": null,
   "id": "d9a6a2e4-9c01-4651-b264-72190e5b062d",
   "metadata": {},
   "outputs": [],
   "source": [
    "mylist = [1, 2, 3]\n",
    "mylist.__class__"
   ]
  },
  {
   "cell_type": "markdown",
   "id": "7a6121b0-3697-4340-b58b-b85ba21fd162",
   "metadata": {},
   "source": [
    "Let's create some user-defined types."
   ]
  },
  {
   "cell_type": "code",
   "execution_count": 37,
   "id": "56c096b1-e5a3-48b8-9bea-be885b5dcf87",
   "metadata": {},
   "outputs": [],
   "source": [
    "class C( object ) :\n",
    "    pass\n",
    "\n",
    "class D :\n",
    "    pass\n",
    "\n",
    "class MyList(list) :\n",
    "    pass\n",
    "\n",
    "o = object()\n",
    "c = C()\n",
    "mylist = MyList()"
   ]
  },
  {
   "cell_type": "markdown",
   "id": "1bc5dc72-2867-4274-a504-307c1cf37c4a",
   "metadata": {},
   "source": [
    "Now try to draw the type diagram."
   ]
  },
  {
   "cell_type": "markdown",
   "id": "07ae7b7f-a703-4d3a-88ce-9c96e5a133e8",
   "metadata": {},
   "source": [
    "We can now appreciate the behavior of the builtin function \"isinstance\", which we have used many times before. \n",
    "\n",
    "isinstance( a, A ) works like this: \n",
    "\n",
    "1. if a.__class__ == A, return true;\n",
    "2. if A is ancestor of a.__class__, return true\n",
    "3. return false\n",
    "\n",
    "issubclass( A, B ) return true if B is an ancestor of A.\n",
    "\n",
    "We can check if the following works as expected."
   ]
  },
  {
   "cell_type": "code",
   "execution_count": 38,
   "id": "fd3157d1-2566-458d-8b01-7fca42247be9",
   "metadata": {},
   "outputs": [
    {
     "data": {
      "text/plain": [
       "True"
      ]
     },
     "execution_count": 38,
     "metadata": {},
     "output_type": "execute_result"
    }
   ],
   "source": [
    "isinstance( mylist, MyList )"
   ]
  },
  {
   "cell_type": "code",
   "execution_count": 39,
   "id": "729dada3-e66c-4a86-8d06-b0aeab721e92",
   "metadata": {},
   "outputs": [
    {
     "data": {
      "text/plain": [
       "True"
      ]
     },
     "execution_count": 39,
     "metadata": {},
     "output_type": "execute_result"
    }
   ],
   "source": [
    "isinstance( mylist, list )"
   ]
  },
  {
   "cell_type": "code",
   "execution_count": 40,
   "id": "2d395edb-6a03-475c-9d0c-88588ee9efe5",
   "metadata": {},
   "outputs": [
    {
     "data": {
      "text/plain": [
       "True"
      ]
     },
     "execution_count": 40,
     "metadata": {},
     "output_type": "execute_result"
    }
   ],
   "source": [
    "isinstance( mylist, object )"
   ]
  },
  {
   "cell_type": "code",
   "execution_count": 41,
   "id": "9625ce8a-b79c-45dd-a6d6-fcef6254e88f",
   "metadata": {},
   "outputs": [
    {
     "data": {
      "text/plain": [
       "False"
      ]
     },
     "execution_count": 41,
     "metadata": {},
     "output_type": "execute_result"
    }
   ],
   "source": [
    "isinstance( mylist, type )"
   ]
  },
  {
   "cell_type": "markdown",
   "id": "aa386e0a-2a06-46b1-82a5-36e1aed1acff",
   "metadata": {},
   "source": [
    "Now let's look at the middle mini-world."
   ]
  },
  {
   "cell_type": "code",
   "execution_count": 43,
   "id": "bd562579-95f7-4528-9962-8d6a1a6f251e",
   "metadata": {},
   "outputs": [
    {
     "data": {
      "text/plain": [
       "True"
      ]
     },
     "execution_count": 43,
     "metadata": {},
     "output_type": "execute_result"
    }
   ],
   "source": [
    "isinstance( list, type )"
   ]
  },
  {
   "cell_type": "markdown",
   "id": "fc8f53f5-2117-490d-aec6-1ade93deba09",
   "metadata": {},
   "source": [
    "Why so? This is because:"
   ]
  },
  {
   "cell_type": "code",
   "execution_count": 42,
   "id": "83c7dda5-2534-49ae-9b66-77ada6dd7318",
   "metadata": {},
   "outputs": [
    {
     "data": {
      "text/plain": [
       "type"
      ]
     },
     "execution_count": 42,
     "metadata": {},
     "output_type": "execute_result"
    }
   ],
   "source": [
    "list.__class__"
   ]
  },
  {
   "cell_type": "code",
   "execution_count": 44,
   "id": "bd9aabab-eb6d-4c38-9a10-42b891d9a3a3",
   "metadata": {},
   "outputs": [
    {
     "data": {
      "text/plain": [
       "True"
      ]
     },
     "execution_count": 44,
     "metadata": {},
     "output_type": "execute_result"
    }
   ],
   "source": [
    "isinstance( list, object )"
   ]
  },
  {
   "cell_type": "markdown",
   "id": "6efd4740-d7b7-45ce-9977-d02d17a0cb36",
   "metadata": {},
   "source": [
    "Why so? This is because: "
   ]
  },
  {
   "cell_type": "code",
   "execution_count": 45,
   "id": "4f14880d-a1dd-4a2c-ad0b-66b5a16ec208",
   "metadata": {},
   "outputs": [
    {
     "data": {
      "text/plain": [
       "(object,)"
      ]
     },
     "execution_count": 45,
     "metadata": {},
     "output_type": "execute_result"
    }
   ],
   "source": [
    "list.__class__.__bases__"
   ]
  },
  {
   "cell_type": "markdown",
   "id": "8a76773b-6a05-4cbd-96b1-18290a38cf0e",
   "metadata": {},
   "source": [
    "Now let's look at one of the \"root\" object."
   ]
  },
  {
   "cell_type": "code",
   "execution_count": 46,
   "id": "5a957c45-9b66-4334-994d-34b1678659de",
   "metadata": {},
   "outputs": [
    {
     "data": {
      "text/plain": [
       "True"
      ]
     },
     "execution_count": 46,
     "metadata": {},
     "output_type": "execute_result"
    }
   ],
   "source": [
    "isinstance( object, type )"
   ]
  },
  {
   "cell_type": "code",
   "execution_count": 47,
   "id": "3a3e5854-54fa-42aa-aa41-0c3a74ef6a18",
   "metadata": {},
   "outputs": [
    {
     "data": {
      "text/plain": [
       "type"
      ]
     },
     "execution_count": 47,
     "metadata": {},
     "output_type": "execute_result"
    }
   ],
   "source": [
    "object.__class__"
   ]
  },
  {
   "cell_type": "code",
   "execution_count": 48,
   "id": "3edc7959-2167-4905-9f0d-bd251cc44871",
   "metadata": {},
   "outputs": [
    {
     "data": {
      "text/plain": [
       "True"
      ]
     },
     "execution_count": 48,
     "metadata": {},
     "output_type": "execute_result"
    }
   ],
   "source": [
    "isinstance( object, object )"
   ]
  },
  {
   "cell_type": "markdown",
   "id": "90d71b3c-65ad-4e89-be8b-321463acb5a9",
   "metadata": {},
   "source": [
    "Err..., why?"
   ]
  },
  {
   "cell_type": "code",
   "execution_count": 49,
   "id": "79e24d15-cb4b-4607-8a08-bf6edb08ee0b",
   "metadata": {},
   "outputs": [
    {
     "data": {
      "text/plain": [
       "(object,)"
      ]
     },
     "execution_count": 49,
     "metadata": {},
     "output_type": "execute_result"
    }
   ],
   "source": [
    "object.__class__.__bases__"
   ]
  },
  {
   "cell_type": "markdown",
   "id": "6b851ddc-f958-44be-890d-999d83d625d7",
   "metadata": {},
   "source": [
    "The remaining \"root\" object in the left-most mini-world."
   ]
  },
  {
   "cell_type": "code",
   "execution_count": 50,
   "id": "a5f3cad4-ec1e-43f3-bb94-cad41ae69f96",
   "metadata": {},
   "outputs": [
    {
     "data": {
      "text/plain": [
       "True"
      ]
     },
     "execution_count": 50,
     "metadata": {},
     "output_type": "execute_result"
    }
   ],
   "source": [
    "isinstance( type, type )"
   ]
  },
  {
   "cell_type": "code",
   "execution_count": 51,
   "id": "77a185ad-ec47-4b28-88d8-e9317522aa82",
   "metadata": {},
   "outputs": [
    {
     "data": {
      "text/plain": [
       "type"
      ]
     },
     "execution_count": 51,
     "metadata": {},
     "output_type": "execute_result"
    }
   ],
   "source": [
    "type.__class__"
   ]
  },
  {
   "cell_type": "code",
   "execution_count": 52,
   "id": "0354bf68-3729-45fa-b701-ab1dcadb8314",
   "metadata": {},
   "outputs": [
    {
     "data": {
      "text/plain": [
       "True"
      ]
     },
     "execution_count": 52,
     "metadata": {},
     "output_type": "execute_result"
    }
   ],
   "source": [
    "isinstance( type, object )"
   ]
  },
  {
   "cell_type": "code",
   "execution_count": 55,
   "id": "5ab0ba13-4797-40bd-a68a-56a45f019494",
   "metadata": {},
   "outputs": [
    {
     "data": {
      "text/plain": [
       "(object,)"
      ]
     },
     "execution_count": 55,
     "metadata": {},
     "output_type": "execute_result"
    }
   ],
   "source": [
    "type.__class__.__bases__"
   ]
  },
  {
   "cell_type": "markdown",
   "id": "bea632ec-96fe-4d07-89f9-115493063f44",
   "metadata": {},
   "source": [
    "## Recap\n",
    "\n",
    " * Change of perspective from\n",
    "    procedural programming to object oriented programming\n",
    "\n",
    " * Attributes and Methods:\n",
    "    - nothing but dictionaries\n",
    "≠\n",
    " * Polymorphic programming:\n",
    "    - operator overloading: nothing but pre-agreed functions\n",
    "      \n",
    " * Class relations:\n",
    "    - has-a:\n",
    "    - is-a: how isinstance work\n",
    "\n",
    " * Mindful of abuse: introduce a class only when:\n",
    "    - encapsulates and hides a substantial amount of complexity\n",
    "    - expose a simple interface/contract to the outside"
   ]
  }
 ],
 "metadata": {
  "kernelspec": {
   "display_name": "Python 3 (ipykernel)",
   "language": "python",
   "name": "python3"
  },
  "language_info": {
   "codemirror_mode": {
    "name": "ipython",
    "version": 3
   },
   "file_extension": ".py",
   "mimetype": "text/x-python",
   "name": "python",
   "nbconvert_exporter": "python",
   "pygments_lexer": "ipython3",
   "version": "3.11.6"
  }
 },
 "nbformat": 4,
 "nbformat_minor": 5
}
