{
 "cells": [
  {
   "cell_type": "markdown",
   "id": "b50cf88a-efc1-472e-84ba-6d166101c456",
   "metadata": {},
   "source": [
    "# Lec 35-37: Parallel Universe: Continuation, Model Checking & Probablistic Programming\n",
    "\n",
    "Jianwen Zhu <jzhu@eecg.toronto.edu>\n",
    "v2.0, 2024-09"
   ]
  },
  {
   "cell_type": "markdown",
   "id": "e2bc7293-6905-4e48-b7c8-bc637fdcb413",
   "metadata": {
    "editable": true,
    "slideshow": {
     "slide_type": ""
    },
    "tags": []
   },
   "source": [
    "## Forward\n",
    "\n",
    "We have used a programming language to write a *program* that can be *executed* on a computer to *compute* some outputs given some inputs (possibly from the environment). The program is effectively expressing a *function*, and an *execution* of a program is an *evaluation* of the said function against a concrete instance of input values. The different programming paradigms we learned (and hopefully enjoyed) allow you to express this function more produtively, but it does not change the nature of a program as a function.\n",
    "\n",
    "Typically, a program consists of many branching (decision) points (this is the essense of control flow), and an execution of the program to evaluate the function follows a specific path of the branching points (ultimately determined by input values), which we call a *program trace*. \n",
    "\n",
    "Likely up to this point in your life, your exposure, experience and usage of a program is primarily concerned with function evaluation: after all, we develop programs, debug them, apply them on inputs at production, and get outputs that are hopefully useful. We can it a *forward problem*. \n",
    "\n",
    "In the final chapter of this course, we will get exposure to the *backward problem*: *given the output values of a function, what can we say about its inputs?*\n",
    "\n",
    "To answer the backward problem, we are often concerned with the set of *all* program traces: in fact, the set of all legal program traces defines the full *behavior* of a program. If the one program trace that the forward problem is concerned with is compared to *one universe* with *one thread of life*, then the set of all program traces that the backward problem is concerned with is certainly the *parallel universe* with *tree of lifes*. \n",
    "\n",
    "The backward problem has many practical applications. To name a few:\n",
    "\n",
    "* Model checking: can we formally prove some mathematical properties (correctness specification) of a program? This is accomplished by exhaustively enumerating and checking the properties (thereby proving) on *every* program trace;\n",
    "  \n",
    "* Automated test generation: instead of painstakingly (often time hopelessly) creating input test cases that can exercise bugs in the program, can we do the *reversee* and automatically find out input values that allow a program trace to reach an assertion point in the program, and fail that assertion? \n",
    "\n",
    "* Generative machine learning: if we can express a system as a function of *hidden (latent) random variables* which we have no knowledge about, but we can oberve the outputs by showing examples, can we learn something about the laten variables and use them to better predict (infer) the output? \n",
    "\n",
    "Now fasten the seat belt!\n",
    "\n",
    "## Agenda\n",
    "\n",
    "* Continuation: we shall first learn a *new weapon*, although admittedly mind-bending, called continuation. Continuation is often found in the context of functional programming, which boasts the *superpower* to express control flow. \n",
    "\n",
    "* Wet lawn problem: we shall leverage all weapons, old and new, throughout this chapter, to solve backward problems on this simple example. \n",
    "  \n",
    "* Model checking: we shall explore methods to exhaustively execute all program traces with specified output.\n",
    "\n",
    "* Probabalistic programming: we shall explore methods to compute the probabability of an input given an output. "
   ]
  },
  {
   "cell_type": "markdown",
   "id": "38c31ea6-3e68-49c0-8dac-becd3165028e",
   "metadata": {},
   "source": [
    "## Continuation and Continuation Passing Style (CPS)\n",
    "\n",
    "A *continuation* is a program point expressed as a function. Instead of *goto* (all high-level control flow statements are goto in disguise) a program point, you *apply* the continuation (as a function) to achieve the same effect. Continuation Passing Style (CPS) is a style of functional programming where contro-flow statements are replaced by chained calls to continuation functions, which expect other continuations as parameters. Such replacement can be accomplished mechanically and therefore CPS has been used as intermediate representation by functional programming language compilers, to *desugar* high-level control flow constructs into a minimal representation (this has been repeatedly our theme). The superpower of continuation stem from the fact that one can *explicitly* represent program points and manipulate them as *first-class citizen*. \n",
    "\n",
    "Go through the following  [introduction material](./Continuations.ipynb) to learn about continuation. Focus on the section 1, 2, 3, and appreciate how simple it can to build a *theorem prover* in section 7.\n"
   ]
  },
  {
   "cell_type": "markdown",
   "id": "4737d94c-4759-438c-83fc-ac58e9a28ebf",
   "metadata": {},
   "source": [
    "## Wet Lawn Example\n",
    "\n",
    "Consider a front lawn, whose grass may be *wet* because it *rained* or because the\n",
    "*sprinkler* was on. Since our knowledge is not perfect, we allow for 10% chance that the grass may be wet for some *other* reason. Also, if the rain was *light*, the grass might have dried up by the time we observe it; a sprinkler may too leave the grass dry if, say, water pressure was *low*. We admit these possibilities, assigning them probabilities 10% and 20%, respectively.\n",
    "\n",
    "We also know from local weather statistics that 30% chances it rains, and the sprinkler is usually on 50% of the time. Both of them are independent boolean random variables.\n",
    "\n",
    "Now we ask the question: *suppose we observe the grass is wet, what are the chances it rained?*"
   ]
  },
  {
   "cell_type": "markdown",
   "id": "aa6d828f-0c37-47e4-b95f-9511c7781497",
   "metadata": {},
   "source": [
    "We can visualize the above statement as follows: "
   ]
  },
  {
   "cell_type": "code",
   "execution_count": 1,
   "id": "dc14a17a-2fde-4972-bcab-ba86ce6247ac",
   "metadata": {},
   "outputs": [
    {
     "data": {
      "image/svg+xml": [
       "<?xml version=\"1.0\" encoding=\"UTF-8\" standalone=\"no\"?>\n",
       "<!DOCTYPE svg PUBLIC \"-//W3C//DTD SVG 1.1//EN\"\n",
       " \"http://www.w3.org/Graphics/SVG/1.1/DTD/svg11.dtd\">\n",
       "<!-- Generated by graphviz version 2.43.0 (0)\n",
       " -->\n",
       "<!-- Title: %3 Pages: 1 -->\n",
       "<svg width=\"481pt\" height=\"188pt\"\n",
       " viewBox=\"0.00 0.00 481.49 188.00\" xmlns=\"http://www.w3.org/2000/svg\" xmlns:xlink=\"http://www.w3.org/1999/xlink\">\n",
       "<g id=\"graph0\" class=\"graph\" transform=\"scale(1 1) rotate(0) translate(4 184)\">\n",
       "<title>%3</title>\n",
       "<polygon fill=\"white\" stroke=\"transparent\" points=\"-4,4 -4,-184 477.49,-184 477.49,4 -4,4\"/>\n",
       "<!-- 1 -->\n",
       "<g id=\"node1\" class=\"node\">\n",
       "<title>1</title>\n",
       "<ellipse fill=\"none\" stroke=\"black\" cx=\"70.84\" cy=\"-162\" rx=\"70.69\" ry=\"18\"/>\n",
       "<text text-anchor=\"middle\" x=\"70.84\" y=\"-158.3\" font-family=\"Times,serif\" font-size=\"14.00\">rained (30%)</text>\n",
       "</g>\n",
       "<!-- 2 -->\n",
       "<g id=\"node2\" class=\"node\">\n",
       "<title>2</title>\n",
       "<ellipse fill=\"none\" stroke=\"black\" cx=\"79.84\" cy=\"-90\" rx=\"77.19\" ry=\"18\"/>\n",
       "<text text-anchor=\"middle\" x=\"79.84\" y=\"-86.3\" font-family=\"Times,serif\" font-size=\"14.00\">not light(10%)</text>\n",
       "</g>\n",
       "<!-- 1&#45;&gt;2 -->\n",
       "<g id=\"edge1\" class=\"edge\">\n",
       "<title>1&#45;&gt;2</title>\n",
       "<path fill=\"none\" stroke=\"black\" d=\"M73.07,-143.7C74.06,-135.98 75.25,-126.71 76.36,-118.11\"/>\n",
       "<polygon fill=\"black\" stroke=\"black\" points=\"79.84,-118.47 77.64,-108.1 72.9,-117.58 79.84,-118.47\"/>\n",
       "</g>\n",
       "<!-- 9 -->\n",
       "<g id=\"node6\" class=\"node\">\n",
       "<title>9</title>\n",
       "<ellipse fill=\"none\" stroke=\"black\" cx=\"251.84\" cy=\"-18\" rx=\"27.9\" ry=\"18\"/>\n",
       "<text text-anchor=\"middle\" x=\"251.84\" y=\"-14.3\" font-family=\"Times,serif\" font-size=\"14.00\">wet</text>\n",
       "</g>\n",
       "<!-- 2&#45;&gt;9 -->\n",
       "<g id=\"edge2\" class=\"edge\">\n",
       "<title>2&#45;&gt;9</title>\n",
       "<path fill=\"none\" stroke=\"black\" d=\"M116.74,-73.98C147.25,-61.57 190.15,-44.11 219.37,-32.21\"/>\n",
       "<polygon fill=\"black\" stroke=\"black\" points=\"220.78,-35.42 228.72,-28.41 218.14,-28.94 220.78,-35.42\"/>\n",
       "</g>\n",
       "<!-- 3 -->\n",
       "<g id=\"node3\" class=\"node\">\n",
       "<title>3</title>\n",
       "<ellipse fill=\"none\" stroke=\"black\" cx=\"256.84\" cy=\"-162\" rx=\"96.68\" ry=\"18\"/>\n",
       "<text text-anchor=\"middle\" x=\"256.84\" y=\"-158.3\" font-family=\"Times,serif\" font-size=\"14.00\">sprinkler&#45;on (50%)</text>\n",
       "</g>\n",
       "<!-- 4 -->\n",
       "<g id=\"node4\" class=\"node\">\n",
       "<title>4</title>\n",
       "<ellipse fill=\"none\" stroke=\"black\" cx=\"251.84\" cy=\"-90\" rx=\"72.29\" ry=\"18\"/>\n",
       "<text text-anchor=\"middle\" x=\"251.84\" y=\"-86.3\" font-family=\"Times,serif\" font-size=\"14.00\">not low(20%)</text>\n",
       "</g>\n",
       "<!-- 3&#45;&gt;4 -->\n",
       "<g id=\"edge3\" class=\"edge\">\n",
       "<title>3&#45;&gt;4</title>\n",
       "<path fill=\"none\" stroke=\"black\" d=\"M255.61,-143.7C255.06,-135.98 254.39,-126.71 253.78,-118.11\"/>\n",
       "<polygon fill=\"black\" stroke=\"black\" points=\"257.27,-117.83 253.07,-108.1 250.29,-118.33 257.27,-117.83\"/>\n",
       "</g>\n",
       "<!-- 4&#45;&gt;9 -->\n",
       "<g id=\"edge4\" class=\"edge\">\n",
       "<title>4&#45;&gt;9</title>\n",
       "<path fill=\"none\" stroke=\"black\" d=\"M251.84,-71.7C251.84,-63.98 251.84,-54.71 251.84,-46.11\"/>\n",
       "<polygon fill=\"black\" stroke=\"black\" points=\"255.34,-46.1 251.84,-36.1 248.34,-46.1 255.34,-46.1\"/>\n",
       "</g>\n",
       "<!-- 5 -->\n",
       "<g id=\"node5\" class=\"node\">\n",
       "<title>5</title>\n",
       "<ellipse fill=\"none\" stroke=\"black\" cx=\"407.84\" cy=\"-90\" rx=\"65.79\" ry=\"18\"/>\n",
       "<text text-anchor=\"middle\" x=\"407.84\" y=\"-86.3\" font-family=\"Times,serif\" font-size=\"14.00\">other (10%)</text>\n",
       "</g>\n",
       "<!-- 5&#45;&gt;9 -->\n",
       "<g id=\"edge5\" class=\"edge\">\n",
       "<title>5&#45;&gt;9</title>\n",
       "<path fill=\"none\" stroke=\"black\" d=\"M375.14,-74.33C348.25,-62.26 310.35,-45.25 283.69,-33.29\"/>\n",
       "<polygon fill=\"black\" stroke=\"black\" points=\"284.98,-30.03 274.42,-29.13 282.11,-36.42 284.98,-30.03\"/>\n",
       "</g>\n",
       "</g>\n",
       "</svg>\n"
      ],
      "text/plain": [
       "<graphviz.graphs.Digraph at 0xffff88fb50d0>"
      ]
     },
     "execution_count": 1,
     "metadata": {},
     "output_type": "execute_result"
    }
   ],
   "source": [
    "from graphviz import Digraph\n",
    "\n",
    "# Create Digraph object\n",
    "dot = Digraph()\n",
    "\n",
    "dot.node( '1', 'rained (30%)' )\n",
    "dot.node( '2', 'not light(10%)' )\n",
    "dot.node( '3', 'sprinkler-on (50%)' )\n",
    "dot.node( '4', 'not low(20%)' )\n",
    "dot.node( '5', 'other (10%)' )\n",
    "dot.node( '9', 'wet' )\n",
    "dot.edges( ['12', '29', '34', '49', '59'] )\n",
    "\n",
    "dot"
   ]
  },
  {
   "cell_type": "code",
   "execution_count": null,
   "id": "1cefe651-e90e-4758-93e2-5a4db15f9527",
   "metadata": {},
   "outputs": [],
   "source": []
  },
  {
   "cell_type": "markdown",
   "id": "808006a6-ec29-4280-ab83-28f25df82e8c",
   "metadata": {},
   "source": [
    "## Model Checking\n",
    "\n",
    "Let's start by answering a somewhat simpler question: *suppose we observe the grass is wet, what are the set of all possible reasons?* \n",
    "\n",
    "You might be able to answer the question right away given the size of the problem is small, but we are looking for a general method to answer all such questions. \n",
    "\n",
    "It is *straightforward* to express the forward problem as a program: to compute the effective: wether grass is wet, given concrete values of causes. It is much more difficult to *enumerate* all causes from the same program. It turns out we can use continuation.\n",
    "\n",
    "### Using fork() as Continuation\n",
    "\n",
    "Let's solve the model checking problem using C."
   ]
  },
  {
   "cell_type": "code",
   "execution_count": 2,
   "id": "94792239-bb3a-4231-9760-ff2e5204ebbd",
   "metadata": {},
   "outputs": [
    {
     "name": "stdout",
     "output_type": "stream",
     "text": [
      "Overwriting grass.c\n"
     ]
    }
   ],
   "source": [
    "%%writefile grass.c\n",
    "#include <stdbool.h>\n",
    "#include <stdlib.h>\n",
    "#include <stdio.h>\n",
    "\n",
    "extern bool flip(const double p);\n",
    "\n",
    "void grass_model ( void ) {\n",
    "    bool rain = flip(0.3);\n",
    "    bool sprinkler = flip(0.5);\n",
    "    bool light = flip(0.1);\n",
    "    bool low = flip(0.2);\n",
    "    bool other = flip(0.1);\n",
    "\n",
    "    bool grass_is_wet = (!light && rain) || (!low && sprinkler) || other;\n",
    "    if( grass_is_wet )\n",
    "        printf(\"rain=%c sprinkler=%c light=%c low=%c other=%c\\n\", \n",
    "            rain ? 'T' : 'F', sprinkler ? 'T' : 'F',\n",
    "            light ? 'T' : 'F', low ? 'T' : 'F', other ? 'T' : 'F'\n",
    "            );\n",
    "}"
   ]
  },
  {
   "cell_type": "markdown",
   "id": "ccc2182c-1a2a-4aa3-8256-b09cf634d3f0",
   "metadata": {},
   "source": [
    "No surpise here. But here comes the fun part: on every decision at flip(), which may change the behavior and outcome of the computation, we create a *parallel universe*, using fork(), which only differ by the outcome of flip()! fork() is indeed a *perfect* implementation of *continuation* is C. "
   ]
  },
  {
   "cell_type": "code",
   "execution_count": 3,
   "id": "91f183c8-0ea4-49fe-9c1f-0560aa0a6dbc",
   "metadata": {},
   "outputs": [
    {
     "name": "stdout",
     "output_type": "stream",
     "text": [
      "Overwriting run-fork.c\n"
     ]
    }
   ],
   "source": [
    "%%writefile run-fork.c\n",
    "#include <stdbool.h>\n",
    "#include <unistd.h>\n",
    "#include <stdio.h>\n",
    "#include <stdlib.h>\n",
    "#include <sys/wait.h>\n",
    "\n",
    "extern void grass_model( void );\n",
    "\n",
    "bool flip(const double p) {\n",
    "    return fork() ? true : false;\n",
    "}\n",
    "\n",
    "int main(void) {\n",
    "    int status;\n",
    "    grass_model();\n",
    "    while (wait(&status) > 0)\n",
    "         ;\n",
    "    return 0;\n",
    "}"
   ]
  },
  {
   "cell_type": "code",
   "execution_count": 18,
   "id": "577490c1-98fd-42cf-841a-0bae8bc48f06",
   "metadata": {},
   "outputs": [
    {
     "name": "stdout",
     "output_type": "stream",
     "text": [
      "rain=T sprinkler=T light=T low=T other=T\n",
      "rain=T sprinkler=T light=F low=T other=T\n",
      "rain=T sprinkler=F light=T low=T other=T\n",
      "rain=T sprinkler=T light=T low=F other=T\n",
      "rain=F sprinkler=T light=T low=T other=T\n",
      "rain=T sprinkler=T light=F low=T other=F\n",
      "rain=T sprinkler=T light=T low=F other=F\n",
      "rain=F sprinkler=T light=T low=F other=T\n",
      "rain=T sprinkler=T light=F low=F other=T\n",
      "rain=F sprinkler=T light=F low=T other=T\n",
      "rain=F sprinkler=F light=F low=T other=T\n",
      "rain=T sprinkler=F light=F low=T other=T\n",
      "rain=F sprinkler=F light=T low=T other=T\n",
      "rain=T sprinkler=F light=F low=T other=F\n",
      "rain=T sprinkler=T light=F low=F other=F\n",
      "rain=F sprinkler=T light=F low=F other=F\n",
      "rain=F sprinkler=F light=F low=F other=T\n",
      "rain=T sprinkler=F light=T low=F other=T\n",
      "rain=T sprinkler=F light=F low=F other=T\n",
      "rain=T sprinkler=F light=F low=F other=F\n",
      "rain=F sprinkler=T light=F low=F other=T\n",
      "rain=F sprinkler=F light=T low=F other=T\n",
      "rain=F sprinkler=T light=T low=F other=F\n",
      "\n",
      "real\t0m0.003s\n",
      "user\t0m0.011s\n",
      "sys\t0m0.000s\n"
     ]
    }
   ],
   "source": [
    "!gcc -o run-fork run-fork.c grass.c\n",
    "!time ./run-fork"
   ]
  },
  {
   "cell_type": "markdown",
   "id": "96526f7b-cf96-4bf6-a57c-af361d9de3a4",
   "metadata": {},
   "source": [
    "### Using Python Coroutine as Continuation\n",
    "\n",
    "This looks very neat, except one problem: the fork() system call is very *expensive*! It involves creating a new process, by cloning all system resources, including address maps, memories etc of the parent process, on every flip() call.  \n",
    "\n",
    "Can we do something better? \n",
    "\n",
    "Last week we deloped a tiny OS using Python coroutines, we could implement a *light weight* fork on our own tiny OS (our 7th attempt, enclosed in pyos7.py).\n",
    "\n",
    "All we need to do is to add a new system call, mimicking fork(). Here we implement Flip directly as the system call. The trick is to *clone* the current coroutine using deep copy, and manipulate sendval so that it assume True or False value depending on whether it is parent or child."
   ]
  },
  {
   "cell_type": "code",
   "execution_count": 10,
   "id": "32ea06aa-040d-4a65-b661-a9d1fcfe9294",
   "metadata": {},
   "outputs": [
    {
     "name": "stdout",
     "output_type": "stream",
     "text": [
      "Overwriting grass.py\n"
     ]
    }
   ],
   "source": [
    "%%writefile grass.py\n",
    "\n",
    "from pyos7 import *\n",
    "import copy\n",
    "\n",
    "# Implementing fork() system call\n",
    "class Flip(SystemCall):\n",
    "    def __init__( self, prob ) :\n",
    "        self.prob = prob\n",
    "        \n",
    "    def handle(self):\n",
    "        # self.task has task of parent\n",
    "        cloned_target = copy.deepcopy( self.task.target ) \n",
    "        cloned_tid = self.sched.new( cloned_target )\n",
    "        cloned_task = self.sched.taskmap[cloned_tid]\n",
    "        cloned_task.sendval = False\n",
    "        self.task.sendval = True\n",
    "        self.sched.schedule( self.task )"
   ]
  },
  {
   "cell_type": "markdown",
   "id": "4c49d90b-7bb8-42fd-aa8f-65e435e00d4d",
   "metadata": {},
   "source": [
    "We can then create the grass lawn model by rewriting it in Python."
   ]
  },
  {
   "cell_type": "code",
   "execution_count": 11,
   "id": "6c848842-6133-4332-bd93-a9d79af4e4ad",
   "metadata": {},
   "outputs": [
    {
     "name": "stdout",
     "output_type": "stream",
     "text": [
      "Appending to grass.py\n"
     ]
    }
   ],
   "source": [
    "%%writefile -a grass.py\n",
    "\n",
    "def grass_model() :\n",
    "    rain = yield Flip( 0.3 )\n",
    "    sprinkler = yield Flip( 0.5 )\n",
    "    light = yield Flip( 0.1 )\n",
    "    low = yield Flip( 0.2 )\n",
    "    other = yield Flip( 0.1 )\n",
    "    grass_is_wet = (not light and rain) or (not low and sprinkler) or other\n",
    "    if grass_is_wet :\n",
    "        print( \"rain=%s sprinkler=%s light=%s low=%s other=%s\" % (rain, sprinkler, light, low, other) )\n",
    "   \n",
    "sched = Scheduler()\n",
    "sched.new( grass_model() )\n",
    "sched.mainloop()"
   ]
  },
  {
   "cell_type": "code",
   "execution_count": 12,
   "id": "7c25c942-a3a4-4450-82c1-e93b2fcf9516",
   "metadata": {},
   "outputs": [
    {
     "name": "stdout",
     "output_type": "stream",
     "text": [
      "Traceback (most recent call last):\n",
      "  File \"/Users/jzhu/teaching/ece326/2024-fall-ece326-jzhu/notes/grass.py\", line 31, in <module>\n",
      "    sched.mainloop()\n",
      "  File \"/Users/jzhu/teaching/ece326/2024-fall-ece326-jzhu/notes/pyos7.py\", line 102, in mainloop\n",
      "    result.handle()\n",
      "  File \"/Users/jzhu/teaching/ece326/2024-fall-ece326-jzhu/notes/grass.py\", line 12, in handle\n",
      "    cloned_target = copy.deepcopy( self.task.target ) \n",
      "                    ^^^^^^^^^^^^^^^^^^^^^^^^^^^^^^^^^\n",
      "  File \"/usr/lib/python3.11/copy.py\", line 161, in deepcopy\n",
      "    rv = reductor(4)\n",
      "         ^^^^^^^^^^^\n",
      "TypeError: cannot pickle 'generator' object\n"
     ]
    }
   ],
   "source": [
    "!python grass.py"
   ]
  },
  {
   "cell_type": "markdown",
   "id": "aa33ef8d-09da-4fdf-be37-3aaff2c9725e",
   "metadata": {},
   "source": [
    "Unfortunately, deepcopy() for coroutine does not work in Standard python! It turns out the only python system where deepcopy() works for coroutine is a environment called PyPy, and it only worked for Python 2.7!\n"
   ]
  },
  {
   "cell_type": "code",
   "execution_count": 19,
   "id": "07f68c4b-d142-407a-9d94-ad3bc15edb55",
   "metadata": {},
   "outputs": [
    {
     "name": "stdout",
     "output_type": "stream",
     "text": [
      "rain=False sprinkler=False light=False low=False other=True\n",
      "rain=False sprinkler=False light=False low=True other=True\n",
      "rain=False sprinkler=False light=True low=False other=True\n",
      "rain=False sprinkler=False light=True low=True other=True\n",
      "rain=False sprinkler=True light=False low=False other=False\n",
      "rain=False sprinkler=True light=False low=False other=True\n",
      "rain=False sprinkler=True light=False low=True other=True\n",
      "rain=False sprinkler=True light=True low=False other=False\n",
      "rain=False sprinkler=True light=True low=False other=True\n",
      "rain=False sprinkler=True light=True low=True other=True\n",
      "rain=True sprinkler=False light=False low=False other=False\n",
      "rain=True sprinkler=False light=False low=False other=True\n",
      "rain=True sprinkler=False light=False low=True other=False\n",
      "rain=True sprinkler=False light=False low=True other=True\n",
      "rain=True sprinkler=False light=True low=False other=True\n",
      "rain=True sprinkler=False light=True low=True other=True\n",
      "rain=True sprinkler=True light=False low=False other=False\n",
      "rain=True sprinkler=True light=False low=False other=True\n",
      "rain=True sprinkler=True light=False low=True other=False\n",
      "rain=True sprinkler=True light=False low=True other=True\n",
      "rain=True sprinkler=True light=True low=False other=False\n",
      "rain=True sprinkler=True light=True low=False other=True\n",
      "rain=True sprinkler=True light=True low=True other=True\n",
      "\n",
      "real\t0m0.198s\n",
      "user\t0m0.122s\n",
      "sys\t0m0.075s\n"
     ]
    }
   ],
   "source": [
    "!time pypy grass.py"
   ]
  },
  {
   "cell_type": "markdown",
   "id": "6cc9d39b-ccaa-46b2-b0bb-c6fa6547d937",
   "metadata": {},
   "source": [
    "### Using C Coroutine as Continuation and Hundred-Line TinyOS\n",
    "\n",
    "This of course is not a nice situation, but this is not going to stop us! Being fearless computer engineers, let's implement our own tiny operating system using coroutines in C. Do you still remembers the *Duff's Device*? \n",
    "\n",
    "Being creative in naming, we are going to call our creation TinyOS. We start with a header file that defines the necessary data structure and API (the contract to the user). The key data structure is tiny_context_t, which captures everything important for a task. "
   ]
  },
  {
   "cell_type": "code",
   "execution_count": 14,
   "id": "db0a1bbe-566b-475f-a342-e810ebf6b751",
   "metadata": {
    "editable": true,
    "slideshow": {
     "slide_type": ""
    },
    "tags": []
   },
   "outputs": [
    {
     "name": "stdout",
     "output_type": "stream",
     "text": [
      "Overwriting tinyos.h\n"
     ]
    }
   ],
   "source": [
    "%%writefile tinyos.h\n",
    "/* \n",
    " * FILE: tinyos.h\n",
    " * Author: Jianwen Zhu\n",
    " */\n",
    "#ifndef TINYOS_H\n",
    "#define TINYOS_H\n",
    "\n",
    "#include <stdbool.h>\n",
    "#include <stdlib.h>\n",
    "#include <stdio.h>\n",
    "\n",
    "typedef struct _tiny_context_t tiny_context_t;\n",
    "\n",
    "typedef void (*tiny_target_t)( tiny_context_t* ctx );\n",
    "\n",
    "struct _tiny_context_t {\n",
    "    tiny_context_t* next;\n",
    "    tiny_target_t target;    /* coroutine */\n",
    "    int taskid;  /* task ID */\n",
    "    int size;    /* size of context */\n",
    "    int state;   /* capture the program point */\n",
    "    int sendval; /* return value from syscall */\n",
    "};\n",
    "\n",
    "/* coroutine macros using Duff's device */\n",
    "\n",
    "#define crBegin(ctx) switch((ctx)->state) { case 0:\n",
    "#define crYield(ctx) do { (ctx)->state=__LINE__; return; \\\n",
    "                         case __LINE__:; } while (0)\n",
    "#define crEnd(ctx) }\n",
    "#define crFork(ret, ctx) do { (ctx)->state=__LINE__; tiny_clone(ctx); return; case __LINE__:; ret = !!(ctx)->sendval; } while( 0 ) \n",
    "\n",
    "/* minimal API */\n",
    "\n",
    "extern int tiny_spawn( tiny_target_t func, int context_size );\n",
    "extern int tiny_clone( tiny_context_t* me );\n",
    "\n",
    "extern void tiny_init( void );\n",
    "extern void tiny_mainloop( void );\n",
    "extern void tiny_fini( void );\n",
    "\n",
    "#endif"
   ]
  },
  {
   "cell_type": "markdown",
   "id": "823625d0-049b-494d-a295-75c7cce9e28b",
   "metadata": {},
   "source": [
    "Now let's actually implement the APIs."
   ]
  },
  {
   "cell_type": "code",
   "execution_count": null,
   "id": "9c2bb5ce-d5d4-48b7-b1ba-73c0fa84233a",
   "metadata": {},
   "outputs": [],
   "source": [
    "%%writefile tinyos.c\n",
    "/* \n",
    " * FILE: tinyos.c\n",
    " * Author: Jianwen Zhu\n",
    " */\n",
    "#include <stdbool.h>\n",
    "#include <stdio.h>\n",
    "#include <stdlib.h>\n",
    "#include <string.h>\n",
    "     \n",
    "#include \"tinyos.h\"\n",
    "\n",
    "static tiny_context_t* _task_head;\n",
    "static int             _task_id;\n",
    "\n",
    "static tiny_context_t* task_push( tiny_context_t* task ) {\n",
    "    task->next = _task_head;\n",
    "    _task_head = task;\n",
    "}\n",
    "\n",
    "static tiny_context_t* task_pop( void ) {\n",
    "    tiny_context_t* task;\n",
    "\n",
    "    task = _task_head;\n",
    "    if( task )\n",
    "        _task_head = task->next;\n",
    "    return task;\n",
    "}\n",
    "\n",
    "int tiny_spawn( tiny_target_t func, int context_size ) {\n",
    "    tiny_context_t*  ctx;\n",
    "\n",
    "    ctx = malloc( context_size );\n",
    "    if( ctx == NULL ) return -1;\n",
    "\n",
    "    ctx->size = context_size;\n",
    "    ctx->state = 0;\n",
    "    ctx->target = func;\n",
    "    ctx->taskid = _task_id ++;\n",
    "    ctx->sendval = -1;\n",
    "    task_push( ctx );\n",
    "\n",
    "    return 0;\n",
    "}\n",
    "\n",
    "int tiny_clone( tiny_context_t* me ) {\n",
    "    tiny_context_t* clone;\n",
    "\n",
    "    clone = malloc( me->size );\n",
    "    if( clone == NULL )\n",
    "        return -1;\n",
    "    memmove( (void*)clone, (void*)me, me->size );\n",
    "    clone->taskid = _task_id ++;    \n",
    "    clone->sendval = 0;\n",
    "    task_push( clone );\n",
    "\n",
    "    me->sendval = clone->taskid;\n",
    "    task_push( me );\n",
    "\n",
    "    return 0;          \n",
    "}\n",
    "\n",
    "void tiny_init( void ) {\n",
    "    _task_head = NULL;\n",
    "    _task_id = 0;\n",
    "}\n",
    "              \n",
    "void tiny_mainloop( void ) {\n",
    "    tiny_context_t* task;\n",
    "    \n",
    "    while( (task = task_pop()) )\n",
    "        task->target( task );\n",
    "}\n",
    "\n",
    "void tiny_fini( void ) {\n",
    "}"
   ]
  },
  {
   "cell_type": "code",
   "execution_count": 15,
   "id": "5b8e5d3e-99ab-42e8-a251-d0190db98178",
   "metadata": {},
   "outputs": [
    {
     "name": "stdout",
     "output_type": "stream",
     "text": [
      "  42 tinyos.h\n",
      "  75 tinyos.c\n",
      " 117 total\n"
     ]
    }
   ],
   "source": [
    "!wc -l tinyos.h tinyos.c"
   ]
  },
  {
   "cell_type": "markdown",
   "id": "a176de29-668f-444e-a505-746f95abed2c",
   "metadata": {},
   "source": [
    "Hey, this is a multitask operating system, with the key capabilities of:\n",
    "* spawning a top-level task (like what you do in shell);\n",
    "* forking a child task (the main workhorse as continuation);\n",
    "* cooperating CPU sharing;\n",
    "  \n",
    "only in 117 lines of code!\n",
    "\n",
    "Let's see if it can accomplish the same using the full-fledged, million-line Linux with \n",
    "fork()."
   ]
  },
  {
   "cell_type": "code",
   "execution_count": 16,
   "id": "4f05ca30-b2a7-4b8c-a924-42965aa9946e",
   "metadata": {},
   "outputs": [
    {
     "name": "stdout",
     "output_type": "stream",
     "text": [
      "Overwriting run-tinyos1.c\n"
     ]
    }
   ],
   "source": [
    "%%writefile run-tinyos1.c\n",
    "#include <stdbool.h>\n",
    "#include <unistd.h>\n",
    "#include <stdio.h>\n",
    "#include <stdlib.h>\n",
    "#include <sys/wait.h>\n",
    "\n",
    "#include \"tinyos.h\"\n",
    "\n",
    "typedef struct {\n",
    "    tiny_context_t base;\n",
    "    bool rain;\n",
    "    bool sprinkler;\n",
    "    bool light;\n",
    "    bool low;\n",
    "    bool other;\n",
    "} grass_context_t;\n",
    "\n",
    "#define GRASS_CONTEXT(ctx) ((grass_context_t*)ctx)\n",
    "\n",
    "#define FLIP( p, ret ) crFork(ret, ctx) \n",
    "\n",
    "void grass_model ( tiny_context_t* ctx ) {\n",
    "    grass_context_t*  me = GRASS_CONTEXT(ctx);\n",
    "\n",
    "    crBegin( ctx );\n",
    "\n",
    "    FLIP( 0.3, me->rain );\n",
    "    FLIP( 0.5, me->sprinkler );\n",
    "    FLIP( 0.1, me->light );\n",
    "    FLIP( 0.2, me->low );\n",
    "    FLIP( 0.1, me->other );\n",
    "\n",
    "    bool grass_is_wet = (!me->light && me->rain) || (!me->low && me->sprinkler) || me->other;\n",
    "    if( grass_is_wet )\n",
    "        printf(\"rain=%c sprinkler=%c light=%c low=%c other=%c\\n\", \n",
    "            me->rain ? 'T' : 'F', me->sprinkler ? 'T' : 'F',\n",
    "            me->light ? 'T' : 'F', me->low ? 'T' : 'F', me->other ? 'T' : 'F'\n",
    "            );\n",
    "\n",
    "    crEnd( ctx );\n",
    "}\n",
    "\n",
    "int main(void) {\n",
    "    tiny_init();\n",
    "    tiny_spawn( grass_model, sizeof(grass_context_t) );\n",
    "    tiny_mainloop();\n",
    "    tiny_fini();\n",
    "    return 0;\n",
    "}"
   ]
  },
  {
   "cell_type": "code",
   "execution_count": 17,
   "id": "58c60073-e937-4596-b445-e5b5cbe69d3c",
   "metadata": {},
   "outputs": [
    {
     "name": "stdout",
     "output_type": "stream",
     "text": [
      "rain=T sprinkler=T light=T low=T other=T\n",
      "rain=T sprinkler=T light=T low=F other=T\n",
      "rain=T sprinkler=T light=T low=F other=F\n",
      "rain=T sprinkler=T light=F low=T other=T\n",
      "rain=T sprinkler=T light=F low=T other=F\n",
      "rain=T sprinkler=T light=F low=F other=T\n",
      "rain=T sprinkler=T light=F low=F other=F\n",
      "rain=T sprinkler=F light=T low=T other=T\n",
      "rain=T sprinkler=F light=T low=F other=T\n",
      "rain=T sprinkler=F light=F low=T other=T\n",
      "rain=T sprinkler=F light=F low=T other=F\n",
      "rain=T sprinkler=F light=F low=F other=T\n",
      "rain=T sprinkler=F light=F low=F other=F\n",
      "rain=F sprinkler=T light=T low=T other=T\n",
      "rain=F sprinkler=T light=T low=F other=T\n",
      "rain=F sprinkler=T light=T low=F other=F\n",
      "rain=F sprinkler=T light=F low=T other=T\n",
      "rain=F sprinkler=T light=F low=F other=T\n",
      "rain=F sprinkler=T light=F low=F other=F\n",
      "rain=F sprinkler=F light=T low=T other=T\n",
      "rain=F sprinkler=F light=T low=F other=T\n",
      "rain=F sprinkler=F light=F low=T other=T\n",
      "rain=F sprinkler=F light=F low=F other=T\n",
      "\n",
      "real\t0m0.001s\n",
      "user\t0m0.001s\n",
      "sys\t0m0.000s\n"
     ]
    }
   ],
   "source": [
    "!gcc -o run-tinyos1 run-tinyos1.c tinyos.c\n",
    "!time ./run-tinyos1"
   ]
  },
  {
   "cell_type": "markdown",
   "id": "dbaf0a06-54e8-4320-878f-b9f1cb373e15",
   "metadata": {},
   "source": [
    "It not only produces exactly the same output, but runs more than 100X faster!"
   ]
  },
  {
   "cell_type": "markdown",
   "id": "cf375f95-7df3-4e6a-9cc2-9d26a902eaf8",
   "metadata": {},
   "source": [
    "## Probablistic Inference\n",
    "\n",
    "We now turn to the original question: given the observation that the grass was wet, what is the probability that it rained? \n",
    "\n",
    "Using conventional thinking, we could apply the *Monte Carlo* method, which basically draw\n",
    "many, many samples of inputs, and run the forward problem again and again. This method, of course, is notoriously very slow.\n",
    "\n",
    "We can do smarter. It turns out we only need to modify our model checking method slightly, by remembering the cumulative probabilities of each enumerated case. \n",
    "\n",
    "### Probablistic Programming in C"
   ]
  },
  {
   "cell_type": "code",
   "execution_count": 20,
   "id": "0f3b45e3-7f7e-4f26-be26-490297c6e1c3",
   "metadata": {},
   "outputs": [
    {
     "name": "stdout",
     "output_type": "stream",
     "text": [
      "Overwriting run-tinyos2.c\n"
     ]
    }
   ],
   "source": [
    "%%writefile run-tinyos2.c\n",
    "#include <stdbool.h>\n",
    "#include <unistd.h>\n",
    "#include <stdio.h>\n",
    "#include <stdlib.h>\n",
    "#include <sys/wait.h>\n",
    "\n",
    "#include \"tinyos.h\"\n",
    "\n",
    "typedef struct {\n",
    "    tiny_context_t base;\n",
    "    bool rain;\n",
    "    bool sprinkler;\n",
    "    bool light;\n",
    "    bool low;\n",
    "    bool other;\n",
    "    double prob;  // newly added\n",
    "} grass_context_t;\n",
    "\n",
    "#define GRASS_CONTEXT(ctx) ((grass_context_t*)ctx)\n",
    "\n",
    "#define FLIP( p, ret ) do { crFork(ret, ctx); GRASS_CONTEXT(ctx)->prob *= ret ? p : (1-p); } while( 0 )\n",
    "\n",
    "void grass_model ( tiny_context_t* ctx ) {\n",
    "    grass_context_t*  me = GRASS_CONTEXT(ctx);\n",
    "\n",
    "    crBegin( ctx );\n",
    "    me->prob = 1.0;\n",
    "\n",
    "    FLIP( 0.3, me->rain );\n",
    "    FLIP( 0.5, me->sprinkler );\n",
    "    FLIP( 0.1, me->light );\n",
    "    FLIP( 0.2, me->low );\n",
    "    FLIP( 0.1, me->other );\n",
    "\n",
    "    bool grass_is_wet = (!me->light && me->rain) || (!me->low && me->sprinkler) || me->other;\n",
    "    if( grass_is_wet )\n",
    "        printf(\"%g rain=%c sprinkler=%c light=%c low=%c other=%c\\n\", me->prob, \n",
    "            me->rain ? 'T' : 'F', me->sprinkler ? 'T' : 'F',\n",
    "            me->light ? 'T' : 'F', me->low ? 'T' : 'F', me->other ? 'T' : 'F'\n",
    "            );\n",
    "\n",
    "    crEnd( ctx );\n",
    "}\n",
    "\n",
    "int main(void) {\n",
    "    tiny_init();\n",
    "    tiny_spawn( grass_model, sizeof(grass_context_t) );\n",
    "    tiny_mainloop();\n",
    "    tiny_fini();\n",
    "    return 0;\n",
    "}"
   ]
  },
  {
   "cell_type": "code",
   "execution_count": 21,
   "id": "eeaea610-414d-4fb2-b496-fb39350bcf73",
   "metadata": {},
   "outputs": [
    {
     "name": "stdout",
     "output_type": "stream",
     "text": [
      "0.0003 rain=T sprinkler=T light=T low=T other=T\n",
      "0.0012 rain=T sprinkler=T light=T low=F other=T\n",
      "0.0108 rain=T sprinkler=T light=T low=F other=F\n",
      "0.0027 rain=T sprinkler=T light=F low=T other=T\n",
      "0.0243 rain=T sprinkler=T light=F low=T other=F\n",
      "0.0108 rain=T sprinkler=T light=F low=F other=T\n",
      "0.0972 rain=T sprinkler=T light=F low=F other=F\n",
      "0.0003 rain=T sprinkler=F light=T low=T other=T\n",
      "0.0012 rain=T sprinkler=F light=T low=F other=T\n",
      "0.0027 rain=T sprinkler=F light=F low=T other=T\n",
      "0.0243 rain=T sprinkler=F light=F low=T other=F\n",
      "0.0108 rain=T sprinkler=F light=F low=F other=T\n",
      "0.0972 rain=T sprinkler=F light=F low=F other=F\n",
      "0.0007 rain=F sprinkler=T light=T low=T other=T\n",
      "0.0028 rain=F sprinkler=T light=T low=F other=T\n",
      "0.0252 rain=F sprinkler=T light=T low=F other=F\n",
      "0.0063 rain=F sprinkler=T light=F low=T other=T\n",
      "0.0252 rain=F sprinkler=T light=F low=F other=T\n",
      "0.2268 rain=F sprinkler=T light=F low=F other=F\n",
      "0.0007 rain=F sprinkler=F light=T low=T other=T\n",
      "0.0028 rain=F sprinkler=F light=T low=F other=T\n",
      "0.0063 rain=F sprinkler=F light=F low=T other=T\n",
      "0.0252 rain=F sprinkler=F light=F low=F other=T\n"
     ]
    }
   ],
   "source": [
    "!gcc -o run-tinyos2 run-tinyos2.c tinyos.c\n",
    "!./run-tinyos2"
   ]
  },
  {
   "cell_type": "markdown",
   "id": "c5d3d931-34cd-449d-86bb-ef5d9ddde207",
   "metadata": {},
   "source": [
    "It works and we now have each printed case prefixed with a probability. We only need to do some *post-processing*."
   ]
  },
  {
   "cell_type": "code",
   "execution_count": 22,
   "id": "5fe6f544-68f9-49f4-9ce8-4b0dd68b66ed",
   "metadata": {},
   "outputs": [
    {
     "name": "stdout",
     "output_type": "stream",
     "text": [
      "T: 0.2838; F: 0.322"
     ]
    }
   ],
   "source": [
    "!./run-tinyos2 | awk  '{r[$2] += $1}; END {printf \"T: %g; F: %g\",r[\"rain=T\"],r[\"rain=F\"]}'"
   ]
  },
  {
   "cell_type": "markdown",
   "id": "51be93cb-3be6-4a5d-b634-64e5162f5d04",
   "metadata": {},
   "source": [
    "What we have done by tallying up the different cases for rain=T and rain=F is in fact computing the *marginal probabilities* of random variable of interest. The result is basically saying that 28.38% chance it is raining, and 32.2% chance it is not raining, and remaining chances are the \"don't cares\" where the lawn is not wet. So conditional on the observation that the lawn is wet, the probabability that it rained is:"
   ]
  },
  {
   "cell_type": "code",
   "execution_count": 23,
   "id": "b548223b-e249-4af0-bcf1-1712f313e9f6",
   "metadata": {},
   "outputs": [
    {
     "data": {
      "text/plain": [
       "0.4684714427203697"
      ]
     },
     "execution_count": 23,
     "metadata": {},
     "output_type": "execute_result"
    }
   ],
   "source": [
    "0.2838 / (0.2838 + 0.322)"
   ]
  },
  {
   "cell_type": "markdown",
   "id": "e4aab815-c7e6-436a-84f3-d311a00f527e",
   "metadata": {},
   "source": [
    "If you recall from your probability or machine learning class, this is Bayes' theorem in action!"
   ]
  },
  {
   "cell_type": "markdown",
   "id": "c366f671-bfe2-4c09-a39d-3483bb62339a",
   "metadata": {},
   "source": [
    "### Probablistic Programming in Python\n",
    "\n",
    "We are still uncomfortable with not being able to implementing model checking, and therefore probablistic programmming, just because of the lack of deep copy for coroutine/generators. \n",
    "\n",
    "Didn't we already learned continuation passing style (CPS)? CPS counts on nothing but the minimal, one and only, lambda calulus!"
   ]
  },
  {
   "cell_type": "code",
   "execution_count": null,
   "id": "4157f6a6-491a-4d58-93f5-24ef69560be0",
   "metadata": {},
   "outputs": [],
   "source": [
    "%%writefile run-cps.py\n",
    "\n",
    "unexplored_future = []\n",
    "\n",
    "def flip_cps( prob, p, k ) :\n",
    "    unexplored_future.append( lambda : k(prob*p, True) )\n",
    "    unexplored_future.append( lambda : k(prob*(1-p), False) )\n",
    "\n",
    "def sched_mainloop() :    \n",
    "    while len( unexplored_future ) > 0 :\n",
    "        task = unexplored_future.pop( 0 )\n",
    "        task()\n",
    "\n",
    "def grass_is_wet( prob, rain, light, sprinkler, low, other, k ) :\n",
    "    if (not light and rain) or (not low and sprinkler) or other :\n",
    "        k( \"%g rain=%s sprinkler=%s light=%s low=%s other=%s\" % (prob, rain, sprinkler, light, low, other) )\n",
    "    \n",
    "def grass_cps( k ) :\n",
    "    flip_cps( 1.0, 0.3, lambda prob, rain : \n",
    "        flip_cps( prob, 0.5, lambda prob, sprinkler :\n",
    "            flip_cps( prob, 0.1, lambda prob, light :\n",
    "                     flip_cps( prob, 0.2, lambda prob, low :\n",
    "                          flip_cps( prob, 0.1, lambda prob, other :\n",
    "                              grass_is_wet( prob, rain, light, sprinkler, low, other, k ) )))))\n",
    "\n",
    "def k_print( s ) :\n",
    "    print( s )\n",
    "\n",
    "grass_cps( k_print )\n",
    "sched_mainloop()"
   ]
  },
  {
   "cell_type": "code",
   "execution_count": 24,
   "id": "b0984378-fc8d-4acb-b541-a4a849217050",
   "metadata": {},
   "outputs": [
    {
     "name": "stdout",
     "output_type": "stream",
     "text": [
      "0.0003 rain=True sprinkler=True light=True low=True other=True\n",
      "0.0012 rain=True sprinkler=True light=True low=False other=True\n",
      "0.0108 rain=True sprinkler=True light=True low=False other=False\n",
      "0.0027 rain=True sprinkler=True light=False low=True other=True\n",
      "0.0243 rain=True sprinkler=True light=False low=True other=False\n",
      "0.0108 rain=True sprinkler=True light=False low=False other=True\n",
      "0.0972 rain=True sprinkler=True light=False low=False other=False\n",
      "0.0003 rain=True sprinkler=False light=True low=True other=True\n",
      "0.0012 rain=True sprinkler=False light=True low=False other=True\n",
      "0.0027 rain=True sprinkler=False light=False low=True other=True\n",
      "0.0243 rain=True sprinkler=False light=False low=True other=False\n",
      "0.0108 rain=True sprinkler=False light=False low=False other=True\n",
      "0.0972 rain=True sprinkler=False light=False low=False other=False\n",
      "0.0007 rain=False sprinkler=True light=True low=True other=True\n",
      "0.0028 rain=False sprinkler=True light=True low=False other=True\n",
      "0.0252 rain=False sprinkler=True light=True low=False other=False\n",
      "0.0063 rain=False sprinkler=True light=False low=True other=True\n",
      "0.0252 rain=False sprinkler=True light=False low=False other=True\n",
      "0.2268 rain=False sprinkler=True light=False low=False other=False\n",
      "0.0007 rain=False sprinkler=False light=True low=True other=True\n",
      "0.0028 rain=False sprinkler=False light=True low=False other=True\n",
      "0.0063 rain=False sprinkler=False light=False low=True other=True\n",
      "0.0252 rain=False sprinkler=False light=False low=False other=True\n"
     ]
    }
   ],
   "source": [
    "!python run-cps.py"
   ]
  },
  {
   "cell_type": "code",
   "execution_count": 25,
   "id": "7c29711a-10b4-41af-8e35-804d84839514",
   "metadata": {},
   "outputs": [
    {
     "name": "stdout",
     "output_type": "stream",
     "text": [
      "T: 0.2838; F: 0.322"
     ]
    }
   ],
   "source": [
    "!python run-cps.py | awk  '{r[$2] += $1}; END {printf \"T: %g; F: %g\",r[\"rain=True\"],r[\"rain=False\"]}'"
   ]
  },
  {
   "cell_type": "markdown",
   "id": "ce27a2c0-a330-4c0d-9b26-b6811dba92e6",
   "metadata": {},
   "source": [
    "How many lines of code did we use?"
   ]
  },
  {
   "cell_type": "code",
   "execution_count": 26,
   "id": "c2de7c4b-39a3-4e99-9f66-195f4d1a9c3d",
   "metadata": {},
   "outputs": [
    {
     "name": "stdout",
     "output_type": "stream",
     "text": [
      "29 run-cps.py\n"
     ]
    }
   ],
   "source": [
    "!wc -l run-cps.py"
   ]
  },
  {
   "cell_type": "markdown",
   "id": "b16f1f8d-da33-497f-94f8-10c7d87d6fb3",
   "metadata": {},
   "source": [
    "We now attain a new record: the whole program, relying on only lambda function, is less than *30 lines of code*! And recall that lambda calculus only has *3 rules* in total in the entire language!"
   ]
  },
  {
   "cell_type": "markdown",
   "id": "c4fd1a1a-901f-405b-b275-2530beb15f56",
   "metadata": {},
   "source": [
    "### Recap\n",
    "\n",
    "What exactly have we learned? \n",
    "\n",
    "* Continuation: explict program point as function;\n",
    "  \n",
    "* Continuation Passing Style: desugar all control flow programming constructs, including sequencing, if-then-else, loop, exception handling, concurrent programming, into one cannonical form;\n",
    "\n",
    "* Being fearless as UofT engineer: programming language paradigms are tools for thought, not scary creatures that just tortures your mind. Always apply first principle, cut to the chase: you can write an OS in 100 lines, and write a complete machine learn program in 30 lines of lambda calculus (with zero libraries). "
   ]
  }
 ],
 "metadata": {
  "kernelspec": {
   "display_name": "Python 3 (ipykernel)",
   "language": "python",
   "name": "python3"
  },
  "language_info": {
   "codemirror_mode": {
    "name": "ipython",
    "version": 3
   },
   "file_extension": ".py",
   "mimetype": "text/x-python",
   "name": "python",
   "nbconvert_exporter": "python",
   "pygments_lexer": "ipython3",
   "version": "3.11.6"
  }
 },
 "nbformat": 4,
 "nbformat_minor": 5
}
