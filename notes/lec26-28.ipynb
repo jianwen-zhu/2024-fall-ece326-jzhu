{
 "cells": [
  {
   "cell_type": "markdown",
   "id": "5308e2fa-5c23-45c8-ba9f-5c6c82a898d9",
   "metadata": {
    "editable": true,
    "slideshow": {
     "slide_type": ""
    },
    "tags": []
   },
   "source": [
    "# Lec 26-28: Functional Programming Paradigm: Basic Concepts\n",
    "\n",
    "Jianwen Zhu <jzhu@eecg.toronto.edu>\n",
    "v2.0, 2024-09"
   ]
  },
  {
   "cell_type": "markdown",
   "id": "a2da4f41-9463-4c04-82d6-ed197d96f23b",
   "metadata": {},
   "source": [
    "## Agenda\n",
    "\n",
    "- Control Flow & Side Effect\n",
    "- Closures\n",
    "- Currying\n",
    "- High-Order Functions"
   ]
  },
  {
   "cell_type": "markdown",
   "id": "26ca0174-cef4-4ff9-9041-4b6676815dc5",
   "metadata": {},
   "source": [
    "## Control Flow & Side Effects\n",
    "\n",
    "What is functional programming (FP), anyway? What are the common characteristics of programming languages with cool names such as Lisp, Scheme, Haskell, ML, OCAML, Clean, Mercury, or Erlang (or a few others)?\n",
    "\n",
    "* Functions as first class citizen: That is, everything you can do with \"data\" can be done with\n",
    "functions themselves (such as passing a function to another function), and there are \"high order\" functions\n",
    "that are functions operating on functions.\n",
    "\n",
    "* Recursion as primary control structure: In some languages, no other \"loop\" construct exists.\n",
    "\n",
    "* List as primary value type: Lists are often used with recursion on sub-lists as a substitute for loops.\n",
    "\n",
    "* No state, or no side effect in \"Pure\" functional languages: This excludes the almost ubiquitous pattern in imperative languages of assigning first one, then another value to the same variable to track the program state.\n",
    "\n",
    "* No statements: FP either discourages or outright disallows statements, and instead works with the evaluation\n",
    "of expressions (in other words, functions plus arguments). In the pure case, one program is one expression (plus supporting definitions).\n",
    "\n",
    "\n",
    "You have already seen some of the FP features in Python! Examples include: \n",
    "\n",
    "1. Sequences and List comprehension;\n",
    "2. High-order functions such as map(), reduce(), filter()\n",
    "3. Recursions\n",
    "\n",
    "To better understand FP, we first try to understand why FP can do *WITHOUT* \n",
    "1. control statement;\n",
    "2. side effect (variable assignment);\n",
    "\n",
    "which seem to be so ubiqutous in imperative programming, and can express everything as expression (pun intended)!\n"
   ]
  },
  {
   "cell_type": "markdown",
   "id": "1b44ea04-3673-4aa5-8660-408defa55e35",
   "metadata": {},
   "source": [
    "### Eliminating If-Then-Else Statements\n",
    "\n",
    "Consider the following statements: \n",
    "\n",
    "```\n",
    "if <cond1>: func1()\n",
    "elif <cond2>: func2()\n",
    "else: func3()\n",
    "```\n",
    "\n",
    "We want to rewrite it with an equivalent *short-circuit expression*, \n",
    "\n",
    "```\n",
    "(<cond1> and func1()) or (<cond2> and func2()) or (func3())\n",
    "```\n",
    "\n",
    "Note that evaluation semantics of this expression. In particular, func1() is called only when <cond1> is true; and <cond2> is evaluated only if <cond1> is evaluated to be false, and so on. "
   ]
  },
  {
   "cell_type": "code",
   "execution_count": null,
   "id": "51f5b4c9-3a03-4ba2-8f79-3e99416357ba",
   "metadata": {},
   "outputs": [],
   "source": [
    "x = 3\n",
    "\n",
    "def pr(s) : return s\n",
    "\n",
    "(x == 1 and pr('one')) or (x == 2 and pr('two')) or (x == 3 and pr('three')) "
   ]
  },
  {
   "cell_type": "markdown",
   "id": "32238392-c8c9-4c75-b85a-41ffc854bb74",
   "metadata": {},
   "source": [
    "### Anonymous Function with Lambda expression\n",
    "\n",
    "In fact, in FP, a function itself is an expression, and you do not have to define a function with a name. \n",
    "Let's rewrite above with Lambda expression, which evaluates to a function value. The lambda expression starts with a keyword lambda, followed by a list of arguments before the colon, after which it is an expression representing the return value. \n",
    "\n",
    "Just a side story that early computing pioneer builds the theoretical foundation of computing using a theory called \"lambda calulus\", which is a functional language. This is where the name of lambda came from."
   ]
  },
  {
   "cell_type": "code",
   "execution_count": null,
   "id": "dc4c9be9-316a-434c-a458-e270939b50c4",
   "metadata": {},
   "outputs": [],
   "source": [
    "pr = lambda s: s\n",
    "namenum = lambda x: (x==1 and pr(\"one\")) \\\n",
    "    or (x==2 and pr(\"two\")) \\\n",
    "    or (pr(\"other\"))"
   ]
  },
  {
   "cell_type": "code",
   "execution_count": null,
   "id": "66f5c3db-b94c-470a-81ab-6e2649177e78",
   "metadata": {},
   "outputs": [],
   "source": [
    "namenum(1)"
   ]
  },
  {
   "cell_type": "code",
   "execution_count": null,
   "id": "76a447e6-580c-4fec-ae0d-5447855c5986",
   "metadata": {},
   "outputs": [],
   "source": [
    "namenum(2)"
   ]
  },
  {
   "cell_type": "code",
   "execution_count": null,
   "id": "879e1236-2ba9-4a2e-aef1-66e8ee883fc1",
   "metadata": {},
   "outputs": [],
   "source": [
    "namenum(3)"
   ]
  },
  {
   "cell_type": "markdown",
   "id": "ad366b24-38ed-4235-9b23-7edc3144217d",
   "metadata": {},
   "source": [
    "### Built-in High Order Functions: map(), reduce(), filter()\n",
    "\n",
    "Lambda function shows the the first class status of functions in FP. This can be combined\n",
    "nicely with the \"operator\" concept: function on functions, or simply high-order-functions. \n",
    "We already learned a few builtin high-order functions: \n",
    "\n",
    "* map() performs the passed function on each corresponding item in the specified list(s), and\n",
    "returns a list of results.\n",
    "\n",
    "* reduce() performs the passed function on each subsequent item and an internal accumulator\n",
    "of a final result; \n",
    "\n",
    "* filter() uses the passed function to \"evaluate\" each item in a list, and return a winnowed list\n",
    "of the items that pass the function test.\n",
    "\n",
    "NOTE: Since Python 3.0 these builtin functions has been moved to the functools package."
   ]
  },
  {
   "cell_type": "code",
   "execution_count": null,
   "id": "9f371b86-07a9-473e-9d25-e7122162a97b",
   "metadata": {},
   "outputs": [],
   "source": [
    "from functools import *\n",
    "\n",
    "reduce(lambda n,m:n*m, range(1,10))"
   ]
  },
  {
   "cell_type": "markdown",
   "id": "bd7ffed7-46d3-4f8c-a4b8-99d193c33c8c",
   "metadata": {},
   "source": [
    "### Eliminating For Loop\n",
    "\n",
    "If we see: \n",
    "\n",
    "```\n",
    "for e in lst: func(e) # statement-based loop\n",
    "```\n",
    "\n",
    "We can easily replace it with: \n",
    "```\n",
    "list(map( func, lst ))\n",
    "```\n",
    "or list comprehension:\n",
    "\n",
    "```\n",
    "[ func(e) for e in lst ] \n",
    "```\n"
   ]
  },
  {
   "cell_type": "markdown",
   "id": "952f5208-1f96-4b2b-8cfc-f28da8b06736",
   "metadata": {},
   "source": [
    "### Eliminating Statement Sequence\n",
    "\n",
    "What about a sequence of statements like the following? \n",
    "\n",
    "```\n",
    "print( 'i am statement1' )\n",
    "print( 'i am statement2' )\n",
    "print( 'i am statement3' )\n",
    "```\n",
    "\n",
    "Suppose each statement can be representated by a function as follows, we can use list comprehension to evaluate them in sequence."
   ]
  },
  {
   "cell_type": "code",
   "execution_count": null,
   "id": "8c838730-dd56-41e5-8092-f70c0e083805",
   "metadata": {},
   "outputs": [],
   "source": [
    "f1 = lambda: print( 'i am statement1' )\n",
    "f2 = lambda: print( 'i am statement2' )\n",
    "f3 = lambda: print( 'i am statement3' )"
   ]
  },
  {
   "cell_type": "code",
   "execution_count": null,
   "id": "6b490f61-dab8-4483-bdd0-75d37b0dba4c",
   "metadata": {},
   "outputs": [],
   "source": [
    "# let's create an function that \"applies\" a function\n",
    "do_it = lambda f: f()\n",
    "\n",
    "[do_it(f) for f in [f1, f2, f3]]"
   ]
  },
  {
   "cell_type": "markdown",
   "id": "9093c3be-2934-4286-9c91-f8ee96e06486",
   "metadata": {},
   "source": [
    "### Eliminating While Loop\n",
    "\n",
    "Give the imperative while loop statement: \n",
    "\n",
    "```\n",
    "# statement-based while loop\n",
    "while <cond>:\n",
    "    <pre-suite>\n",
    "    if <break_condition>:\n",
    "        break\n",
    "    else:\n",
    "        <suite>\n",
    "```\n",
    "\n",
    "We can convert into FP using recursion: \n",
    "\n",
    "```\n",
    " def while_block():\n",
    "     <pre-suite>\n",
    "     if <break_condition>:\n",
    "         return 1\n",
    "     else:\n",
    "          <suite>\n",
    "    return 0\n",
    "\n",
    "while_FP = lambda: (<cond> and while_block()) or while_FP()\n",
    "while_FP()\n",
    "```\n",
    "\n",
    "Note the use of short-circuit expression. \n",
    "\n",
    "Now let's look at a concrete example:"
   ]
  },
  {
   "cell_type": "code",
   "execution_count": null,
   "id": "3540c86c-6fb2-44a1-80f0-76b25bfbed98",
   "metadata": {},
   "outputs": [],
   "source": [
    "# imperative version of \"echo()\"\n",
    "\n",
    "def echo_IMP():\n",
    "    while 1:\n",
    "        x = input(\"IMP -- \")\n",
    "        if x == 'quit':\n",
    "            break\n",
    "        else: \n",
    "            print( x )\n",
    "            \n",
    "echo_IMP()\n"
   ]
  },
  {
   "cell_type": "markdown",
   "id": "4e98b721-c242-4795-b8a6-062cc83ceac1",
   "metadata": {},
   "source": [
    "Let's convert into FP:"
   ]
  },
  {
   "cell_type": "code",
   "execution_count": null,
   "id": "493259a8-d79c-4abc-ba28-544e437e84ee",
   "metadata": {},
   "outputs": [],
   "source": [
    "# utility function for \"identity with side-effect\"\n",
    "def monadic_print(x):\n",
    "    print( x )\n",
    "    return x\n",
    "\n",
    "# FP version of \"echo()\"\n",
    "echo_FP = lambda: monadic_print(input(\"FP -- \"))=='quit' or echo_FP()\n",
    "echo_FP()"
   ]
  },
  {
   "cell_type": "markdown",
   "id": "bad06fa6-9562-424e-b72c-81883d9e2201",
   "metadata": {},
   "source": [
    "What we have accomplished is that we have managed to express a little program that involves I/O, looping, and conditional statements as a pure expression with recursion (in fact, as a function object that can be passed elsewhere if desired). We do still utilize the utility function monadic_print(), but this function is completely general, and can be reused in every functional program expression we might create later (it's a one-time cost). Notice that any expression containing monadic_print(x)evaluates to the same thing as if it had simply contained x. FP\n",
    "(particularly Haskell) has the notion of a \"monad\" for a function that \"does nothing, and has a side\u0002effect in the process.\""
   ]
  },
  {
   "cell_type": "markdown",
   "id": "ed012e86-e809-46a1-a438-ddd430ceba09",
   "metadata": {},
   "source": [
    "### Eliminating Side Effect\n",
    "\n",
    "We now knows how to convert:\n",
    "\n",
    "1. A (block) sequence of statements;\n",
    "2. An if-then-else statement;\n",
    "3. A for loop statement;\n",
    "4. A while loop statements;\n",
    "\n",
    "into FP, all with expressions. We can pretty much write the entire porgram using an expression, and accomplish a task without updating a single variable, that is, a program *without* side-effects!\n",
    "\n",
    "Let's look at one concrete example below. We will start with an imperative code, and then get rid of it using FP.  The goal here is to print out a list of pairs of numbers whose product is more than 25. The numbers that make up the pairs are themselves taken from two other lists. \n",
    "\n",
    "An imperative approach to the goal might look like:"
   ]
  },
  {
   "cell_type": "code",
   "execution_count": null,
   "id": "589290b1-5ac4-4ed3-9dd1-bf83fb9ad4e6",
   "metadata": {},
   "outputs": [],
   "source": [
    "xs = [1,2,3,4]\n",
    "ys = [10,15,3,22]\n",
    "bigmuls = []\n",
    "\n",
    "for x in xs:\n",
    "    for y in ys:\n",
    "        if x*y > 25:\n",
    "            bigmuls.append((x,y))\n",
    "\n",
    "print( bigmuls )"
   ]
  },
  {
   "cell_type": "markdown",
   "id": "e501f0e6-5739-4b55-9e85-80ba25272ca0",
   "metadata": {},
   "source": [
    "A functional approach to our goal eliminates side-effects (and potential errors that goes with them) altogether. \n",
    "\n",
    "We start by defining a function that duplicate each element of a list by certain number of times."
   ]
  },
  {
   "cell_type": "code",
   "execution_count": null,
   "id": "c4dd90b4-e25d-4281-b6b6-a5edb2427c7c",
   "metadata": {},
   "outputs": [],
   "source": [
    "from functools import *\n",
    "\n",
    "dupelms = lambda lst,n: reduce(lambda s,t:s+t, map(lambda l,n=n: [l]*n, lst))"
   ]
  },
  {
   "cell_type": "code",
   "execution_count": null,
   "id": "e6ce6b19-528d-41f5-a28c-b687f1e4f7ba",
   "metadata": {},
   "outputs": [],
   "source": [
    "dupelms([1,2,3], 2)"
   ]
  },
  {
   "cell_type": "markdown",
   "id": "b00fa051-ca85-4242-a517-c16634a299d7",
   "metadata": {},
   "source": [
    "We can then easily define a function that returns the Cartesian set of two list: the set of all pairs from elements of the two list."
   ]
  },
  {
   "cell_type": "code",
   "execution_count": null,
   "id": "1d01061f-013f-4296-96d2-864f74ffbbfb",
   "metadata": {},
   "outputs": [],
   "source": [
    "combine =  lambda xs,ys: zip( xs*len(ys), dupelms(ys,len(xs)) )"
   ]
  },
  {
   "cell_type": "code",
   "execution_count": null,
   "id": "2bfd9d09-a691-4ac6-bc5d-19d562d96876",
   "metadata": {},
   "outputs": [],
   "source": [
    "list(combine( [1,2,3], [5,6] ))"
   ]
  },
  {
   "cell_type": "markdown",
   "id": "b4e8dda1-8854-4cfd-8480-76344d80942a",
   "metadata": {},
   "source": [
    "Note that after Python 3, we have to use list() for what's returned by zip(). It is a bit annoying but it is for a good reason of efficiency. More about this later. But we could alternatively use list comprehension."
   ]
  },
  {
   "cell_type": "code",
   "execution_count": null,
   "id": "63cb4948-65d5-4184-95fd-5f39ba0d1d72",
   "metadata": {},
   "outputs": [],
   "source": [
    "[x for x in combine( (1,2,3), (5,6) )]"
   ]
  },
  {
   "cell_type": "markdown",
   "id": "fc317fd5-8636-486c-9c82-d6ece8764ab1",
   "metadata": {},
   "source": [
    "We were just one step away as we know that list comprehension can add filters. "
   ]
  },
  {
   "cell_type": "code",
   "execution_count": null,
   "id": "2f9813a1-95c7-49a7-9555-7247123b99bb",
   "metadata": {},
   "outputs": [],
   "source": [
    "bigmuls = lambda xs, ys : [(x,y) for (x,y) in combine(xs,ys) if x*y > 25]\n",
    "\n",
    "bigmuls( [1,2,3,4], [10,15,3,22] )"
   ]
  },
  {
   "cell_type": "markdown",
   "id": "4cac0071-a041-4a03-b8fb-61c819c64718",
   "metadata": {},
   "source": [
    "Note we introduced dupelems, combine as intermediate expression to enhance readiblity, but we could have written everything as a single expression, in one line!"
   ]
  },
  {
   "cell_type": "markdown",
   "id": "9122939f-13fa-4bef-a0bd-82c42e4a3814",
   "metadata": {},
   "source": [
    "## Closure\n",
    "\n",
    "So what is a closure, anyway?  A closure, like an object instance, is a way of carrying around a bundle of data and functionality, wrapped up together. If you have ever used a callback function in C, and remembers the pain of wrapping and passing data for the callback, you will know why closure is a much more elegant replacement. \n",
    "\n",
    "A *nested function* is a function defined in the lexical scope of another function. Let's look at the following nested function lazy_pow, which is returned by its parent function. \n",
    "\n",
    "NOTE: Does it look familiar to you? Does decorator rings the bell?"
   ]
  },
  {
   "cell_type": "code",
   "execution_count": null,
   "id": "f32a5198-0263-4863-9d8f-0393ba6257f4",
   "metadata": {},
   "outputs": [],
   "source": [
    "def pow_later(x): \n",
    "    y = 2 \n",
    "    def lazy_pow(): \n",
    "        print('calculate pow({}, {})...'.format(x, y)) \n",
    "        return pow(x, y) \n",
    "    return lazy_pow"
   ]
  },
  {
   "cell_type": "code",
   "execution_count": null,
   "id": "0a3040b2-8ad7-447e-952d-dcaccab3cc43",
   "metadata": {},
   "outputs": [],
   "source": []
  },
  {
   "cell_type": "code",
   "execution_count": null,
   "id": "da35079a-a8d3-4a7e-86c7-366c2524caa3",
   "metadata": {},
   "outputs": [],
   "source": [
    "my_pow = pow_later(3)"
   ]
  },
  {
   "cell_type": "code",
   "execution_count": null,
   "id": "41b29705-3b6d-49c0-906c-ec2b2728a23f",
   "metadata": {},
   "outputs": [],
   "source": [
    "my_pow"
   ]
  },
  {
   "cell_type": "code",
   "execution_count": null,
   "id": "cf99a44c-bbcf-4301-8f2e-802b54c2503d",
   "metadata": {},
   "outputs": [],
   "source": [
    "my_pow()"
   ]
  },
  {
   "cell_type": "markdown",
   "id": "215449a0-c35d-4201-8344-c6d8aefa237e",
   "metadata": {},
   "source": [
    "Obviously, the variable y and the parameter x are local variables of pow_later function. So when my_pow() was called, the pow_later function had already returned, and its local variables also had gone. But in fact my_pow() still remembered the vaules of x and y even the outer scope pow_later was long gone. How did this happen?"
   ]
  },
  {
   "cell_type": "markdown",
   "id": "494e1c58-2f6c-4306-b8d6-2a09d47cb46a",
   "metadata": {},
   "source": [
    "### Free Variable\n",
    "\n",
    "If a variable in a function is neither a local variable nor a parameter of that function, this variable is called a *free variable* of that function. In short, free variables are variables that are used locally, but defined in an enclosing scope. In our case, x is a parameter of pow_later and y is a local variable of pow_later. But within lazy_pow, x and y are free variables."
   ]
  },
  {
   "cell_type": "markdown",
   "id": "7c7860b9-026c-4f35-b1b9-78113980dc4e",
   "metadata": {},
   "source": [
    "### What is Closure\n",
    "\n",
    "Generally speaking, a closure is a structure (code blocks, function object, callable object, etc.) storing a function together with an *environment*. The environment here means information about free variables that function bounded, especially values or storage locations of free variables.\n",
    "\n",
    "Specifically speaking, my_pow, actually the function object returned by calling pow_later(x), is a closure. Note that the closure for lazy_pow extends the scope of lazy_pow function to include the binding for the free variables: x and y.\n",
    "\n",
    "For example, a closure is created, returned and assigned to my_pow after following function call. >>> my_pow = pow_later(3) Essentially, this closure is the codes of function lazy_pow together with free variables x and y.\n",
    "\n"
   ]
  },
  {
   "cell_type": "markdown",
   "id": "e8b54cfb-1b00-4b38-baf3-01db0d098f2a",
   "metadata": {},
   "source": [
    "### Inspecting Closure\n",
    "\n",
    "We are going through some backdoors below: However, you are NOT supposed to do this during actual coding, we are doing it just to help understanding."
   ]
  },
  {
   "cell_type": "code",
   "execution_count": null,
   "id": "76f0b89d-23a3-4646-bc19-07b291f34c24",
   "metadata": {},
   "outputs": [],
   "source": [
    "my_pow.__code__"
   ]
  },
  {
   "cell_type": "code",
   "execution_count": null,
   "id": "781ce1c4-9881-4f22-acec-554afeffbad2",
   "metadata": {},
   "outputs": [],
   "source": [
    "my_pow.__code__.co_freevars"
   ]
  },
  {
   "cell_type": "markdown",
   "id": "64ded0a9-2224-468a-bea0-1ed4598ae88b",
   "metadata": {},
   "source": [
    "Meanwhile, pow_later will also keep names of local variables that are referenced by its nested functions in co_cellvars attribute of its code object."
   ]
  },
  {
   "cell_type": "code",
   "execution_count": null,
   "id": "cb00fa3d-79a0-4983-97a5-0f83c3ae4f9b",
   "metadata": {},
   "outputs": [],
   "source": [
    "pow_later.__code__.co_cellvars"
   ]
  },
  {
   "cell_type": "markdown",
   "id": "8abdb472-3fb4-45a4-93a1-a50757b198c4",
   "metadata": {},
   "source": [
    "However, where is the values of free variables?"
   ]
  },
  {
   "cell_type": "code",
   "execution_count": null,
   "id": "95f03fe9-4ecc-481f-94c3-76412d5d2aab",
   "metadata": {},
   "outputs": [],
   "source": [
    "dir(my_pow)"
   ]
  },
  {
   "cell_type": "code",
   "execution_count": null,
   "id": "b996af22-455d-429d-86cc-b5e903c7dd98",
   "metadata": {},
   "outputs": [],
   "source": [
    "my_pow.__closure__"
   ]
  },
  {
   "cell_type": "markdown",
   "id": "5670943e-6bd2-4204-b13b-aa7aafe8ff94",
   "metadata": {},
   "source": [
    "Note that my_pow has an attribute named __closure__ and it's a tuple with two elements."
   ]
  },
  {
   "cell_type": "code",
   "execution_count": null,
   "id": "d54a4fa0-9ce0-45ed-98dd-afe4c5abd292",
   "metadata": {},
   "outputs": [],
   "source": [
    "dir(my_pow.__closure__[0])"
   ]
  },
  {
   "cell_type": "code",
   "execution_count": null,
   "id": "71686663-539a-4f1c-bd6f-609807821b75",
   "metadata": {},
   "outputs": [],
   "source": [
    "my_pow.__closure__[0].cell_contents"
   ]
  },
  {
   "cell_type": "code",
   "execution_count": null,
   "id": "37664458-bdb8-4b2c-8d68-dee9b984e357",
   "metadata": {},
   "outputs": [],
   "source": []
  },
  {
   "cell_type": "code",
   "execution_count": null,
   "id": "c960143e-23d9-4694-af36-d5dd09cfb613",
   "metadata": {},
   "outputs": [],
   "source": [
    "my_pow.__closure__[1].cell_contents"
   ]
  },
  {
   "cell_type": "markdown",
   "id": "dec65c66-6a05-41d1-a1ad-454d6374f512",
   "metadata": {},
   "source": [
    "So __closure__ is a tuple of cells that contain bounded values of free variables."
   ]
  },
  {
   "cell_type": "markdown",
   "id": "0eb4a8f9-e6a4-4401-b03d-5c368b56bdc7",
   "metadata": {},
   "source": [
    "### What's NOT a closure\n",
    "\n",
    "Functions without free variables are not closures."
   ]
  },
  {
   "cell_type": "code",
   "execution_count": null,
   "id": "74134004-47bb-4bd5-865d-7e5d6e6e9b54",
   "metadata": {},
   "outputs": [],
   "source": [
    "def f(x): \n",
    "    def g(): \n",
    "        pass\n",
    "    return g"
   ]
  },
  {
   "cell_type": "code",
   "execution_count": null,
   "id": "b8aa3ca8-4049-4337-8a5e-27e5b93b7ab4",
   "metadata": {},
   "outputs": [],
   "source": [
    "h = f(1)"
   ]
  },
  {
   "cell_type": "code",
   "execution_count": null,
   "id": "2e4f3e1f-ec71-4cc1-87d3-ed195dbe780e",
   "metadata": {},
   "outputs": [],
   "source": [
    "h"
   ]
  },
  {
   "cell_type": "code",
   "execution_count": null,
   "id": "0cf01dc5-98c6-410c-bff8-eab1c58dce94",
   "metadata": {},
   "outputs": [],
   "source": [
    "h.__code__.co_freevars"
   ]
  },
  {
   "cell_type": "code",
   "execution_count": null,
   "id": "e0a58d64-3ba9-4a75-a682-248e5b84cb61",
   "metadata": {},
   "outputs": [],
   "source": [
    "print( h.__closure__ )"
   ]
  },
  {
   "cell_type": "markdown",
   "id": "7f5e02c5-930e-419a-af4c-f4aa6b6df8ac",
   "metadata": {},
   "source": [
    "Global variables are not free variables in Python. So global functions are not closures."
   ]
  },
  {
   "cell_type": "code",
   "execution_count": null,
   "id": "1eb7e72b-db88-40a7-ae1d-34b83d8d14b7",
   "metadata": {},
   "outputs": [],
   "source": [
    "data = 200 #global\n",
    "def d() : #global\n",
    "    print( data )"
   ]
  },
  {
   "cell_type": "code",
   "execution_count": null,
   "id": "638a677f-062c-41ef-8a42-cffa5f3105c7",
   "metadata": {},
   "outputs": [],
   "source": [
    "d.__code__.co_freevars"
   ]
  },
  {
   "cell_type": "code",
   "execution_count": null,
   "id": "44a8f797-08b7-49a1-ac4c-1ca7cbfe493b",
   "metadata": {},
   "outputs": [],
   "source": [
    "print( d.__closure__ )"
   ]
  },
  {
   "cell_type": "markdown",
   "id": "35bfb5ce-e7a4-41f8-9a0e-58366c8edcec",
   "metadata": {},
   "source": [
    "### Non-Local\n",
    "\n",
    "Suppose we want to change the behavior of above example slightly, as shown below:"
   ]
  },
  {
   "cell_type": "code",
   "execution_count": null,
   "id": "962b3796-d1b5-402b-a98b-ffb9da111476",
   "metadata": {},
   "outputs": [],
   "source": [
    "def pow_later(x): \n",
    "    y = 2 \n",
    "    def lazy_pow(): \n",
    "        print('calculate pow({}, {})...'.format(x, y))\n",
    "        result = pow(x, y) \n",
    "        y = y + 1 # increase y return result return lazy_pow\n",
    "        return result\n",
    "    return lazy_pow"
   ]
  },
  {
   "cell_type": "code",
   "execution_count": null,
   "id": "4f6bf996-bf5a-4ecf-ab93-8a49e3c100cd",
   "metadata": {},
   "outputs": [],
   "source": [
    "my_pow = pow_later(3)\n",
    "my_pow"
   ]
  },
  {
   "cell_type": "markdown",
   "id": "c27418cf-0d85-4a72-8ba9-bfd37bc62f82",
   "metadata": {},
   "source": [
    "So far so good, but: "
   ]
  },
  {
   "cell_type": "code",
   "execution_count": null,
   "id": "13eb24b3-ef89-4395-8e2a-33ac31ce785d",
   "metadata": {},
   "outputs": [],
   "source": [
    "my_pow()"
   ]
  },
  {
   "cell_type": "markdown",
   "id": "8c9a8b5f-e975-40c6-a3cf-215cc3dcc1d3",
   "metadata": {},
   "source": [
    "The error message is clear enough. It's a UnboundLocalError.\n",
    "y is a local variable: because it is assigned inside lazy_pow, Python treated it as a local variable instead of a free variable, but then reading y yields an undefined value since it is never initialized.\n",
    "\n",
    "To deal with this situation, a nonlocal declaration was introduced in Python 3. It marks a variable as a free variable even though it is assigned a new value within the function. So the correct version should be:\n"
   ]
  },
  {
   "cell_type": "code",
   "execution_count": null,
   "id": "f3c00a04-c601-416d-a6f6-fa2ea3a1601f",
   "metadata": {},
   "outputs": [],
   "source": [
    "def pow_later(x): \n",
    "    y = 2 \n",
    "    def lazy_pow(): \n",
    "        nonlocal y # nonlocal declaration \n",
    "        print('calculate pow({}, {})...'.format(x, y)) \n",
    "        result = pow(x, y) \n",
    "        y = y + 1 \n",
    "        return result \n",
    "    return lazy_pow"
   ]
  },
  {
   "cell_type": "code",
   "execution_count": null,
   "id": "274dc05c-3bd3-4df8-9fb0-4f60c8d36453",
   "metadata": {},
   "outputs": [],
   "source": [
    "my_pow = pow_later(3)"
   ]
  },
  {
   "cell_type": "code",
   "execution_count": null,
   "id": "ab330328-35a1-4cfa-b8e2-be29707ade9b",
   "metadata": {},
   "outputs": [],
   "source": [
    "my_pow()"
   ]
  },
  {
   "cell_type": "code",
   "execution_count": null,
   "id": "d95135d0-6a97-4b27-b51e-d4fd0d5d17c4",
   "metadata": {},
   "outputs": [],
   "source": [
    "my_pow()"
   ]
  },
  {
   "cell_type": "code",
   "execution_count": null,
   "id": "b7fe8ec9-4a18-42b5-8780-a7265a5f6c48",
   "metadata": {},
   "outputs": [],
   "source": [
    "my_pow()"
   ]
  },
  {
   "cell_type": "markdown",
   "id": "4c92ace7-c8e9-42b3-842b-a91834d67fbd",
   "metadata": {},
   "source": [
    "## Currying\n",
    "\n",
    "We now learn another important concept called currying. It is named after Haskell Curry, the Mathematitian deeply connected to Lambda calculus, the foundation of functional programming. \n",
    "\n",
    "### Function Specialization\n",
    "\n",
    "Let's start by the need we often encounter in practice to specialize a general function. The reason for specialization can be:\n",
    "\n",
    "1. Performance optimization;\n",
    "2. Cognitive load reduction.\n"
   ]
  },
  {
   "cell_type": "code",
   "execution_count": 1,
   "id": "c2da0fb2-edef-47ba-b12d-42fabbacc4e2",
   "metadata": {},
   "outputs": [],
   "source": [
    "def multiply(a, b):\n",
    "    return a*b"
   ]
  },
  {
   "cell_type": "markdown",
   "id": "922d5565-9057-460d-9361-97e76488ebc0",
   "metadata": {},
   "source": [
    "Now suppose we want to specialize multiple() into double()."
   ]
  },
  {
   "cell_type": "code",
   "execution_count": 2,
   "id": "7a110760-9c65-44a7-b3a3-95154963dc57",
   "metadata": {},
   "outputs": [
    {
     "name": "stdout",
     "output_type": "stream",
     "text": [
      "20\n"
     ]
    }
   ],
   "source": [
    "def double(a):\n",
    "    return multiply(a,2)\n",
    "\n",
    "result = double(10)\n",
    "print(result)  "
   ]
  },
  {
   "cell_type": "markdown",
   "id": "c5ae645b-5aa3-45cc-ba21-3fd4df7edaf9",
   "metadata": {},
   "source": [
    "Obviously, double() is simpler (has smaller cognitive load, so to speak) as you only need to deal with a single parameter.\n",
    "\n",
    "What if we want to have a general way of function specialization. Our friend functools comes to rescue.\n",
    "\n",
    "The following shows the syntax of the partial function from the functools module:\n",
    "\n",
    "```\n",
    "functools.partial(fn, *args, **kwargs)\n",
    "```\n",
    "\n",
    "The partial function returns new partial object, which is a callable. When you call the partial object, Python calls the fn function with the positional arguments args and keyword arguments kwargs.\n",
    "\n",
    "The following example shows how to use the partial function to define the double function from the multiply function:"
   ]
  },
  {
   "cell_type": "code",
   "execution_count": 3,
   "id": "43808fc9-d18e-4fe2-8056-fff13051a45d",
   "metadata": {},
   "outputs": [
    {
     "name": "stdout",
     "output_type": "stream",
     "text": [
      "20\n"
     ]
    }
   ],
   "source": [
    "from functools import partial\n",
    "\n",
    "def multiply(a, b):\n",
    "    return a*b\n",
    "\n",
    "\n",
    "double = partial(multiply, b=2)\n",
    "\n",
    "result = double(10)\n",
    "print(result)"
   ]
  },
  {
   "cell_type": "markdown",
   "id": "0d7ecf3d-5c8e-468a-84c3-385b765013d6",
   "metadata": {},
   "source": [
    "This is how it works.\n",
    "\n",
    "1. import the partial function from the functools module.\n",
    "2. define the multiply function.\n",
    "3. return a partial object from the partial function and assign it to the double variable. When you call the double, Python calls the multiply function where b argument defaults to 2.\n",
    "\n",
    "If you pass more arguments to a partial object, Python appends them to the args argument. When you pass additional keyword arguments to a partial object, Python extends and overrides the kwargs arguments.\n",
    "\n",
    "Therefore, it’s possible to call the double like this:\n",
    "\n",
    "```\n",
    "double(10, b=3)\n",
    "```\n",
    "\n",
    "In this example, Python will call the multiply function where the value of the b argument is 3, not 2.\n",
    "\n",
    "Roughly speaking, the behavior of partial is equivalent to the following: \n",
    "\n",
    "```\n",
    "def partial(func, *args, **keywords):\n",
    "    def newfunc(*fargs, **fkeywords):\n",
    "        newkeywords = keywords.copy()\n",
    "        newkeywords.update(fkeywords)\n",
    "        return func(*(args + fargs), **newkeywords)\n",
    "    newfunc.func = func\n",
    "    newfunc.args = args\n",
    "    newfunc.keywords = keywords\n",
    "    return newfunc\n",
    "```\n",
    "\n",
    "It basically “freezes” some portion of a function’s arguments and/or keywords resulting in a new object with a simplified signature.    "
   ]
  },
  {
   "cell_type": "markdown",
   "id": "6f36d78e-3dca-4250-873e-c0c50283f4b6",
   "metadata": {},
   "source": [
    "### Currying with partial() \n",
    "\n",
    "Currying is a functional design pattern primarily used to reduce function with *multiple* arguments to *a chain of functions* that takes one argument each. In fact, in some \"pure\" functional program, a function only takes *ONE* argument, and currying is the primary means to implement what is equivalent to multiple argument function. This make such functional programming language (in fact, the original lambda calculus) extremely elegant. \n",
    "\n",
    "We can implement currying with partial() specializatin scheme just introduced (it can be considered a special case)."
   ]
  },
  {
   "cell_type": "code",
   "execution_count": 5,
   "id": "d94ad2d7-a4ff-42a4-b4c4-dbdf2d5fd06f",
   "metadata": {},
   "outputs": [],
   "source": [
    "def mult(x, y, z):\n",
    "  return x * y * z"
   ]
  },
  {
   "cell_type": "code",
   "execution_count": 6,
   "id": "ec382971-e2eb-44af-88d3-fd2ae10c523f",
   "metadata": {},
   "outputs": [
    {
     "name": "stdout",
     "output_type": "stream",
     "text": [
      "6000\n"
     ]
    }
   ],
   "source": [
    "from functools import partial\n",
    " \n",
    "mult_10 = partial(mult, 10)\n",
    "mult_10_20 = partial(mult_10, 20)\n",
    "print(mult_10_20(30))"
   ]
  },
  {
   "cell_type": "markdown",
   "id": "c1f91751-8ae9-4d51-a183-cd042d380905",
   "metadata": {},
   "source": [
    "You can see that each of mult_10(), mult_10_20() is a function that takes only one argument, where mult_10() is mult() specialized with 10 as x, and mult_10_20() is mult() specialized with 10 as x, and 20 as y.\n",
    "\n",
    "In a \"pure\" functional programming language with \"native\" syntax, function application (calling a function) does not need \"()\": so \n",
    "our familiar syntax\n",
    "```\n",
    "func(argument)\n",
    "```\n",
    "will simply be:\n",
    "```\n",
    "func argment\n",
    "```\n",
    "\n",
    "Using the example above, mult(10,20,30) will simply be written as:\n",
    "```\n",
    "mult 10 20 30\n",
    "```\n",
    "\n",
    "But what it actually means is that:\n",
    "\n",
    "```\n",
    "mult(10)(20)(30)\n",
    "```\n"
   ]
  },
  {
   "cell_type": "markdown",
   "id": "f30d2598-71b2-4669-be7e-1a18cefbe58d",
   "metadata": {},
   "source": [
    "### Currying with a decorator\n",
    "\n",
    "Currying can be implemented much more efficiently by using the decorator. Recall that a decorator wraps code or functionality around a function in order to enhance what the function does. \n"
   ]
  },
  {
   "cell_type": "code",
   "execution_count": 8,
   "id": "37eaf219-cb5f-49f8-b987-9a2c9f399d07",
   "metadata": {},
   "outputs": [],
   "source": [
    "from inspect import signature\n",
    "\n",
    "def curry(func):\n",
    " \n",
    "  def inner(arg):\n",
    " \n",
    "    #checking if the function has one argument,\n",
    "    #then return function as it is\n",
    "    if len(signature(func).parameters) == 1:\n",
    "      return func(arg)\n",
    " \n",
    "    return curry(partial(func, arg))       ## Note the recursion here!\n",
    " \n",
    "  return inner"
   ]
  },
  {
   "cell_type": "code",
   "execution_count": 9,
   "id": "e24cbfba-983c-4dd1-a19c-3032af64cdd2",
   "metadata": {},
   "outputs": [],
   "source": [
    "@curry\n",
    "def mult(x, y, z):\n",
    "  return x * y * z"
   ]
  },
  {
   "cell_type": "code",
   "execution_count": 10,
   "id": "f812467c-a05d-4869-8e5a-f4d2857fc56d",
   "metadata": {},
   "outputs": [
    {
     "name": "stdout",
     "output_type": "stream",
     "text": [
      "6000\n"
     ]
    }
   ],
   "source": [
    "print(mult(10)(20)(30))"
   ]
  },
  {
   "cell_type": "markdown",
   "id": "dac11546-557a-4a08-ac41-d4ade97f0790",
   "metadata": {},
   "source": [
    "### Tax Calculation Example"
   ]
  },
  {
   "cell_type": "code",
   "execution_count": 11,
   "id": "7b932e6a-3568-4686-a7f7-4fa0da45eb7f",
   "metadata": {},
   "outputs": [],
   "source": [
    "@curry\n",
    "def taxcalc( income, rate, deduct ) :\n",
    "    return (income - deduct) * rate"
   ]
  },
  {
   "cell_type": "code",
   "execution_count": 12,
   "id": "5223a535-2756-4248-bdb4-dcabfbbbd7d6",
   "metadata": {},
   "outputs": [
    {
     "name": "stdout",
     "output_type": "stream",
     "text": [
      "tax due = 12000\n"
     ]
    }
   ],
   "source": [
    "print( \"tax due = %d\" % taxcalc(50000)( 0.30 )( 10000 ) )"
   ]
  },
  {
   "cell_type": "markdown",
   "id": "f0f28166-106b-42e1-9d85-e1ab03e7d822",
   "metadata": {},
   "source": [
    "It obviously works, but stare at it carefully: we were NOT passing multiple argument to the function taxcalc, but applying one argument, at a time, that is, currying! Please simulate in your head what Python was doing there."
   ]
  },
  {
   "cell_type": "markdown",
   "id": "13e13c9e-3514-4ede-926d-87882efe1dad",
   "metadata": {
    "editable": true,
    "slideshow": {
     "slide_type": ""
    },
    "tags": []
   },
   "source": [
    "### A Note on Lambda Calculus\n",
    "\n",
    "Lambda calculus consists of constructing lambda terms and performing reduction operations on them. In the simplest form of lambda calculus, terms are built using only the following rules:\n",
    "\n",
    "1. $x$: A variable is a character or string representing a parameter.\n",
    "2. $\\lambda x.M $: A lambda abstraction is a function definition, taking as input the bound variable $x$\n",
    " and returning the body $M$\n",
    "3. $(M\\ N)$: An application, applying a function $M$ to an argument $N$, Both $M$ and $N$ are lambda terms.\n",
    "\n",
    "The reduction operation is simply: $(\\lambda x . M N) → M [x := N]$ replacing the bound variables with the argument expression in the body of the abstraction.\n",
    "\n",
    "Amazingly, a language as simply as above is proven equivalent to a Turinging machine!\n"
   ]
  },
  {
   "cell_type": "markdown",
   "id": "39534794-9929-4d6b-820e-1589221123c8",
   "metadata": {},
   "source": [
    "## Recap\n",
    "\n",
    "The most distincitive feature of functional programming is that it contains no state and side effects (state updating actions). As a result, a function program is just a giant expression. The \"assignment\" you see in a function program is just a *binding* of an expression value to a name for readibility rather than a variable (state) update. We learned:\n",
    "\n",
    "1. how any imperative program can be transformed into a functional program;\n",
    "2. why functions are first-class citenzen and how to use an lambda expression;≠\n",
    "3. how high-order functions are defined and used;\n",
    "4. how closure (functions with their environment) are defined and used;\n",
    "5. how currying can eliminate functions with multiple arguments.\n",
    "\n",
    "All of these make a functional programming language:\n",
    "1. Simple with minimal core;\n",
    "2. Safe with no possibility of memory error.\n",
    "\n"
   ]
  },
  {
   "cell_type": "code",
   "execution_count": null,
   "id": "c4401f8a-9402-4492-b69b-43a07813a40e",
   "metadata": {},
   "outputs": [],
   "source": []
  }
 ],
 "metadata": {
  "kernelspec": {
   "display_name": "Python 3 (ipykernel)",
   "language": "python",
   "name": "python3"
  },
  "language_info": {
   "codemirror_mode": {
    "name": "ipython",
    "version": 3
   },
   "file_extension": ".py",
   "mimetype": "text/x-python",
   "name": "python",
   "nbconvert_exporter": "python",
   "pygments_lexer": "ipython3",
   "version": "3.11.6"
  }
 },
 "nbformat": 4,
 "nbformat_minor": 5
}
